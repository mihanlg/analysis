{
 "cells": [
  {
   "cell_type": "markdown",
   "metadata": {},
   "source": [
    "# Проверка знаний, оставшихся с предыдущего занятия"
   ]
  },
  {
   "cell_type": "markdown",
   "metadata": {},
   "source": [
    "http://goo.gl/forms/ZXm67EQSsC"
   ]
  },
  {
   "cell_type": "markdown",
   "metadata": {},
   "source": [
    "# Функции"
   ]
  },
  {
   "cell_type": "markdown",
   "metadata": {},
   "source": [
    "## Общая информация"
   ]
  },
  {
   "cell_type": "code",
   "execution_count": 1,
   "metadata": {
    "collapsed": false
   },
   "outputs": [
    {
     "name": "stdout",
     "output_type": "stream",
     "text": [
      "None\n",
      "1\n"
     ]
    }
   ],
   "source": [
    "#Общий синтаксис:\n",
    "def some_function():\n",
    "    pass #нельзя оставлять пустую строку, даже если функция ничего не выполняет, нужно писать pass\n",
    "\n",
    "def get_some_result():\n",
    "    return 1 #return - возвращает результат\n",
    "\n",
    "print some_function()\n",
    "print get_some_result()"
   ]
  },
  {
   "cell_type": "markdown",
   "metadata": {},
   "source": [
    "## Параметры по умолчанию"
   ]
  },
  {
   "cell_type": "code",
   "execution_count": 2,
   "metadata": {
    "collapsed": false
   },
   "outputs": [
    {
     "name": "stdout",
     "output_type": "stream",
     "text": [
      "Evgenii\tZavialov\n",
      "Aleksandr\tZavialov\n",
      "Evgenii\tPushkin\n",
      "Aleksandr\tPushkin\n"
     ]
    }
   ],
   "source": [
    "#Добавим параметры:\n",
    "def format_name(firstname='Evgenii', lastname='Zavialov'):\n",
    "    return '{firstname}\\t{lastname}'.format(firstname=firstname, lastname=lastname)\n",
    "\n",
    "print format_name()\n",
    "print format_name(firstname='Aleksandr')\n",
    "print format_name(lastname='Pushkin')\n",
    "print format_name(firstname='Aleksandr', lastname='Pushkin')"
   ]
  },
  {
   "cell_type": "markdown",
   "metadata": {},
   "source": [
    "При использовании параметров по умолчанию, нужно помнить об одной особенности:"
   ]
  },
  {
   "cell_type": "code",
   "execution_count": 3,
   "metadata": {
    "collapsed": false
   },
   "outputs": [
    {
     "name": "stdout",
     "output_type": "stream",
     "text": [
      "arg=test, def_arg=['Hello World']\n",
      "arg=test 2, def_arg=['Hello World', 'Hello World']\n"
     ]
    }
   ],
   "source": [
    "#Неожиданный эффект - объект создается единожды\n",
    "def show_args_using_mutable_defaults(arg, def_arg=[]):\n",
    "      def_arg.append(\"Hello World\")\n",
    "      return \"arg={}, def_arg={}\".format(arg, def_arg)\n",
    "\n",
    "print show_args_using_mutable_defaults(\"test\")\n",
    "print show_args_using_mutable_defaults(\"test 2\")"
   ]
  },
  {
   "cell_type": "code",
   "execution_count": 4,
   "metadata": {
    "collapsed": false
   },
   "outputs": [
    {
     "name": "stdout",
     "output_type": "stream",
     "text": [
      "arg=test, def_arg=3\n",
      "arg=test, def_arg=1\n",
      "arg=test, def_arg=1\n",
      "arg=test, def_arg=3\n"
     ]
    }
   ],
   "source": [
    "#Так значение по умолчанию \"испортить\" нельзя - числовые\n",
    "def show_args(arg, def_arg=1):\n",
    "       return \"arg={}, def_arg={}\".format(arg, def_arg)\n",
    "\n",
    "print show_args(arg=\"test\", def_arg=3)\n",
    "print show_args('test')\n",
    "print show_args(arg=\"test\")\n",
    "print show_args(\"test\", 3)"
   ]
  },
  {
   "cell_type": "markdown",
   "metadata": {},
   "source": [
    "## Позиционные и keyword параметры"
   ]
  },
  {
   "cell_type": "code",
   "execution_count": 5,
   "metadata": {
    "collapsed": false
   },
   "outputs": [],
   "source": [
    "def what_does_the_fox_say(word, repeat_number, sep=' '):\n",
    "    return sep.join([word] * repeat_number)"
   ]
  },
  {
   "cell_type": "code",
   "execution_count": 6,
   "metadata": {
    "collapsed": false
   },
   "outputs": [
    {
     "name": "stdout",
     "output_type": "stream",
     "text": [
      "gav gav gav\n"
     ]
    }
   ],
   "source": [
    "print what_does_the_fox_say('gav', 3) #ok"
   ]
  },
  {
   "cell_type": "code",
   "execution_count": 7,
   "metadata": {
    "collapsed": false
   },
   "outputs": [
    {
     "name": "stdout",
     "output_type": "stream",
     "text": [
      "gav gav gav\n"
     ]
    }
   ],
   "source": [
    "print what_does_the_fox_say('gav', repeat_number=3) # ?"
   ]
  },
  {
   "cell_type": "code",
   "execution_count": 8,
   "metadata": {
    "collapsed": false
   },
   "outputs": [
    {
     "name": "stdout",
     "output_type": "stream",
     "text": [
      "gav gav gav\n"
     ]
    }
   ],
   "source": [
    "print what_does_the_fox_say(repeat_number=3, word='gav') # ?"
   ]
  },
  {
   "cell_type": "code",
   "execution_count": 9,
   "metadata": {
    "collapsed": false
   },
   "outputs": [
    {
     "ename": "SyntaxError",
     "evalue": "non-keyword arg after keyword arg (<ipython-input-9-9d407228341a>, line 1)",
     "output_type": "error",
     "traceback": [
      "\u001b[0;36m  File \u001b[0;32m\"<ipython-input-9-9d407228341a>\"\u001b[0;36m, line \u001b[0;32m1\u001b[0m\n\u001b[0;31m    print what_does_the_fox_say(repeat_number=3, 'gav') # ?\u001b[0m\n\u001b[0;31mSyntaxError\u001b[0m\u001b[0;31m:\u001b[0m non-keyword arg after keyword arg\n"
     ]
    }
   ],
   "source": [
    "print what_does_the_fox_say(repeat_number=3, 'gav') # - нельзя именованный раньше порядкового"
   ]
  },
  {
   "cell_type": "code",
   "execution_count": 10,
   "metadata": {
    "collapsed": false
   },
   "outputs": [
    {
     "ename": "TypeError",
     "evalue": "what_does_the_fox_say() got an unexpected keyword argument 'is_real_word'",
     "output_type": "error",
     "traceback": [
      "\u001b[0;31m---------------------------------------------------------------------------\u001b[0m",
      "\u001b[0;31mTypeError\u001b[0m                                 Traceback (most recent call last)",
      "\u001b[0;32m<ipython-input-10-7041b091ad1b>\u001b[0m in \u001b[0;36m<module>\u001b[0;34m()\u001b[0m\n\u001b[0;32m----> 1\u001b[0;31m \u001b[0;32mprint\u001b[0m \u001b[0mwhat_does_the_fox_say\u001b[0m\u001b[0;34m(\u001b[0m\u001b[0;34m'gav'\u001b[0m\u001b[0;34m,\u001b[0m \u001b[0mrepeat_number\u001b[0m\u001b[0;34m=\u001b[0m\u001b[0;36m3\u001b[0m\u001b[0;34m,\u001b[0m \u001b[0mis_real_word\u001b[0m\u001b[0;34m=\u001b[0m\u001b[0mTrue\u001b[0m\u001b[0;34m)\u001b[0m \u001b[0;31m# ?\u001b[0m\u001b[0;34m\u001b[0m\u001b[0m\n\u001b[0m",
      "\u001b[0;31mTypeError\u001b[0m: what_does_the_fox_say() got an unexpected keyword argument 'is_real_word'"
     ]
    }
   ],
   "source": [
    "print what_does_the_fox_say('gav', repeat_number=3, is_real_word=True) # ?"
   ]
  },
  {
   "cell_type": "code",
   "execution_count": 12,
   "metadata": {
    "collapsed": false
   },
   "outputs": [
    {
     "name": "stdout",
     "output_type": "stream",
     "text": [
      "('weigh', 10)\n",
      "{'unit': 'k'}\n"
     ]
    }
   ],
   "source": [
    "# *args - так можно получить список всех неименнованных аргументов функции - список\n",
    "# **kargs - а так всех именнованных - словарь\n",
    "\n",
    "def func(*args, **kargs):\n",
    "    print args\n",
    "    print kargs\n",
    "\n",
    "func('weigh', 10, unit='k')"
   ]
  },
  {
   "cell_type": "code",
   "execution_count": 13,
   "metadata": {
    "collapsed": false
   },
   "outputs": [
    {
     "name": "stdout",
     "output_type": "stream",
     "text": [
      "([1, 2, 3], {'a': 1, 'c': 3, 'b': 2})\n",
      "{}\n"
     ]
    }
   ],
   "source": [
    "#В обратную сторону тоже работает!\n",
    "without_name = [1, 2, 3]\n",
    "with_name = {'a': 1, 'b': 2, 'c': 3}\n",
    "\n",
    "func(without_name, with_name)"
   ]
  },
  {
   "cell_type": "code",
   "execution_count": 14,
   "metadata": {
    "collapsed": false
   },
   "outputs": [
    {
     "name": "stdout",
     "output_type": "stream",
     "text": [
      "(1, 2, 3)\n",
      "{'a': 1, 'c': 3, 'b': 2}\n"
     ]
    }
   ],
   "source": [
    "# так тоже можно\n",
    "func(*without_name, **with_name)"
   ]
  },
  {
   "cell_type": "markdown",
   "metadata": {},
   "source": [
    "## Обращение к глобальным переменным"
   ]
  },
  {
   "cell_type": "code",
   "execution_count": 17,
   "metadata": {
    "collapsed": false
   },
   "outputs": [
    {
     "name": "stdout",
     "output_type": "stream",
     "text": [
      "1\n"
     ]
    }
   ],
   "source": [
    "#Представим ситуацию:\n",
    "\n",
    "counter_of_sheep = 1\n",
    "\n",
    "def incriment_sheep_counter():\n",
    "    counter_of_sheep = 2\n",
    "\n",
    "incriment_sheep_counter()\n",
    "print counter_of_sheep"
   ]
  },
  {
   "cell_type": "code",
   "execution_count": 18,
   "metadata": {
    "collapsed": false
   },
   "outputs": [
    {
     "name": "stdout",
     "output_type": "stream",
     "text": [
      "1\n"
     ]
    }
   ],
   "source": [
    "#Аналогично:\n",
    "\n",
    "counter_of_sheep = 1\n",
    "\n",
    "def set_sheep_counter(new_counter=0):\n",
    "    counter_of_sheep = new_counter\n",
    "\n",
    "set_sheep_counter()\n",
    "print counter_of_sheep"
   ]
  },
  {
   "cell_type": "code",
   "execution_count": 19,
   "metadata": {
    "collapsed": false
   },
   "outputs": [
    {
     "name": "stdout",
     "output_type": "stream",
     "text": [
      "2\n"
     ]
    }
   ],
   "source": [
    "#Исправили:\n",
    "counter_of_sheep = 1\n",
    "\n",
    "def incriment_sheep_counter():\n",
    "    global counter_of_sheep\n",
    "    counter_of_sheep += 1\n",
    "\n",
    "incriment_sheep_counter()\n",
    "print counter_of_sheep\n"
   ]
  },
  {
   "cell_type": "code",
   "execution_count": 20,
   "metadata": {
    "collapsed": false
   },
   "outputs": [
    {
     "name": "stdout",
     "output_type": "stream",
     "text": [
      "test 1\n",
      "test 2\n"
     ]
    }
   ],
   "source": [
    "def main():\n",
    "    test_var = 'test 1'\n",
    "    \n",
    "    def subfunc():\n",
    "        global test_var\n",
    "        test_var = 'test 2'\n",
    "        \n",
    "    subfunc()\n",
    "    \n",
    "    print test_var # 'test 1'\n",
    "    \n",
    "main()\n",
    "\n",
    "print test_var # 'test 2'"
   ]
  },
  {
   "cell_type": "code",
   "execution_count": 21,
   "metadata": {
    "collapsed": false
   },
   "outputs": [
    {
     "name": "stdout",
     "output_type": "stream",
     "text": [
      "test 1\n",
      "test 2\n"
     ]
    }
   ],
   "source": [
    "def execute():\n",
    "    test_var = 'test3'\n",
    "    def main():\n",
    "        test_var = 'test 1'\n",
    "\n",
    "        def subfunc():\n",
    "            global test_var\n",
    "            test_var = 'test 2'\n",
    "\n",
    "        subfunc()\n",
    "\n",
    "        print test_var # 'test 1'\n",
    "    \n",
    "    main()\n",
    "\n",
    "execute()\n",
    "print test_var # 'test 2'"
   ]
  },
  {
   "cell_type": "markdown",
   "metadata": {},
   "source": [
    "## Пример рекурсии"
   ]
  },
  {
   "cell_type": "code",
   "execution_count": 23,
   "metadata": {
    "collapsed": false
   },
   "outputs": [
    {
     "name": "stdout",
     "output_type": "stream",
     "text": [
      "120\n"
     ]
    }
   ],
   "source": [
    "# Вычисление факториала с использованием рекурсии - увлекаться не стоит\n",
    "def factorial(num):\n",
    "\n",
    "    if num <= 1:\n",
    "        return 1\n",
    "    else:\n",
    "        return(num * factorial(num - 1))\n",
    "\n",
    "print factorial(5)"
   ]
  },
  {
   "cell_type": "markdown",
   "metadata": {},
   "source": [
    "## Функция - объект"
   ]
  },
  {
   "cell_type": "code",
   "execution_count": 24,
   "metadata": {
    "collapsed": true
   },
   "outputs": [],
   "source": [
    "dir?"
   ]
  },
  {
   "cell_type": "code",
   "execution_count": 25,
   "metadata": {
    "collapsed": false
   },
   "outputs": [
    {
     "name": "stdout",
     "output_type": "stream",
     "text": [
      "<function func at 0x103e9d578>\n"
     ]
    },
    {
     "data": {
      "text/plain": [
       "['__call__',\n",
       " '__class__',\n",
       " '__closure__',\n",
       " '__code__',\n",
       " '__defaults__',\n",
       " '__delattr__',\n",
       " '__dict__',\n",
       " '__doc__',\n",
       " '__format__',\n",
       " '__get__',\n",
       " '__getattribute__',\n",
       " '__globals__',\n",
       " '__hash__',\n",
       " '__init__',\n",
       " '__module__',\n",
       " '__name__',\n",
       " '__new__',\n",
       " '__reduce__',\n",
       " '__reduce_ex__',\n",
       " '__repr__',\n",
       " '__setattr__',\n",
       " '__sizeof__',\n",
       " '__str__',\n",
       " '__subclasshook__',\n",
       " 'func_closure',\n",
       " 'func_code',\n",
       " 'func_defaults',\n",
       " 'func_dict',\n",
       " 'func_doc',\n",
       " 'func_globals',\n",
       " 'func_name']"
      ]
     },
     "execution_count": 25,
     "metadata": {},
     "output_type": "execute_result"
    }
   ],
   "source": [
    "#Посмотрим, какие атрибуты есть у функции\n",
    "#Да, функция в python - тоже объект\n",
    "print func\n",
    "dir(func)"
   ]
  },
  {
   "cell_type": "markdown",
   "metadata": {},
   "source": [
    "## Док-строки"
   ]
  },
  {
   "cell_type": "markdown",
   "metadata": {},
   "source": [
    "Почитать подробнее: https://www.python.org/dev/peps/pep-0257/"
   ]
  },
  {
   "cell_type": "code",
   "execution_count": 26,
   "metadata": {
    "collapsed": true
   },
   "outputs": [],
   "source": [
    "#Пример:\n",
    "def complex(real=0.0, imag=0.0):\n",
    "    \"\"\"Form a complex number.\n",
    "\n",
    "    Keyword arguments:\n",
    "    real -- the real part (default 0.0)\n",
    "    imag -- the imaginary part (default 0.0)\n",
    "    \"\"\"\n",
    "    if imag == 0.0 and real == 0.0:\n",
    "        return complex_zero"
   ]
  },
  {
   "cell_type": "code",
   "execution_count": 27,
   "metadata": {
    "collapsed": true
   },
   "outputs": [],
   "source": [
    "complex?"
   ]
  },
  {
   "cell_type": "code",
   "execution_count": 28,
   "metadata": {
    "collapsed": false
   },
   "outputs": [
    {
     "name": "stdout",
     "output_type": "stream",
     "text": [
      "Form a complex number.\n",
      "\n",
      "    Keyword arguments:\n",
      "    real -- the real part (default 0.0)\n",
      "    imag -- the imaginary part (default 0.0)\n",
      "    \n"
     ]
    }
   ],
   "source": [
    "print complex.__doc__"
   ]
  },
  {
   "cell_type": "markdown",
   "metadata": {},
   "source": [
    "А еще, есть doc-тесты: https://docs.python.org/2/library/doctest.html"
   ]
  },
  {
   "cell_type": "code",
   "execution_count": 32,
   "metadata": {
    "collapsed": false
   },
   "outputs": [
    {
     "data": {
      "text/plain": [
       "TestResults(failed=0, attempted=1)"
      ]
     },
     "execution_count": 32,
     "metadata": {},
     "output_type": "execute_result"
    }
   ],
   "source": [
    "def factorial(num):\n",
    "    \"\"\"\n",
    "    >>> factorial(5)\n",
    "    120\n",
    "    \"\"\"\n",
    "    if num <= 1:\n",
    "        return 1\n",
    "    else:\n",
    "        return(num * factorial(num - 1))\n",
    "\n",
    "\n",
    "import doctest\n",
    "doctest.testmod()\n",
    "\n",
    "#python script.py -v - так должен запускаться, отсюда не пойдет"
   ]
  },
  {
   "cell_type": "markdown",
   "metadata": {},
   "source": [
    "## Лямбда-функции"
   ]
  },
  {
   "cell_type": "markdown",
   "metadata": {},
   "source": [
    "Общий синтаксис: \n",
    "lambda [аргументы]: выражение без return"
   ]
  },
  {
   "cell_type": "code",
   "execution_count": 41,
   "metadata": {
    "collapsed": false
   },
   "outputs": [
    {
     "name": "stdout",
     "output_type": "stream",
     "text": [
      "['String', 'String']\n"
     ]
    }
   ],
   "source": [
    "print (lambda s: s*2)(['String'])"
   ]
  },
  {
   "cell_type": "code",
   "execution_count": 44,
   "metadata": {
    "collapsed": false
   },
   "outputs": [
    {
     "name": "stdout",
     "output_type": "stream",
     "text": [
      "6\n"
     ]
    }
   ],
   "source": [
    "print (lambda s, l=5: l)('s', l=6)"
   ]
  },
  {
   "cell_type": "markdown",
   "metadata": {},
   "source": [
    "Пример из www.diveintopython.net:"
   ]
  },
  {
   "cell_type": "code",
   "execution_count": 47,
   "metadata": {
    "collapsed": false
   },
   "outputs": [
    {
     "name": "stdout",
     "output_type": "stream",
     "text": [
      "String String\n"
     ]
    }
   ],
   "source": [
    "collapse = True #False\n",
    "processFunc = collapse and (lambda s: \" \".join(s.split())) or (lambda s: s)\n",
    "print processFunc('String\\tString')"
   ]
  },
  {
   "cell_type": "markdown",
   "metadata": {},
   "source": [
    "# Итераторы, Генераторы, itertools"
   ]
  },
  {
   "cell_type": "markdown",
   "metadata": {},
   "source": [
    "### Итераторы"
   ]
  },
  {
   "cell_type": "markdown",
   "metadata": {},
   "source": [
    "Итераторы используются для прохождения по контейнеру поэлементно."
   ]
  },
  {
   "cell_type": "code",
   "execution_count": 48,
   "metadata": {
    "collapsed": false
   },
   "outputs": [
    {
     "name": "stdout",
     "output_type": "stream",
     "text": [
      "S\n",
      "t\n",
      "r\n",
      "i\n",
      "n\n",
      "g\n"
     ]
    }
   ],
   "source": [
    "#Например:\n",
    "for x in 'String':\n",
    "    print x"
   ]
  },
  {
   "cell_type": "code",
   "execution_count": 49,
   "metadata": {
    "collapsed": false
   },
   "outputs": [
    {
     "name": "stdout",
     "output_type": "stream",
     "text": [
      "S\n",
      "t\n",
      "r\n",
      "i\n",
      "n\n",
      "g\n"
     ]
    }
   ],
   "source": [
    "#Эквивалентно:\n",
    "it = iter('String')\n",
    "for i in it:\n",
    "    print i"
   ]
  },
  {
   "cell_type": "markdown",
   "metadata": {},
   "source": [
    "Существует сокращенная форма:"
   ]
  },
  {
   "cell_type": "code",
   "execution_count": 53,
   "metadata": {
    "collapsed": false
   },
   "outputs": [
    {
     "name": "stdout",
     "output_type": "stream",
     "text": [
      "[1, 2, 3, 4, 5, 6, 7, 8, 9]\n",
      "[1, 3, 5, 7, 9]\n",
      "[2, 4, 6, 8]\n"
     ]
    }
   ],
   "source": [
    "print [i for i in range(1,10)]\n",
    "print [i for i in range(1,10) if i % 2]\n",
    "print [i for i in range(2,10,2)]"
   ]
  },
  {
   "cell_type": "code",
   "execution_count": 56,
   "metadata": {
    "collapsed": false
   },
   "outputs": [
    {
     "name": "stdout",
     "output_type": "stream",
     "text": [
      "[0, 1, 2, 3, 4, 5, 6, 7, 8, 9]\n",
      "[]\n"
     ]
    }
   ],
   "source": [
    "it = iter(range(10))\n",
    "print [i for i in it]\n",
    "print [i for i in it]"
   ]
  },
  {
   "cell_type": "markdown",
   "metadata": {},
   "source": [
    "### Генераторы"
   ]
  },
  {
   "cell_type": "code",
   "execution_count": 54,
   "metadata": {
    "collapsed": false
   },
   "outputs": [
    {
     "name": "stdout",
     "output_type": "stream",
     "text": [
      "S\n",
      "t\n",
      "r\n",
      "i\n",
      "n\n",
      "g\n"
     ]
    }
   ],
   "source": [
    "def iter2(string):\n",
    "    for s in string:\n",
    "        yield s #yield вместо return\n",
    "        \n",
    "for i in iter2('String'):\n",
    "    print i"
   ]
  },
  {
   "cell_type": "code",
   "execution_count": 55,
   "metadata": {
    "collapsed": false
   },
   "outputs": [
    {
     "name": "stdout",
     "output_type": "stream",
     "text": [
      "Before\n",
      "1\n",
      "After\n",
      "Before\n",
      "2\n",
      "After\n"
     ]
    }
   ],
   "source": [
    "def iter2(string):\n",
    "    for s in string:\n",
    "        print 'Before'\n",
    "        yield s #yield вместо return\n",
    "        print 'After'\n",
    "        \n",
    "for i in iter2([1,2]):\n",
    "    print i"
   ]
  },
  {
   "cell_type": "markdown",
   "metadata": {},
   "source": [
    "Существует сокращенная форма"
   ]
  },
  {
   "cell_type": "code",
   "execution_count": 57,
   "metadata": {
    "collapsed": false
   },
   "outputs": [],
   "source": [
    "def random(min_val=0, max_val=100):\n",
    "    import random as rand\n",
    "    rand.seed()\n",
    "    while True:\n",
    "        yield rand.randint(min_val, max_val)\n"
   ]
  },
  {
   "cell_type": "code",
   "execution_count": 64,
   "metadata": {
    "collapsed": false
   },
   "outputs": [
    {
     "name": "stdout",
     "output_type": "stream",
     "text": [
      "[77, 45, 87, 68, 21, 77, 92, 2, 73, 23, 15, 59, 45, 99, 10, 71, 98, 98, 1, 22]\n"
     ]
    }
   ],
   "source": [
    "x = (r for (r, i) in zip(random(), xrange(20)))\n",
    "print list(x)"
   ]
  },
  {
   "cell_type": "code",
   "execution_count": 59,
   "metadata": {
    "collapsed": false
   },
   "outputs": [
    {
     "data": {
      "text/plain": [
       "[(94, 0),\n",
       " (73, 1),\n",
       " (87, 2),\n",
       " (25, 3),\n",
       " (67, 4),\n",
       " (72, 5),\n",
       " (94, 6),\n",
       " (85, 7),\n",
       " (52, 8),\n",
       " (20, 9),\n",
       " (11, 10),\n",
       " (61, 11),\n",
       " (58, 12),\n",
       " (65, 13),\n",
       " (18, 14),\n",
       " (35, 15),\n",
       " (61, 16),\n",
       " (0, 17),\n",
       " (53, 18),\n",
       " (32, 19)]"
      ]
     },
     "execution_count": 59,
     "metadata": {},
     "output_type": "execute_result"
    }
   ],
   "source": [
    "zip(random(),xrange(20))"
   ]
  },
  {
   "cell_type": "code",
   "execution_count": 65,
   "metadata": {
    "collapsed": false
   },
   "outputs": [
    {
     "data": {
      "text/plain": [
       "[41, 47, 95, 67, 10, 34, 42, 17, 68, 55]"
      ]
     },
     "execution_count": 65,
     "metadata": {},
     "output_type": "execute_result"
    }
   ],
   "source": [
    "list((r for (r, i) in zip(random(), xrange(10))))"
   ]
  },
  {
   "cell_type": "markdown",
   "metadata": {},
   "source": [
    "### itertools"
   ]
  },
  {
   "cell_type": "code",
   "execution_count": 2,
   "metadata": {
    "collapsed": true
   },
   "outputs": [],
   "source": [
    "import itertools"
   ]
  },
  {
   "cell_type": "code",
   "execution_count": null,
   "metadata": {
    "collapsed": false
   },
   "outputs": [],
   "source": [
    "print itertools.count(start=0, step=1) #возвращает бесконечный генератор, который считает начиная от start с шагом step;\n",
    "print list(itertools.cycle([10,20]))[10] #возвращает бесконечно повторяемую последовательность из iterable;\n",
    "print list(itertools.repeat(10, times=5)) #повторяет элемент, если times задано, то times раз;"
   ]
  },
  {
   "cell_type": "code",
   "execution_count": null,
   "metadata": {
    "collapsed": false
   },
   "outputs": [],
   "source": [
    "c = itertools.count()\n",
    "print [r for (r, i) in zip(c, xrange(20))]\n",
    "c = itertools.cycle(\"spam\")\n",
    "print [r for (r, i) in zip(c, xrange(10))]\n",
    "c = itertools.repeat(None)\n",
    "print [r for (r, i) in zip(c, xrange(10))]\n"
   ]
  },
  {
   "cell_type": "code",
   "execution_count": null,
   "metadata": {
    "collapsed": false
   },
   "outputs": [],
   "source": [
    "#Для контроля бесконечного генератора:\n",
    "g = itertools.takewhile(lambda n: n<10, itertools.count())\n",
    "[i for i in g]"
   ]
  },
  {
   "cell_type": "code",
   "execution_count": null,
   "metadata": {
    "collapsed": false
   },
   "outputs": [],
   "source": [
    "#Обратная ситуация (пропускаются все значения, для которых лямбда функция вычисляет True)\n",
    "a = [None] * 5 + range(5)\n",
    "print a\n",
    "g = itertools.dropwhile(lambda x: not x, a)\n",
    "[i for i in g]"
   ]
  },
  {
   "cell_type": "markdown",
   "metadata": {},
   "source": [
    "Для дальнейшего прочтения: https://docs.python.org/2/library/itertools.html"
   ]
  },
  {
   "cell_type": "markdown",
   "metadata": {},
   "source": [
    "# Функциональный подход"
   ]
  },
  {
   "cell_type": "markdown",
   "metadata": {},
   "source": [
    "## map()"
   ]
  },
  {
   "cell_type": "markdown",
   "metadata": {},
   "source": [
    "Обрабатывает последовательность/сти с помощью заданной функции и возвращает результат в виде последовательности"
   ]
  },
  {
   "cell_type": "code",
   "execution_count": 1,
   "metadata": {
    "collapsed": false
   },
   "outputs": [
    {
     "data": {
      "text/plain": [
       "[1, 0, 1, 0, 1, 0, 1, 0, 1]"
      ]
     },
     "execution_count": 1,
     "metadata": {},
     "output_type": "execute_result"
    }
   ],
   "source": [
    "map(lambda x: x%2, xrange(1,10))"
   ]
  },
  {
   "cell_type": "code",
   "execution_count": 4,
   "metadata": {
    "collapsed": false
   },
   "outputs": [
    {
     "name": "stdout",
     "output_type": "stream",
     "text": [
      "The slowest run took 5.74 times longer than the fastest. This could mean that an intermediate result is being cached.\n",
      "100000 loops, best of 3: 2.62 µs per loop\n"
     ]
    },
    {
     "data": {
      "text/plain": [
       "[-8, -6, -4, -2, 0, 2, 4, 6, 8]"
      ]
     },
     "execution_count": 4,
     "metadata": {},
     "output_type": "execute_result"
    }
   ],
   "source": [
    "%timeit map(lambda x, y: x-y, xrange(1,10), xrange(9,0,-1))\n",
    "map(lambda x, y: x-y, xrange(1,10), xrange(9,0,-1))"
   ]
  },
  {
   "cell_type": "markdown",
   "metadata": {},
   "source": [
    "Аналог на основе списковых выражений:"
   ]
  },
  {
   "cell_type": "code",
   "execution_count": 5,
   "metadata": {
    "collapsed": false
   },
   "outputs": [
    {
     "name": "stdout",
     "output_type": "stream",
     "text": [
      "100000 loops, best of 3: 3.04 µs per loop\n"
     ]
    },
    {
     "data": {
      "text/plain": [
       "[-8, -6, -4, -2, 0, 2, 4, 6, 8]"
      ]
     },
     "execution_count": 5,
     "metadata": {},
     "output_type": "execute_result"
    }
   ],
   "source": [
    "%timeit [x-y for x, y in zip(xrange(1,10), xrange(9,0,-1))]\n",
    "[x-y for x, y in zip(xrange(1,10), xrange(9,0,-1))]"
   ]
  },
  {
   "cell_type": "markdown",
   "metadata": {},
   "source": [
    "## filter()"
   ]
  },
  {
   "cell_type": "markdown",
   "metadata": {},
   "source": [
    "Фильтрует значения последовательности с помощью заданной функции, возвращает последовательность только с теми элементами, для которых значение функциии истенно"
   ]
  },
  {
   "cell_type": "code",
   "execution_count": 8,
   "metadata": {
    "collapsed": false
   },
   "outputs": [
    {
     "name": "stdout",
     "output_type": "stream",
     "text": [
      "100000 loops, best of 3: 3.46 µs per loop\n"
     ]
    },
    {
     "data": {
      "text/plain": [
       "[1, 2, 3, 4, 5, 6, 7, 8, 9, 10]"
      ]
     },
     "execution_count": 8,
     "metadata": {},
     "output_type": "execute_result"
    }
   ],
   "source": [
    "%timeit filter(lambda x: x>0, xrange(-10, 11))\n",
    "filter(lambda x: x>0, xrange(-10, 11))"
   ]
  },
  {
   "cell_type": "markdown",
   "metadata": {},
   "source": [
    "Аналог:"
   ]
  },
  {
   "cell_type": "code",
   "execution_count": 9,
   "metadata": {
    "collapsed": false
   },
   "outputs": [
    {
     "name": "stdout",
     "output_type": "stream",
     "text": [
      "100000 loops, best of 3: 2.16 µs per loop\n"
     ]
    },
    {
     "data": {
      "text/plain": [
       "[1, 2, 3, 4, 5, 6, 7, 8, 9, 10]"
      ]
     },
     "execution_count": 9,
     "metadata": {},
     "output_type": "execute_result"
    }
   ],
   "source": [
    "%timeit [x for x in xrange(-10, 11) if x>0]\n",
    "[x for x in xrange(-10, 11) if x>0]"
   ]
  },
  {
   "cell_type": "markdown",
   "metadata": {},
   "source": [
    "## reduce()"
   ]
  },
  {
   "cell_type": "markdown",
   "metadata": {},
   "source": [
    "Позволяет организовать \"цепочечные\" вычисления"
   ]
  },
  {
   "cell_type": "code",
   "execution_count": 10,
   "metadata": {
    "collapsed": false
   },
   "outputs": [
    {
     "data": {
      "text/plain": [
       "720"
      ]
     },
     "execution_count": 10,
     "metadata": {},
     "output_type": "execute_result"
    }
   ],
   "source": [
    "numbers = [2, 3, 4, 5, 6]\n",
    "reduce(lambda res, x: res*x, numbers, 1)"
   ]
  },
  {
   "cell_type": "markdown",
   "metadata": {},
   "source": [
    "Вычисляется как: $((((1*2)*3)*4)*5)*6$"
   ]
  },
  {
   "cell_type": "markdown",
   "metadata": {},
   "source": [
    "## functools"
   ]
  },
  {
   "cell_type": "markdown",
   "metadata": {},
   "source": [
    "https://docs.python.org/2/library/functools.html"
   ]
  },
  {
   "cell_type": "markdown",
   "metadata": {},
   "source": [
    "## Замыкания"
   ]
  },
  {
   "cell_type": "markdown",
   "metadata": {},
   "source": [
    "Пример замыкания"
   ]
  },
  {
   "cell_type": "code",
   "execution_count": 11,
   "metadata": {
    "collapsed": false
   },
   "outputs": [
    {
     "data": {
      "text/plain": [
       "[5, 10, 15, 20, 25, 30, 35, 40, 45, 50]"
      ]
     },
     "execution_count": 11,
     "metadata": {},
     "output_type": "execute_result"
    }
   ],
   "source": [
    "def outter_func(a, b):\n",
    "    \n",
    "    def inner_func(n): #b - запомнится, и функцию можно вернуть с этим параметров вне\n",
    "        return n*b\n",
    "    \n",
    "    return [inner_func(i) for i in a]\n",
    "\n",
    "outter_func(range(1,11), 5)"
   ]
  },
  {
   "cell_type": "markdown",
   "metadata": {},
   "source": [
    "# Декораторы"
   ]
  },
  {
   "cell_type": "markdown",
   "metadata": {},
   "source": [
    "## Базовое определение"
   ]
  },
  {
   "cell_type": "code",
   "execution_count": 19,
   "metadata": {
    "collapsed": false
   },
   "outputs": [
    {
     "name": "stdout",
     "output_type": "stream",
     "text": [
      "Start f execution\n",
      "Inside base function\n",
      "----------\n",
      "Inside base function\n"
     ]
    }
   ],
   "source": [
    "#пример декаратора\n",
    "def wrapper(func):\n",
    "    print 'Start ' + func.__name__ + ' execution'\n",
    "    return func    \n",
    "    \n",
    "def d():\n",
    "    print 'Inside base function'\n",
    "    \n",
    "@wrapper #В этот момент печатается\n",
    "def f():\n",
    "    print 'Inside base function'\n",
    "\n",
    "f()\n",
    "print '-'*10\n",
    "d()"
   ]
  },
  {
   "cell_type": "markdown",
   "metadata": {},
   "source": [
    "## Как работают"
   ]
  },
  {
   "cell_type": "code",
   "execution_count": 27,
   "metadata": {
    "collapsed": true
   },
   "outputs": [],
   "source": [
    "import time\n",
    "\n",
    "def timer(f):\n",
    "    def tmp(*args, **kwargs):\n",
    "        t = time.time()\n",
    "        res = f(*args, **kwargs)\n",
    "        print \"Время выполнения функции: %f\" % (time.time()-t)\n",
    "        return res\n",
    "\n",
    "    return tmp\n",
    "\n",
    "@timer\n",
    "def func(x, y):\n",
    "    return x + y"
   ]
  },
  {
   "cell_type": "code",
   "execution_count": 28,
   "metadata": {
    "collapsed": false
   },
   "outputs": [
    {
     "name": "stdout",
     "output_type": "stream",
     "text": [
      "Время выполнения функции: 0.000001\n"
     ]
    },
    {
     "data": {
      "text/plain": [
       "3"
      ]
     },
     "execution_count": 28,
     "metadata": {},
     "output_type": "execute_result"
    }
   ],
   "source": [
    "func(1,2)"
   ]
  },
  {
   "cell_type": "code",
   "execution_count": 29,
   "metadata": {
    "collapsed": true
   },
   "outputs": [],
   "source": [
    "def pause(f):\n",
    "    def tmp(*args, **kwargs):\n",
    "        time.sleep(1)\n",
    "        return f(*args, **kwargs)\n",
    "\n",
    "    return tmp\n",
    "\n",
    "@timer\n",
    "@pause\n",
    "def func(x, y):\n",
    "    return x + y"
   ]
  },
  {
   "cell_type": "code",
   "execution_count": 30,
   "metadata": {
    "collapsed": false
   },
   "outputs": [
    {
     "name": "stdout",
     "output_type": "stream",
     "text": [
      "Время выполнения функции: 1.002350\n"
     ]
    },
    {
     "data": {
      "text/plain": [
       "3"
      ]
     },
     "execution_count": 30,
     "metadata": {},
     "output_type": "execute_result"
    }
   ],
   "source": [
    "func(1,2)"
   ]
  },
  {
   "cell_type": "markdown",
   "metadata": {},
   "source": [
    "# Рубрика \"Не отходя от кассы\""
   ]
  },
  {
   "cell_type": "code",
   "execution_count": 37,
   "metadata": {
    "collapsed": false
   },
   "outputs": [
    {
     "name": "stdout",
     "output_type": "stream",
     "text": [
      "defaultdict(<function <lambda> at 0x103f63c80>, {'': [1, 2]})\n"
     ]
    },
    {
     "name": "stderr",
     "output_type": "stream",
     "text": [
      "ERROR: Line magic function `%dec` not found.\n"
     ]
    }
   ],
   "source": [
    "from collections import defaultdict\n",
    "\n",
    "def dec(func):\n",
    "    def tmp(key_transform, values_dict):\n",
    "        key_transform = filter(lambda x: x > 0, key_transform)\n",
    "        values_dict = filter(lambda s: s.key in 'abc', values_dict)\n",
    "        func(key_transform, values_dict)\n",
    "    return tmp\n",
    "\n",
    "%dec\n",
    "def regroup(key_transform, values_dict):\n",
    "    result = defaultdict(lambda : [])\n",
    "    for key, value in values_dict.iteritems():\n",
    "        result[key_transform(key)].append(value)\n",
    "    return result\n",
    "\n",
    "#Пример использования:\n",
    "\n",
    "print regroup(lambda x: x[:-1], {'a':1, 'b': 2})"
   ]
  },
  {
   "cell_type": "code",
   "execution_count": 40,
   "metadata": {
    "collapsed": false
   },
   "outputs": [
    {
     "name": "stdout",
     "output_type": "stream",
     "text": [
      "0\n"
     ]
    }
   ],
   "source": [
    "def exec2(l, m, choose_rule):\n",
    "    def first_choice(k):\n",
    "        global counter\n",
    "        counter += 1\n",
    "        return k[1:-1]\n",
    "\n",
    "    def second_choice(k):\n",
    "        return k[:]\n",
    "        \n",
    "    counter = 0\n",
    "    for i in m:\n",
    "        yield first_choice(l*3) if choose_rule(rand()) else second_choice(l)\n",
    "        counter +=1\n",
    "\n",
    "counter = 0\n",
    "\n",
    "def run(choose_rule):\n",
    "    for i in exec2('String', xrange(1,100), choose_rule):\n",
    "        pass\n",
    "\n",
    "print counter"
   ]
  },
  {
   "cell_type": "markdown",
   "metadata": {},
   "source": [
    "# Классы"
   ]
  },
  {
   "cell_type": "markdown",
   "metadata": {},
   "source": [
    "## Общая информация"
   ]
  },
  {
   "cell_type": "code",
   "execution_count": 41,
   "metadata": {
    "collapsed": false
   },
   "outputs": [
    {
     "name": "stdout",
     "output_type": "stream",
     "text": [
      "3\n",
      "3\n",
      "5\n"
     ]
    }
   ],
   "source": [
    "#создадим класс\n",
    "class A:\n",
    "    #переменная класса\n",
    "    a = 5\n",
    "    def __init__(self, b):\n",
    "        #переменная экземпляра\n",
    "        self.b=b\n",
    "        \n",
    "    #метод экземпляра\n",
    "    def printB(self):\n",
    "        print self.b\n",
    "        \n",
    "    #метод класса\n",
    "    @classmethod\n",
    "    def printA(classobj):\n",
    "        print classobj.a\n",
    "        \n",
    "#создаем объект класса\n",
    "myVariable = A(3)\n",
    "\n",
    "#вызываем метод объекта\n",
    "myVariable.printB() \n",
    "\n",
    "#вызываем метод объекта \n",
    "# равнозначно myVariable.printB()\n",
    "A.printB(myVariable) \n",
    "\n",
    "# вызываем метод класса\n",
    "A.printA()"
   ]
  },
  {
   "cell_type": "markdown",
   "metadata": {},
   "source": [
    "Классы могут быть расширены динамически, даже во время выполнения возможно в класс добавлять произвольные атрибуты"
   ]
  },
  {
   "cell_type": "code",
   "execution_count": 42,
   "metadata": {
    "collapsed": true
   },
   "outputs": [],
   "source": [
    "class Record(): pass\n",
    " \n",
    "record = Record()\n",
    "record.id = 10\n",
    "record.link = \"record/\""
   ]
  },
  {
   "cell_type": "markdown",
   "metadata": {},
   "source": [
    "Все данные объекта хранятся в «__dict__»"
   ]
  },
  {
   "cell_type": "code",
   "execution_count": 43,
   "metadata": {
    "collapsed": false
   },
   "outputs": [
    {
     "data": {
      "text/plain": [
       "{'id': 10, 'link': 'record/'}"
      ]
     },
     "execution_count": 43,
     "metadata": {},
     "output_type": "execute_result"
    }
   ],
   "source": [
    "record.__dict__"
   ]
  },
  {
   "cell_type": "code",
   "execution_count": 44,
   "metadata": {
    "collapsed": false
   },
   "outputs": [
    {
     "data": {
      "text/plain": [
       "100"
      ]
     },
     "execution_count": 44,
     "metadata": {},
     "output_type": "execute_result"
    }
   ],
   "source": [
    "class Class():\n",
    "    def __init__(self, a, b):\n",
    "        self.a = a\n",
    "        self.b = b\n",
    " \n",
    "c1 = Class(1, 10)\n",
    "c2 = Class(10, 11)\n",
    "c1.__dict__\n",
    "c2.__dict__\n",
    "c1.__dict__[\"c\"] = 100\n",
    "c1.c"
   ]
  },
  {
   "cell_type": "markdown",
   "metadata": {},
   "source": [
    "Когда python считывает команду «c1.a», происходит поиск по всем атрибутам суперклассов, затем по словарю «__dict__» самого объекта, а затем вызывается метод «__getattr__», в котором можно определить предпринимаемые действия во всех остальных случаях — именно поэтому в python классы можно дополнять произвольными атрибутами в run-time. Обычный класс в python можно написать следующим образом:"
   ]
  },
  {
   "cell_type": "code",
   "execution_count": 46,
   "metadata": {
    "collapsed": true
   },
   "outputs": [],
   "source": [
    "class Class():\n",
    "    def __setattr__(self, attr, value):\n",
    "        print \"присваиваем '%s' значение '%s'\" % (attr, value)\n",
    "        self.__dict__[attr] = value\n",
    " \n",
    "    def __delattr__(self, attr):\n",
    "        print \"удаляем '%s'\" % attr\n",
    "        if attr in self.__dict__:\n",
    "            del self.__dict__[attr]\n",
    "        else:\n",
    "            raise AttributeError(\"Объект не имеет атрибута '%s'\" % attr)\n",
    " \n",
    "    def __getattr__(self, attr):\n",
    "        print \"получаем '%s'\" % attr\n",
    "        if attr in self.__dict__:\n",
    "            return self.__dict__[attr]\n",
    "        else:\n",
    "            raise AttributeError(\"Объект не имеет атрибута '%s'\" % attr)"
   ]
  },
  {
   "cell_type": "markdown",
   "metadata": {},
   "source": [
    "Однако в данном случае следует остановиться на методе «__getattr__». Как написано в руководстве, «__getattr__» выполняется только тогда, когда не получилось найти атрибут обычными способами. Это означает, что при попытке получить значение какого-нибудь атрибута уведомление не будет выведено, т.е. метод не вызовется:"
   ]
  },
  {
   "cell_type": "code",
   "execution_count": 47,
   "metadata": {
    "collapsed": false
   },
   "outputs": [
    {
     "name": "stdout",
     "output_type": "stream",
     "text": [
      "присваиваем 'a' значение '10'\n"
     ]
    },
    {
     "data": {
      "text/plain": [
       "10"
      ]
     },
     "execution_count": 47,
     "metadata": {},
     "output_type": "execute_result"
    }
   ],
   "source": [
    "c = Class()\n",
    "c.a = 10\n",
    "c.a"
   ]
  },
  {
   "cell_type": "markdown",
   "metadata": {},
   "source": [
    "Так же в руководстве написано, что метод «__getattr__» обязательно должен либо что-нибудь возвращать, либо бросать AttributeError — если оба эти условия не будут выполнены, то метод может вернуть None и тем самым привести к неожиданным ошибкам. Обсуждение этой проблемы есть здесь.\n",
    "\n",
    "Изменяя функции «__setattr__», «__delattr__» и «__getattr__» можно подстраивать поведение класса под свои нужды. Например, для создания неизменяемой переменной можно использовать следующий код:"
   ]
  },
  {
   "cell_type": "code",
   "execution_count": 48,
   "metadata": {
    "collapsed": false
   },
   "outputs": [
    {
     "ename": "ConstError",
     "evalue": "Невозможно переназначить значение атрибута m",
     "output_type": "error",
     "traceback": [
      "\u001b[0;31m---------------------------------------------------------------------------\u001b[0m",
      "\u001b[0;31mConstError\u001b[0m                                Traceback (most recent call last)",
      "\u001b[0;32m<ipython-input-48-69179f38fd73>\u001b[0m in \u001b[0;36m<module>\u001b[0;34m()\u001b[0m\n\u001b[1;32m     17\u001b[0m \u001b[0mconst\u001b[0m\u001b[0;34m.\u001b[0m\u001b[0mm\u001b[0m \u001b[0;34m=\u001b[0m \u001b[0;36m10\u001b[0m\u001b[0;34m\u001b[0m\u001b[0m\n\u001b[1;32m     18\u001b[0m \u001b[0mconst\u001b[0m\u001b[0;34m.\u001b[0m\u001b[0mm\u001b[0m\u001b[0;34m\u001b[0m\u001b[0m\n\u001b[0;32m---> 19\u001b[0;31m \u001b[0mconst\u001b[0m\u001b[0;34m.\u001b[0m\u001b[0mm\u001b[0m \u001b[0;34m=\u001b[0m \u001b[0;36m20\u001b[0m\u001b[0;34m\u001b[0m\u001b[0m\n\u001b[0m",
      "\u001b[0;32m<ipython-input-48-69179f38fd73>\u001b[0m in \u001b[0;36m__setattr__\u001b[0;34m(self, attr, value)\u001b[0m\n\u001b[1;32m      4\u001b[0m     \u001b[0;32mdef\u001b[0m \u001b[0m__setattr__\u001b[0m\u001b[0;34m(\u001b[0m\u001b[0mself\u001b[0m\u001b[0;34m,\u001b[0m \u001b[0mattr\u001b[0m\u001b[0;34m,\u001b[0m \u001b[0mvalue\u001b[0m\u001b[0;34m)\u001b[0m\u001b[0;34m:\u001b[0m\u001b[0;34m\u001b[0m\u001b[0m\n\u001b[1;32m      5\u001b[0m         \u001b[0;32mif\u001b[0m \u001b[0mattr\u001b[0m \u001b[0;32min\u001b[0m \u001b[0mself\u001b[0m\u001b[0;34m.\u001b[0m\u001b[0m__dict__\u001b[0m\u001b[0;34m:\u001b[0m\u001b[0;34m\u001b[0m\u001b[0m\n\u001b[0;32m----> 6\u001b[0;31m             \u001b[0;32mraise\u001b[0m \u001b[0mself\u001b[0m\u001b[0;34m.\u001b[0m\u001b[0mConstError\u001b[0m\u001b[0;34m(\u001b[0m\u001b[0;34m\"Невозможно переназначить значение атрибута %s\"\u001b[0m \u001b[0;34m%\u001b[0m \u001b[0mattr\u001b[0m\u001b[0;34m)\u001b[0m\u001b[0;34m\u001b[0m\u001b[0m\n\u001b[0m\u001b[1;32m      7\u001b[0m         \u001b[0;32melse\u001b[0m\u001b[0;34m:\u001b[0m\u001b[0;34m\u001b[0m\u001b[0m\n\u001b[1;32m      8\u001b[0m             \u001b[0mself\u001b[0m\u001b[0;34m.\u001b[0m\u001b[0m__dict__\u001b[0m\u001b[0;34m[\u001b[0m\u001b[0mattr\u001b[0m\u001b[0;34m]\u001b[0m \u001b[0;34m=\u001b[0m \u001b[0mvalue\u001b[0m\u001b[0;34m\u001b[0m\u001b[0m\n",
      "\u001b[0;31mConstError\u001b[0m: Невозможно переназначить значение атрибута m"
     ]
    }
   ],
   "source": [
    "class Constant():\n",
    "    class ConstError(TypeError): pass\n",
    " \n",
    "    def __setattr__(self, attr, value):\n",
    "        if attr in self.__dict__:\n",
    "            raise self.ConstError(\"Невозможно переназначить значение атрибута %s\" % attr)\n",
    "        else:\n",
    "            self.__dict__[attr] = value\n",
    " \n",
    "    def __delattr__(self, attr, value):\n",
    "        if attr in self.__dict__:\n",
    "            raise self.ConstError(\"Невозможно удалить атрибут %s\" % attr)  \n",
    "        else:\n",
    "            raise AttributeError(\"Объект не имеет атрибута '%s'\" % attr)\n",
    " \n",
    "const = Constant()\n",
    "const.m = 10\n",
    "const.m \n",
    "const.m = 20\n"
   ]
  },
  {
   "cell_type": "markdown",
   "metadata": {},
   "source": [
    "Или для имитирования приватных переменных:"
   ]
  },
  {
   "cell_type": "code",
   "execution_count": 127,
   "metadata": {
    "collapsed": true
   },
   "outputs": [],
   "source": [
    "class PrivateClass():   \n",
    "    private = ('private', 'init', 'name', )\n",
    "    init = False\n",
    " \n",
    "    def __init__(self):\n",
    "        self.name = \"Private Class\"\n",
    "        self.init = True\n",
    " \n",
    "    def __setattr__(self, attr, value):\n",
    "        if attr in self.private and self.init: \n",
    "            raise AttributeError(\"Невозможно получить доступ к атрибуту '%s'\" % attr)\n",
    "        else:\n",
    "            self.__dict__[attr] = value\n",
    " \n",
    "    def __delattr__(self, attr, value):\n",
    "        if attr in self.private:\n",
    "            raise self.ConstError(\"Невозможно удалить атрибут %s\" % attr)"
   ]
  },
  {
   "cell_type": "markdown",
   "metadata": {},
   "source": [
    "Однако при таком подходе читать приватные переменные все равно будет можно."
   ]
  },
  {
   "cell_type": "markdown",
   "metadata": {},
   "source": [
    "Для полного контроля запрашиваемых атрибутов используется метод «__getattribute__» в new-style классах, которые будут рассмотрены позднее."
   ]
  },
  {
   "cell_type": "code",
   "execution_count": null,
   "metadata": {
    "collapsed": true
   },
   "outputs": [],
   "source": []
  },
  {
   "cell_type": "code",
   "execution_count": 119,
   "metadata": {
    "collapsed": false
   },
   "outputs": [
    {
     "data": {
      "text/plain": [
       "3695388"
      ]
     },
     "execution_count": 119,
     "metadata": {},
     "output_type": "execute_result"
    }
   ],
   "source": [
    "#В python все является объектом, однако не все типы хешируемы. Пользовательские типы изначально хешируемы и их можно использовать как ключи в словаре\n",
    "\n",
    "class a:\n",
    "    pass\n",
    "\n",
    "hash(a)"
   ]
  },
  {
   "cell_type": "markdown",
   "metadata": {},
   "source": [
    "## Конструктор и деструктор"
   ]
  },
  {
   "cell_type": "markdown",
   "metadata": {},
   "source": [
    "## Инкапсуляция и доступ к атрибутам"
   ]
  },
  {
   "cell_type": "markdown",
   "metadata": {},
   "source": [
    "## Наследование"
   ]
  },
  {
   "cell_type": "markdown",
   "metadata": {},
   "source": [
    "## \"Новые\" и \"старые\" классы"
   ]
  },
  {
   "cell_type": "code",
   "execution_count": 49,
   "metadata": {
    "collapsed": true
   },
   "outputs": [],
   "source": [
    "class OldStyleClass: pass          # класс \"старого\" типа\n",
    "class NewStyleClass(object): pass  # и \"нового\""
   ]
  },
  {
   "cell_type": "markdown",
   "metadata": {},
   "source": [
    "## Метаклассы, абстрактные классы"
   ]
  },
  {
   "cell_type": "markdown",
   "metadata": {},
   "source": [
    "## Более подробно про то, как работают итераторы"
   ]
  },
  {
   "cell_type": "markdown",
   "metadata": {
    "collapsed": true
   },
   "source": [
    "## Функторы"
   ]
  },
  {
   "cell_type": "markdown",
   "metadata": {},
   "source": [
    "Реализация в классе метода «__call__» позволит обращаться к экземплярам этого класса, как к функциям:"
   ]
  },
  {
   "cell_type": "code",
   "execution_count": 50,
   "metadata": {
    "collapsed": false
   },
   "outputs": [
    {
     "name": "stdout",
     "output_type": "stream",
     "text": [
      "10\n"
     ]
    }
   ],
   "source": [
    "class CallableClass():\n",
    "    def __call__(self, msg):\n",
    "        print msg\n",
    " \n",
    "callable = CallableClass()\n",
    "callable(10)\n"
   ]
  },
  {
   "cell_type": "markdown",
   "metadata": {},
   "source": [
    "## Специальные функции"
   ]
  },
  {
   "cell_type": "markdown",
   "metadata": {},
   "source": [
    "Для перегрузки операторов реализуются такие методы, как:\n",
    "- метод «__add__» — для сложения;\n",
    "- метод «__sub__» — для вычитания;\n",
    "- метод «__mul__» — для умножения;\n",
    "и т.д."
   ]
  },
  {
   "cell_type": "markdown",
   "metadata": {},
   "source": [
    "Подробнее: https://docs.python.org/2/reference/datamodel.html#emulating-numeric-types"
   ]
  },
  {
   "cell_type": "markdown",
   "metadata": {},
   "source": [
    "Для перегрузки оператора «[]» используются методы «__getitem__» и «__setitem__»:"
   ]
  },
  {
   "cell_type": "code",
   "execution_count": 51,
   "metadata": {
    "collapsed": true
   },
   "outputs": [],
   "source": [
    "class Array():\n",
    "    def __init__(self, len):\n",
    "        self.array = [None] * len\n",
    " \n",
    "    def __getitem__(self, index):\n",
    "        return self.array[index]\n",
    " \n",
    "    def __setitem__(self, index, value):\n",
    "        self.array[index] = value"
   ]
  },
  {
   "cell_type": "code",
   "execution_count": 52,
   "metadata": {
    "collapsed": false
   },
   "outputs": [
    {
     "data": {
      "text/plain": [
       "[None, None, None, None, None, 5, None, None, None, None]"
      ]
     },
     "execution_count": 52,
     "metadata": {},
     "output_type": "execute_result"
    }
   ],
   "source": [
    "a = Array(10)\n",
    "a[5] = 5\n",
    "a[:]"
   ]
  },
  {
   "cell_type": "code",
   "execution_count": 54,
   "metadata": {
    "collapsed": false
   },
   "outputs": [
    {
     "data": {
      "text/plain": [
       "[5]"
      ]
     },
     "execution_count": 54,
     "metadata": {},
     "output_type": "execute_result"
    }
   ],
   "source": [
    "iter(a)\n",
    "list(a)\n",
    "tuple(a)\n",
    "[str(i) for i in a]\n",
    "map(lambda a: a if a else 0, a)\n",
    "filter(None, a)"
   ]
  },
  {
   "cell_type": "code",
   "execution_count": 55,
   "metadata": {
    "collapsed": false
   },
   "outputs": [
    {
     "ename": "TypeError",
     "evalue": "unhashable type: __main__.A",
     "output_type": "error",
     "traceback": [
      "\u001b[0;31m---------------------------------------------------------------------------\u001b[0m",
      "\u001b[0;31mTypeError\u001b[0m                                 Traceback (most recent call last)",
      "\u001b[0;32m<ipython-input-55-e6b7bc2c8d3c>\u001b[0m in \u001b[0;36m<module>\u001b[0;34m()\u001b[0m\n\u001b[1;32m      3\u001b[0m         \u001b[0;32mraise\u001b[0m \u001b[0mTypeError\u001b[0m\u001b[0;34m(\u001b[0m\u001b[0;34m'unhashable type: %s'\u001b[0m \u001b[0;34m%\u001b[0m \u001b[0mthis\u001b[0m\u001b[0;34m.\u001b[0m\u001b[0m__class__\u001b[0m\u001b[0;34m)\u001b[0m\u001b[0;34m\u001b[0m\u001b[0m\n\u001b[1;32m      4\u001b[0m \u001b[0;34m\u001b[0m\u001b[0m\n\u001b[0;32m----> 5\u001b[0;31m \u001b[0mhash\u001b[0m\u001b[0;34m(\u001b[0m\u001b[0mA\u001b[0m\u001b[0;34m(\u001b[0m\u001b[0;34m)\u001b[0m\u001b[0;34m)\u001b[0m\u001b[0;34m\u001b[0m\u001b[0m\n\u001b[0m",
      "\u001b[0;32m<ipython-input-55-e6b7bc2c8d3c>\u001b[0m in \u001b[0;36m__hash__\u001b[0;34m(this)\u001b[0m\n\u001b[1;32m      1\u001b[0m \u001b[0;32mclass\u001b[0m \u001b[0mA\u001b[0m\u001b[0;34m(\u001b[0m\u001b[0;34m)\u001b[0m\u001b[0;34m:\u001b[0m\u001b[0;34m\u001b[0m\u001b[0m\n\u001b[1;32m      2\u001b[0m     \u001b[0;32mdef\u001b[0m \u001b[0m__hash__\u001b[0m\u001b[0;34m(\u001b[0m\u001b[0mthis\u001b[0m\u001b[0;34m)\u001b[0m\u001b[0;34m:\u001b[0m\u001b[0;34m\u001b[0m\u001b[0m\n\u001b[0;32m----> 3\u001b[0;31m         \u001b[0;32mraise\u001b[0m \u001b[0mTypeError\u001b[0m\u001b[0;34m(\u001b[0m\u001b[0;34m'unhashable type: %s'\u001b[0m \u001b[0;34m%\u001b[0m \u001b[0mthis\u001b[0m\u001b[0;34m.\u001b[0m\u001b[0m__class__\u001b[0m\u001b[0;34m)\u001b[0m\u001b[0;34m\u001b[0m\u001b[0m\n\u001b[0m\u001b[1;32m      4\u001b[0m \u001b[0;34m\u001b[0m\u001b[0m\n\u001b[1;32m      5\u001b[0m \u001b[0mhash\u001b[0m\u001b[0;34m(\u001b[0m\u001b[0mA\u001b[0m\u001b[0;34m(\u001b[0m\u001b[0;34m)\u001b[0m\u001b[0;34m)\u001b[0m\u001b[0;34m\u001b[0m\u001b[0m\n",
      "\u001b[0;31mTypeError\u001b[0m: unhashable type: __main__.A"
     ]
    }
   ],
   "source": [
    "class A():\n",
    "    def __hash__(this):\n",
    "        raise TypeError('unhashable type: %s' % this.__class__)\n",
    "\n",
    "hash(A())\n"
   ]
  },
  {
   "cell_type": "markdown",
   "metadata": {},
   "source": [
    "Однако не всё поведение классов в python можно контролировать. А именно, не поддаются контролю:\n",
    "\n",
    "- присваивание (оператор «=»);\n",
    "- проверка типов (операторы «isinstance», «issubclass»);\n",
    "- вызовы методов.\n",
    "\n",
    "\n",
    "Методы в python — это не функции. Вернемся к прошлому примеру:"
   ]
  },
  {
   "cell_type": "code",
   "execution_count": 56,
   "metadata": {
    "collapsed": true
   },
   "outputs": [],
   "source": [
    "class Class():\n",
    "    def method(self, value):\n",
    "        print value"
   ]
  },
  {
   "cell_type": "code",
   "execution_count": 57,
   "metadata": {
    "collapsed": false
   },
   "outputs": [
    {
     "data": {
      "text/plain": [
       "{'__doc__': None,\n",
       " '__module__': '__main__',\n",
       " 'method': <function __main__.method>}"
      ]
     },
     "execution_count": 57,
     "metadata": {},
     "output_type": "execute_result"
    }
   ],
   "source": [
    " Class.__dict__"
   ]
  },
  {
   "cell_type": "code",
   "execution_count": 138,
   "metadata": {
    "collapsed": false
   },
   "outputs": [
    {
     "data": {
      "text/plain": [
       "{}"
      ]
     },
     "execution_count": 138,
     "metadata": {},
     "output_type": "execute_result"
    }
   ],
   "source": [
    "cls = Class()\n",
    "cls.__dict__"
   ]
  },
  {
   "cell_type": "markdown",
   "metadata": {},
   "source": [
    "Функция привязывается к объекту (т.е. становится методом) тогда, когда для нее вызвана функция «__get__» (правильнее это назвать «method-wrapper»), а результат привязан к объекту:"
   ]
  },
  {
   "cell_type": "code",
   "execution_count": 139,
   "metadata": {
    "collapsed": false
   },
   "outputs": [
    {
     "data": {
      "text/plain": [
       "<bound method Class.method of <__main__.Class instance at 0x0000000003846A08>>"
      ]
     },
     "execution_count": 139,
     "metadata": {},
     "output_type": "execute_result"
    }
   ],
   "source": [
    "future_method = Class.__dict__[\"method\"]\n",
    "future_method\n",
    "\n",
    "unbound = future_method.__get__(None, Class)\n",
    "unbound\n",
    "\n",
    "bound = future_method.__get__(cls, Class)\n",
    "bound\n"
   ]
  },
  {
   "cell_type": "code",
   "execution_count": 140,
   "metadata": {
    "collapsed": false
   },
   "outputs": [
    {
     "ename": "TypeError",
     "evalue": "unbound method method() must be called with A instance as first argument (got NoneType instance instead)",
     "output_type": "error",
     "traceback": [
      "\u001b[1;31m---------------------------------------------------------------------------\u001b[0m",
      "\u001b[1;31mTypeError\u001b[0m                                 Traceback (most recent call last)",
      "\u001b[1;32m<ipython-input-140-9374b93f7502>\u001b[0m in \u001b[0;36m<module>\u001b[1;34m()\u001b[0m\n\u001b[0;32m      8\u001b[0m \u001b[1;33m\u001b[0m\u001b[0m\n\u001b[0;32m      9\u001b[0m \u001b[1;33m\u001b[0m\u001b[0m\n\u001b[1;32m---> 10\u001b[1;33m \u001b[0mA\u001b[0m\u001b[1;33m.\u001b[0m\u001b[0mmethod\u001b[0m\u001b[1;33m(\u001b[0m\u001b[0mNone\u001b[0m\u001b[1;33m,\u001b[0m \u001b[1;34m\"AAA\"\u001b[0m\u001b[1;33m)\u001b[0m\u001b[1;33m\u001b[0m\u001b[0m\n\u001b[0m\u001b[0;32m     11\u001b[0m \u001b[1;33m\u001b[0m\u001b[0m\n\u001b[0;32m     12\u001b[0m \u001b[0mA\u001b[0m\u001b[1;33m(\u001b[0m\u001b[1;33m)\u001b[0m\u001b[1;33m.\u001b[0m\u001b[0mmethod\u001b[0m\u001b[1;33m\u001b[0m\u001b[0m\n",
      "\u001b[1;31mTypeError\u001b[0m: unbound method method() must be called with A instance as first argument (got NoneType instance instead)"
     ]
    }
   ],
   "source": [
    "def method(self, a): print a\n",
    "\n",
    "class A: pass\n",
    "method\n",
    "\n",
    "A.method = method\n",
    "A.method\n",
    "\n",
    "\n",
    "A.method(None, \"AAA\")\n",
    "\n",
    "A().method\n",
    "\n",
    "class B(): pass\n",
    " \n",
    "b = B()\n",
    "B.method = method\n",
    "B.method\n",
    "\n",
    "b.method\n"
   ]
  },
  {
   "cell_type": "markdown",
   "metadata": {},
   "source": [
    "При добавлении такого же атрибута в объект, функция не станет методом и будет хранится в словаре «__dict__»:"
   ]
  },
  {
   "cell_type": "code",
   "execution_count": 143,
   "metadata": {
    "collapsed": false
   },
   "outputs": [
    {
     "ename": "NameError",
     "evalue": "name 'b' is not defined",
     "output_type": "error",
     "traceback": [
      "\u001b[1;31m---------------------------------------------------------------------------\u001b[0m",
      "\u001b[1;31mNameError\u001b[0m                                 Traceback (most recent call last)",
      "\u001b[1;32m<ipython-input-143-953953fc1844>\u001b[0m in \u001b[0;36m<module>\u001b[1;34m()\u001b[0m\n\u001b[0;32m      1\u001b[0m \u001b[1;32mdef\u001b[0m \u001b[0mfunction\u001b[0m\u001b[1;33m(\u001b[0m\u001b[0mself\u001b[0m\u001b[1;33m,\u001b[0m \u001b[0ma\u001b[0m\u001b[1;33m)\u001b[0m\u001b[1;33m:\u001b[0m \u001b[1;32mprint\u001b[0m \u001b[1;34m\"(%s)\"\u001b[0m \u001b[1;33m%\u001b[0m \u001b[0ma\u001b[0m\u001b[1;33m\u001b[0m\u001b[0m\n\u001b[0;32m      2\u001b[0m \u001b[1;33m\u001b[0m\u001b[0m\n\u001b[1;32m----> 3\u001b[1;33m \u001b[0mb\u001b[0m\u001b[1;33m.\u001b[0m\u001b[0mfunction\u001b[0m \u001b[1;33m=\u001b[0m \u001b[0mfunction\u001b[0m\u001b[1;33m\u001b[0m\u001b[0m\n\u001b[0m\u001b[0;32m      4\u001b[0m \u001b[0mb\u001b[0m\u001b[1;33m.\u001b[0m\u001b[0mfunction\u001b[0m\u001b[1;33m\u001b[0m\u001b[0m\n\u001b[0;32m      5\u001b[0m \u001b[1;33m\u001b[0m\u001b[0m\n",
      "\u001b[1;31mNameError\u001b[0m: name 'b' is not defined"
     ]
    }
   ],
   "source": [
    "def function(self, a): print \"(%s)\" % a\n",
    "\n",
    "b.function = function\n",
    "b.function\n",
    "\n",
    "b.function(\"AAA\")\n",
    "\n",
    "b.function(None, \"AAA\")\n",
    "\n",
    "b.__dict__\n"
   ]
  },
  {
   "cell_type": "markdown",
   "metadata": {},
   "source": [
    "Кроме этого, метод и функция — это разные объекты с разными атрибутами:"
   ]
  },
  {
   "cell_type": "code",
   "execution_count": 144,
   "metadata": {
    "collapsed": false
   },
   "outputs": [
    {
     "ename": "NameError",
     "evalue": "name 'b' is not defined",
     "output_type": "error",
     "traceback": [
      "\u001b[1;31m---------------------------------------------------------------------------\u001b[0m",
      "\u001b[1;31mNameError\u001b[0m                                 Traceback (most recent call last)",
      "\u001b[1;32m<ipython-input-144-54db30a16180>\u001b[0m in \u001b[0;36m<module>\u001b[1;34m()\u001b[0m\n\u001b[1;32m----> 1\u001b[1;33m \u001b[0mb\u001b[0m\u001b[1;33m.\u001b[0m\u001b[0mmethod\u001b[0m\u001b[1;33m.\u001b[0m\u001b[0m__class__\u001b[0m\u001b[1;33m\u001b[0m\u001b[0m\n\u001b[0m\u001b[0;32m      2\u001b[0m \u001b[0mb\u001b[0m\u001b[1;33m.\u001b[0m\u001b[0mfunction\u001b[0m\u001b[1;33m.\u001b[0m\u001b[0m__class__\u001b[0m\u001b[1;33m\u001b[0m\u001b[0m\n\u001b[0;32m      3\u001b[0m \u001b[1;33m\u001b[0m\u001b[0m\n\u001b[0;32m      4\u001b[0m \u001b[0mdir_method\u001b[0m \u001b[1;33m=\u001b[0m \u001b[0mdir\u001b[0m\u001b[1;33m(\u001b[0m\u001b[0mb\u001b[0m\u001b[1;33m.\u001b[0m\u001b[0mmethod\u001b[0m\u001b[1;33m)\u001b[0m\u001b[1;33m\u001b[0m\u001b[0m\n\u001b[0;32m      5\u001b[0m \u001b[0mdir_func\u001b[0m \u001b[1;33m=\u001b[0m \u001b[0mdir\u001b[0m\u001b[1;33m(\u001b[0m\u001b[0mb\u001b[0m\u001b[1;33m.\u001b[0m\u001b[0mfunction\u001b[0m\u001b[1;33m)\u001b[0m\u001b[1;33m\u001b[0m\u001b[0m\n",
      "\u001b[1;31mNameError\u001b[0m: name 'b' is not defined"
     ]
    }
   ],
   "source": [
    "b.method.__class__\n",
    "b.function.__class__\n",
    "\n",
    "dir_method = dir(b.method)\n",
    "dir_func = dir(b.function)\n",
    "common = set(dir_method) & set(dir_func)\n",
    "methods_atr = set(dir_method) - set(dir_func)\n",
    "funcs_atr = set(dir_func) - set(dir_method)\n",
    "common\n",
    "methods_atr\n",
    "funcs_atr"
   ]
  },
  {
   "cell_type": "markdown",
   "metadata": {},
   "source": [
    "У метода отсутствуют такие атрибуты, как «func_dict», «‘func_closure» и т.п (см мануал, раздел «Callable types, special attributes»).\n",
    "\n",
    "Атрибуты метода:"
   ]
  },
  {
   "cell_type": "code",
   "execution_count": 145,
   "metadata": {
    "collapsed": false
   },
   "outputs": [
    {
     "ename": "NameError",
     "evalue": "name 'b' is not defined",
     "output_type": "error",
     "traceback": [
      "\u001b[1;31m---------------------------------------------------------------------------\u001b[0m",
      "\u001b[1;31mNameError\u001b[0m                                 Traceback (most recent call last)",
      "\u001b[1;32m<ipython-input-145-610125d24d43>\u001b[0m in \u001b[0;36m<module>\u001b[1;34m()\u001b[0m\n\u001b[1;32m----> 1\u001b[1;33m \u001b[0mb\u001b[0m\u001b[1;33m.\u001b[0m\u001b[0mmethod\u001b[0m\u001b[1;33m.\u001b[0m\u001b[0mim_self\u001b[0m\u001b[1;33m\u001b[0m\u001b[0m\n\u001b[0m\u001b[0;32m      2\u001b[0m \u001b[0mb\u001b[0m\u001b[1;33m.\u001b[0m\u001b[0mmethod\u001b[0m\u001b[1;33m.\u001b[0m\u001b[0mim_class\u001b[0m\u001b[1;33m\u001b[0m\u001b[0m\n\u001b[0;32m      3\u001b[0m \u001b[0mb\u001b[0m\u001b[1;33m.\u001b[0m\u001b[0mmethod\u001b[0m\u001b[1;33m.\u001b[0m\u001b[0mim_func\u001b[0m\u001b[1;33m\u001b[0m\u001b[0m\n\u001b[0;32m      4\u001b[0m \u001b[0mf\u001b[0m \u001b[1;33m=\u001b[0m \u001b[0m_\u001b[0m\u001b[1;33m\u001b[0m\u001b[0m\n\u001b[0;32m      5\u001b[0m \u001b[0mf\u001b[0m\u001b[1;33m(\u001b[0m\u001b[0mNone\u001b[0m\u001b[1;33m,\u001b[0m \u001b[1;34m\"AAA\"\u001b[0m\u001b[1;33m)\u001b[0m\u001b[1;33m\u001b[0m\u001b[0m\n",
      "\u001b[1;31mNameError\u001b[0m: name 'b' is not defined"
     ]
    }
   ],
   "source": [
    "b.method.im_self\n",
    "b.method.im_class\n",
    "b.method.im_func\n",
    "f = _\n",
    "f(None, \"AAA\")\n"
   ]
  },
  {
   "cell_type": "markdown",
   "metadata": {},
   "source": [
    "Из примера видно, что в поле «im_func» хранится ссылка на функцию, из которой метод был получен."
   ]
  },
  {
   "cell_type": "markdown",
   "metadata": {},
   "source": [
    "# Исключения"
   ]
  },
  {
   "cell_type": "markdown",
   "metadata": {},
   "source": [
    "# Конструкция with"
   ]
  },
  {
   "cell_type": "markdown",
   "metadata": {},
   "source": [
    "# Рубрика \"Не отходя от кассы\""
   ]
  },
  {
   "cell_type": "markdown",
   "metadata": {},
   "source": [
    "# Система пакетов и модулей"
   ]
  },
  {
   "cell_type": "markdown",
   "metadata": {},
   "source": [
    "# Примеры использования стандартной библиотеки"
   ]
  },
  {
   "cell_type": "markdown",
   "metadata": {},
   "source": [
    "## Парсинг аргументов"
   ]
  },
  {
   "cell_type": "markdown",
   "metadata": {},
   "source": [
    "## Модуль logging"
   ]
  },
  {
   "cell_type": "markdown",
   "metadata": {},
   "source": [
    "## Юнит-тесты"
   ]
  },
  {
   "cell_type": "markdown",
   "metadata": {},
   "source": [
    "## Работа с файлами"
   ]
  },
  {
   "cell_type": "markdown",
   "metadata": {},
   "source": [
    "## Сериализация/десериализация"
   ]
  },
  {
   "cell_type": "code",
   "execution_count": 151,
   "metadata": {
    "collapsed": false
   },
   "outputs": [
    {
     "data": {
      "text/plain": [
       "'rwwle'"
      ]
     },
     "execution_count": 151,
     "metadata": {},
     "output_type": "execute_result"
    }
   ],
   "source": [
    "'Hellow word!'[-3::-2]"
   ]
  },
  {
   "cell_type": "code",
   "execution_count": null,
   "metadata": {
    "collapsed": true
   },
   "outputs": [],
   "source": []
  }
 ],
 "metadata": {
  "kernelspec": {
   "display_name": "Python 2",
   "language": "python",
   "name": "python2"
  },
  "language_info": {
   "codemirror_mode": {
    "name": "ipython",
    "version": 2
   },
   "file_extension": ".py",
   "mimetype": "text/x-python",
   "name": "python",
   "nbconvert_exporter": "python",
   "pygments_lexer": "ipython2",
   "version": "2.7.11"
  }
 },
 "nbformat": 4,
 "nbformat_minor": 0
}

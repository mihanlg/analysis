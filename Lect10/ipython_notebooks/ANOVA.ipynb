{
 "cells": [
  {
   "cell_type": "code",
   "execution_count": 1,
   "metadata": {
    "collapsed": true
   },
   "outputs": [],
   "source": [
    "%matplotlib inline"
   ]
  },
  {
   "cell_type": "markdown",
   "metadata": {},
   "source": [
    "## ANOVA"
   ]
  },
  {
   "cell_type": "markdown",
   "metadata": {},
   "source": [
    "ANOVA, или дисперсионный анализ - методы, которые применяются для установления влияния категориальных переменных (или группировочных признаков) на непрерывную эндогенную переменную."
   ]
  },
  {
   "cell_type": "markdown",
   "metadata": {},
   "source": [
    "### One-way ANOVA"
   ]
  },
  {
   "cell_type": "markdown",
   "metadata": {},
   "source": [
    "Используется в случае, если у нас есть одна зависимая переменная и мы хотим изучить влияние категориальных предикторов (или факторов) на ее величину."
   ]
  },
  {
   "cell_type": "markdown",
   "metadata": {},
   "source": [
    "Предположения, лежащие в основе теста:\n",
    "- Нормальное распределение остатков эндогенной переменной;\n",
    "- Равенство дисперсий в исследуемых совокупностях;\n",
    "- Наблюдения на эндогенной переменной в группе - iid."
   ]
  },
  {
   "cell_type": "markdown",
   "metadata": {},
   "source": [
    "Нулевая гипотеза:\n",
    "$$H_0: \\mu_1 = \\mu_2 = \\mu_3. $$\n"
   ]
  },
  {
   "cell_type": "markdown",
   "metadata": {},
   "source": [
    "Тест, по сути, сводится к сравнению доли дисперсии, объясненной группировкой, к общей изменчивости признака:\n",
    "$$ F = \\frac{Var_{between}}{Var_{within}}.$$"
   ]
  },
  {
   "cell_type": "markdown",
   "metadata": {},
   "source": [
    "Традциионная форма представления - таблица ANOVA, из которой понятна суть расчета:"
   ]
  },
  {
   "cell_type": "markdown",
   "metadata": {},
   "source": [
    "|Источник      |SS                                      |df   |MS                 |F                  |p|\n",
    "|--------------|----------------------------------------|-----|-------------------|-------------------|-|\n",
    "|Между группами|$\\sum_{k}n_k(\\bar{X}_k-\\bar{X}_{.})^2$  |$k-1$|$\\frac{SS_b}{df_b}$|$\\frac{MS_b}{MS_w}$|$F_{cr}$|\n",
    "|Внутри групп  |$\\sum_{k}\\sum_{i}(x_{ik}-\\bar{X}_k)^2$  |$n-k$|$\\frac{SS_w}{df_w}$|                   | |\n",
    "|Общая         |$\\sum_{k}\\sum_{i}(x_{ik}-\\bar{X}_{.})^2$|$n-1$|                   |                   | |"
   ]
  },
  {
   "cell_type": "markdown",
   "metadata": {},
   "source": [
    "где:\n",
    "- $k$ - число групп;\n",
    "- $n$ - объем выборки;\n",
    "- $\\bar{X}_k$ - среднее внутри группы;\n",
    "- $\\bar{X}_.$ - среднее без группировки."
   ]
  },
  {
   "cell_type": "markdown",
   "metadata": {},
   "source": [
    "Наблюдаемое значение сравнивается с значениями $F-распределения$ с $df_1$ и $df_2$."
   ]
  },
  {
   "cell_type": "code",
   "execution_count": 6,
   "metadata": {
    "collapsed": true
   },
   "outputs": [],
   "source": [
    "import pandas as pd\n",
    "from scipy import stats\n",
    "data = pd.read_csv('data/PlantGrowth.csv')"
   ]
  },
  {
   "cell_type": "code",
   "execution_count": 4,
   "metadata": {
    "collapsed": false
   },
   "outputs": [
    {
     "data": {
      "text/plain": [
       "<matplotlib.axes._subplots.AxesSubplot at 0x10aeadc90>"
      ]
     },
     "execution_count": 4,
     "metadata": {},
     "output_type": "execute_result"
    },
    {
     "data": {
      "image/png": "[encoded data removed]",
      "text/plain": [
       "<matplotlib.figure.Figure at 0x10aeade10>"
      ]
     },
     "metadata": {},
     "output_type": "display_data"
    }
   ],
   "source": [
    "data.boxplot('weight', by='group', figsize=(12, 8))"
   ]
  },
  {
   "cell_type": "code",
   "execution_count": 5,
   "metadata": {
    "collapsed": true
   },
   "outputs": [],
   "source": [
    "ctrl = data['weight'][data.group == 'ctrl']\n",
    "grps = pd.unique(data.group.values)\n",
    "d_data = {grp:data['weight'][data.group == grp] \\\n",
    "    for grp in pd.unique(data.group.values)}"
   ]
  },
  {
   "cell_type": "code",
   "execution_count": 7,
   "metadata": {
    "collapsed": true
   },
   "outputs": [],
   "source": [
    "F, p = stats.f_oneway(d_data['ctrl'], d_data['trt1'], d_data['trt2'])"
   ]
  },
  {
   "cell_type": "code",
   "execution_count": 8,
   "metadata": {
    "collapsed": false
   },
   "outputs": [
    {
     "data": {
      "text/plain": [
       "4.8460878623800658"
      ]
     },
     "execution_count": 8,
     "metadata": {},
     "output_type": "execute_result"
    }
   ],
   "source": [
    "F"
   ]
  },
  {
   "cell_type": "code",
   "execution_count": 9,
   "metadata": {
    "collapsed": false
   },
   "outputs": [
    {
     "data": {
      "text/plain": [
       "0.015909958325623707"
      ]
     },
     "execution_count": 9,
     "metadata": {},
     "output_type": "execute_result"
    }
   ],
   "source": [
    "p"
   ]
  },
  {
   "cell_type": "code",
   "execution_count": 11,
   "metadata": {
    "collapsed": false
   },
   "outputs": [
    {
     "name": "stdout",
     "output_type": "stream",
     "text": [
      "            sum_sq  df         F   PR(>F)\n",
      "group      3.76634   2  4.846088  0.01591\n",
      "Residual  10.49209  27       NaN      NaN\n"
     ]
    }
   ],
   "source": [
    "import statsmodels.api as sm\n",
    "from statsmodels.formula.api import ols\n",
    "\n",
    "mod = ols('weight ~ group',\n",
    "                data=data).fit()\n",
    "                \n",
    "aov_table = sm.stats.anova_lm(mod, typ=2)\n",
    "print aov_table"
   ]
  },
  {
   "cell_type": "markdown",
   "metadata": {},
   "source": [
    "После проведения ANOVA часто используется тест Турки (Turkey's range test)."
   ]
  },
  {
   "cell_type": "code",
   "execution_count": 12,
   "metadata": {
    "collapsed": true
   },
   "outputs": [],
   "source": [
    "from statsmodels.stats.multicomp import pairwise_tukeyhsd\n",
    "from statsmodels.stats.multicomp import MultiComparison"
   ]
  },
  {
   "cell_type": "markdown",
   "metadata": {},
   "source": [
    "Тест Турки - один из способов уже знакомой нам множественной проверки гипотез, при которой значимость между каждой парой средних проверяется на значимость:\n",
    "$$ \\mu_i - \\mu_j = 0.$$"
   ]
  },
  {
   "cell_type": "markdown",
   "metadata": {},
   "source": [
    "Говоря неформально, это t-тест для средних, использующий не уровень значимости, а FWER (то есть корректировку на то, что у нас гипотеза не одна, а множество)."
   ]
  },
  {
   "cell_type": "markdown",
   "metadata": {},
   "source": [
    "http://webspace.ship.edu/pgmarr/Geo441/Readings/Tukey%201949%20-%20Comparing%20Individual%20Means%20in%20the%20Analysis%20of%20Variance.pdf"
   ]
  },
  {
   "cell_type": "code",
   "execution_count": 14,
   "metadata": {
    "collapsed": false
   },
   "outputs": [
    {
     "name": "stdout",
     "output_type": "stream",
     "text": [
      "Multiple Comparison of Means - Tukey HSD,FWER=0.05\n",
      "============================================\n",
      "group1 group2 meandiff  lower  upper  reject\n",
      "--------------------------------------------\n",
      " ctrl   trt1   -0.371  -1.0621 0.3201 False \n",
      " ctrl   trt2   0.494   -0.1971 1.1851 False \n",
      " trt1   trt2   0.865    0.1739 1.5561  True \n",
      "--------------------------------------------\n",
      "['ctrl' 'trt1' 'trt2']\n"
     ]
    }
   ],
   "source": [
    "mc = MultiComparison(data['weight'], data['group'])\n",
    "result = mc.tukeyhsd()\n",
    "print(result)\n",
    "print(mc.groupsunique)"
   ]
  },
  {
   "cell_type": "markdown",
   "metadata": {
    "collapsed": true
   },
   "source": [
    "Варианты теста:\n",
    "* ANOVA для повторяющихся наблюдений;\n",
    "* Two-way ANOVA."
   ]
  },
  {
   "cell_type": "code",
   "execution_count": null,
   "metadata": {
    "collapsed": true
   },
   "outputs": [],
   "source": []
  }
 ],
 "metadata": {
  "kernelspec": {
   "display_name": "Python 2",
   "language": "python",
   "name": "python2"
  },
  "language_info": {
   "codemirror_mode": {
    "name": "ipython",
    "version": 2
   },
   "file_extension": ".py",
   "mimetype": "text/x-python",
   "name": "python",
   "nbconvert_exporter": "python",
   "pygments_lexer": "ipython2",
   "version": "2.7.10"
  }
 },
 "nbformat": 4,
 "nbformat_minor": 0
}

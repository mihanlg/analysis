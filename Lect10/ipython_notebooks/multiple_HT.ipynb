{
 "cells": [
  {
   "cell_type": "code",
   "execution_count": 1,
   "metadata": {
    "collapsed": true
   },
   "outputs": [],
   "source": [
    "from __future__ import division\n",
    "\n",
    "import pandas as pd\n",
    "import numpy as np\n",
    "import scipy as sp\n",
    "\n",
    "import scipy.stats\n",
    "\n",
    "import toyplot as tp"
   ]
  },
  {
   "cell_type": "markdown",
   "metadata": {},
   "source": [
    "### Множественная проверка гипотез"
   ]
  },
  {
   "cell_type": "markdown",
   "metadata": {},
   "source": [
    "Задача ставится следующим образом: у нас есть набор наблюдений $1,...,n$, для каждого из которых мы сформулировали нулевую гипотезу. Далее, возможны 2 варианта:\n",
    "- мы хотим одновременно проверить все гипотезы (Global hypothesis testing);\n",
    "- мы хотим проверить каждую из $n$ гипотез в отдельности (Multiple testing)."
   ]
  },
  {
   "cell_type": "markdown",
   "metadata": {},
   "source": [
    "### Одновременная проверка гипотез (Global hypothesis testing)"
   ]
  },
  {
   "cell_type": "markdown",
   "metadata": {},
   "source": [
    "Для одновременной проверки гипотез обычно пользуются 2 методами:\n",
    "- тест Фишера(Fisher's combination test);\n",
    "- метод Бонферрони."
   ]
  },
  {
   "cell_type": "markdown",
   "metadata": {},
   "source": [
    "** Тест Фишера **"
   ]
  },
  {
   "cell_type": "markdown",
   "metadata": {},
   "source": [
    "В основе лежит следующая идея: мы имеем на руках набор из $n$ p-values. Если сделать предположение о том, что они равномерно распределены на отрезке $[0, 1]$, то $-log(p_i) \\sim Exp(1)$."
   ]
  },
  {
   "cell_type": "markdown",
   "metadata": {},
   "source": [
    "Тестовая статитистика имеет вид: \n",
    "$$ T = -2 \\sum_{i=1}^{n} log \\, p_{i}.$$"
   ]
  },
  {
   "cell_type": "markdown",
   "metadata": {},
   "source": [
    "Распределение статистики - $\\chi^2_{2n}$."
   ]
  },
  {
   "cell_type": "markdown",
   "metadata": {},
   "source": [
    "** Метод Бонферрони**"
   ]
  },
  {
   "cell_type": "markdown",
   "metadata": {},
   "source": [
    "Метод достаточно прост: мы рассчитываем p-value для каждой гипотезы в отдельности и отвергаем \"глобальную\" нулевую гипотезу только в том случае, если минимальное p-value меньше чем $\\alpha/n.$"
   ]
  },
  {
   "cell_type": "markdown",
   "metadata": {},
   "source": [
    "** Какой метод выбрать? **"
   ]
  },
  {
   "cell_type": "markdown",
   "metadata": {},
   "source": [
    "Метод Бонферрони учитывает только минимальное значение, из всех наблюдаемых p-values, поэтому он хорош тогда, когда мы проверяем против нескольких \"существенных\" эффектов, а вот тест Фишера в данном случае покажет себя не слишком хорошо.\n",
    "\n",
    "\n",
    "Напротив, когда мы рассматриваем гипотезу, в которой проверяется систематический, но небольшой эффект - хорошо себя покажет тест Фишера, и плохо - метод Бонферрони."
   ]
  },
  {
   "cell_type": "markdown",
   "metadata": {},
   "source": [
    "### Последовательная проверка гипотез (Multiple hypothesis testing)"
   ]
  },
  {
   "cell_type": "markdown",
   "metadata": {},
   "source": [
    "<img src=\"xkcd-significant.png\">"
   ]
  },
  {
   "cell_type": "markdown",
   "metadata": {},
   "source": [
    "Отклонение нулевой гипотезы - это хорошо, однако нам также хотелось бы знать ,какие именно нулевые гипотезы не прошли проверку. Тут и используется последовательная проверка гипотез."
   ]
  },
  {
   "cell_type": "markdown",
   "metadata": {},
   "source": [
    "** Метод Бонферрони **\n",
    "\n",
    "Уже нам знаком, однако вместо сравнения минимального p-value, мы тестируем последовательно все с уровнем значимости $\\alpha/n$. Распостраненное название данного метода - Familywise error rate test."
   ]
  },
  {
   "cell_type": "markdown",
   "metadata": {},
   "source": [
    "** Метод Бенжамина-Хокберга (Benjamin and Hochberg) **"
   ]
  },
  {
   "cell_type": "markdown",
   "metadata": {},
   "source": [
    "Для понимания сути метода нам придется ввести такое понятие как FDP (false discovery proportion):\n",
    "$$ FDP = \\frac{V}{R},$$\n",
    "где $V$ - число ложных отклонений, $R$ - общее число отклонений.\n",
    "Метод позволяет контроллировать ожидание $FDP$, так чтобы оно было ниже некоторой априорной величины False Discovery Rate:\n",
    "$$ \\frac{E[V]}{max(R,1)} <q. $$"
   ]
  },
  {
   "cell_type": "markdown",
   "metadata": {},
   "source": [
    "Процедуру можно описать следующим образом:\n",
    "- отсортировать все p-values по возрастанию;\n",
    "- найти  $p_i : p_i \\leq q\\frac{i}{n};$\n",
    "- отклонить все гипотезы до $p_i.$"
   ]
  },
  {
   "cell_type": "markdown",
   "metadata": {},
   "source": [
    "### Пример"
   ]
  },
  {
   "cell_type": "markdown",
   "metadata": {},
   "source": [
    "В нашем наборе данных у нас есть только фамилия игрока. Чтобы исключить группировку для однофамильцев, мы в качестве уникального ключа будем считать пару \"фамилия - имя команды\"."
   ]
  },
  {
   "cell_type": "code",
   "execution_count": 3,
   "metadata": {
    "collapsed": false
   },
   "outputs": [
    {
     "data": {
      "text/html": [
       "<div>\n",
       "<table border=\"1\" class=\"dataframe\">\n",
       "  <thead>\n",
       "    <tr style=\"text-align: right;\">\n",
       "      <th></th>\n",
       "      <th>away</th>\n",
       "      <th>home</th>\n",
       "      <th>team</th>\n",
       "      <th>player</th>\n",
       "      <th>score</th>\n",
       "      <th>at_home</th>\n",
       "    </tr>\n",
       "  </thead>\n",
       "  <tbody>\n",
       "    <tr>\n",
       "      <th>0</th>\n",
       "      <td>HOU</td>\n",
       "      <td>LAL</td>\n",
       "      <td>LAL</td>\n",
       "      <td>Bryant</td>\n",
       "      <td>0</td>\n",
       "      <td>True</td>\n",
       "    </tr>\n",
       "    <tr>\n",
       "      <th>1</th>\n",
       "      <td>HOU</td>\n",
       "      <td>LAL</td>\n",
       "      <td>LAL</td>\n",
       "      <td>Bryant</td>\n",
       "      <td>1</td>\n",
       "      <td>True</td>\n",
       "    </tr>\n",
       "    <tr>\n",
       "      <th>2</th>\n",
       "      <td>HOU</td>\n",
       "      <td>LAL</td>\n",
       "      <td>LAL</td>\n",
       "      <td>Fisher</td>\n",
       "      <td>1</td>\n",
       "      <td>True</td>\n",
       "    </tr>\n",
       "    <tr>\n",
       "      <th>3</th>\n",
       "      <td>HOU</td>\n",
       "      <td>LAL</td>\n",
       "      <td>LAL</td>\n",
       "      <td>Fisher</td>\n",
       "      <td>1</td>\n",
       "      <td>True</td>\n",
       "    </tr>\n",
       "    <tr>\n",
       "      <th>4</th>\n",
       "      <td>HOU</td>\n",
       "      <td>LAL</td>\n",
       "      <td>LAL</td>\n",
       "      <td>Bryant</td>\n",
       "      <td>1</td>\n",
       "      <td>True</td>\n",
       "    </tr>\n",
       "  </tbody>\n",
       "</table>\n",
       "</div>"
      ],
      "text/plain": [
       "  away home team  player  score at_home\n",
       "0  HOU  LAL  LAL  Bryant      0    True\n",
       "1  HOU  LAL  LAL  Bryant      1    True\n",
       "2  HOU  LAL  LAL  Fisher      1    True\n",
       "3  HOU  LAL  LAL  Fisher      1    True\n",
       "4  HOU  LAL  LAL  Bryant      1    True"
      ]
     },
     "execution_count": 3,
     "metadata": {},
     "output_type": "execute_result"
    }
   ],
   "source": [
    "df = pd.read_csv('data/free_throws.csv', names=[\"away\", \"home\", \"team\", \"player\", \"score\"])\n",
    "df[\"at_home\"] = df[\"home\"] == df[\"team\"]\n",
    "df.head()"
   ]
  },
  {
   "cell_type": "markdown",
   "metadata": {},
   "source": [
    "Сгруппируем данные по факту игры \"дома\"."
   ]
  },
  {
   "cell_type": "code",
   "execution_count": 4,
   "metadata": {
    "collapsed": false
   },
   "outputs": [
    {
     "data": {
      "text/html": [
       "<div>\n",
       "<table border=\"1\" class=\"dataframe\">\n",
       "  <thead>\n",
       "    <tr style=\"text-align: right;\">\n",
       "      <th></th>\n",
       "      <th>score</th>\n",
       "    </tr>\n",
       "    <tr>\n",
       "      <th>at_home</th>\n",
       "      <th></th>\n",
       "    </tr>\n",
       "  </thead>\n",
       "  <tbody>\n",
       "    <tr>\n",
       "      <th>False</th>\n",
       "      <td>0.759678</td>\n",
       "    </tr>\n",
       "    <tr>\n",
       "      <th>True</th>\n",
       "      <td>0.761635</td>\n",
       "    </tr>\n",
       "  </tbody>\n",
       "</table>\n",
       "</div>"
      ],
      "text/plain": [
       "            score\n",
       "at_home          \n",
       "False    0.759678\n",
       "True     0.761635"
      ]
     },
     "execution_count": 4,
     "metadata": {},
     "output_type": "execute_result"
    }
   ],
   "source": [
    "df.groupby(\"at_home\").mean()"
   ]
  },
  {
   "cell_type": "markdown",
   "metadata": {},
   "source": [
    "Пользуясь средствами pandas, можно легко получить статистику по каждому из игроков:"
   ]
  },
  {
   "cell_type": "code",
   "execution_count": 5,
   "metadata": {
    "collapsed": false
   },
   "outputs": [
    {
     "data": {
      "text/html": [
       "<div>\n",
       "<table border=\"1\" class=\"dataframe\">\n",
       "  <thead>\n",
       "    <tr style=\"text-align: right;\">\n",
       "      <th></th>\n",
       "      <th>player</th>\n",
       "      <th>team</th>\n",
       "      <th>atm_away</th>\n",
       "      <th>atm_home</th>\n",
       "      <th>score_away</th>\n",
       "      <th>score_home</th>\n",
       "      <th>atm_total</th>\n",
       "      <th>score_total</th>\n",
       "    </tr>\n",
       "  </thead>\n",
       "  <tbody>\n",
       "    <tr>\n",
       "      <th>512</th>\n",
       "      <td>Graham</td>\n",
       "      <td>CLE</td>\n",
       "      <td>31</td>\n",
       "      <td>5</td>\n",
       "      <td>24</td>\n",
       "      <td>5</td>\n",
       "      <td>36</td>\n",
       "      <td>29</td>\n",
       "    </tr>\n",
       "    <tr>\n",
       "      <th>548</th>\n",
       "      <td>Harangody</td>\n",
       "      <td>CLE</td>\n",
       "      <td>16</td>\n",
       "      <td>14</td>\n",
       "      <td>13</td>\n",
       "      <td>10</td>\n",
       "      <td>30</td>\n",
       "      <td>23</td>\n",
       "    </tr>\n",
       "    <tr>\n",
       "      <th>11</th>\n",
       "      <td>Afflalo</td>\n",
       "      <td>DET</td>\n",
       "      <td>72</td>\n",
       "      <td>86</td>\n",
       "      <td>61</td>\n",
       "      <td>65</td>\n",
       "      <td>158</td>\n",
       "      <td>126</td>\n",
       "    </tr>\n",
       "    <tr>\n",
       "      <th>1342</th>\n",
       "      <td>Walker</td>\n",
       "      <td>NYK</td>\n",
       "      <td>68</td>\n",
       "      <td>43</td>\n",
       "      <td>49</td>\n",
       "      <td>36</td>\n",
       "      <td>111</td>\n",
       "      <td>85</td>\n",
       "    </tr>\n",
       "    <tr>\n",
       "      <th>549</th>\n",
       "      <td>Hardaway</td>\n",
       "      <td>MIA</td>\n",
       "      <td>0</td>\n",
       "      <td>9</td>\n",
       "      <td>0</td>\n",
       "      <td>8</td>\n",
       "      <td>9</td>\n",
       "      <td>8</td>\n",
       "    </tr>\n",
       "    <tr>\n",
       "      <th>1295</th>\n",
       "      <td>Tolliver</td>\n",
       "      <td>GSW</td>\n",
       "      <td>63</td>\n",
       "      <td>71</td>\n",
       "      <td>45</td>\n",
       "      <td>58</td>\n",
       "      <td>134</td>\n",
       "      <td>103</td>\n",
       "    </tr>\n",
       "    <tr>\n",
       "      <th>654</th>\n",
       "      <td>Iverson</td>\n",
       "      <td>DEN</td>\n",
       "      <td>412</td>\n",
       "      <td>410</td>\n",
       "      <td>324</td>\n",
       "      <td>339</td>\n",
       "      <td>822</td>\n",
       "      <td>663</td>\n",
       "    </tr>\n",
       "    <tr>\n",
       "      <th>1411</th>\n",
       "      <td>Williams</td>\n",
       "      <td>MIA</td>\n",
       "      <td>46</td>\n",
       "      <td>34</td>\n",
       "      <td>38</td>\n",
       "      <td>31</td>\n",
       "      <td>80</td>\n",
       "      <td>69</td>\n",
       "    </tr>\n",
       "    <tr>\n",
       "      <th>124</th>\n",
       "      <td>Bayless</td>\n",
       "      <td>NOH</td>\n",
       "      <td>3</td>\n",
       "      <td>14</td>\n",
       "      <td>1</td>\n",
       "      <td>12</td>\n",
       "      <td>17</td>\n",
       "      <td>13</td>\n",
       "    </tr>\n",
       "    <tr>\n",
       "      <th>391</th>\n",
       "      <td>Dupree</td>\n",
       "      <td>SEA</td>\n",
       "      <td>0</td>\n",
       "      <td>2</td>\n",
       "      <td>0</td>\n",
       "      <td>2</td>\n",
       "      <td>2</td>\n",
       "      <td>2</td>\n",
       "    </tr>\n",
       "  </tbody>\n",
       "</table>\n",
       "</div>"
      ],
      "text/plain": [
       "         player team  atm_away  atm_home  score_away  score_home  atm_total  \\\n",
       "512      Graham  CLE        31         5          24           5         36   \n",
       "548   Harangody  CLE        16        14          13          10         30   \n",
       "11      Afflalo  DET        72        86          61          65        158   \n",
       "1342     Walker  NYK        68        43          49          36        111   \n",
       "549    Hardaway  MIA         0         9           0           8          9   \n",
       "1295   Tolliver  GSW        63        71          45          58        134   \n",
       "654     Iverson  DEN       412       410         324         339        822   \n",
       "1411   Williams  MIA        46        34          38          31         80   \n",
       "124     Bayless  NOH         3        14           1          12         17   \n",
       "391      Dupree  SEA         0         2           0           2          2   \n",
       "\n",
       "      score_total  \n",
       "512            29  \n",
       "548            23  \n",
       "11            126  \n",
       "1342           85  \n",
       "549             8  \n",
       "1295          103  \n",
       "654           663  \n",
       "1411           69  \n",
       "124            13  \n",
       "391             2  "
      ]
     },
     "execution_count": 5,
     "metadata": {},
     "output_type": "execute_result"
    }
   ],
   "source": [
    "sdf = pd.pivot_table(df, index=[\"player\", \"team\"], columns=\"at_home\", values=[\"score\"], \n",
    "               aggfunc=[len, sum], fill_value=0).reset_index()\n",
    "sdf.columns = ['player', 'team', 'atm_away', 'atm_home', 'score_away', 'score_home']\n",
    "\n",
    "sdf['atm_total'] = sdf['atm_away'] + sdf['atm_home']\n",
    "sdf['score_total'] = sdf['score_away'] + sdf['score_home']\n",
    "\n",
    "sdf.sample(10)"
   ]
  },
  {
   "cell_type": "markdown",
   "metadata": {},
   "source": [
    "Теперь можем применить уже знакомый нам тест о значении доли для каждого из $n$ игроков - $p_i$."
   ]
  },
  {
   "cell_type": "markdown",
   "metadata": {},
   "source": [
    "Нулевая гипотеза примет вид: не важно, играет ли команда дома или гостях, ожидаемое число попаданий для каждого игрока постоянно. Вид нулевой гипотезы для каждого из игроков нам известен:"
   ]
  },
  {
   "cell_type": "markdown",
   "metadata": {},
   "source": [
    "$$ H_{0,i}: p_{i,h} = p_{i,a}, $$\n",
    "$$ H_{1,i}: p_{i,h} \\neq p_{i,a}. $$"
   ]
  },
  {
   "cell_type": "markdown",
   "metadata": {},
   "source": [
    "Тестовая статистика имеет вид:"
   ]
  },
  {
   "cell_type": "markdown",
   "metadata": {},
   "source": [
    "$$Z = \\frac{\\hat{p}_h-\\hat{p}_a}{\\sqrt{\\hat{p}(1-\\hat{p})(\\frac{1}{n_h}+\\frac{1}{n_a})}}.$$"
   ]
  },
  {
   "cell_type": "markdown",
   "metadata": {},
   "source": [
    "Далее, оставим игроков, для которых есть хотя бы 30 наблюдений:"
   ]
  },
  {
   "cell_type": "code",
   "execution_count": 8,
   "metadata": {
    "collapsed": false
   },
   "outputs": [
    {
     "data": {
      "text/plain": [
       "957"
      ]
     },
     "execution_count": 8,
     "metadata": {},
     "output_type": "execute_result"
    }
   ],
   "source": [
    "data = sdf.query('atm_total > 30').copy()\n",
    "len(data)"
   ]
  },
  {
   "cell_type": "code",
   "execution_count": 9,
   "metadata": {
    "collapsed": true
   },
   "outputs": [],
   "source": [
    "data['p_home'] = data['score_home'] / data['atm_home']\n",
    "data['p_away'] = data['score_away'] / data['atm_away']\n",
    "data['p_ovr'] = (data['score_total']) / (data['atm_total'])\n",
    "\n",
    "# two-sided\n",
    "data['zval'] = (data['p_home'] - data['p_away']) / np.sqrt(data['p_ovr'] * (1-data['p_ovr']) * (1/data['atm_away'] + 1/data['atm_home']))\n",
    "data['pval'] = 2*(1-sp.stats.norm.cdf(np.abs(data['zval'])))"
   ]
  },
  {
   "cell_type": "code",
   "execution_count": 10,
   "metadata": {
    "collapsed": false
   },
   "outputs": [
    {
     "data": {
      "text/html": [
       "<div>\n",
       "<table border=\"1\" class=\"dataframe\">\n",
       "  <thead>\n",
       "    <tr style=\"text-align: right;\">\n",
       "      <th></th>\n",
       "      <th>player</th>\n",
       "      <th>team</th>\n",
       "      <th>atm_away</th>\n",
       "      <th>atm_home</th>\n",
       "      <th>score_away</th>\n",
       "      <th>score_home</th>\n",
       "      <th>atm_total</th>\n",
       "      <th>score_total</th>\n",
       "      <th>p_home</th>\n",
       "      <th>p_away</th>\n",
       "      <th>p_ovr</th>\n",
       "      <th>zval</th>\n",
       "      <th>pval</th>\n",
       "    </tr>\n",
       "  </thead>\n",
       "  <tbody>\n",
       "    <tr>\n",
       "      <th>1347</th>\n",
       "      <td>Wallace</td>\n",
       "      <td>CLE</td>\n",
       "      <td>43</td>\n",
       "      <td>65</td>\n",
       "      <td>21</td>\n",
       "      <td>25</td>\n",
       "      <td>108</td>\n",
       "      <td>46</td>\n",
       "      <td>0.384615</td>\n",
       "      <td>0.488372</td>\n",
       "      <td>0.425926</td>\n",
       "      <td>-1.067442</td>\n",
       "      <td>0.285772</td>\n",
       "    </tr>\n",
       "    <tr>\n",
       "      <th>503</th>\n",
       "      <td>Gooden</td>\n",
       "      <td>SAS</td>\n",
       "      <td>39</td>\n",
       "      <td>18</td>\n",
       "      <td>30</td>\n",
       "      <td>15</td>\n",
       "      <td>57</td>\n",
       "      <td>45</td>\n",
       "      <td>0.833333</td>\n",
       "      <td>0.769231</td>\n",
       "      <td>0.789474</td>\n",
       "      <td>0.551804</td>\n",
       "      <td>0.581083</td>\n",
       "    </tr>\n",
       "    <tr>\n",
       "      <th>678</th>\n",
       "      <td>Jackson</td>\n",
       "      <td>NOH</td>\n",
       "      <td>15</td>\n",
       "      <td>34</td>\n",
       "      <td>13</td>\n",
       "      <td>27</td>\n",
       "      <td>49</td>\n",
       "      <td>40</td>\n",
       "      <td>0.794118</td>\n",
       "      <td>0.866667</td>\n",
       "      <td>0.816327</td>\n",
       "      <td>-0.604454</td>\n",
       "      <td>0.545542</td>\n",
       "    </tr>\n",
       "    <tr>\n",
       "      <th>639</th>\n",
       "      <td>Humphries</td>\n",
       "      <td>NJN</td>\n",
       "      <td>307</td>\n",
       "      <td>304</td>\n",
       "      <td>215</td>\n",
       "      <td>220</td>\n",
       "      <td>611</td>\n",
       "      <td>435</td>\n",
       "      <td>0.723684</td>\n",
       "      <td>0.700326</td>\n",
       "      <td>0.711948</td>\n",
       "      <td>0.637485</td>\n",
       "      <td>0.523809</td>\n",
       "    </tr>\n",
       "    <tr>\n",
       "      <th>246</th>\n",
       "      <td>Carter</td>\n",
       "      <td>DAL</td>\n",
       "      <td>48</td>\n",
       "      <td>67</td>\n",
       "      <td>42</td>\n",
       "      <td>53</td>\n",
       "      <td>115</td>\n",
       "      <td>95</td>\n",
       "      <td>0.791045</td>\n",
       "      <td>0.875000</td>\n",
       "      <td>0.826087</td>\n",
       "      <td>-1.171326</td>\n",
       "      <td>0.241468</td>\n",
       "    </tr>\n",
       "    <tr>\n",
       "      <th>763</th>\n",
       "      <td>Kidd</td>\n",
       "      <td>NJN</td>\n",
       "      <td>50</td>\n",
       "      <td>61</td>\n",
       "      <td>37</td>\n",
       "      <td>54</td>\n",
       "      <td>111</td>\n",
       "      <td>91</td>\n",
       "      <td>0.885246</td>\n",
       "      <td>0.740000</td>\n",
       "      <td>0.819820</td>\n",
       "      <td>1.980978</td>\n",
       "      <td>0.047594</td>\n",
       "    </tr>\n",
       "    <tr>\n",
       "      <th>396</th>\n",
       "      <td>Ebanks</td>\n",
       "      <td>LAL</td>\n",
       "      <td>15</td>\n",
       "      <td>43</td>\n",
       "      <td>12</td>\n",
       "      <td>29</td>\n",
       "      <td>58</td>\n",
       "      <td>41</td>\n",
       "      <td>0.674419</td>\n",
       "      <td>0.800000</td>\n",
       "      <td>0.706897</td>\n",
       "      <td>-0.920032</td>\n",
       "      <td>0.357556</td>\n",
       "    </tr>\n",
       "    <tr>\n",
       "      <th>611</th>\n",
       "      <td>Hollins</td>\n",
       "      <td>CLE</td>\n",
       "      <td>107</td>\n",
       "      <td>111</td>\n",
       "      <td>70</td>\n",
       "      <td>74</td>\n",
       "      <td>218</td>\n",
       "      <td>144</td>\n",
       "      <td>0.666667</td>\n",
       "      <td>0.654206</td>\n",
       "      <td>0.660550</td>\n",
       "      <td>0.194240</td>\n",
       "      <td>0.845988</td>\n",
       "    </tr>\n",
       "    <tr>\n",
       "      <th>332</th>\n",
       "      <td>Davis</td>\n",
       "      <td>GSW</td>\n",
       "      <td>192</td>\n",
       "      <td>232</td>\n",
       "      <td>158</td>\n",
       "      <td>160</td>\n",
       "      <td>424</td>\n",
       "      <td>318</td>\n",
       "      <td>0.689655</td>\n",
       "      <td>0.822917</td>\n",
       "      <td>0.750000</td>\n",
       "      <td>-3.154392</td>\n",
       "      <td>0.001608</td>\n",
       "    </tr>\n",
       "    <tr>\n",
       "      <th>520</th>\n",
       "      <td>Gray</td>\n",
       "      <td>TOR</td>\n",
       "      <td>17</td>\n",
       "      <td>30</td>\n",
       "      <td>9</td>\n",
       "      <td>16</td>\n",
       "      <td>47</td>\n",
       "      <td>25</td>\n",
       "      <td>0.533333</td>\n",
       "      <td>0.529412</td>\n",
       "      <td>0.531915</td>\n",
       "      <td>0.025889</td>\n",
       "      <td>0.979346</td>\n",
       "    </tr>\n",
       "  </tbody>\n",
       "</table>\n",
       "</div>"
      ],
      "text/plain": [
       "         player team  atm_away  atm_home  score_away  score_home  atm_total  \\\n",
       "1347    Wallace  CLE        43        65          21          25        108   \n",
       "503      Gooden  SAS        39        18          30          15         57   \n",
       "678     Jackson  NOH        15        34          13          27         49   \n",
       "639   Humphries  NJN       307       304         215         220        611   \n",
       "246      Carter  DAL        48        67          42          53        115   \n",
       "763        Kidd  NJN        50        61          37          54        111   \n",
       "396      Ebanks  LAL        15        43          12          29         58   \n",
       "611     Hollins  CLE       107       111          70          74        218   \n",
       "332       Davis  GSW       192       232         158         160        424   \n",
       "520        Gray  TOR        17        30           9          16         47   \n",
       "\n",
       "      score_total    p_home    p_away     p_ovr      zval      pval  \n",
       "1347           46  0.384615  0.488372  0.425926 -1.067442  0.285772  \n",
       "503            45  0.833333  0.769231  0.789474  0.551804  0.581083  \n",
       "678            40  0.794118  0.866667  0.816327 -0.604454  0.545542  \n",
       "639           435  0.723684  0.700326  0.711948  0.637485  0.523809  \n",
       "246            95  0.791045  0.875000  0.826087 -1.171326  0.241468  \n",
       "763            91  0.885246  0.740000  0.819820  1.980978  0.047594  \n",
       "396            41  0.674419  0.800000  0.706897 -0.920032  0.357556  \n",
       "611           144  0.666667  0.654206  0.660550  0.194240  0.845988  \n",
       "332           318  0.689655  0.822917  0.750000 -3.154392  0.001608  \n",
       "520            25  0.533333  0.529412  0.531915  0.025889  0.979346  "
      ]
     },
     "execution_count": 10,
     "metadata": {},
     "output_type": "execute_result"
    }
   ],
   "source": [
    "data.sample(10)"
   ]
  },
  {
   "cell_type": "code",
   "execution_count": 11,
   "metadata": {
    "collapsed": false
   },
   "outputs": [
    {
     "data": {
      "text/html": [
       "<div align=\"center\" class=\"toyplot\" id=\"t445e4c68c1c74004b3bc2dd500673fc4\"><svg height=\"300.0px\" id=\"tbd31382eff144ab99f56670e6adafc00\" preserveAspectRatio=\"xMidYMid meet\" style=\"background-color:transparent;fill:rgb(16.1%,15.3%,14.1%);fill-opacity:1.0;font-family:Helvetica;font-size:12px;opacity:1.0;stroke:rgb(16.1%,15.3%,14.1%);stroke-opacity:1.0;stroke-width:1.0\" viewBox=\"0 0 800.0 300.0\" width=\"800.0px\" xmlns=\"http://www.w3.org/2000/svg\" xmlns:toyplot=\"http://www.sandia.gov/toyplot\"><g class=\"toyplot-axes-Cartesian\" id=\"ta77dd13aad5243e3bdf8980e59e3e936\"><clipPath id=\"tc5b8895a9f0c4f4291c91c0f6eb9fbf7\"><rect height=\"220.0\" width=\"320.0\" x=\"40.0\" y=\"40.0\"></rect></clipPath><g class=\"toyplot-coordinate-events\" clip-path=\"url(#tc5b8895a9f0c4f4291c91c0f6eb9fbf7)\" style=\"cursor:crosshair\"><rect height=\"220.0\" style=\"pointer-events:all;visibility:hidden\" width=\"320.0\" x=\"40.0\" y=\"40.0\"></rect><g class=\"toyplot-mark-BarMagnitudes\" id=\"t07b39c92f42f4debb483e6ea3cf5afb0\" style=\"stroke:rgb(100%,100%,100%);stroke-opacity:1.0;stroke-width:1.0\"><g class=\"toyplot-Series\"><rect class=\"toyplot-Datum\" height=\"188.33115213393867\" style=\"fill:rgb(27.5%,51%,70.6%);fill-opacity:1.0;opacity:1.0;stroke:rgb(100%,100%,100%);stroke-opacity:1.0;stroke-width:1.0\" width=\"5.9922462799220355\" x=\"50.387686003898224\" y=\"61.668847866061327\"></rect><rect class=\"toyplot-Datum\" height=\"120.32268053001638\" style=\"fill:rgb(27.5%,51%,70.6%);fill-opacity:1.0;opacity:1.0;stroke:rgb(100%,100%,100%);stroke-opacity:1.0;stroke-width:1.0\" width=\"5.9922462799220355\" x=\"56.37993228382026\" y=\"129.67731946998362\"></rect><rect class=\"toyplot-Datum\" height=\"136.01694320784458\" style=\"fill:rgb(27.5%,51%,70.6%);fill-opacity:1.0;opacity:1.0;stroke:rgb(100%,100%,100%);stroke-opacity:1.0;stroke-width:1.0\" width=\"5.9922462799220426\" x=\"62.372178563742295\" y=\"113.98305679215541\"></rect><rect class=\"toyplot-Datum\" height=\"104.62841785218814\" style=\"fill:rgb(27.5%,51%,70.6%);fill-opacity:1.0;opacity:1.0;stroke:rgb(100%,100%,100%);stroke-opacity:1.0;stroke-width:1.0\" width=\"5.9922462799220284\" x=\"68.364424843664338\" y=\"145.37158214781186\"></rect><rect class=\"toyplot-Datum\" height=\"99.396996959578757\" style=\"fill:rgb(27.5%,51%,70.6%);fill-opacity:1.0;opacity:1.0;stroke:rgb(100%,100%,100%);stroke-opacity:1.0;stroke-width:1.0\" width=\"5.9922462799220426\" x=\"74.356671123586366\" y=\"150.60300304042124\"></rect><rect class=\"toyplot-Datum\" height=\"120.32268053001638\" style=\"fill:rgb(27.5%,51%,70.6%);fill-opacity:1.0;opacity:1.0;stroke:rgb(100%,100%,100%);stroke-opacity:1.0;stroke-width:1.0\" width=\"5.9922462799220284\" x=\"80.348917403508409\" y=\"129.67731946998362\"></rect><rect class=\"toyplot-Datum\" height=\"130.7855223152352\" style=\"fill:rgb(27.5%,51%,70.6%);fill-opacity:1.0;opacity:1.0;stroke:rgb(100%,100%,100%);stroke-opacity:1.0;stroke-width:1.0\" width=\"5.9922462799220284\" x=\"86.341163683430437\" y=\"119.21447768476482\"></rect><rect class=\"toyplot-Datum\" height=\"151.71120588567283\" style=\"fill:rgb(27.5%,51%,70.6%);fill-opacity:1.0;opacity:1.0;stroke:rgb(100%,100%,100%);stroke-opacity:1.0;stroke-width:1.0\" width=\"5.9922462799220568\" x=\"92.333409963352466\" y=\"98.288794114327175\"></rect><rect class=\"toyplot-Datum\" height=\"104.62841785218814\" style=\"fill:rgb(27.5%,51%,70.6%);fill-opacity:1.0;opacity:1.0;stroke:rgb(100%,100%,100%);stroke-opacity:1.0;stroke-width:1.0\" width=\"5.9922462799220284\" x=\"98.325656243274523\" y=\"145.37158214781186\"></rect><rect class=\"toyplot-Datum\" height=\"115.09125963740695\" style=\"fill:rgb(27.5%,51%,70.6%);fill-opacity:1.0;opacity:1.0;stroke:rgb(100%,100%,100%);stroke-opacity:1.0;stroke-width:1.0\" width=\"5.9922462799220284\" x=\"104.31790252319655\" y=\"134.90874036259305\"></rect><rect class=\"toyplot-Datum\" height=\"78.47131338914113\" style=\"fill:rgb(27.5%,51%,70.6%);fill-opacity:1.0;opacity:1.0;stroke:rgb(100%,100%,100%);stroke-opacity:1.0;stroke-width:1.0\" width=\"5.9922462799220426\" x=\"110.31014880311858\" y=\"171.52868661085887\"></rect><rect class=\"toyplot-Datum\" height=\"109.85983874479757\" style=\"fill:rgb(27.5%,51%,70.6%);fill-opacity:1.0;opacity:1.0;stroke:rgb(100%,100%,100%);stroke-opacity:1.0;stroke-width:1.0\" width=\"5.9922462799220426\" x=\"116.30239508304062\" y=\"140.14016125520243\"></rect><rect class=\"toyplot-Datum\" height=\"83.702734281750537\" style=\"fill:rgb(27.5%,51%,70.6%);fill-opacity:1.0;opacity:1.0;stroke:rgb(100%,100%,100%);stroke-opacity:1.0;stroke-width:1.0\" width=\"5.9922462799220284\" x=\"122.29464136296266\" y=\"166.29726571824946\"></rect><rect class=\"toyplot-Datum\" height=\"68.008471603922288\" style=\"fill:rgb(27.5%,51%,70.6%);fill-opacity:1.0;opacity:1.0;stroke:rgb(100%,100%,100%);stroke-opacity:1.0;stroke-width:1.0\" width=\"5.9922462799220284\" x=\"128.28688764288469\" y=\"181.99152839607771\"></rect><rect class=\"toyplot-Datum\" height=\"83.702734281750537\" style=\"fill:rgb(27.5%,51%,70.6%);fill-opacity:1.0;opacity:1.0;stroke:rgb(100%,100%,100%);stroke-opacity:1.0;stroke-width:1.0\" width=\"5.9922462799220284\" x=\"134.27913392280672\" y=\"166.29726571824946\"></rect><rect class=\"toyplot-Datum\" height=\"109.85983874479757\" style=\"fill:rgb(27.5%,51%,70.6%);fill-opacity:1.0;opacity:1.0;stroke:rgb(100%,100%,100%);stroke-opacity:1.0;stroke-width:1.0\" width=\"5.9922462799220568\" x=\"140.27138020272875\" y=\"140.14016125520243\"></rect><rect class=\"toyplot-Datum\" height=\"104.62841785218814\" style=\"fill:rgb(27.5%,51%,70.6%);fill-opacity:1.0;opacity:1.0;stroke:rgb(100%,100%,100%);stroke-opacity:1.0;stroke-width:1.0\" width=\"5.9922462799220284\" x=\"146.26362648265081\" y=\"145.37158214781186\"></rect><rect class=\"toyplot-Datum\" height=\"104.62841785218814\" style=\"fill:rgb(27.5%,51%,70.6%);fill-opacity:1.0;opacity:1.0;stroke:rgb(100%,100%,100%);stroke-opacity:1.0;stroke-width:1.0\" width=\"5.9922462799220284\" x=\"152.25587276257284\" y=\"145.37158214781186\"></rect><rect class=\"toyplot-Datum\" height=\"88.934155174359915\" style=\"fill:rgb(27.5%,51%,70.6%);fill-opacity:1.0;opacity:1.0;stroke:rgb(100%,100%,100%);stroke-opacity:1.0;stroke-width:1.0\" width=\"5.9922462799220284\" x=\"158.24811904249486\" y=\"161.06584482564008\"></rect><rect class=\"toyplot-Datum\" height=\"136.01694320784458\" style=\"fill:rgb(27.5%,51%,70.6%);fill-opacity:1.0;opacity:1.0;stroke:rgb(100%,100%,100%);stroke-opacity:1.0;stroke-width:1.0\" width=\"5.9922462799220284\" x=\"164.24036532241689\" y=\"113.98305679215541\"></rect><rect class=\"toyplot-Datum\" height=\"88.934155174359915\" style=\"fill:rgb(27.5%,51%,70.6%);fill-opacity:1.0;opacity:1.0;stroke:rgb(100%,100%,100%);stroke-opacity:1.0;stroke-width:1.0\" width=\"5.9922462799220568\" x=\"170.23261160233892\" y=\"161.06584482564008\"></rect><rect class=\"toyplot-Datum\" height=\"88.934155174359915\" style=\"fill:rgb(27.5%,51%,70.6%);fill-opacity:1.0;opacity:1.0;stroke:rgb(100%,100%,100%);stroke-opacity:1.0;stroke-width:1.0\" width=\"5.9922462799220284\" x=\"176.22485788226098\" y=\"161.06584482564008\"></rect><rect class=\"toyplot-Datum\" height=\"73.239892496531695\" style=\"fill:rgb(27.5%,51%,70.6%);fill-opacity:1.0;opacity:1.0;stroke:rgb(100%,100%,100%);stroke-opacity:1.0;stroke-width:1.0\" width=\"5.9922462799220284\" x=\"182.21710416218301\" y=\"176.7601075034683\"></rect><rect class=\"toyplot-Datum\" height=\"83.702734281750537\" style=\"fill:rgb(27.5%,51%,70.6%);fill-opacity:1.0;opacity:1.0;stroke:rgb(100%,100%,100%);stroke-opacity:1.0;stroke-width:1.0\" width=\"5.9922462799220568\" x=\"188.20935044210503\" y=\"166.29726571824946\"></rect><rect class=\"toyplot-Datum\" height=\"94.165576066969322\" style=\"fill:rgb(27.5%,51%,70.6%);fill-opacity:1.0;opacity:1.0;stroke:rgb(100%,100%,100%);stroke-opacity:1.0;stroke-width:1.0\" width=\"5.992246279922\" x=\"194.20159672202709\" y=\"155.83442393303068\"></rect><rect class=\"toyplot-Datum\" height=\"68.008471603922288\" style=\"fill:rgb(27.5%,51%,70.6%);fill-opacity:1.0;opacity:1.0;stroke:rgb(100%,100%,100%);stroke-opacity:1.0;stroke-width:1.0\" width=\"5.9922462799220568\" x=\"200.19384300194909\" y=\"181.99152839607771\"></rect><rect class=\"toyplot-Datum\" height=\"115.09125963740695\" style=\"fill:rgb(27.5%,51%,70.6%);fill-opacity:1.0;opacity:1.0;stroke:rgb(100%,100%,100%);stroke-opacity:1.0;stroke-width:1.0\" width=\"5.9922462799220284\" x=\"206.18608928187115\" y=\"134.90874036259305\"></rect><rect class=\"toyplot-Datum\" height=\"104.62841785218814\" style=\"fill:rgb(27.5%,51%,70.6%);fill-opacity:1.0;opacity:1.0;stroke:rgb(100%,100%,100%);stroke-opacity:1.0;stroke-width:1.0\" width=\"5.9922462799220568\" x=\"212.17833556179318\" y=\"145.37158214781186\"></rect><rect class=\"toyplot-Datum\" height=\"88.934155174359915\" style=\"fill:rgb(27.5%,51%,70.6%);fill-opacity:1.0;opacity:1.0;stroke:rgb(100%,100%,100%);stroke-opacity:1.0;stroke-width:1.0\" width=\"5.9922462799220568\" x=\"218.17058184171523\" y=\"161.06584482564008\"></rect><rect class=\"toyplot-Datum\" height=\"94.165576066969322\" style=\"fill:rgb(27.5%,51%,70.6%);fill-opacity:1.0;opacity:1.0;stroke:rgb(100%,100%,100%);stroke-opacity:1.0;stroke-width:1.0\" width=\"5.9922462799220284\" x=\"224.16282812163729\" y=\"155.83442393303068\"></rect><rect class=\"toyplot-Datum\" height=\"125.55410142262578\" style=\"fill:rgb(27.5%,51%,70.6%);fill-opacity:1.0;opacity:1.0;stroke:rgb(100%,100%,100%);stroke-opacity:1.0;stroke-width:1.0\" width=\"5.992246279922\" x=\"230.15507440155932\" y=\"124.44589857737422\"></rect><rect class=\"toyplot-Datum\" height=\"62.777050711312882\" style=\"fill:rgb(27.5%,51%,70.6%);fill-opacity:1.0;opacity:1.0;stroke:rgb(100%,100%,100%);stroke-opacity:1.0;stroke-width:1.0\" width=\"5.9922462799220568\" x=\"236.14732068148132\" y=\"187.22294928868712\"></rect><rect class=\"toyplot-Datum\" height=\"94.165576066969322\" style=\"fill:rgb(27.5%,51%,70.6%);fill-opacity:1.0;opacity:1.0;stroke:rgb(100%,100%,100%);stroke-opacity:1.0;stroke-width:1.0\" width=\"5.9922462799220284\" x=\"242.13956696140337\" y=\"155.83442393303068\"></rect><rect class=\"toyplot-Datum\" height=\"99.396996959578757\" style=\"fill:rgb(27.5%,51%,70.6%);fill-opacity:1.0;opacity:1.0;stroke:rgb(100%,100%,100%);stroke-opacity:1.0;stroke-width:1.0\" width=\"5.9922462799220568\" x=\"248.1318132413254\" y=\"150.60300304042124\"></rect><rect class=\"toyplot-Datum\" height=\"120.32268053001638\" style=\"fill:rgb(27.5%,51%,70.6%);fill-opacity:1.0;opacity:1.0;stroke:rgb(100%,100%,100%);stroke-opacity:1.0;stroke-width:1.0\" width=\"5.992246279922\" x=\"254.12405952124746\" y=\"129.67731946998362\"></rect><rect class=\"toyplot-Datum\" height=\"120.32268053001638\" style=\"fill:rgb(27.5%,51%,70.6%);fill-opacity:1.0;opacity:1.0;stroke:rgb(100%,100%,100%);stroke-opacity:1.0;stroke-width:1.0\" width=\"5.9922462799220853\" x=\"260.11630580116946\" y=\"129.67731946998362\"></rect><rect class=\"toyplot-Datum\" height=\"62.777050711312882\" style=\"fill:rgb(27.5%,51%,70.6%);fill-opacity:1.0;opacity:1.0;stroke:rgb(100%,100%,100%);stroke-opacity:1.0;stroke-width:1.0\" width=\"5.9922462799220284\" x=\"266.10855208109155\" y=\"187.22294928868712\"></rect><rect class=\"toyplot-Datum\" height=\"94.165576066969322\" style=\"fill:rgb(27.5%,51%,70.6%);fill-opacity:1.0;opacity:1.0;stroke:rgb(100%,100%,100%);stroke-opacity:1.0;stroke-width:1.0\" width=\"5.9922462799220284\" x=\"272.10079836101357\" y=\"155.83442393303068\"></rect><rect class=\"toyplot-Datum\" height=\"120.32268053001638\" style=\"fill:rgb(27.5%,51%,70.6%);fill-opacity:1.0;opacity:1.0;stroke:rgb(100%,100%,100%);stroke-opacity:1.0;stroke-width:1.0\" width=\"5.9922462799220853\" x=\"278.0930446409356\" y=\"129.67731946998362\"></rect><rect class=\"toyplot-Datum\" height=\"83.702734281750537\" style=\"fill:rgb(27.5%,51%,70.6%);fill-opacity:1.0;opacity:1.0;stroke:rgb(100%,100%,100%);stroke-opacity:1.0;stroke-width:1.0\" width=\"5.9922462799219716\" x=\"284.08529092085769\" y=\"166.29726571824946\"></rect><rect class=\"toyplot-Datum\" height=\"78.47131338914113\" style=\"fill:rgb(27.5%,51%,70.6%);fill-opacity:1.0;opacity:1.0;stroke:rgb(100%,100%,100%);stroke-opacity:1.0;stroke-width:1.0\" width=\"5.9922462799220284\" x=\"290.07753720077966\" y=\"171.52868661085887\"></rect><rect class=\"toyplot-Datum\" height=\"88.934155174359915\" style=\"fill:rgb(27.5%,51%,70.6%);fill-opacity:1.0;opacity:1.0;stroke:rgb(100%,100%,100%);stroke-opacity:1.0;stroke-width:1.0\" width=\"5.9922462799220284\" x=\"296.06978348070169\" y=\"161.06584482564008\"></rect><rect class=\"toyplot-Datum\" height=\"94.165576066969322\" style=\"fill:rgb(27.5%,51%,70.6%);fill-opacity:1.0;opacity:1.0;stroke:rgb(100%,100%,100%);stroke-opacity:1.0;stroke-width:1.0\" width=\"5.9922462799220853\" x=\"302.06202976062372\" y=\"155.83442393303068\"></rect><rect class=\"toyplot-Datum\" height=\"62.777050711312882\" style=\"fill:rgb(27.5%,51%,70.6%);fill-opacity:1.0;opacity:1.0;stroke:rgb(100%,100%,100%);stroke-opacity:1.0;stroke-width:1.0\" width=\"5.9922462799220284\" x=\"308.0542760405458\" y=\"187.22294928868712\"></rect><rect class=\"toyplot-Datum\" height=\"141.24836410045401\" style=\"fill:rgb(27.5%,51%,70.6%);fill-opacity:1.0;opacity:1.0;stroke:rgb(100%,100%,100%);stroke-opacity:1.0;stroke-width:1.0\" width=\"5.9922462799220284\" x=\"314.04652232046783\" y=\"108.751635899546\"></rect><rect class=\"toyplot-Datum\" height=\"68.008471603922288\" style=\"fill:rgb(27.5%,51%,70.6%);fill-opacity:1.0;opacity:1.0;stroke:rgb(100%,100%,100%);stroke-opacity:1.0;stroke-width:1.0\" width=\"5.9922462799220284\" x=\"320.03876860038986\" y=\"181.99152839607771\"></rect><rect class=\"toyplot-Datum\" height=\"109.85983874479757\" style=\"fill:rgb(27.5%,51%,70.6%);fill-opacity:1.0;opacity:1.0;stroke:rgb(100%,100%,100%);stroke-opacity:1.0;stroke-width:1.0\" width=\"5.9922462799220284\" x=\"326.03101488031189\" y=\"140.14016125520243\"></rect><rect class=\"toyplot-Datum\" height=\"88.934155174359915\" style=\"fill:rgb(27.5%,51%,70.6%);fill-opacity:1.0;opacity:1.0;stroke:rgb(100%,100%,100%);stroke-opacity:1.0;stroke-width:1.0\" width=\"5.9922462799220284\" x=\"332.02326116023391\" y=\"161.06584482564008\"></rect><rect class=\"toyplot-Datum\" height=\"62.777050711312882\" style=\"fill:rgb(27.5%,51%,70.6%);fill-opacity:1.0;opacity:1.0;stroke:rgb(100%,100%,100%);stroke-opacity:1.0;stroke-width:1.0\" width=\"5.9922462799220853\" x=\"338.01550744015594\" y=\"187.22294928868712\"></rect><rect class=\"toyplot-Datum\" height=\"88.934155174359915\" style=\"fill:rgb(27.5%,51%,70.6%);fill-opacity:1.0;opacity:1.0;stroke:rgb(100%,100%,100%);stroke-opacity:1.0;stroke-width:1.0\" width=\"5.9922462799219716\" x=\"344.00775372007803\" y=\"161.06584482564008\"></rect></g></g><g class=\"toyplot-mark-Plot\" id=\"t76000f1468924022975b54dde54320a1\" style=\"fill:none\"><g class=\"toyplot-Series\"><path d=\"M 50.0 150.0 L 350.0 150.0\" style=\"stroke:rgb(100%,0%,0%);stroke-opacity:1.0;stroke-width:2.0\"></path></g></g></g><g class=\"toyplot-coordinates\" style=\"visibility:hidden\"><rect height=\"14.0\" style=\"fill:rgb(100%,100%,100%);fill-opacity:1.0;opacity:0.75;stroke:none\" width=\"90.0\" x=\"250.0\" y=\"60.0\"></rect><text style=\"alignment-baseline:middle;font-size:10px;font-weight:normal;stroke:none;text-anchor:middle\" x=\"295.0\" y=\"67.0\"></text></g><g class=\"toyplot-axes-Axis\" id=\"t76943f29ab254759b6905c5a15b179e8\" transform=\"translate(50.0,250.0) rotate(0.0) translate(0,10.0)\"><line style=\"\" x1=\"0\" x2=\"300.0\" y1=\"0\" y2=\"0\"></line><g><text style=\"dominant-baseline:hanging;font-size:10px;font-weight:normal;stroke:none;text-anchor:middle\" transform=\"translate(0.0,6)\"><tspan style=\"dominant-baseline:inherit\">0.0</tspan></text><text style=\"dominant-baseline:hanging;font-size:10px;font-weight:normal;stroke:none;text-anchor:middle\" transform=\"translate(150.0,6)\"><tspan style=\"dominant-baseline:inherit\">0.5</tspan></text><text style=\"dominant-baseline:hanging;font-size:10px;font-weight:normal;stroke:none;text-anchor:middle\" transform=\"translate(300.0,6)\"><tspan style=\"dominant-baseline:inherit\">1.0</tspan></text></g></g><g class=\"toyplot-axes-Axis\" id=\"tb630db8fab784708b6bff6b028e9b2be\" transform=\"translate(50.0,250.0) rotate(-90.0) translate(0,-10.0)\"><line style=\"\" x1=\"0\" x2=\"188.33115213393867\" y1=\"0\" y2=\"0\"></line><g><text style=\"dominant-baseline:alphabetic;font-size:10px;font-weight:normal;stroke:none;text-anchor:middle\" transform=\"translate(0.0,-6)\"><tspan style=\"dominant-baseline:inherit\">0.0</tspan></text><text style=\"dominant-baseline:alphabetic;font-size:10px;font-weight:normal;stroke:none;text-anchor:middle\" transform=\"translate(50.0,-6)\"><tspan style=\"dominant-baseline:inherit\">0.5</tspan></text><text style=\"dominant-baseline:alphabetic;font-size:10px;font-weight:normal;stroke:none;text-anchor:middle\" transform=\"translate(100.0,-6)\"><tspan style=\"dominant-baseline:inherit\">1.0</tspan></text><text style=\"dominant-baseline:alphabetic;font-size:10px;font-weight:normal;stroke:none;text-anchor:middle\" transform=\"translate(150.0,-6)\"><tspan style=\"dominant-baseline:inherit\">1.5</tspan></text><text style=\"dominant-baseline:alphabetic;font-size:10px;font-weight:normal;stroke:none;text-anchor:middle\" transform=\"translate(200.0,-6)\"><tspan style=\"dominant-baseline:inherit\">2.0</tspan></text></g></g><text style=\"dominant-baseline:middle;font-size:14px;font-weight:bold;stroke:none;text-anchor:middle\" transform=\"translate(200.0,50.0)translate(0,-14.0)\"><tspan style=\"dominant-baseline:inherit\">Histogram p-values</tspan></text></g><g class=\"toyplot-axes-Cartesian\" id=\"t5ac9e72e82f54a08a2f9649f2ce05cb8\"><clipPath id=\"t3f5937efd88d44d4906aa02290315604\"><rect height=\"220.0\" width=\"320.0\" x=\"440.0\" y=\"40.0\"></rect></clipPath><g class=\"toyplot-coordinate-events\" clip-path=\"url(#t3f5937efd88d44d4906aa02290315604)\" style=\"cursor:crosshair\"><rect height=\"220.0\" style=\"pointer-events:all;visibility:hidden\" width=\"320.0\" x=\"440.0\" y=\"40.0\"></rect><g class=\"toyplot-mark-BarMagnitudes\" id=\"ta317f478a0bc472495202e0b21cc7872\" style=\"stroke:rgb(100%,100%,100%);stroke-opacity:1.0;stroke-width:1.0\"><g class=\"toyplot-Series\"><rect class=\"toyplot-Datum\" height=\"7.8431372549019329\" style=\"fill:rgb(100%,64.7%,0%);fill-opacity:1.0;opacity:1.0;stroke:rgb(100%,100%,100%);stroke-opacity:1.0;stroke-width:1.0\" width=\"6.0\" x=\"450.0\" y=\"242.15686274509807\"></rect><rect class=\"toyplot-Datum\" height=\"0.0\" style=\"fill:rgb(100%,64.7%,0%);fill-opacity:1.0;opacity:1.0;stroke:rgb(100%,100%,100%);stroke-opacity:1.0;stroke-width:1.0\" width=\"6.0\" x=\"456.0\" y=\"250.0\"></rect><rect class=\"toyplot-Datum\" height=\"0.0\" style=\"fill:rgb(100%,64.7%,0%);fill-opacity:1.0;opacity:1.0;stroke:rgb(100%,100%,100%);stroke-opacity:1.0;stroke-width:1.0\" width=\"6.0\" x=\"462.0\" y=\"250.0\"></rect><rect class=\"toyplot-Datum\" height=\"15.686274509803923\" style=\"fill:rgb(100%,64.7%,0%);fill-opacity:1.0;opacity:1.0;stroke:rgb(100%,100%,100%);stroke-opacity:1.0;stroke-width:1.0\" width=\"6.0\" x=\"468.0\" y=\"234.31372549019608\"></rect><rect class=\"toyplot-Datum\" height=\"0.0\" style=\"fill:rgb(100%,64.7%,0%);fill-opacity:1.0;opacity:1.0;stroke:rgb(100%,100%,100%);stroke-opacity:1.0;stroke-width:1.0\" width=\"6.0\" x=\"474.0\" y=\"250.0\"></rect><rect class=\"toyplot-Datum\" height=\"23.529411764705884\" style=\"fill:rgb(100%,64.7%,0%);fill-opacity:1.0;opacity:1.0;stroke:rgb(100%,100%,100%);stroke-opacity:1.0;stroke-width:1.0\" width=\"6.0\" x=\"480.0\" y=\"226.47058823529412\"></rect><rect class=\"toyplot-Datum\" height=\"27.45098039215685\" style=\"fill:rgb(100%,64.7%,0%);fill-opacity:1.0;opacity:1.0;stroke:rgb(100%,100%,100%);stroke-opacity:1.0;stroke-width:1.0\" width=\"6.0\" x=\"486.0\" y=\"222.54901960784315\"></rect><rect class=\"toyplot-Datum\" height=\"7.8431372549019329\" style=\"fill:rgb(100%,64.7%,0%);fill-opacity:1.0;opacity:1.0;stroke:rgb(100%,100%,100%);stroke-opacity:1.0;stroke-width:1.0\" width=\"6.0\" x=\"492.0\" y=\"242.15686274509807\"></rect><rect class=\"toyplot-Datum\" height=\"27.45098039215685\" style=\"fill:rgb(100%,64.7%,0%);fill-opacity:1.0;opacity:1.0;stroke:rgb(100%,100%,100%);stroke-opacity:1.0;stroke-width:1.0\" width=\"6.0\" x=\"498.0\" y=\"222.54901960784315\"></rect><rect class=\"toyplot-Datum\" height=\"35.29411764705884\" style=\"fill:rgb(100%,64.7%,0%);fill-opacity:1.0;opacity:1.0;stroke:rgb(100%,100%,100%);stroke-opacity:1.0;stroke-width:1.0\" width=\"6.0\" x=\"504.0\" y=\"214.70588235294116\"></rect><rect class=\"toyplot-Datum\" height=\"31.372549019607845\" style=\"fill:rgb(100%,64.7%,0%);fill-opacity:1.0;opacity:1.0;stroke:rgb(100%,100%,100%);stroke-opacity:1.0;stroke-width:1.0\" width=\"6.0\" x=\"510.0\" y=\"218.62745098039215\"></rect><rect class=\"toyplot-Datum\" height=\"39.215686274509778\" style=\"fill:rgb(100%,64.7%,0%);fill-opacity:1.0;opacity:1.0;stroke:rgb(100%,100%,100%);stroke-opacity:1.0;stroke-width:1.0\" width=\"6.0\" x=\"516.0\" y=\"210.78431372549022\"></rect><rect class=\"toyplot-Datum\" height=\"94.117647058823536\" style=\"fill:rgb(100%,64.7%,0%);fill-opacity:1.0;opacity:1.0;stroke:rgb(100%,100%,100%);stroke-opacity:1.0;stroke-width:1.0\" width=\"6.0\" x=\"522.0\" y=\"155.88235294117646\"></rect><rect class=\"toyplot-Datum\" height=\"86.274509803921575\" style=\"fill:rgb(100%,64.7%,0%);fill-opacity:1.0;opacity:1.0;stroke:rgb(100%,100%,100%);stroke-opacity:1.0;stroke-width:1.0\" width=\"6.0\" x=\"528.0\" y=\"163.72549019607843\"></rect><rect class=\"toyplot-Datum\" height=\"74.509803921568619\" style=\"fill:rgb(100%,64.7%,0%);fill-opacity:1.0;opacity:1.0;stroke:rgb(100%,100%,100%);stroke-opacity:1.0;stroke-width:1.0\" width=\"6.0\" x=\"534.0\" y=\"175.49019607843138\"></rect><rect class=\"toyplot-Datum\" height=\"66.666666666666657\" style=\"fill:rgb(100%,64.7%,0%);fill-opacity:1.0;opacity:1.0;stroke:rgb(100%,100%,100%);stroke-opacity:1.0;stroke-width:1.0\" width=\"6.0\" x=\"540.0\" y=\"183.33333333333334\"></rect><rect class=\"toyplot-Datum\" height=\"117.64705882352939\" style=\"fill:rgb(100%,64.7%,0%);fill-opacity:1.0;opacity:1.0;stroke:rgb(100%,100%,100%);stroke-opacity:1.0;stroke-width:1.0\" width=\"6.0\" x=\"546.0\" y=\"132.35294117647061\"></rect><rect class=\"toyplot-Datum\" height=\"113.72549019607843\" style=\"fill:rgb(100%,64.7%,0%);fill-opacity:1.0;opacity:1.0;stroke:rgb(100%,100%,100%);stroke-opacity:1.0;stroke-width:1.0\" width=\"6.0\" x=\"552.0\" y=\"136.27450980392157\"></rect><rect class=\"toyplot-Datum\" height=\"137.25490196078431\" style=\"fill:rgb(100%,64.7%,0%);fill-opacity:1.0;opacity:1.0;stroke:rgb(100%,100%,100%);stroke-opacity:1.0;stroke-width:1.0\" width=\"6.0\" x=\"558.0\" y=\"112.74509803921569\"></rect><rect class=\"toyplot-Datum\" height=\"137.25490196078431\" style=\"fill:rgb(100%,64.7%,0%);fill-opacity:1.0;opacity:1.0;stroke:rgb(100%,100%,100%);stroke-opacity:1.0;stroke-width:1.0\" width=\"6.0\" x=\"564.0\" y=\"112.74509803921569\"></rect><rect class=\"toyplot-Datum\" height=\"149.01960784313727\" style=\"fill:rgb(100%,64.7%,0%);fill-opacity:1.0;opacity:1.0;stroke:rgb(100%,100%,100%);stroke-opacity:1.0;stroke-width:1.0\" width=\"6.0\" x=\"570.0\" y=\"100.98039215686273\"></rect><rect class=\"toyplot-Datum\" height=\"160.78431372549016\" style=\"fill:rgb(100%,64.7%,0%);fill-opacity:1.0;opacity:1.0;stroke:rgb(100%,100%,100%);stroke-opacity:1.0;stroke-width:1.0\" width=\"6.0\" x=\"576.0\" y=\"89.215686274509821\"></rect><rect class=\"toyplot-Datum\" height=\"176.47058823529409\" style=\"fill:rgb(100%,64.7%,0%);fill-opacity:1.0;opacity:1.0;stroke:rgb(100%,100%,100%);stroke-opacity:1.0;stroke-width:1.0\" width=\"6.0\" x=\"582.0\" y=\"73.529411764705912\"></rect><rect class=\"toyplot-Datum\" height=\"164.70588235294116\" style=\"fill:rgb(100%,64.7%,0%);fill-opacity:1.0;opacity:1.0;stroke:rgb(100%,100%,100%);stroke-opacity:1.0;stroke-width:1.0\" width=\"6.0\" x=\"588.0\" y=\"85.294117647058826\"></rect><rect class=\"toyplot-Datum\" height=\"149.01960784313727\" style=\"fill:rgb(100%,64.7%,0%);fill-opacity:1.0;opacity:1.0;stroke:rgb(100%,100%,100%);stroke-opacity:1.0;stroke-width:1.0\" width=\"6.0\" x=\"594.0\" y=\"100.98039215686273\"></rect><rect class=\"toyplot-Datum\" height=\"200.0\" style=\"fill:rgb(100%,64.7%,0%);fill-opacity:1.0;opacity:1.0;stroke:rgb(100%,100%,100%);stroke-opacity:1.0;stroke-width:1.0\" width=\"6.0\" x=\"600.0\" y=\"50.0\"></rect><rect class=\"toyplot-Datum\" height=\"152.94117647058823\" style=\"fill:rgb(100%,64.7%,0%);fill-opacity:1.0;opacity:1.0;stroke:rgb(100%,100%,100%);stroke-opacity:1.0;stroke-width:1.0\" width=\"6.0\" x=\"606.0\" y=\"97.058823529411768\"></rect><rect class=\"toyplot-Datum\" height=\"184.31372549019608\" style=\"fill:rgb(100%,64.7%,0%);fill-opacity:1.0;opacity:1.0;stroke:rgb(100%,100%,100%);stroke-opacity:1.0;stroke-width:1.0\" width=\"6.0\" x=\"612.0\" y=\"65.686274509803908\"></rect><rect class=\"toyplot-Datum\" height=\"192.15686274509804\" style=\"fill:rgb(100%,64.7%,0%);fill-opacity:1.0;opacity:1.0;stroke:rgb(100%,100%,100%);stroke-opacity:1.0;stroke-width:1.0\" width=\"6.0\" x=\"618.0\" y=\"57.843137254901954\"></rect><rect class=\"toyplot-Datum\" height=\"145.09803921568627\" style=\"fill:rgb(100%,64.7%,0%);fill-opacity:1.0;opacity:1.0;stroke:rgb(100%,100%,100%);stroke-opacity:1.0;stroke-width:1.0\" width=\"6.0\" x=\"624.0\" y=\"104.90196078431373\"></rect><rect class=\"toyplot-Datum\" height=\"113.72549019607843\" style=\"fill:rgb(100%,64.7%,0%);fill-opacity:1.0;opacity:1.0;stroke:rgb(100%,100%,100%);stroke-opacity:1.0;stroke-width:1.0\" width=\"6.0\" x=\"630.0\" y=\"136.27450980392157\"></rect><rect class=\"toyplot-Datum\" height=\"137.25490196078431\" style=\"fill:rgb(100%,64.7%,0%);fill-opacity:1.0;opacity:1.0;stroke:rgb(100%,100%,100%);stroke-opacity:1.0;stroke-width:1.0\" width=\"6.0\" x=\"636.0\" y=\"112.74509803921569\"></rect><rect class=\"toyplot-Datum\" height=\"117.64705882352939\" style=\"fill:rgb(100%,64.7%,0%);fill-opacity:1.0;opacity:1.0;stroke:rgb(100%,100%,100%);stroke-opacity:1.0;stroke-width:1.0\" width=\"6.0\" x=\"642.0\" y=\"132.35294117647061\"></rect><rect class=\"toyplot-Datum\" height=\"78.431372549019613\" style=\"fill:rgb(100%,64.7%,0%);fill-opacity:1.0;opacity:1.0;stroke:rgb(100%,100%,100%);stroke-opacity:1.0;stroke-width:1.0\" width=\"6.0\" x=\"648.0\" y=\"171.56862745098039\"></rect><rect class=\"toyplot-Datum\" height=\"105.88235294117646\" style=\"fill:rgb(100%,64.7%,0%);fill-opacity:1.0;opacity:1.0;stroke:rgb(100%,100%,100%);stroke-opacity:1.0;stroke-width:1.0\" width=\"6.0\" x=\"654.0\" y=\"144.11764705882354\"></rect><rect class=\"toyplot-Datum\" height=\"113.72549019607843\" style=\"fill:rgb(100%,64.7%,0%);fill-opacity:1.0;opacity:1.0;stroke:rgb(100%,100%,100%);stroke-opacity:1.0;stroke-width:1.0\" width=\"6.0\" x=\"660.0\" y=\"136.27450980392157\"></rect><rect class=\"toyplot-Datum\" height=\"58.823529411764696\" style=\"fill:rgb(100%,64.7%,0%);fill-opacity:1.0;opacity:1.0;stroke:rgb(100%,100%,100%);stroke-opacity:1.0;stroke-width:1.0\" width=\"6.0000000000001137\" x=\"666.0\" y=\"191.1764705882353\"></rect><rect class=\"toyplot-Datum\" height=\"50.980392156862735\" style=\"fill:rgb(100%,64.7%,0%);fill-opacity:1.0;opacity:1.0;stroke:rgb(100%,100%,100%);stroke-opacity:1.0;stroke-width:1.0\" width=\"5.9999999999998863\" x=\"672.00000000000011\" y=\"199.01960784313727\"></rect><rect class=\"toyplot-Datum\" height=\"50.980392156862735\" style=\"fill:rgb(100%,64.7%,0%);fill-opacity:1.0;opacity:1.0;stroke:rgb(100%,100%,100%);stroke-opacity:1.0;stroke-width:1.0\" width=\"6.0\" x=\"678.0\" y=\"199.01960784313727\"></rect><rect class=\"toyplot-Datum\" height=\"50.980392156862735\" style=\"fill:rgb(100%,64.7%,0%);fill-opacity:1.0;opacity:1.0;stroke:rgb(100%,100%,100%);stroke-opacity:1.0;stroke-width:1.0\" width=\"6.0\" x=\"684.0\" y=\"199.01960784313727\"></rect><rect class=\"toyplot-Datum\" height=\"31.372549019607845\" style=\"fill:rgb(100%,64.7%,0%);fill-opacity:1.0;opacity:1.0;stroke:rgb(100%,100%,100%);stroke-opacity:1.0;stroke-width:1.0\" width=\"6.0\" x=\"690.0\" y=\"218.62745098039215\"></rect><rect class=\"toyplot-Datum\" height=\"43.137254901960802\" style=\"fill:rgb(100%,64.7%,0%);fill-opacity:1.0;opacity:1.0;stroke:rgb(100%,100%,100%);stroke-opacity:1.0;stroke-width:1.0\" width=\"6.0\" x=\"696.0\" y=\"206.8627450980392\"></rect><rect class=\"toyplot-Datum\" height=\"19.607843137254889\" style=\"fill:rgb(100%,64.7%,0%);fill-opacity:1.0;opacity:1.0;stroke:rgb(100%,100%,100%);stroke-opacity:1.0;stroke-width:1.0\" width=\"6.0\" x=\"702.0\" y=\"230.39215686274511\"></rect><rect class=\"toyplot-Datum\" height=\"23.529411764705884\" style=\"fill:rgb(100%,64.7%,0%);fill-opacity:1.0;opacity:1.0;stroke:rgb(100%,100%,100%);stroke-opacity:1.0;stroke-width:1.0\" width=\"6.0000000000001137\" x=\"708.0\" y=\"226.47058823529412\"></rect><rect class=\"toyplot-Datum\" height=\"11.764705882352956\" style=\"fill:rgb(100%,64.7%,0%);fill-opacity:1.0;opacity:1.0;stroke:rgb(100%,100%,100%);stroke-opacity:1.0;stroke-width:1.0\" width=\"5.9999999999998863\" x=\"714.00000000000011\" y=\"238.23529411764704\"></rect><rect class=\"toyplot-Datum\" height=\"3.9215686274509949\" style=\"fill:rgb(100%,64.7%,0%);fill-opacity:1.0;opacity:1.0;stroke:rgb(100%,100%,100%);stroke-opacity:1.0;stroke-width:1.0\" width=\"6.0\" x=\"720.0\" y=\"246.07843137254901\"></rect><rect class=\"toyplot-Datum\" height=\"11.764705882352956\" style=\"fill:rgb(100%,64.7%,0%);fill-opacity:1.0;opacity:1.0;stroke:rgb(100%,100%,100%);stroke-opacity:1.0;stroke-width:1.0\" width=\"6.0\" x=\"726.0\" y=\"238.23529411764704\"></rect><rect class=\"toyplot-Datum\" height=\"3.9215686274509949\" style=\"fill:rgb(100%,64.7%,0%);fill-opacity:1.0;opacity:1.0;stroke:rgb(100%,100%,100%);stroke-opacity:1.0;stroke-width:1.0\" width=\"6.0\" x=\"732.0\" y=\"246.07843137254901\"></rect><rect class=\"toyplot-Datum\" height=\"0.0\" style=\"fill:rgb(100%,64.7%,0%);fill-opacity:1.0;opacity:1.0;stroke:rgb(100%,100%,100%);stroke-opacity:1.0;stroke-width:1.0\" width=\"6.0\" x=\"738.0\" y=\"250.0\"></rect><rect class=\"toyplot-Datum\" height=\"7.8431372549019329\" style=\"fill:rgb(100%,64.7%,0%);fill-opacity:1.0;opacity:1.0;stroke:rgb(100%,100%,100%);stroke-opacity:1.0;stroke-width:1.0\" width=\"6.0\" x=\"744.0\" y=\"242.15686274509807\"></rect></g></g><g class=\"toyplot-mark-Plot\" id=\"t03666214de29464594ba4698b772119a\" style=\"fill:none\"><g class=\"toyplot-Series\"><path d=\"M 457.2688557350981 247.88033199692481 L 458.68836501124184 247.68071905200827 L 460.10787428738558 247.46461408339192 L 461.52738356352933 247.23089143080742 L 462.94689283967313 246.97837134517059 L 464.36640211581687 246.70581948561852 L 465.78591139196067 246.41194662957702 L 467.20542066810441 246.09540861692602 L 468.62492994424815 245.75480654968618 L 470.04443922039195 245.38868726887566 L 471.46394849653569 244.99554413026516 L 472.88345777267944 244.57381810068421 L 474.30296704882323 244.12189919628253 L 475.72247632496709 243.63812828372008 L 477.14198560111078 243.12079926463346 L 478.56149487725452 242.56816166289144 L 479.98100415339832 241.97842363310485 L 481.40051342954206 241.34975540757728 L 482.82002270568591 240.68029319737639 L 484.23953198182966 239.96814356145418 L 485.6590412579734 239.21138825575318 L 487.0785505341172 238.40808957199562 L 488.49805981026094 237.55629617336837 L 489.91756908640468 236.65404943158507 L 491.33707836254848 235.69939026684003 L 492.75658763869222 234.69036648896565 L 494.17609691483597 233.62504063468157 L 495.59560619097977 232.50149829219109 L 497.01511546712351 231.31785690055202 L 498.43462474326725 230.07227500724747 L 499.85413401941099 228.762961963224 L 501.27364329555473 227.38818803038092 L 502.69315257169853 225.94629487210369 L 504.11266184784233 224.43570639297792 L 505.53217112398613 222.85493988931964 L 506.95168040012987 221.20261746765578 L 508.37118967627367 219.47747768382365 L 509.79069895241742 217.67838735096032 L 511.21020822856121 215.80435346037908 L 512.6297175047049 213.85453515520797 L 514.0492267808487 211.82825569275116 L 515.4687360569925 209.7250143278647 L 516.88824533313618 207.54449804626387 L 518.30775460927998 205.28659307364381 L 519.72726388542378 202.95139608384028 L 521.14677316156758 200.53922502703338 L 522.56628243771127 198.05062949723762 L 523.98579171385506 195.48640055707421 L 525.40530098999875 192.84757993711673 L 526.82481026614255 190.13546852698013 L 528.24431954228635 187.35163407580791 L 529.66382881843015 184.49791802093856 L 531.08333809457395 181.57644136531357 L 532.50284737071763 178.58960952664629 L 533.92235664686143 175.54011608451648 L 535.34186592300523 172.4309453553887 L 536.76137519914892 169.26537373007992 L 538.18088447529271 166.04696971340991 L 539.60039375143651 162.77959261164779 L 541.01990302758031 159.46738981989316 L 542.439412303724 156.11479266868011 L 543.85892157986768 152.72651079682561 L 545.27843085601148 149.30752502582246 L 546.69794013215528 145.8630787198548 L 548.11744940829908 142.39866762473093 L 549.53695868444288 138.92002818863043 L 550.95646796058656 135.43312437747849 L 552.37597723673036 131.94413300792237 L 553.79548651287405 128.45942763121184 L 555.21499578901785 124.98556101170564 L 556.63450506516165 121.52924625414521 L 558.05401434130545 118.09733664417715 L 559.47352361744925 114.69680427677538 L 560.89303289359293 111.33471755712317 L 562.31254216973673 108.01821766807646 L 563.73205144588042 104.75449410745374 L 565.15156072202421 101.55075940699659 L 566.57106999816801 98.414223152834438 L 567.99057927431181 95.352065434589832 L 569.41008855045561 92.371409856791203 L 570.82959782659941 89.479296251961074 L 572.2491071027431 86.682653239538126 L 573.66861637888678 83.988270778627026 L 575.08812565503058 81.402772865391128 L 576.50763493117438 78.932590527671522 L 577.92714420731818 76.583935270097484 L 579.34665348346186 74.362773122522526 L 580.76616275960566 72.274799443066314 L 582.18567203574946 70.32541462435708 L 583.60518131189326 68.519700847760177 L 585.02469058803706 66.862400025464723 L 586.44419986418075 65.357893064303269 L 587.86370914032454 64.01018057814008 L 589.28321841646823 62.822865167629431 L 590.70272769261203 61.799135377167126 L 592.12223696875583 60.941751429010665 L 593.54174624489951 60.253032823890024 L 594.96125552104331 59.734847886062695 L 596.38076479718711 59.388605318765642 L 597.80027407333091 59.215247823483779 L 599.21978334947471 59.215247823483779 L 600.6392926256184 59.388605318765642 L 602.05880190176219 59.734847886062695 L 603.47831117790599 60.253032823890024 L 604.89782045404968 60.941751429010665 L 606.31732973019348 61.799135377167104 L 607.73683900633728 62.822865167629431 L 609.15634828248108 64.01018057814008 L 610.57585755862476 65.357893064303241 L 611.99536683476856 66.862400025464709 L 613.41487611091225 68.519700847760177 L 614.83438538705605 70.32541462435708 L 616.25389466319984 72.274799443066314 L 617.67340393934353 74.362773122522469 L 619.09291321548744 76.583935270097442 L 620.51242249163113 78.932590527671493 L 621.93193176777481 81.402772865391128 L 623.35144104391861 83.988270778627026 L 624.77095032006241 86.682653239538098 L 626.19045959620621 89.479296251961031 L 627.60996887235001 92.371409856791132 L 629.02947814849369 95.352065434589832 L 630.44898742463749 98.414223152834438 L 631.86849670078118 101.55075940699655 L 633.28800597692498 104.7544941074537 L 634.70751525306878 108.0182176680764 L 636.12702452921258 111.33471755712317 L 637.54653380535638 114.69680427677538 L 638.96604308150006 118.09733664417712 L 640.38555235764386 121.52924625414516 L 641.80506163378766 124.98556101170558 L 643.22457090993134 128.45942763121184 L 644.64408018607514 131.94413300792237 L 646.06358946221894 135.43312437747846 L 647.48309873836274 138.92002818863043 L 648.90260801450643 142.3986676247309 L 650.32211729065023 145.8630787198548 L 651.74162656679391 149.30752502582237 L 653.16113584293771 152.72651079682552 L 654.58064511908151 156.11479266868011 L 656.00015439522531 159.4673898198931 L 657.41966367136899 162.77959261164779 L 658.83917294751279 166.04696971340985 L 660.25868222365659 169.26537373007986 L 661.67819149980028 172.4309453553887 L 663.09770077594408 175.54011608451646 L 664.51721005208788 178.58960952664629 L 665.93671932823167 181.57644136531351 L 667.35622860437536 184.49791802093856 L 668.77573788051927 187.35163407580791 L 670.19524715666296 190.13546852698011 L 671.61475643280664 192.84757993711673 L 673.03426570895033 195.48640055707412 L 674.45377498509424 198.05062949723759 L 675.87328426123793 200.53922502703338 L 677.29279353738173 202.95139608384025 L 678.71230281352553 205.28659307364381 L 680.13181208966932 207.54449804626384 L 681.55132136581301 209.72501432786467 L 682.97083064195692 211.82825569275116 L 684.39033991810061 213.85453515520794 L 685.80984919424429 215.80435346037908 L 687.22935847038809 217.67838735096026 L 688.64886774653189 219.47747768382362 L 690.06837702267558 221.20261746765578 L 691.48788629881938 222.85493988931961 L 692.90739557496318 224.43570639297792 L 694.32690485110697 225.94629487210364 L 695.74641412725066 227.38818803038089 L 697.16592340339457 228.762961963224 L 698.58543267953826 230.07227500724744 L 700.00494195568194 231.31785690055202 L 701.42445123182563 232.50149829219103 L 702.84396050796954 233.62504063468154 L 704.26346978411334 234.69036648896565 L 705.68297906025703 235.69939026684 L 707.10248833640082 236.65404943158507 L 708.52199761254462 237.55629617336837 L 709.94150688868831 238.40808957199562 L 711.36101616483211 239.21138825575318 L 712.78052544097591 239.96814356145416 L 714.20003471711971 240.68029319737639 L 715.61954399326339 241.34975540757725 L 717.03905326940719 241.97842363310485 L 718.45856254555099 242.56816166289144 L 719.87807182169479 243.12079926463343 L 721.29758109783847 243.63812828372008 L 722.71709037398227 244.12189919628253 L 724.13659965012607 244.57381810068421 L 725.55610892626976 244.99554413026516 L 726.97561820241356 245.38868726887563 L 728.39512747855724 245.75480654968618 L 729.81463675470116 246.09540861692602 L 731.23414603084484 246.41194662957702 L 732.65365530698853 246.70581948561852 L 734.07316458313232 246.97837134517059 L 735.49267385927624 247.23089143080742 L 736.91218313541992 247.46461408339192 L 738.33169241156372 247.68071905200827 L 739.75120168770741 247.88033199692481\" style=\"stroke:rgb(100%,0%,0%);stroke-opacity:1.0;stroke-width:2.0\"></path></g></g></g><g class=\"toyplot-coordinates\" style=\"visibility:hidden\"><rect height=\"14.0\" style=\"fill:rgb(100%,100%,100%);fill-opacity:1.0;opacity:0.75;stroke:none\" width=\"90.0\" x=\"650.0\" y=\"60.0\"></rect><text style=\"alignment-baseline:middle;font-size:10px;font-weight:normal;stroke:none;text-anchor:middle\" x=\"695.0\" y=\"67.0\"></text></g><g class=\"toyplot-axes-Axis\" id=\"t09d18d81597a4e74a2bb7fd99bd8c4eb\" transform=\"translate(450.0,250.0) rotate(0.0) translate(0,10.0)\"><line style=\"\" x1=\"0\" x2=\"300.0\" y1=\"0\" y2=\"0\"></line><g><text style=\"dominant-baseline:hanging;font-size:10px;font-weight:normal;stroke:none;text-anchor:middle\" transform=\"translate(30.80905123114885,6)\"><tspan style=\"dominant-baseline:inherit\">-2</tspan></text><text style=\"dominant-baseline:hanging;font-size:10px;font-weight:normal;stroke:none;text-anchor:middle\" transform=\"translate(148.51002871140278,6)\"><tspan style=\"dominant-baseline:inherit\">0</tspan></text><text style=\"dominant-baseline:hanging;font-size:10px;font-weight:normal;stroke:none;text-anchor:middle\" transform=\"translate(266.2110061916567,6)\"><tspan style=\"dominant-baseline:inherit\">2</tspan></text></g></g><g class=\"toyplot-axes-Axis\" id=\"t0e47b314a90a4389a75ddcc010500866\" transform=\"translate(450.0,250.0) rotate(-90.0) translate(0,-10.0)\"><line style=\"\" x1=\"0\" x2=\"200.0\" y1=\"0\" y2=\"0\"></line><g><text style=\"dominant-baseline:alphabetic;font-size:10px;font-weight:normal;stroke:none;text-anchor:middle\" transform=\"translate(0.0,-6)\"><tspan style=\"dominant-baseline:inherit\">0.0</tspan></text><text style=\"dominant-baseline:alphabetic;font-size:10px;font-weight:normal;stroke:none;text-anchor:middle\" transform=\"translate(47.828079980476794,-6)\"><tspan style=\"dominant-baseline:inherit\">0.1</tspan></text><text style=\"dominant-baseline:alphabetic;font-size:10px;font-weight:normal;stroke:none;text-anchor:middle\" transform=\"translate(95.65615996095359,-6)\"><tspan style=\"dominant-baseline:inherit\">0.2</tspan></text><text style=\"dominant-baseline:alphabetic;font-size:10px;font-weight:normal;stroke:none;text-anchor:middle\" transform=\"translate(143.48423994143042,-6)\"><tspan style=\"dominant-baseline:inherit\">0.3</tspan></text><text style=\"dominant-baseline:alphabetic;font-size:10px;font-weight:normal;stroke:none;text-anchor:middle\" transform=\"translate(191.31231992190718,-6)\"><tspan style=\"dominant-baseline:inherit\">0.4</tspan></text></g></g><text style=\"dominant-baseline:middle;font-size:14px;font-weight:bold;stroke:none;text-anchor:middle\" transform=\"translate(600.0,50.0)translate(0,-14.0)\"><tspan style=\"dominant-baseline:inherit\">Histogram z-values</tspan></text></g></svg><div class=\"toyplot-controls\"><ul class=\"toyplot-mark-popup\" onmouseleave=\"this.style.visibility='hidden'\" style=\"background:rgba(0%,0%,0%,0.75);border:0;border-radius:6px;color:white;cursor:default;list-style:none;margin:0;padding:5px;position:fixed;visibility:hidden\"><li class=\"toyplot-mark-popup-title\" style=\"color:lightgray;cursor:default;padding:5px;list-style:none;margin:0;\"></li><li class=\"toyplot-mark-popup-save-csv\" onmouseout=\"this.style.color='white';this.style.background='steelblue'\" onmouseover=\"this.style.color='steelblue';this.style.background='white'\" style=\"border-radius:3px;padding:5px;list-style:none;margin:0;\">Save as .csv</li></ul><script>\n",
       "(function()\n",
       "{\n",
       "  var data_tables = [{\"data\": [[0.001292286679660748, 0.021266440946067534, 0.04124059521247432, 0.06121474947888111, 0.0811889037452879, 0.10116305801169467, 0.12113721227810147, 0.14111136654450826, 0.16108552081091504, 0.18105967507732182, 0.2010338293437286, 0.2210079836101354, 0.24098213787654219, 0.26095629214294896, 0.28093044640935577, 0.3009046006757625, 0.32087875494216933, 0.34085290920857614, 0.3608270634749829, 0.3808012177413897, 0.40077537200779645, 0.42074952627420326, 0.44072368054061006, 0.4606978348070168, 0.4806719890734236, 0.5006461433398304, 0.5206202976062372, 0.540594451872644, 0.5605686061390508, 0.5805427604054576, 0.6005169146718643, 0.6204910689382711, 0.6404652232046779, 0.6604393774710847, 0.6804135317374915, 0.7003876860038982, 0.720361840270305, 0.7403359945367118, 0.7603101488031186, 0.7802843030695255, 0.8002584573359321, 0.820232611602339, 0.8402067658687458, 0.8601809201351526, 0.8801550744015594, 0.9001292286679662, 0.9201033829343729, 0.9400775372007797, 0.9600516914671865, 0.9800258457335933], [0.021266440946067534, 0.04124059521247432, 0.06121474947888111, 0.0811889037452879, 0.10116305801169467, 0.12113721227810147, 0.14111136654450826, 0.16108552081091504, 0.18105967507732182, 0.2010338293437286, 0.2210079836101354, 0.24098213787654219, 0.26095629214294896, 0.28093044640935577, 0.3009046006757625, 0.32087875494216933, 0.34085290920857614, 0.3608270634749829, 0.3808012177413897, 0.40077537200779645, 0.42074952627420326, 0.44072368054061006, 0.4606978348070168, 0.4806719890734236, 0.5006461433398304, 0.5206202976062372, 0.540594451872644, 0.5605686061390508, 0.5805427604054576, 0.6005169146718643, 0.6204910689382711, 0.6404652232046779, 0.6604393774710847, 0.6804135317374915, 0.7003876860038982, 0.720361840270305, 0.7403359945367118, 0.7603101488031186, 0.7802843030695255, 0.8002584573359321, 0.820232611602339, 0.8402067658687458, 0.8601809201351526, 0.8801550744015594, 0.9001292286679662, 0.9201033829343729, 0.9400775372007797, 0.9600516914671865, 0.9800258457335933, 1.0], [0.0, 0.0, 0.0, 0.0, 0.0, 0.0, 0.0, 0.0, 0.0, 0.0, 0.0, 0.0, 0.0, 0.0, 0.0, 0.0, 0.0, 0.0, 0.0, 0.0, 0.0, 0.0, 0.0, 0.0, 0.0, 0.0, 0.0, 0.0, 0.0, 0.0, 0.0, 0.0, 0.0, 0.0, 0.0, 0.0, 0.0, 0.0, 0.0, 0.0, 0.0, 0.0, 0.0, 0.0, 0.0, 0.0, 0.0, 0.0, 0.0, 0.0], [1.8833115213393867, 1.2032268053001638, 1.3601694320784459, 1.0462841785218815, 0.9939699695957874, 1.2032268053001638, 1.307855223152352, 1.5171120588567282, 1.0462841785218815, 1.1509125963740696, 0.7847131338914112, 1.0985983874479757, 0.8370273428175052, 0.6800847160392229, 0.8370273428175052, 1.0985983874479757, 1.0462841785218815, 1.0462841785218815, 0.8893415517435993, 1.3601694320784459, 0.8893415517435993, 0.8893415517435993, 0.7323989249653171, 0.8370273428175052, 0.9416557606696934, 0.6800847160392229, 1.1509125963740696, 1.0462841785218815, 0.8893415517435993, 0.9416557606696934, 1.2555410142262577, 0.6277705071131289, 0.9416557606696934, 0.9939699695957874, 1.2032268053001638, 1.2032268053001638, 0.6277705071131289, 0.9416557606696934, 1.2032268053001638, 0.8370273428175052, 0.7847131338914112, 0.8893415517435993, 0.9416557606696934, 0.6277705071131289, 1.41248364100454, 0.6800847160392229, 1.0985983874479757, 0.8893415517435993, 0.6277705071131289, 0.8893415517435993]], \"title\": \"Bar Data\", \"names\": [\"left\", \"right\", \"baseline\", \"magnitude0\"], \"id\": \"t07b39c92f42f4debb483e6ea3cf5afb0\", \"filename\": \"toyplot\"}, {\"data\": [[0.0, 1.0], [1.0, 1.0]], \"title\": \"Plot Data\", \"names\": [\"x\", \"y0\"], \"id\": \"t76000f1468924022975b54dde54320a1\", \"filename\": \"toyplot\"}, {\"data\": [[-3.1543924249974373, -3.0269508325729695, -2.899509240148501, -2.7720676477240334, -2.6446260552995655, -2.5171844628750977, -2.38974287045063, -2.2623012780261615, -2.1348596856016937, -2.007418093177226, -1.8799765007527578, -1.7525349083282897, -1.6250933159038219, -1.497651723479354, -1.370210131054886, -1.242768538630418, -1.11532694620595, -0.9878853537814822, -0.8604437613570144, -0.7330021689325461, -0.6055605765080783, -0.4781189840836104, -0.35067739165914213, -0.2232357992346743, -0.09579420681020645, 0.03164738561426139, 0.15908897803872923, 0.2865305704631975, 0.41397216288766536, 0.5414137553121332, 0.6688553477366015, 0.7962969401610693, 0.9237385325855372, 1.051180125010005, 1.1786217174344729, 1.3060633098589407, 1.4335049022834085, 1.5609464947078773, 1.6883880871323451, 1.815829679556813, 1.9432712719812808, 2.0707128644057486, 2.1981544568302165, 2.3255960492546843, 2.453037641679153, 2.580479234103621, 2.7079208265280887, 2.8353624189525566, 2.9628040113770244, 3.0902456038014923], [-3.0269508325729695, -2.899509240148501, -2.7720676477240334, -2.6446260552995655, -2.5171844628750977, -2.38974287045063, -2.2623012780261615, -2.1348596856016937, -2.007418093177226, -1.8799765007527578, -1.7525349083282897, -1.6250933159038219, -1.497651723479354, -1.370210131054886, -1.242768538630418, -1.11532694620595, -0.9878853537814822, -0.8604437613570144, -0.7330021689325461, -0.6055605765080783, -0.4781189840836104, -0.35067739165914213, -0.2232357992346743, -0.09579420681020645, 0.03164738561426139, 0.15908897803872923, 0.2865305704631975, 0.41397216288766536, 0.5414137553121332, 0.6688553477366015, 0.7962969401610693, 0.9237385325855372, 1.051180125010005, 1.1786217174344729, 1.3060633098589407, 1.4335049022834085, 1.5609464947078773, 1.6883880871323451, 1.815829679556813, 1.9432712719812808, 2.0707128644057486, 2.1981544568302165, 2.3255960492546843, 2.453037641679153, 2.580479234103621, 2.7079208265280887, 2.8353624189525566, 2.9628040113770244, 3.0902456038014923, 3.2176871962259606], [0.0, 0.0, 0.0, 0.0, 0.0, 0.0, 0.0, 0.0, 0.0, 0.0, 0.0, 0.0, 0.0, 0.0, 0.0, 0.0, 0.0, 0.0, 0.0, 0.0, 0.0, 0.0, 0.0, 0.0, 0.0, 0.0, 0.0, 0.0, 0.0, 0.0, 0.0, 0.0, 0.0, 0.0, 0.0, 0.0, 0.0, 0.0, 0.0, 0.0, 0.0, 0.0, 0.0, 0.0, 0.0, 0.0, 0.0, 0.0, 0.0, 0.0], [0.0163986036196801, 0.0, 0.0, 0.0327972072393602, 0.0, 0.0491958108590403, 0.057395112668880345, 0.0163986036196801, 0.057395112668880345, 0.07379371628856045, 0.0655944144787204, 0.0819930180984005, 0.1967832434361612, 0.1803846398164811, 0.15578673438696095, 0.13938813076728085, 0.24597905429520148, 0.23777975248536143, 0.2869755633444017, 0.2869755633444017, 0.3115734687739219, 0.336171374203442, 0.3689685814428022, 0.3443706760132821, 0.3115734687739219, 0.41816439230184255, 0.3197727705837619, 0.38536718506248235, 0.40176578868216245, 0.3033741669640818, 0.23777975248536143, 0.2869755633444017, 0.24597905429520148, 0.163986036196801, 0.22138114886568133, 0.23777975248536143, 0.12298952714760074, 0.10659092352792064, 0.10659092352792064, 0.10659092352792064, 0.0655944144787204, 0.09019231990824055, 0.04099650904920025, 0.0491958108590403, 0.02459790542952015, 0.00819930180984005, 0.02459790542952015, 0.00819930180984005, 0.0, 0.0163986036196801]], \"title\": \"Bar Data\", \"names\": [\"left\", \"right\", \"baseline\", \"magnitude0\"], \"id\": \"ta317f478a0bc472495202e0b21cc7872\", \"filename\": \"toyplot\"}, {\"data\": [[-3.0, -2.969849246231156, -2.9396984924623117, -2.909547738693467, -2.879396984924623, -2.849246231155779, -2.819095477386935, -2.7889447236180906, -2.758793969849246, -2.728643216080402, -2.698492462311558, -2.6683417085427137, -2.6381909547738696, -2.608040201005025, -2.577889447236181, -2.5477386934673367, -2.5175879396984926, -2.4874371859296485, -2.457286432160804, -2.4271356783919598, -2.3969849246231156, -2.3668341708542715, -2.3366834170854274, -2.306532663316583, -2.2763819095477387, -2.2462311557788945, -2.2160804020100504, -2.1859296482412063, -2.1557788944723617, -2.1256281407035176, -2.0954773869346734, -2.0653266331658293, -2.035175879396985, -2.0050251256281406, -1.9748743718592965, -1.9447236180904524, -1.914572864321608, -1.8844221105527639, -1.8542713567839197, -1.8241206030150754, -1.7939698492462313, -1.763819095477387, -1.7336683417085428, -1.7035175879396987, -1.6733668341708543, -1.6432160804020102, -1.6130653266331658, -1.5829145728643217, -1.5527638190954773, -1.5226130653266332, -1.492462311557789, -1.4623115577889447, -1.4321608040201006, -1.4020100502512562, -1.3718592964824121, -1.341708542713568, -1.3115577889447236, -1.2814070351758795, -1.2512562814070352, -1.221105527638191, -1.190954773869347, -1.1608040201005025, -1.1306532663316584, -1.100502512562814, -1.07035175879397, -1.0402010050251258, -1.0100502512562815, -0.9798994974874371, -0.949748743718593, -0.9195979899497488, -0.8894472361809047, -0.8592964824120606, -0.829145728643216, -0.7989949748743719, -0.7688442211055277, -0.7386934673366836, -0.7085427135678395, -0.6783919597989949, -0.6482412060301508, -0.6180904522613067, -0.5879396984924625, -0.5577889447236184, -0.5276381909547738, -0.4974874371859297, -0.46733668341708556, -0.43718592964824143, -0.4070351758793973, -0.37688442211055273, -0.3467336683417086, -0.31658291457286447, -0.28643216080402034, -0.2562814070351762, -0.22613065326633164, -0.1959798994974875, -0.16582914572864338, -0.13567839195979925, -0.10552763819095468, -0.07537688442211055, -0.045226130653266416, -0.015075376884422287, 0.015075376884421843, 0.045226130653266416, 0.07537688442211055, 0.10552763819095468, 0.1356783919597988, 0.16582914572864293, 0.1959798994974875, 0.22613065326633164, 0.25628140703517577, 0.2864321608040199, 0.316582914572864, 0.3467336683417086, 0.37688442211055273, 0.40703517587939686, 0.437185929648241, 0.4673366834170851, 0.4974874371859297, 0.5276381909547738, 0.557788944723618, 0.5879396984924621, 0.6180904522613062, 0.6482412060301508, 0.6783919597989949, 0.708542713567839, 0.7386934673366832, 0.7688442211055273, 0.7989949748743719, 0.829145728643216, 0.8592964824120601, 0.8894472361809043, 0.9195979899497484, 0.949748743718593, 0.9798994974874371, 1.0100502512562812, 1.0402010050251258, 1.0703517587939695, 1.100502512562814, 1.1306532663316577, 1.1608040201005023, 1.190954773869347, 1.2211055276381906, 1.2512562814070352, 1.2814070351758788, 1.3115577889447234, 1.341708542713568, 1.3718592964824117, 1.4020100502512562, 1.4321608040201, 1.4623115577889445, 1.492462311557789, 1.5226130653266328, 1.5527638190954773, 1.582914572864321, 1.6130653266331656, 1.6432160804020102, 1.6733668341708539, 1.7035175879396984, 1.7336683417085421, 1.7638190954773867, 1.7939698492462313, 1.824120603015075, 1.8542713567839195, 1.8844221105527632, 1.9145728643216078, 1.9447236180904524, 1.974874371859296, 2.0050251256281406, 2.0351758793969843, 2.065326633165829, 2.0954773869346734, 2.125628140703517, 2.1557788944723617, 2.1859296482412054, 2.21608040201005, 2.2462311557788945, 2.2763819095477382, 2.306532663316583, 2.3366834170854265, 2.366834170854271, 2.3969849246231156, 2.4271356783919593, 2.457286432160804, 2.4874371859296476, 2.517587939698492, 2.5477386934673367, 2.5778894472361804, 2.608040201005025, 2.6381909547738687, 2.6683417085427132, 2.698492462311558, 2.7286432160804015, 2.758793969849246, 2.7889447236180906, 2.8190954773869343, 2.849246231155779, 2.8793969849246226, 2.909547738693467, 2.9396984924623117, 2.9698492462311554, 3.0], [0.0044318484119380075, 0.004849203540970978, 0.005301040555345377, 0.005789713010271197, 0.006317687551042881, 0.006887544964644527, 0.007501980785947474, 0.008163805414450673, 0.008875943696771157, 0.009641433929621815, 0.010463426237845309, 0.011345180282233204, 0.01229006225237746, 0.013301541100702353, 0.014383183975134715, 0.015538650809612652, 0.01677168803382767, 0.018086121366263735, 0.019485847657752246, 0.02097482575641918, 0.022557066369067517, 0.02423662089871921, 0.026017569243237643, 0.02790400654565833, 0.029900028893063268, 0.032009717967528016, 0.034237124659828734, 0.036586251664193346, 0.03906103508038362, 0.041665325057763034, 0.044402865524697716, 0.047277273055596494, 0.0502920149370724, 0.053450386504031284, 0.05675548782589823, 0.060210199832607066, 0.06381715997931658, 0.06757873755800614, 0.07149700877304596, 0.07557373170645039, 0.07981032130671012, 0.08420782454276941, 0.08876689587176878, 0.09348777317552363, 0.09837025432625505, 0.10341367454674384, 0.10861688473375447, 0.11397823091618564, 0.11949553502087606, 0.1251660771192494, 0.13098657932696625, 0.1369531915263985, 0.14306147907801572, 0.1493064126816362, 0.1556823605419195, 0.16218308298446144, 0.16880172965938756, 0.17553083945845063, 0.18236234325934722, 0.18928756959731993, 0.19629725334916934, 0.20338154749862636, 0.21053003803472722, 0.21773176201648364, 0.2249752288178648, 0.2322484445470358, 0.2395389396130624, 0.24683379939204644, 0.25411969792306205, 0.2613829345424794, 0.2686094733434752, 0.2757849853259109, 0.2828948930804974, 0.28992441783044476, 0.29685862863380647, 0.30368249353065147, 0.31038093240121645, 0.3169388712844885, 0.32334129789139926, 0.3295733180331556, 0.335620212673314, 0.3414674953021892, 0.34710096932416734, 0.3525067851425972, 0.3576714966232335, 0.3625821166157834, 0.3672261712140061, 0.3715917524380663, 0.3756675690284562, 0.3794429950487648, 0.38290811600484737, 0.38605377220048726, 0.3888715990643574, 0.39135406419989144, 0.39349450092844124, 0.39528713811669225, 0.39672712610157845, 0.39781055854971115, 0.3985344901134251, 0.3988969497717527, 0.3988969497717527, 0.3985344901134251, 0.39781055854971115, 0.39672712610157845, 0.39528713811669225, 0.3934945009284413, 0.39135406419989144, 0.3888715990643574, 0.3860537722004873, 0.3829081160048474, 0.3794429950487648, 0.3756675690284562, 0.3715917524380663, 0.3672261712140062, 0.3625821166157835, 0.35767149662323355, 0.3525067851425972, 0.34710096932416734, 0.34146749530218923, 0.3356202126733141, 0.3295733180331557, 0.32334129789139926, 0.3169388712844885, 0.31038093240121656, 0.3036824935306516, 0.2968586286338066, 0.28992441783044476, 0.2828948930804974, 0.27578498532591095, 0.26860947334347524, 0.2613829345424795, 0.25411969792306205, 0.24683379939204644, 0.23953893961306244, 0.2322484445470358, 0.22497522881786491, 0.21773176201648364, 0.21053003803472736, 0.20338154749862647, 0.19629725334916934, 0.18928756959732004, 0.18236234325934722, 0.17553083945845077, 0.1688017296593876, 0.16218308298446144, 0.15568236054191958, 0.1493064126816362, 0.14306147907801586, 0.13695319152639854, 0.13098657932696625, 0.12516607711924946, 0.11949553502087606, 0.11397823091618578, 0.10861688473375453, 0.10341367454674384, 0.09837025432625514, 0.09348777317552365, 0.08876689587176888, 0.08420782454276945, 0.07981032130671012, 0.07557373170645043, 0.07149700877304598, 0.06757873755800622, 0.06381715997931661, 0.060210199832607066, 0.05675548782589829, 0.053450386504031284, 0.05029201493707249, 0.047277273055596536, 0.044402865524697716, 0.041665325057763075, 0.03906103508038362, 0.03658625166419343, 0.03423712465982876, 0.032009717967528016, 0.02990002889306329, 0.02790400654565833, 0.02601756924323769, 0.024236620898719245, 0.022557066369067517, 0.0209748257564192, 0.019485847657752246, 0.018086121366263773, 0.01677168803382769, 0.015538650809612652, 0.014383183975134736, 0.013301541100702353, 0.012290062252377486, 0.011345180282233218, 0.010463426237845309, 0.009641433929621829, 0.008875943696771157, 0.008163805414450673, 0.007501980785947481, 0.006887544964644527, 0.0063176875510428864, 0.005789713010271197, 0.005301040555345377, 0.004849203540970987, 0.0044318484119380075]], \"title\": \"Plot Data\", \"names\": [\"x\", \"y0\"], \"id\": \"t03666214de29464594ba4698b772119a\", \"filename\": \"toyplot\"}];\n",
       "\n",
       "  function save_csv(data_table)\n",
       "  {\n",
       "    var uri = \"data:text/csv;charset=utf-8,\";\n",
       "    uri += data_table.names.join(\",\") + \"\\n\";\n",
       "    for(var i = 0; i != data_table.data[0].length; ++i)\n",
       "    {\n",
       "      for(var j = 0; j != data_table.data.length; ++j)\n",
       "      {\n",
       "        if(j)\n",
       "          uri += \",\";\n",
       "        uri += data_table.data[j][i];\n",
       "      }\n",
       "      uri += \"\\n\";\n",
       "    }\n",
       "    uri = encodeURI(uri);\n",
       "\n",
       "    var link = document.createElement(\"a\");\n",
       "    if(typeof link.download != \"undefined\")\n",
       "    {\n",
       "      link.href = uri;\n",
       "      link.style = \"visibility:hidden\";\n",
       "      link.download = data_table.filename + \".csv\";\n",
       "\n",
       "      document.body.appendChild(link);\n",
       "      link.click();\n",
       "      document.body.removeChild(link);\n",
       "    }\n",
       "    else\n",
       "    {\n",
       "      window.open(uri);\n",
       "    }\n",
       "  }\n",
       "\n",
       "  function open_popup(data_table)\n",
       "  {\n",
       "    return function(e)\n",
       "    {\n",
       "      var popup = document.querySelector(\"#t445e4c68c1c74004b3bc2dd500673fc4 .toyplot-mark-popup\");\n",
       "      popup.querySelector(\".toyplot-mark-popup-title\").innerHTML = data_table.title;\n",
       "      popup.querySelector(\".toyplot-mark-popup-save-csv\").onclick = function() { popup.style.visibility = \"hidden\"; save_csv(data_table); }\n",
       "      popup.style.left = (e.clientX - 50) + \"px\";\n",
       "      popup.style.top = (e.clientY - 20) + \"px\";\n",
       "      popup.style.visibility = \"visible\";\n",
       "      e.stopPropagation();\n",
       "      e.preventDefault();\n",
       "    }\n",
       "\n",
       "  }\n",
       "\n",
       "  for(var i = 0; i != data_tables.length; ++i)\n",
       "  {\n",
       "    var data_table = data_tables[i];\n",
       "    var event_target = document.querySelector(\"#\" + data_table.id);\n",
       "    event_target.oncontextmenu = open_popup(data_table);\n",
       "  }\n",
       "})();\n",
       "</script><script>\n",
       "(function()\n",
       "{\n",
       "  var axes = {\"t5ac9e72e82f54a08a2f9649f2ce05cb8\": {\"x\": [{\"domain\": {\"bounds\": {\"max\": Infinity, \"min\": -Infinity}, \"max\": 3.2176871962259606, \"min\": -3.1543924249974373}, \"range\": {\"bounds\": {\"max\": Infinity, \"min\": -Infinity}, \"max\": 750.0, \"min\": 450.0}, \"scale\": \"linear\"}], \"y\": [{\"domain\": {\"bounds\": {\"max\": Infinity, \"min\": -Infinity}, \"max\": 0.41816439230184255, \"min\": 0.0}, \"range\": {\"bounds\": {\"max\": -Infinity, \"min\": Infinity}, \"max\": 50.0, \"min\": 250.0}, \"scale\": \"linear\"}]}, \"ta77dd13aad5243e3bdf8980e59e3e936\": {\"x\": [{\"domain\": {\"bounds\": {\"max\": Infinity, \"min\": -Infinity}, \"max\": 1.0, \"min\": 0.0}, \"range\": {\"bounds\": {\"max\": Infinity, \"min\": -Infinity}, \"max\": 350.0, \"min\": 50.0}, \"scale\": \"linear\"}], \"y\": [{\"domain\": {\"bounds\": {\"max\": Infinity, \"min\": -Infinity}, \"max\": 2.0, \"min\": 0.0}, \"range\": {\"bounds\": {\"max\": -Infinity, \"min\": Infinity}, \"max\": 50.0, \"min\": 250.0}, \"scale\": \"linear\"}]}};\n",
       "\n",
       "  function sign(x)\n",
       "  {\n",
       "    return x < 0 ? -1 : x > 0 ? 1 : 0;\n",
       "  }\n",
       "\n",
       "  function _mix(a, b, amount)\n",
       "  {\n",
       "    return ((1.0 - amount) * a) + (amount * b);\n",
       "  }\n",
       "\n",
       "  function _log(x, base)\n",
       "  {\n",
       "    return Math.log(Math.abs(x)) / Math.log(base);\n",
       "  }\n",
       "\n",
       "  function _in_range(a, x, b)\n",
       "  {\n",
       "    var left = Math.min(a, b);\n",
       "    var right = Math.max(a, b);\n",
       "    return left <= x && x <= right;\n",
       "  }\n",
       "\n",
       "  function to_domain(projection, range)\n",
       "  {\n",
       "    for(var i = 0; i != projection.length; ++i)\n",
       "    {\n",
       "      var segment = projection[i];\n",
       "      if(_in_range(segment.range.bounds.min, range, segment.range.bounds.max))\n",
       "      {\n",
       "        if(segment.scale == \"linear\")\n",
       "        {\n",
       "          var amount = (range - segment.range.min) / (segment.range.max - segment.range.min);\n",
       "          return _mix(segment.domain.min, segment.domain.max, amount)\n",
       "        }\n",
       "        else if(segment.scale[0] == \"log\")\n",
       "        {\n",
       "          var amount = (range - segment.range.min) / (segment.range.max - segment.range.min);\n",
       "          var base = segment.scale[1];\n",
       "          return sign(segment.domain.min) * Math.pow(base, _mix(_log(segment.domain.min, base), _log(segment.domain.max, base), amount));\n",
       "        }\n",
       "      }\n",
       "    }\n",
       "  }\n",
       "\n",
       "  // Compute mouse coordinates relative to a DOM object, with thanks to d3js.org, where this code originated.\n",
       "  function d3_mousePoint(container, e)\n",
       "  {\n",
       "    if (e.changedTouches) e = e.changedTouches[0];\n",
       "    var svg = container.ownerSVGElement || container;\n",
       "    if (svg.createSVGPoint) {\n",
       "      var point = svg.createSVGPoint();\n",
       "      point.x = e.clientX, point.y = e.clientY;\n",
       "      point = point.matrixTransform(container.getScreenCTM().inverse());\n",
       "      return [point.x, point.y];\n",
       "    }\n",
       "    var rect = container.getBoundingClientRect();\n",
       "    return [e.clientX - rect.left - container.clientLeft, e.clientY - rect.top - container.clientTop];\n",
       "  };\n",
       "\n",
       "  function display_coordinates(e)\n",
       "  {\n",
       "    var dom_axes = e.currentTarget.parentElement;\n",
       "    var data = axes[dom_axes.id];\n",
       "\n",
       "    point = d3_mousePoint(e.target, e);\n",
       "    var x = Number(to_domain(data[\"x\"], point[0])).toFixed(2);\n",
       "    var y = Number(to_domain(data[\"y\"], point[1])).toFixed(2);\n",
       "\n",
       "    var coordinates = dom_axes.querySelectorAll(\".toyplot-coordinates\");\n",
       "    for(var i = 0; i != coordinates.length; ++i)\n",
       "    {\n",
       "      coordinates[i].style.visibility = \"visible\";\n",
       "      coordinates[i].querySelector(\"text\").textContent = \"x=\" + x + \" y=\" + y;\n",
       "    }\n",
       "  }\n",
       "\n",
       "  function clear_coordinates(e)\n",
       "  {\n",
       "    var dom_axes = e.currentTarget.parentElement;\n",
       "    var coordinates = dom_axes.querySelectorAll(\".toyplot-coordinates\");\n",
       "    for(var i = 0; i != coordinates.length; ++i)\n",
       "      coordinates[i].style.visibility = \"hidden\";\n",
       "  }\n",
       "\n",
       "  for(var axes_id in axes)\n",
       "  {\n",
       "    var event_target = document.querySelector(\"#\" + axes_id + \" .toyplot-coordinate-events\");\n",
       "    event_target.onmousemove = display_coordinates;\n",
       "    event_target.onmouseout = clear_coordinates;\n",
       "  }\n",
       "})();\n",
       "</script></div></div>"
      ]
     },
     "metadata": {},
     "output_type": "display_data"
    }
   ],
   "source": [
    "canvas = tp.Canvas(800, 300)\n",
    "ax1 = canvas.axes(grid=(1, 2, 0), label=\"Histogram p-values\")\n",
    "hist_p = ax1.bars(np.histogram(data[\"pval\"], bins=50, normed=True), color=\"steelblue\")\n",
    "hisp_p_density = ax1.plot([0, 1], [1, 1], color=\"red\")\n",
    "ax2 = canvas.axes(grid=(1, 2, 1), label=\"Histogram z-values\")\n",
    "hist_z = ax2.bars(np.histogram(data[\"zval\"], bins=50, normed=True), color=\"orange\")\n",
    "x = np.linspace(-3, 3, 200)\n",
    "hisp_z_density = ax2.plot(x, sp.stats.norm.pdf(x), color=\"red\")"
   ]
  },
  {
   "cell_type": "markdown",
   "metadata": {},
   "source": [
    "Теперь мы готовы **одновременно проверить нулевую гипотезу**: как мы помним, для этого есть два основных метода:\n",
    "* метод Фишера;\n",
    "* метод Бонферрони."
   ]
  },
  {
   "cell_type": "code",
   "execution_count": 13,
   "metadata": {
    "collapsed": false
   },
   "outputs": [
    {
     "name": "stdout",
     "output_type": "stream",
     "text": [
      "p-value Fisher: 1.074e-04\n"
     ]
    }
   ],
   "source": [
    "T = -2 * np.sum(np.log(data[\"pval\"]))\n",
    "print 'p-value Fisher: {:.3e}'.format(1 - sp.stats.chi2.cdf(T, 2*len(data)))"
   ]
  },
  {
   "cell_type": "code",
   "execution_count": 14,
   "metadata": {
    "collapsed": false
   },
   "outputs": [
    {
     "name": "stdout",
     "output_type": "stream",
     "text": [
      "\"p-value\" Bonferroni: 1.000e+00\n"
     ]
    }
   ],
   "source": [
    "print '\"p-value\" Bonferroni: {:.3e}'.format(min(1, data[\"pval\"].min() * len(data)))"
   ]
  },
  {
   "cell_type": "markdown",
   "metadata": {},
   "source": [
    "Как отмечалось выше, в подобной ситуации лучше воспользоваться тестом Фишера, о чем и говорит результат."
   ]
  },
  {
   "cell_type": "markdown",
   "metadata": {},
   "source": [
    "**Последовательная проверка**"
   ]
  },
  {
   "cell_type": "code",
   "execution_count": 21,
   "metadata": {
    "collapsed": true
   },
   "outputs": [],
   "source": [
    "from statsmodels.sandbox.stats.multicomp import multipletests"
   ]
  },
  {
   "cell_type": "code",
   "execution_count": 23,
   "metadata": {
    "collapsed": false
   },
   "outputs": [
    {
     "name": "stdout",
     "output_type": "stream",
     "text": [
      "Number of rejections: 0\n"
     ]
    }
   ],
   "source": [
    "alpha = 0.05\n",
    "data[\"reject_bc\"] = 1*(data[\"pval\"] < alpha / len(data))\n",
    "print 'Number of rejections: {}'.format(data[\"reject_bc\"].sum())"
   ]
  },
  {
   "cell_type": "markdown",
   "metadata": {},
   "source": [
    "По сути, тест Бонферрони в данном сулчае эквивалентен одноименно методу при одновременной проверке, что и потдтверждается результатами."
   ]
  },
  {
   "cell_type": "code",
   "execution_count": 26,
   "metadata": {
    "collapsed": true
   },
   "outputs": [],
   "source": [
    "is_reject, corrected_pvals, _, _ = multipletests(data[\"pval\"], alpha=0.1, method='fdr_bh')"
   ]
  },
  {
   "cell_type": "code",
   "execution_count": 27,
   "metadata": {
    "collapsed": false
   },
   "outputs": [
    {
     "name": "stdout",
     "output_type": "stream",
     "text": [
      "Number of rejections: 0\n"
     ]
    }
   ],
   "source": [
    "data[\"reject_fdr\"] = 1*is_reject\n",
    "data[\"pval_fdr\"] = corrected_pvals\n",
    "print 'Number of rejections: {}'.format(data[\"reject_fdr\"].sum())"
   ]
  },
  {
   "cell_type": "markdown",
   "metadata": {},
   "source": [
    "Несмотря на то, что тест асимптотически более мощный, ни одну индивидуальную гипотезу отвергнуть мы не смогли."
   ]
  },
  {
   "cell_type": "code",
   "execution_count": null,
   "metadata": {
    "collapsed": true
   },
   "outputs": [],
   "source": []
  }
 ],
 "metadata": {
  "kernelspec": {
   "display_name": "Python 2",
   "language": "python",
   "name": "python2"
  },
  "language_info": {
   "codemirror_mode": {
    "name": "ipython",
    "version": 2
   },
   "file_extension": ".py",
   "mimetype": "text/x-python",
   "name": "python",
   "nbconvert_exporter": "python",
   "pygments_lexer": "ipython2",
   "version": "2.7.10"
  }
 },
 "nbformat": 4,
 "nbformat_minor": 0
}

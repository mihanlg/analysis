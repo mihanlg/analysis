{
 "cells": [
  {
   "cell_type": "markdown",
   "metadata": {},
   "source": [
    "Что ты мы успели пройти к текущему моменту:\n",
    "- ММП и ММ;\n",
    "- свойства оценок;\n",
    "- проверка статистических гипотез;\n",
    "- разницу между ошибкой 1 и 2 рода;\n",
    "- разницу между параметрическим и непараметрическим методом;\n",
    "- бутстрап;\n",
    "- ядерные методы оценок плотности."
   ]
  },
  {
   "cell_type": "markdown",
   "metadata": {},
   "source": [
    "** Хорошая иллюстрация ошибок 1 и 2 рода:**"
   ]
  },
  {
   "cell_type": "markdown",
   "metadata": {},
   "source": [
    "<img src=\"type-i-and-type-ii-errors.jpg\">"
   ]
  },
  {
   "cell_type": "markdown",
   "metadata": {},
   "source": [
    "** Что у нас впереди:**\n",
    "- множественная проверка гипотез;\n",
    "- ANOVA;\n",
    "- метод главных компонент."
   ]
  },
  {
   "cell_type": "code",
   "execution_count": null,
   "metadata": {
    "collapsed": true
   },
   "outputs": [],
   "source": []
  }
 ],
 "metadata": {
  "kernelspec": {
   "display_name": "Python 2",
   "language": "python",
   "name": "python2"
  },
  "language_info": {
   "codemirror_mode": {
    "name": "ipython",
    "version": 2
   },
   "file_extension": ".py",
   "mimetype": "text/x-python",
   "name": "python",
   "nbconvert_exporter": "python",
   "pygments_lexer": "ipython2",
   "version": "2.7.10"
  }
 },
 "nbformat": 4,
 "nbformat_minor": 0
}

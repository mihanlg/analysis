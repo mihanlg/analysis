{
 "cells": [
  {
   "cell_type": "markdown",
   "metadata": {},
   "source": [
    "# Специальные методы классов и приватные функции"
   ]
  },
  {
   "cell_type": "markdown",
   "metadata": {},
   "source": [
    "### Приватные поля"
   ]
  },
  {
   "cell_type": "markdown",
   "metadata": {},
   "source": [
    "В Python есть всего два уровня доступа private и public. Уровень доступа определяется именем члена класса"
   ]
  },
  {
   "cell_type": "code",
   "execution_count": 1,
   "metadata": {
    "collapsed": false
   },
   "outputs": [
    {
     "name": "stdout",
     "output_type": "stream",
     "text": [
      "not private\n",
      "not private\n"
     ]
    },
    {
     "data": {
      "text/plain": [
       "{'_A__private': 'private',\n",
       " '__notPrivate__': 'not private',\n",
       " 'notPrivateToo': 'not private'}"
      ]
     },
     "execution_count": 1,
     "metadata": {},
     "output_type": "execute_result"
    }
   ],
   "source": [
    "class A(object):\n",
    "    def __init__(self):\n",
    "        self.__private = 'private'\n",
    "        self.__notPrivate__ = 'not private'\n",
    "        self.notPrivateToo = 'not private'\n",
    "        \n",
    "a = A()\n",
    "\n",
    "print a.__notPrivate__\n",
    "print a.notPrivateToo\n",
    "#print a.__private\n",
    "a.__dict__"
   ]
  },
  {
   "cell_type": "code",
   "execution_count": 2,
   "metadata": {
    "collapsed": false
   },
   "outputs": [
    {
     "name": "stdout",
     "output_type": "stream",
     "text": [
      "private\n"
     ]
    }
   ],
   "source": [
    "#Тем не менее\n",
    "print getattr(a,'_A__private')"
   ]
  },
  {
   "cell_type": "markdown",
   "metadata": {},
   "source": [
    "### Дескрипторы"
   ]
  },
  {
   "cell_type": "markdown",
   "metadata": {},
   "source": [
    "Существует такое понятие, как \"дескриптор\". В Python под дескриптором понимают атрибуты объектов со связанным поведением.\n",
    "Если в объекте реализован хотя бы один из след. методов: __get__, __set__ и __delete__ (протокол дескриптора), то считается, что этот объект становится дескриптором."
   ]
  },
  {
   "cell_type": "markdown",
   "metadata": {},
   "source": [
    "Дескрипторы делятся на дескрипторы данных (если реализованы и  __get__ и __set__) и дескрипторы не данных (если реализован только __get__)."
   ]
  },
  {
   "cell_type": "code",
   "execution_count": 3,
   "metadata": {
    "collapsed": false
   },
   "outputs": [
    {
     "name": "stdout",
     "output_type": "stream",
     "text": [
      "<__main__.A object at 0x103f702d0>\n",
      "Get value: value from <class '__main__.Storage'>\n",
      "value\n",
      "Set value: 10\n"
     ]
    }
   ],
   "source": [
    "class A(object):\n",
    "    \n",
    "    def __init__(self, value='value'):\n",
    "        self.value = value\n",
    "        \n",
    "\n",
    "class B(A):\n",
    "    \"\"\"Дескриптор данных, добавляет вывод\n",
    "       на стандартный выход информации об операциях обращения к данным.\n",
    "    \"\"\"\n",
    "    \n",
    "    def __init__(self, value='value'):\n",
    "        super(B, self).__init__(value)\n",
    "    \n",
    "    def __get__(self, obj, objtype):\n",
    "        print 'Get value: %s from %s' % (self.value, obj.__class__)\n",
    "        return self.value\n",
    "\n",
    "    def __set__(self, obj, value):\n",
    "        print 'Set value: %s' % value\n",
    "        self.value = value\n",
    "\n",
    "        \n",
    "class Storage(object):\n",
    "    a = A()\n",
    "    b = B()\n",
    "\n",
    "        \n",
    "store = Storage()\n",
    "print store.a\n",
    "\n",
    "print store.b\n",
    "\n",
    "store.b=10"
   ]
  },
  {
   "cell_type": "code",
   "execution_count": 4,
   "metadata": {
    "collapsed": false
   },
   "outputs": [
    {
     "name": "stdout",
     "output_type": "stream",
     "text": [
      "Get value: value from <type 'NoneType'>\n"
     ]
    },
    {
     "data": {
      "text/plain": [
       "'value'"
      ]
     },
     "execution_count": 4,
     "metadata": {},
     "output_type": "execute_result"
    }
   ],
   "source": [
    "b = B()\n",
    "b.__get__(None, None)"
   ]
  },
  {
   "cell_type": "code",
   "execution_count": 5,
   "metadata": {
    "collapsed": false
   },
   "outputs": [
    {
     "name": "stdout",
     "output_type": "stream",
     "text": [
      "Get value: 10 from <class '__main__.Storage'>\n"
     ]
    },
    {
     "data": {
      "text/plain": [
       "10"
      ]
     },
     "execution_count": 5,
     "metadata": {},
     "output_type": "execute_result"
    }
   ],
   "source": [
    "type(store).__dict__['b'].__get__(store, type(store))"
   ]
  },
  {
   "cell_type": "markdown",
   "metadata": {},
   "source": [
    "### Свойства"
   ]
  },
  {
   "cell_type": "code",
   "execution_count": 15,
   "metadata": {
    "collapsed": false
   },
   "outputs": [],
   "source": [
    "class C(object):\n",
    "    \n",
    "    def __init__(self, firstName, secondName):\n",
    "        self.firstName = firstName\n",
    "        self.secondName = secondName\n",
    "    \n",
    "    @property #системный декоратор\n",
    "    def fullName(self):\n",
    "        return self.firstName + ' ' + self.secondName\n",
    "    \n",
    "    def getFN(self): return self.secondName + ' ' + self.firstName \n",
    "    #def setFN(self, value): raise AttributeError()\n",
    "    def setFN(self, value):\n",
    "        _firstName, _secondName = value.split()\n",
    "        self.secondName = _secondName\n",
    "        self.firstName = _firstName\n",
    "    \n",
    "    fullNameReverse = property(getFN, setFN, None, \"Я свойство 'x'.\")"
   ]
  },
  {
   "cell_type": "code",
   "execution_count": 16,
   "metadata": {
    "collapsed": false
   },
   "outputs": [
    {
     "name": "stdout",
     "output_type": "stream",
     "text": [
      "Evgenii Zavialov\n",
      "Zavialov Evgenii\n"
     ]
    }
   ],
   "source": [
    "c = C('Evgenii', 'Zavialov')\n",
    "print c.fullName\n",
    "print c.fullNameReverse"
   ]
  },
  {
   "cell_type": "code",
   "execution_count": 17,
   "metadata": {
    "collapsed": false
   },
   "outputs": [
    {
     "name": "stdout",
     "output_type": "stream",
     "text": [
      "Hello world!\n"
     ]
    }
   ],
   "source": [
    "c.fullNameReverse = \"Hello world!\"\n",
    "print c.fullName"
   ]
  },
  {
   "cell_type": "markdown",
   "metadata": {},
   "source": [
    "# Полезные модули"
   ]
  },
  {
   "cell_type": "markdown",
   "metadata": {},
   "source": [
    "## Option Parser"
   ]
  },
  {
   "cell_type": "code",
   "execution_count": 1,
   "metadata": {
    "collapsed": false
   },
   "outputs": [
    {
     "name": "stderr",
     "output_type": "stream",
     "text": [
      "usage: __main__.py [-h] [-v] square\n",
      "__main__.py: error: argument square: invalid int value: '/Users/mihanlg/Library/Jupyter/runtime/kernel-ff12407e-4d37-45a5-875e-f4926abc03b1.json'\n"
     ]
    },
    {
     "ename": "SystemExit",
     "evalue": "2",
     "output_type": "error",
     "traceback": [
      "An exception has occurred, use %tb to see the full traceback.\n",
      "\u001b[0;31mSystemExit\u001b[0m\u001b[0;31m:\u001b[0m 2\n"
     ]
    },
    {
     "name": "stderr",
     "output_type": "stream",
     "text": [
      "To exit: use 'exit', 'quit', or Ctrl-D.\n"
     ]
    }
   ],
   "source": [
    "import argparse\n",
    "parser = argparse.ArgumentParser()\n",
    "parser.add_argument(\"square\", type=int,\n",
    "                    help=\"display a square of a given number\")\n",
    "parser.add_argument(\"-v\", \"--verbose\", action=\"store_true\",\n",
    "                    help=\"increase output verbosity\")\n",
    "args = parser.parse_args()\n",
    "answer = args.square**2\n",
    "if args.verbose:\n",
    "    print(\"the square of {} equals {}\".format(args.square, answer))\n",
    "else:\n",
    "    print(answer)"
   ]
  },
  {
   "cell_type": "markdown",
   "metadata": {},
   "source": [
    "— store: возвращает в пространство имен значение (после необязательного приведения типа)\n",
    "— store_const: в основном используется для флагов. Либо вернет Вам значение, указанное в const, либо (если ничего не указано), None.\n",
    "— store_true / store_false: аналог store_const, но для булевых True и False;\n",
    "— append: возвращает список путем добавления в него значений агрументов.\n",
    "— append_const: возвращение значения, определенного в спецификации аргумента, в список.\n",
    "— count: как следует из названия, считает, сколько раз встречается значение данного аргумента"
   ]
  },
  {
   "cell_type": "code",
   "execution_count": 2,
   "metadata": {
    "collapsed": false
   },
   "outputs": [
    {
     "ename": "ArgumentError",
     "evalue": "argument -v/--verbose: conflicting option string(s): --verbose, -v",
     "output_type": "error",
     "traceback": [
      "\u001b[0;31m---------------------------------------------------------------------------\u001b[0m",
      "\u001b[0;31mArgumentError\u001b[0m                             Traceback (most recent call last)",
      "\u001b[0;32m<ipython-input-2-bc319d913eb7>\u001b[0m in \u001b[0;36m<module>\u001b[0;34m()\u001b[0m\n\u001b[1;32m      1\u001b[0m \u001b[0mparser\u001b[0m\u001b[0;34m.\u001b[0m\u001b[0madd_argument\u001b[0m\u001b[0;34m(\u001b[0m\u001b[0;34m'--LifetheUniverseandEverything'\u001b[0m\u001b[0;34m,\u001b[0m \u001b[0maction\u001b[0m\u001b[0;34m=\u001b[0m\u001b[0;34m'store_const'\u001b[0m\u001b[0;34m,\u001b[0m \u001b[0mconst\u001b[0m\u001b[0;34m=\u001b[0m\u001b[0;36m42\u001b[0m\u001b[0;34m)\u001b[0m\u001b[0;34m\u001b[0m\u001b[0m\n\u001b[1;32m      2\u001b[0m \u001b[0mparser\u001b[0m\u001b[0;34m.\u001b[0m\u001b[0madd_argument\u001b[0m\u001b[0;34m(\u001b[0m\u001b[0;34m'--l'\u001b[0m\u001b[0;34m,\u001b[0m \u001b[0maction\u001b[0m\u001b[0;34m=\u001b[0m\u001b[0;34m'append'\u001b[0m\u001b[0;34m)\u001b[0m\u001b[0;34m\u001b[0m\u001b[0m\n\u001b[0;32m----> 3\u001b[0;31m \u001b[0mparser\u001b[0m\u001b[0;34m.\u001b[0m\u001b[0madd_argument\u001b[0m\u001b[0;34m(\u001b[0m\u001b[0;34m'--verbose'\u001b[0m\u001b[0;34m,\u001b[0m \u001b[0;34m'-v'\u001b[0m\u001b[0;34m,\u001b[0m \u001b[0maction\u001b[0m\u001b[0;34m=\u001b[0m\u001b[0;34m'count'\u001b[0m\u001b[0;34m)\u001b[0m\u001b[0;34m\u001b[0m\u001b[0m\n\u001b[0m\u001b[1;32m      4\u001b[0m \u001b[0mparser\u001b[0m \u001b[0;34m=\u001b[0m \u001b[0margparse\u001b[0m\u001b[0;34m.\u001b[0m\u001b[0mArgumentParser\u001b[0m\u001b[0;34m(\u001b[0m\u001b[0madd_help\u001b[0m\u001b[0;34m=\u001b[0m\u001b[0mTrue\u001b[0m\u001b[0;34m,\u001b[0m \u001b[0mversion\u001b[0m\u001b[0;34m=\u001b[0m\u001b[0;34m'4.0'\u001b[0m\u001b[0;34m)\u001b[0m\u001b[0;34m\u001b[0m\u001b[0m\n",
      "\u001b[0;32m//anaconda/lib/python2.7/argparse.pyc\u001b[0m in \u001b[0;36madd_argument\u001b[0;34m(self, *args, **kwargs)\u001b[0m\n\u001b[1;32m   1306\u001b[0m                 \u001b[0;32mraise\u001b[0m \u001b[0mValueError\u001b[0m\u001b[0;34m(\u001b[0m\u001b[0;34m\"length of metavar tuple does not match nargs\"\u001b[0m\u001b[0;34m)\u001b[0m\u001b[0;34m\u001b[0m\u001b[0m\n\u001b[1;32m   1307\u001b[0m \u001b[0;34m\u001b[0m\u001b[0m\n\u001b[0;32m-> 1308\u001b[0;31m         \u001b[0;32mreturn\u001b[0m \u001b[0mself\u001b[0m\u001b[0;34m.\u001b[0m\u001b[0m_add_action\u001b[0m\u001b[0;34m(\u001b[0m\u001b[0maction\u001b[0m\u001b[0;34m)\u001b[0m\u001b[0;34m\u001b[0m\u001b[0m\n\u001b[0m\u001b[1;32m   1309\u001b[0m \u001b[0;34m\u001b[0m\u001b[0m\n\u001b[1;32m   1310\u001b[0m     \u001b[0;32mdef\u001b[0m \u001b[0madd_argument_group\u001b[0m\u001b[0;34m(\u001b[0m\u001b[0mself\u001b[0m\u001b[0;34m,\u001b[0m \u001b[0;34m*\u001b[0m\u001b[0margs\u001b[0m\u001b[0;34m,\u001b[0m \u001b[0;34m**\u001b[0m\u001b[0mkwargs\u001b[0m\u001b[0;34m)\u001b[0m\u001b[0;34m:\u001b[0m\u001b[0;34m\u001b[0m\u001b[0m\n",
      "\u001b[0;32m//anaconda/lib/python2.7/argparse.pyc\u001b[0m in \u001b[0;36m_add_action\u001b[0;34m(self, action)\u001b[0m\n\u001b[1;32m   1680\u001b[0m     \u001b[0;32mdef\u001b[0m \u001b[0m_add_action\u001b[0m\u001b[0;34m(\u001b[0m\u001b[0mself\u001b[0m\u001b[0;34m,\u001b[0m \u001b[0maction\u001b[0m\u001b[0;34m)\u001b[0m\u001b[0;34m:\u001b[0m\u001b[0;34m\u001b[0m\u001b[0m\n\u001b[1;32m   1681\u001b[0m         \u001b[0;32mif\u001b[0m \u001b[0maction\u001b[0m\u001b[0;34m.\u001b[0m\u001b[0moption_strings\u001b[0m\u001b[0;34m:\u001b[0m\u001b[0;34m\u001b[0m\u001b[0m\n\u001b[0;32m-> 1682\u001b[0;31m             \u001b[0mself\u001b[0m\u001b[0;34m.\u001b[0m\u001b[0m_optionals\u001b[0m\u001b[0;34m.\u001b[0m\u001b[0m_add_action\u001b[0m\u001b[0;34m(\u001b[0m\u001b[0maction\u001b[0m\u001b[0;34m)\u001b[0m\u001b[0;34m\u001b[0m\u001b[0m\n\u001b[0m\u001b[1;32m   1683\u001b[0m         \u001b[0;32melse\u001b[0m\u001b[0;34m:\u001b[0m\u001b[0;34m\u001b[0m\u001b[0m\n\u001b[1;32m   1684\u001b[0m             \u001b[0mself\u001b[0m\u001b[0;34m.\u001b[0m\u001b[0m_positionals\u001b[0m\u001b[0;34m.\u001b[0m\u001b[0m_add_action\u001b[0m\u001b[0;34m(\u001b[0m\u001b[0maction\u001b[0m\u001b[0;34m)\u001b[0m\u001b[0;34m\u001b[0m\u001b[0m\n",
      "\u001b[0;32m//anaconda/lib/python2.7/argparse.pyc\u001b[0m in \u001b[0;36m_add_action\u001b[0;34m(self, action)\u001b[0m\n\u001b[1;32m   1507\u001b[0m \u001b[0;34m\u001b[0m\u001b[0m\n\u001b[1;32m   1508\u001b[0m     \u001b[0;32mdef\u001b[0m \u001b[0m_add_action\u001b[0m\u001b[0;34m(\u001b[0m\u001b[0mself\u001b[0m\u001b[0;34m,\u001b[0m \u001b[0maction\u001b[0m\u001b[0;34m)\u001b[0m\u001b[0;34m:\u001b[0m\u001b[0;34m\u001b[0m\u001b[0m\n\u001b[0;32m-> 1509\u001b[0;31m         \u001b[0maction\u001b[0m \u001b[0;34m=\u001b[0m \u001b[0msuper\u001b[0m\u001b[0;34m(\u001b[0m\u001b[0m_ArgumentGroup\u001b[0m\u001b[0;34m,\u001b[0m \u001b[0mself\u001b[0m\u001b[0;34m)\u001b[0m\u001b[0;34m.\u001b[0m\u001b[0m_add_action\u001b[0m\u001b[0;34m(\u001b[0m\u001b[0maction\u001b[0m\u001b[0;34m)\u001b[0m\u001b[0;34m\u001b[0m\u001b[0m\n\u001b[0m\u001b[1;32m   1510\u001b[0m         \u001b[0mself\u001b[0m\u001b[0;34m.\u001b[0m\u001b[0m_group_actions\u001b[0m\u001b[0;34m.\u001b[0m\u001b[0mappend\u001b[0m\u001b[0;34m(\u001b[0m\u001b[0maction\u001b[0m\u001b[0;34m)\u001b[0m\u001b[0;34m\u001b[0m\u001b[0m\n\u001b[1;32m   1511\u001b[0m         \u001b[0;32mreturn\u001b[0m \u001b[0maction\u001b[0m\u001b[0;34m\u001b[0m\u001b[0m\n",
      "\u001b[0;32m//anaconda/lib/python2.7/argparse.pyc\u001b[0m in \u001b[0;36m_add_action\u001b[0;34m(self, action)\u001b[0m\n\u001b[1;32m   1320\u001b[0m     \u001b[0;32mdef\u001b[0m \u001b[0m_add_action\u001b[0m\u001b[0;34m(\u001b[0m\u001b[0mself\u001b[0m\u001b[0;34m,\u001b[0m \u001b[0maction\u001b[0m\u001b[0;34m)\u001b[0m\u001b[0;34m:\u001b[0m\u001b[0;34m\u001b[0m\u001b[0m\n\u001b[1;32m   1321\u001b[0m         \u001b[0;31m# resolve any conflicts\u001b[0m\u001b[0;34m\u001b[0m\u001b[0;34m\u001b[0m\u001b[0m\n\u001b[0;32m-> 1322\u001b[0;31m         \u001b[0mself\u001b[0m\u001b[0;34m.\u001b[0m\u001b[0m_check_conflict\u001b[0m\u001b[0;34m(\u001b[0m\u001b[0maction\u001b[0m\u001b[0;34m)\u001b[0m\u001b[0;34m\u001b[0m\u001b[0m\n\u001b[0m\u001b[1;32m   1323\u001b[0m \u001b[0;34m\u001b[0m\u001b[0m\n\u001b[1;32m   1324\u001b[0m         \u001b[0;31m# add to actions list\u001b[0m\u001b[0;34m\u001b[0m\u001b[0;34m\u001b[0m\u001b[0m\n",
      "\u001b[0;32m//anaconda/lib/python2.7/argparse.pyc\u001b[0m in \u001b[0;36m_check_conflict\u001b[0;34m(self, action)\u001b[0m\n\u001b[1;32m   1458\u001b[0m         \u001b[0;32mif\u001b[0m \u001b[0mconfl_optionals\u001b[0m\u001b[0;34m:\u001b[0m\u001b[0;34m\u001b[0m\u001b[0m\n\u001b[1;32m   1459\u001b[0m             \u001b[0mconflict_handler\u001b[0m \u001b[0;34m=\u001b[0m \u001b[0mself\u001b[0m\u001b[0;34m.\u001b[0m\u001b[0m_get_handler\u001b[0m\u001b[0;34m(\u001b[0m\u001b[0;34m)\u001b[0m\u001b[0;34m\u001b[0m\u001b[0m\n\u001b[0;32m-> 1460\u001b[0;31m             \u001b[0mconflict_handler\u001b[0m\u001b[0;34m(\u001b[0m\u001b[0maction\u001b[0m\u001b[0;34m,\u001b[0m \u001b[0mconfl_optionals\u001b[0m\u001b[0;34m)\u001b[0m\u001b[0;34m\u001b[0m\u001b[0m\n\u001b[0m\u001b[1;32m   1461\u001b[0m \u001b[0;34m\u001b[0m\u001b[0m\n\u001b[1;32m   1462\u001b[0m     \u001b[0;32mdef\u001b[0m \u001b[0m_handle_conflict_error\u001b[0m\u001b[0;34m(\u001b[0m\u001b[0mself\u001b[0m\u001b[0;34m,\u001b[0m \u001b[0maction\u001b[0m\u001b[0;34m,\u001b[0m \u001b[0mconflicting_actions\u001b[0m\u001b[0;34m)\u001b[0m\u001b[0;34m:\u001b[0m\u001b[0;34m\u001b[0m\u001b[0m\n",
      "\u001b[0;32m//anaconda/lib/python2.7/argparse.pyc\u001b[0m in \u001b[0;36m_handle_conflict_error\u001b[0;34m(self, action, conflicting_actions)\u001b[0m\n\u001b[1;32m   1465\u001b[0m                                      \u001b[0;32mfor\u001b[0m \u001b[0moption_string\u001b[0m\u001b[0;34m,\u001b[0m \u001b[0maction\u001b[0m\u001b[0;34m\u001b[0m\u001b[0m\n\u001b[1;32m   1466\u001b[0m                                      in conflicting_actions])\n\u001b[0;32m-> 1467\u001b[0;31m         \u001b[0;32mraise\u001b[0m \u001b[0mArgumentError\u001b[0m\u001b[0;34m(\u001b[0m\u001b[0maction\u001b[0m\u001b[0;34m,\u001b[0m \u001b[0mmessage\u001b[0m \u001b[0;34m%\u001b[0m \u001b[0mconflict_string\u001b[0m\u001b[0;34m)\u001b[0m\u001b[0;34m\u001b[0m\u001b[0m\n\u001b[0m\u001b[1;32m   1468\u001b[0m \u001b[0;34m\u001b[0m\u001b[0m\n\u001b[1;32m   1469\u001b[0m     \u001b[0;32mdef\u001b[0m \u001b[0m_handle_conflict_resolve\u001b[0m\u001b[0;34m(\u001b[0m\u001b[0mself\u001b[0m\u001b[0;34m,\u001b[0m \u001b[0maction\u001b[0m\u001b[0;34m,\u001b[0m \u001b[0mconflicting_actions\u001b[0m\u001b[0;34m)\u001b[0m\u001b[0;34m:\u001b[0m\u001b[0;34m\u001b[0m\u001b[0m\n",
      "\u001b[0;31mArgumentError\u001b[0m: argument -v/--verbose: conflicting option string(s): --verbose, -v"
     ]
    }
   ],
   "source": [
    "parser.add_argument('--LifetheUniverseandEverything', action='store_const', const=42)\n",
    "parser.add_argument('--l', action='append')\n",
    "parser.add_argument('--verbose', '-v', action='count')\n",
    "parser = argparse.ArgumentParser(add_help=True, version='4.0')"
   ]
  },
  {
   "cell_type": "markdown",
   "metadata": {},
   "source": [
    "## Unit-тесты"
   ]
  },
  {
   "cell_type": "markdown",
   "metadata": {},
   "source": [
    "<img src=\"http://gahcep.github.io/images/qa-in-python-unittest/unittest.png\">"
   ]
  },
  {
   "cell_type": "code",
   "execution_count": 6,
   "metadata": {
    "collapsed": false,
    "scrolled": true
   },
   "outputs": [
    {
     "name": "stderr",
     "output_type": "stream",
     "text": [
      "test_isupper (__main__.TestStringMethods) ... ok\n",
      "test_split (__main__.TestStringMethods) ... ok\n",
      "test_upper (__main__.TestStringMethods) ... ok\n",
      "test_isupper (__main__.TestStringMethods) ... ok\n",
      "test_split (__main__.TestStringMethods) ... ok\n",
      "test_upper (__main__.TestStringMethods) ... ok\n",
      "\n",
      "----------------------------------------------------------------------\n",
      "Ran 6 tests in 0.006s\n",
      "\n",
      "OK\n"
     ]
    }
   ],
   "source": [
    "import unittest\n",
    "import sys\n",
    "\n",
    "class TestStringMethods(unittest.TestCase):\n",
    "\n",
    "  def test_upper(self):\n",
    "      self.assertEqual('foo'.upper(), 'FOO')\n",
    "\n",
    "  def test_isupper(self):\n",
    "      self.assertTrue('FOO'.isupper())\n",
    "      self.assertFalse('Foo'.isupper())\n",
    "\n",
    "  def test_split(self):\n",
    "      s = 'hello world'\n",
    "      self.assertEqual(s.split(), ['hello', 'world'])\n",
    "      # check that s.split fails when the separator is not a string\n",
    "      with self.assertRaises(TypeError):\n",
    "          s.split(2)\n",
    "\n",
    "if __name__ == '__main__':\n",
    "    loader = unittest.TestLoader()\n",
    "    suite = loader.loadTestsFromModule(sys.modules[__name__])\n",
    "    suite.addTests(loader.loadTestsFromModule(sys.modules[__name__]))\n",
    "    runner = unittest.TextTestRunner(verbosity=2)\n",
    "    runner.run(suite)\n",
    "    #print unittest.main()"
   ]
  },
  {
   "cell_type": "markdown",
   "metadata": {},
   "source": [
    "## Работа с html"
   ]
  },
  {
   "cell_type": "code",
   "execution_count": 12,
   "metadata": {
    "collapsed": false
   },
   "outputs": [
    {
     "name": "stdout",
     "output_type": "stream",
     "text": [
      "<html xmlns=\"http://www.w3.org/1999/xhtml\" xml:lang=\"ru\" lang=\"ru\" dir=\"ltr\">\r\n",
      "<head>\r\n",
      "<title>статистика сайта &quot;Сайты Рунета&quot;</title>\r\n",
      "<meta http-equiv=\"Content-Type\" content=\"text/html; charset=utf-8\">\r\n",
      "<meta http-equiv=\"Pragma\" content=\"no-cache\">\r\n",
      "<meta http-equiv=\"Expires\" content=\"-1\">\r\n",
      "<meta http-equiv=\"Cache-Control\" content=\"no-cache\">\r\n",
      "<link rel=\"shortcut icon\" href=\"/i/fav-stat.ico\" type=\"image/x-icon\"/>\r\n",
      "<style type=\"text/css\">\r\n",
      ".vm { color:#f7f7f7; font-size:11px; font-weight:bold;  text-transform:lowercase; text-decoration:none }\r\n",
      ".bc1 { background: #508099;}\r\n",
      ".bc2 { background: gray; color: white; width: 136px;}\r\n",
      ".bc4 { font: bold 16px;}\r\n",
      ".bc41 { font: 12px; color: gray;}\r\n",
      ".bc42 { font: bold 14px; color: white; background-color: #ff9900; padding-top: 3px;padding-bottom: 3px;padding-left: 3 px; padding-right: 3px;text-decoration: none; width: 500px;}\r\n",
      ".bc5 { font: bold 11px;}\r\n",
      ".bc6o { font: bold 11px; background: gray; color: white; width: 70px; height: 18px; text-align: center; vertical-align:middle;}\r\n",
      ".bc6 { font: bold 11px; background: #f0f0f0; width: 70px; height: 18px; text-align: center; vertical-align:middle;}\r\n",
      "\r\n",
      "a {color: black}\r\n",
      "a:active {color: black}\r\n",
      "a.replink:visited {color: #707070}\r\n",
      "a.menu {text-decoration: none; padding:2px;}\r\n",
      "a.menu:hover{color: #ffffff; text-decoration: none; background: #999999;}\r\n",
      "\r\n",
      "td { font: 11px 'Arial', 'Verdana', sans-serif; line-height: 16px;  }\r\n",
      "\r\n",
      ".boldl2 {font: bold 18px 'Tahoma', 'Verdana', sans-serif; text-decoration:none color: #000066 ; line-height: 120%}\r\n",
      ".boldl3 {font: bold 11px 'Tahoma', 'Verdana', sans-serif; color: #000000; line-height: 140%}\r\n",
      ".boldl4 {font: bold 12px 'Tahoma', 'Verdana', sans-serif; color: #333399; line-height: 120%}\r\n",
      ".a1 {font: 11px; color:#0000CC; line-height: 11px}\r\n",
      ".a2 {font: 11px; color:#0000CC; line-height: 11px}\r\n",
      ".a22 {background:#bcbcbc; color:white;}\r\n",
      "TABLE.vigator {margin: 5; padding: 0.3em 0.0em; border: 1px dashed #999999}\r\n",
      ".tooltip {display: none; z-index:10;\r\n",
      "position:absolute; left:-1000px; top:-1000px;\r\n",
      "background-color: #FFB; border: 1px solid #000;\r\n",
      "padding: 5px; overflow: hidden;\r\n",
      "}\r\n",
      "\r\n",
      "</style>\r\n",
      "\r\n",
      "<link rel=\"stylesheet\" type=\"text/css\" media=\"all\" href=\"http://i.li.ru/_sl_/style.css\">\r\n",
      "<script type=\"text/javascript\" src=\"http://i.li.ru/_sl_/sl4.js\"></script>\r\n",
      "\r\n",
      "<script type=\"text/javascript\">\r\n",
      "function cl(link)\r\n",
      "{\r\n",
      "img = new Image();\r\n",
      "img.src = 'http://www.liveinternet.ru/click?*' + link;\r\n",
      "}\r\n",
      "\r\n",
      "function languagesSwitch(show)\r\n",
      "{\r\n",
      "language_menu.style.visibility = \r\n",
      "show == 1 || language_menu.style.visibility == 'hidden' ? 'visible' : 'hidden';\r\n",
      "}\r\n",
      "</script>\r\n",
      "</head>\r\n",
      "\r\n",
      "<BODY bgColor=\"#FFFFFF\" text=\"#000000\"\r\n",
      "link=\"#0000EE\" vlink=\"#551A8B\" alink=\"#FF0000\" topmargin=6>\r\n",
      "\r\n",
      "<div id='uinfo' onmouseover='_sl_onmouseover(0);'\r\n",
      "onmouseout='_sl_onmouseout();' style='position:absolute;\r\n",
      "left:0px; top:0px; visibility: hidden; z-index=1;'></div>\r\n",
      "\r\n",
      "<div style=\"z-index:10003; position:absolute; top:0;\r\n",
      "right:0; float: right; border-left: #808080 1px solid;\r\n",
      "border-bottom: #808080 1px solid; padding: 2px; background: #F0F0F0;\r\n",
      "font: 11px 'Arial', 'Verdana', sans-serif;\">&nbsp;\r\n",
      "<a class=menu href=\"searches.html?lang=ru\"><b>Русский</b></a> &nbsp;\r\n",
      "<a class=menu href=\"searches.html?lang=en\">English</a> &nbsp;\r\n",
      "<a class=menu href=\"javascript:languagesSwitch(0)\"\r\n",
      "onMouseOver=\"languagesSwitch(1)\">&nbsp;&nabla;&nbsp;</a>&nbsp;\r\n",
      "</div><div id=\"language_menu\" style=\"visibility:hidden; z-index:10002;\r\n",
      "position: absolute; top:18px;\r\n",
      "right:0; float: right; border-left: #808080 1px solid;\r\n",
      "border-bottom: #808080 1px solid; padding: 8px; background: #F0F0F0;\r\n",
      "font: 11px 'Arial', 'Verdana', sans-serif; line-height: 175%;\"><a class=menu href=\"searches.html?lang=ar\">العربية</a><br>\r\n",
      "<a class=menu href=\"searches.html?lang=be\">Беларуская</a><br>\r\n",
      "<a class=menu href=\"searches.html?lang=de\">Deutsch</a><br>\r\n",
      "<a class=menu href=\"searches.html?lang=en\">English</a><br>\r\n",
      "<a class=menu href=\"searches.html?lang=es\">Español</a><br>\r\n",
      "<a class=menu href=\"searches.html?lang=fr\">Français</a><br>\r\n",
      "<a class=menu href=\"searches.html?lang=he\">עברית</a><br>\r\n",
      "<a class=menu href=\"searches.html?lang=it\">Italiano</a><br>\r\n",
      "<a class=menu href=\"searches.html?lang=ja\">日本語</a><br>\r\n",
      "<a class=menu href=\"searches.html?lang=lt\">Lietuvių</a><br>\r\n",
      "<a class=menu href=\"searches.html?lang=lv\">Latviešu</a><br>\r\n",
      "<a class=menu href=\"searches.html?lang=pl\">Polski</a><br>\r\n",
      "<a class=menu href=\"searches.html?lang=pt\">Português</a><br>\r\n",
      "<a class=menu href=\"searches.html?lang=ru\"><b>Русский</b></a><br>\r\n",
      "<a class=menu href=\"searches.html?lang=tr\">Türkçe</a><br>\r\n",
      "<a class=menu href=\"searches.html?lang=uk\">Українська</a><br>\r\n",
      "<a class=menu href=\"searches.html?lang=zh\">简体中文</a><br>\r\n",
      "</div>\r\n",
      "\r\n",
      "\r\n",
      "<center>\r\n",
      "\r\n",
      "<div style=\"text-align:left; margin:5px; overflow:hidden; width:820; font: 11px 'Arial', 'Verdana', sans-serif; font-weight:bold; line-height: 16px; \">\r\n",
      "<nobr><b><a href=\"/\">LiveInternet</a>\r\n",
      "<span style=\"padding:10\">&bull;</span>\n",
      "<a href=\"/rating/ru/\">Рейтинг сайтов</a>\n",
      "\n",
      "<span style=\"padding:10\">&bull;</span>\n",
      "<a href=\"/rating/ru/\">Сайты Рунета</a>\n",
      "\r\n",
      "</b></nobr></div><script type=\"text/javascript\"><!--\r\n",
      "\r\n",
      "_sl_init('uinfo','Search engines');\r\n",
      "\r\n",
      "var sId = \"\";\r\n",
      "var urlMasidx=1;\r\n",
      "var urlMas = Array();\r\n",
      "function _sl_UrlMake(i) {return i + \";winupload=on\";}\r\n",
      "\r\n",
      "function go(s) \r\n",
      "{\r\n",
      "\tlocation.href = 'http://' + document.domain + '/stat/ru/' +\r\n",
      "\t\ts.options[s.selectedIndex].value;\r\n",
      "}\r\n",
      "function other(s)\r\n",
      "{\r\n",
      "\tif (s.selectedIndex < s.length - 1) {\r\n",
      "\t\tlocation.href = 'http://' + document.domain + '/stat/' +\r\n",
      "\t\t\ts.options[s.selectedIndex].value +\r\n",
      "\t\t\t'/searches.html';\r\n",
      "\t} else {\r\n",
      "\t\tif (confirm(\"Очистить список сайтов?\"))\r\n",
      "\t\t\tlocation.href = 'http://' + document.domain + \r\n",
      "\t\t\t'/stat/ru/searches.html?action=clear_history';\r\n",
      "\t\telse \r\n",
      "\t\t\ts.selectedIndex = 0;\r\n",
      "\t}\r\n",
      "\t\r\n",
      "}\r\n",
      "function open_mins(link)\r\n",
      "{\r\n",
      "\twindow.open(link, \"mins\", \"width=680,height=480,\" +\r\n",
      "\t\"scrollbars=no,toolbar=no,statusbar=no,location=no,directories=no,status=no,menubar=no\");\r\n",
      "\treturn false;\r\n",
      "}\r\n",
      "function help(link)\r\n",
      "{\r\n",
      "\twindow.open(link, \"help\", \"width=500,height=300,\" +\r\n",
      "\t\"scrollbars=yes,toolbar=no,statusbar=no,location=no,directories=no,status=no,menubar=no\");\r\n",
      "\treturn false;\r\n",
      "}\r\n",
      "\r\n",
      "var titles = new Array();\r\n",
      "var tooltip;\r\n",
      "\r\n",
      "function cellOver(event)\r\n",
      "{\r\n",
      "\tif (!tooltip) tooltip = document.getElementById('tooltip');\r\n",
      "\tt = event.target;\r\n",
      "\tif (t.tagName != \"TD\" && t.parentNode.tagName == \"TD\") t = t.parentNode;\r\n",
      "\tif (t.tagName == \"TD\" && t.parentNode.rowIndex > 0 && \r\n",
      "\t\t(t.parentNode.title || titles[t.parentNode.rowIndex])) {\r\n",
      "\t\tif (t.parentNode.title) {\r\n",
      "\t\t\ttitles[t.parentNode.rowIndex] = t.parentNode.title;\r\n",
      "\t\t\tt.parentNode.title = \"\";\r\n",
      "\t\t}\r\n",
      "\t\ttooltip.innerHTML = titles[t.parentNode.rowIndex];\r\n",
      "\t\ttooltip.style.top = event.clientY + 2 + document.body.scrollTop;\r\n",
      "\t\ttooltip.style.left = event.clientX + 2 + document.body.scrollLeft;\r\n",
      "\t\ttooltip.style.display = \"inline\";\r\n",
      "\t} else {\r\n",
      "\t\ttooltip.style.display = \"none\";\r\n",
      "\t}\r\n",
      "}\r\n",
      "\r\n",
      "function cellMove(event)\r\n",
      "{\r\n",
      "\tif (tooltip) {\r\n",
      "\t\ttooltip.style.top = event.clientY + 2 + document.body.scrollTop;\r\n",
      "\t\ttooltip.style.left = event.clientX + 2 + document.body.scrollLeft;\r\n",
      "\t}\r\n",
      "}\r\n",
      "function cellOut(event)\r\n",
      "{\r\n",
      "\tif (tooltip) tooltip.style.display = \"none\";\r\n",
      "}\r\n",
      "\r\n",
      "//--></script>\r\n",
      "\r\n",
      "\r\n",
      "<table border=0 cellpadding=0 cellspacing=0 width=850>\r\n",
      "<tbody><tr>\r\n",
      "<td align=left valign=\"top\" width=\"150\">\r\n",
      "\r\n",
      "<p>\r\n",
      "\r\n",
      "<div style=\"width:150px;padding:4px;\">\r\n",
      "<a href=\"index.html\">посещаемость</a><br>\r\n",
      "<a href=\"hours.html\">по времени суток</a><br>\r\n",
      "<a href=\"online.html\">online</a><br>\r\n",
      "<a href=\"sum.html\">за неделю и месяц</a><br>\r\n",
      "\r\n",
      "<br>\r\n",
      "\r\n",
      "<a href=\"visitors.html\">размер аудитории</a><br>\r\n",
      "<a href=\"days_pw.html\">дней в неделю</a><br>\r\n",
      "<a href=\"days_pm.html\">дней в месяц</a><br>\r\n",
      "<a href=\"compare.html\">сравнение аудиторий</a><br>\r\n",
      "<a href=\"sessions_pv.html\">сессий на посетителя</a><br>\r\n",
      "<a href=\"returns.html\">возвраты</a><br>\r\n",
      "<a href=\"hits_pv.html\">просм. на посетителя</a><br>\r\n",
      "<a href=\"hits_ps.html\">просмотров за сессию</a><br>\r\n",
      "<a href=\"durations.html\">длительность сессий</a><br>\r\n",
      "<br>\r\n",
      "\r\n",
      "\r\n",
      "<a href=\"servers.html\">варианты обращения</a><br>\r\n",
      "\r\n",
      "<br>\r\n",
      "\r\n",
      "<a href=\"catalogs.html\">из каталогов и рейтингов</a><br>\r\n",
      "<a href=\"socials.html\">из социальных сетей</a><br>\r\n",
      "<a href=\"searches.html\"><span class=bc2>из поисковых систем</span></a><br>\r\n",
      "<a href=\"queries.html\">по поисковым фразам</a><br>\r\n",
      "<br>\r\n",
      "<a href=\"clicks.html\">переходы по ссылкам</a><br>\r\n",
      "\r\n",
      "\r\n",
      "<br>\r\n",
      "<a href=\"demo.html\">демография</a><br>\r\n",
      "\r\n",
      "<a href=\"countries.html\">страны</a><br>\r\n",
      "<a href=\"countries_hits.html\">страны (просмотры)</a><br>\r\n",
      "<a href=\"regions.html\">регионы России</a><br>\r\n",
      "<a href=\"regions_hits.html\">регионы (просмотры)</a><br>\r\n",
      "<a href=\"providers.html\">провайдеры</a><br>\r\n",
      "<a href=\"languages.html\">языки</a><br>\r\n",
      "<a href=\"browsers.html\">браузеры</a><br>\r\n",
      "<a href=\"oses.html\">ОС</a><br>\r\n",
      "<a href=\"resolutions.html\">разрешение</a><br>\r\n",
      "<a href=\"colors.html\">кол-во цветов</a><br>\r\n",
      "\r\n",
      "<br>\r\n",
      "<br>\r\n",
      "<a href=\"edit.html\">изменение описания</a><br>\r\n",
      "<a href=\"logout.html\">выход</a><br>\r\n",
      "\r\n",
      "</div>\t\r\n",
      "<br><br>\r\n",
      "\r\n",
      "<table>\r\n",
      "<tr>\r\n",
      "<td>\r\n",
      "<img src=\"http://i.li.ru/gg/smart.gif\" width=30 height=61>\r\n",
      "</td>\r\n",
      "<td>\r\n",
      "<a href=\"http://pda.liveinternet.ru/stat/ru/searches.html\">Статистика<br>для PDA</a>\r\n",
      "</td>\r\n",
      "\r\n",
      "\r\n",
      "</table>\r\n",
      "<br>\r\n",
      "<br>\r\n",
      "<hr>\r\n",
      "<!--MediaTarget--><iframe width=150 height=840\r\n",
      "src=\"http://sticker.yadro.ru/ad/150x840.html?place=39;keywords=spec-target-listat-ru\"\r\n",
      "frameborder=0 vspace=0 hspace=0 scrolling=no\r\n",
      "marginwidth=0 marginheight=0></iframe><!--/MediaTarget-->\r\n",
      "\r\n",
      "<span id=banstat12_span></span>\r\n",
      "<br><br>\r\n",
      "\r\n",
      "<p>\r\n",
      "<span id=banstat11_span></span>\r\n",
      "<br>\r\n",
      "\r\n",
      "</td>\r\n",
      "<td width=10>&nbsp;</td>\r\n",
      "<td valign=top width=520>\r\n",
      "<!--баннер на схеме размещения не значится, стоит на самом верху-->\r\n",
      "<table width=520 cellpadding=3 cellspacing=0 border=0>\r\n",
      "<tr bgcolor=#cccccc><form>\r\n",
      "<td><b>Статистика сайта:</td>\r\n",
      "<td align=right><b>ru</b></td>\r\n",
      "\r\n",
      "<tr bgcolor=\"#e6e6e6\"><td colspan=2>\n",
      "<a href=\"/help/stat/slices.html\" title=\"справка\" target=_blank onClick='return help(this)'><img src=http://i.li.ru/i/help.gif width=16 height=16 border=0></a>\n",
      "<a href=\"edit.html?what=slices\">Срезы</a>:\n",
      "\n",
      "\n",
      "<a href=\"searches.html?slice=mobile\">mobile</a>\n",
      "\n",
      "<a href=\"searches.html?slice=desktop\">desktop</a>\n",
      "\n",
      "<a href=\"searches.html?slice=win10\">win10</a>\n",
      "\n",
      "<a href=\"searches.html?slice=winphone\">winphone</a>\n",
      "\n",
      "<a href=\"searches.html?slice=sputnik\">sputnik</a>\n",
      "\n",
      "<a href=\"searches.html?slice=crimea\">crimea</a>\n",
      "\n",
      "<a href=\"searches.html?slice=msk_iphone\">msk_iphone</a>\n",
      "\n",
      "<a href=\"searches.html?slice=msk_andr\">msk_andr</a>\n",
      "\n",
      "<a href=\"searches.html?slice=ya-browser\">ya-browser</a>\n",
      "\n",
      "<a href=\"searches.html?slice=yahoo\">yahoo</a>\n",
      "\n",
      "<a href=\"searches.html?slice=barnaul\">barnaul</a>\n",
      "\n",
      "<a href=\"searches.html?slice=nnovgorod\">nnovgorod</a>\n",
      "\n",
      "<a href=\"searches.html?slice=tyumen\">tyumen</a>\n",
      "\n",
      "<a href=\"searches.html?slice=img.ya\">img.ya</a>\n",
      "\n",
      "<a href=\"searches.html?slice=iphone\">iphone</a>\n",
      "\n",
      "<a href=\"searches.html?slice=perm\">perm</a>\n",
      "\n",
      "<a href=\"searches.html?slice=cr-mail\">cr-mail</a>\n",
      "\n",
      "<a href=\"searches.html?slice=goo-chrome\">goo-chrome</a>\n",
      "\n",
      "<a href=\"searches.html?slice=ya-chrome\">ya-chrome</a>\n",
      "\n",
      "<a href=\"searches.html?slice=tomsk\">tomsk</a>\n",
      "\n",
      "<a href=\"searches.html?slice=orenburg\">orenburg</a>\n",
      "\n",
      "<a href=\"searches.html?slice=android\">android</a>\n",
      "\n",
      "<a href=\"searches.html?slice=kurgan\">kurgan</a>\n",
      "\n",
      "<a href=\"searches.html?slice=chel\">chel</a>\n",
      "\n",
      "<a href=\"searches.html?slice=krasnodar\">krasnodar</a>\n",
      "\n",
      "<a href=\"searches.html?slice=mini\">mini</a>\n",
      "\n",
      "<a href=\"searches.html?slice=ipad\">ipad</a>\n",
      "\n",
      "<a href=\"searches.html?slice=ffall\">ffall</a>\n",
      "\n",
      "<a href=\"searches.html?slice=ieall\">ieall</a>\n",
      "\n",
      "<a href=\"searches.html?slice=opera\">opera</a>\n",
      "\n",
      "<a href=\"searches.html?slice=saf\">saf</a>\n",
      "\n",
      "<a href=\"searches.html?slice=ie6\">ie6</a>\n",
      "\n",
      "<a href=\"searches.html?slice=ge\">ge</a>\n",
      "\n",
      "<a href=\"searches.html?slice=ufa\">ufa</a>\n",
      "\n",
      "<a href=\"searches.html?slice=chrome-ww\">chrome-ww</a>\n",
      "\n",
      "<a href=\"searches.html?slice=bing\">bing</a>\n",
      "\n",
      "<a href=\"searches.html?slice=qip\">qip</a>\n",
      "\n",
      "<a href=\"searches.html?slice=goo-ru\">goo-ru</a>\n",
      "\n",
      "<a href=\"searches.html?slice=chrome\">chrome</a>\n",
      "\n",
      "<a href=\"searches.html?slice=rus\">rus</a>\n",
      "\n",
      "<a href=\"searches.html?slice=by\">by</a>\n",
      "\n",
      "<a href=\"searches.html?slice=kz\">kz</a>\n",
      "\n",
      "<a href=\"searches.html?slice=liru\">liru</a>\n",
      "\n",
      "<a href=\"searches.html?slice=go.mail\">go.mail</a>\n",
      "\n",
      "<a href=\"searches.html?slice=spb\">spb</a>\n",
      "\n",
      "<a href=\"searches.html?slice=yablog\">yablog</a>\n",
      "\n",
      "<a href=\"searches.html?slice=nigma\">nigma</a>\n",
      "\n",
      "<a href=\"searches.html?slice=vlad\">vlad</a>\n",
      "\n",
      "<a href=\"searches.html?slice=m1.yandex\">m1.yandex</a>\n",
      "\n",
      "<a href=\"searches.html?slice=Google\">Google</a>\n",
      "\n",
      "<a href=\"searches.html?slice=rambler\">rambler</a>\n",
      "\n",
      "<a href=\"searches.html?slice=yandex\">yandex</a>\n",
      "\n",
      "<a href=\"searches.html?slice=izr\">izr</a>\n",
      "\n",
      "<a href=\"searches.html?slice=ukr\">ukr</a>\n",
      "\n",
      "<a href=\"searches.html?slice=novosib\">novosib</a>\n",
      "\n",
      "<a href=\"searches.html?slice=kemer\">kemer</a>\n",
      "\n",
      "<a href=\"searches.html?slice=kalinin\">kalinin</a>\n",
      "\n",
      "<a href=\"searches.html?slice=ek\">ek</a>\n",
      "\n",
      "<a href=\"searches.html?slice=kazan\">kazan</a>\n",
      "\n",
      "<a href=\"searches.html?slice=ru\">ru</a>\n",
      "\n",
      "<a href=\"searches.html?slice=msk\">msk</a>\n",
      "\n",
      "\n",
      "</td>\n",
      "\n",
      "\r\n",
      "\r\n",
      "<tr>\r\n",
      "<td colspan=2><table cellpadding=0 cellspacing=0 border=0 width=100%>\r\n",
      "<tr>\r\n",
      "<td>\r\n",
      "\r\n",
      "\r\n",
      "\r\n",
      "\r\n",
      "\r\n",
      "\r\n",
      "\r\n",
      "\r\n",
      "\r\n",
      "\r\n",
      "</td>\r\n",
      "<td align=right><a href=\"searches.html?0F4F\" title=\"обновить страницу\">\r\n",
      "обновлено 11 марта в 19:32</a></td></table></td>\r\n",
      "</table>\r\n",
      "\r\n",
      "\r\n",
      "\r\n",
      "\r\n",
      "\r\n",
      "\r\n",
      "<br>\r\n",
      "\r\n",
      "<span id=banstat21_span></span><hr>\r\n",
      "\r\n",
      "<span id=rtm1 style=\"width:500;\"></span><br>\r\n",
      "<span id=rtm2 style=\"width:500;\"></span> \r\n",
      "\r\n",
      "</center><table><tr><td height=10></td></tr></table>\r\n",
      "<hr noshade size=1 color=black>\r\n",
      "\r\n",
      "<table border=0 cellpadding=0 cellspacing=0 width=520><tr>\r\n",
      "<td width=33% align=left><a href=\"searches.html?date=2016-03-10\">&lt;&lt; 10 мар</a></td>\r\n",
      "<td width=33% align=center><b>11 марта, пятница</b></td>\r\n",
      "<td width=33% align=right>&nbsp;</td>\r\n",
      "</table>\r\n",
      "<hr noshade size=1 color=black>\r\n",
      "\r\n",
      "\r\n",
      "<p>\r\n",
      "<table width=520 cellpadding=0 cellspacing=0 border=0>\r\n",
      "<tr>\r\n",
      "<td><b>отчет:</b> переходы из поисковых систем</td>\r\n",
      "\r\n",
      "<td align=right><small>\r\n",
      "\r\n",
      "<span class=bc6><b>по дням</b>&nbsp;</span> |\r\n",
      "<a href=\"searches.html?period=week\">по неделям</a> |\r\n",
      "<a href=\"searches.html?period=month\">по месяцам</a></small></td>\r\n",
      "\r\n",
      "</table>\r\n",
      "\n",
      "\n",
      "\n",
      "\n",
      "\n",
      "<table cellpadding=3 cellspacing=0 border=0 bgcolor=#e8e8e8 width=520\n",
      ">\n",
      "<tr align=right bgcolor=#f0f0f0>\n",
      "<td colspan=2 align=left>\n",
      "&nbsp;\n",
      "</td>\n",
      "<td colspan=2>11 марта, пятница</td>\n",
      "<td colspan=2>10 марта, четверг</td>\n",
      "\n",
      "<td colspan=2>в среднем<br>в пятницу</td>\n",
      "<td colspan=2>в среднем<br>за 7 дней</td>\n",
      "\n",
      "<tr align=right bgcolor=\"#dddddd\" >\n",
      "<td><input type=checkbox name=id id=\"id_13\" value=\"13\" checked></td>\n",
      "<td align=left>\n",
      "<label for=\"id_13\">Яндекс</label>\n",
      "\n",
      "</td>\n",
      "<td>89,599,831</td><td><font size=-2>50.9%</td>\n",
      "<td>123,461,457</td><td><font size=-2>51.0%</td>\n",
      "<td>116,095,923</td><td><font size=-2>50.5%</td>\n",
      "<td>109,096,442</td><td><font size=-2>50.3%</td>\n",
      "\n",
      "<tr align=right >\n",
      "<td><input type=checkbox name=id id=\"id_4\" value=\"4\" checked></td>\n",
      "<td align=left>\n",
      "<label for=\"id_4\">Google</label>\n",
      "\n",
      "</td>\n",
      "<td>73,175,180</td><td><font size=-2>41.5%</td>\n",
      "<td>100,739,053</td><td><font size=-2>41.7%</td>\n",
      "<td>96,407,457</td><td><font size=-2>41.9%</td>\n",
      "<td>92,263,614</td><td><font size=-2>42.5%</td>\n",
      "\n",
      "<tr align=right bgcolor=\"#dddddd\" >\n",
      "<td><input type=checkbox name=id id=\"id_5\" value=\"5\" checked></td>\n",
      "<td align=left>\n",
      "<label for=\"id_5\">Search.Mail.ru</label>\n",
      "\n",
      "</td>\n",
      "<td>11,285,378</td><td><font size=-2>6.4%</td>\n",
      "<td>14,893,521</td><td><font size=-2>6.2%</td>\n",
      "<td>14,715,273</td><td><font size=-2>6.4%</td>\n",
      "<td>13,179,110</td><td><font size=-2>6.1%</td>\n",
      "\n",
      "<tr align=right >\n",
      "<td><input type=checkbox name=id id=\"id_9\" value=\"9\" checked></td>\n",
      "<td align=left>\n",
      "<label for=\"id_9\">Rambler</label>\n",
      "\n",
      "</td>\n",
      "<td>849,293</td><td><font size=-2>0.5%</td>\n",
      "<td>1,114,450</td><td><font size=-2>0.5%</td>\n",
      "<td>1,054,667</td><td><font size=-2>0.5%</td>\n",
      "<td>953,715</td><td><font size=-2>0.4%</td>\n",
      "\n",
      "<tr align=right bgcolor=\"#dddddd\" >\n",
      "<td><input type=checkbox name=id id=\"id_8\" value=\"8\" checked></td>\n",
      "<td align=left>\n",
      "<label for=\"id_8\">Bing</label>\n",
      "\n",
      "</td>\n",
      "<td>755,428</td><td><font size=-2>0.4%</td>\n",
      "<td>977,574</td><td><font size=-2>0.4%</td>\n",
      "<td>977,456</td><td><font size=-2>0.4%</td>\n",
      "<td>813,785</td><td><font size=-2>0.4%</td>\n",
      "\n",
      "<tr align=right >\n",
      "<td><input type=checkbox name=id id=\"id_12\" value=\"12\"></td>\n",
      "<td align=left>\n",
      "<label for=\"id_12\">Yahoo</label>\n",
      "\n",
      "</td>\n",
      "<td>204,263</td><td><font size=-2>0.1%</td>\n",
      "<td>280,077</td><td><font size=-2>0.1%</td>\n",
      "<td>274,043</td><td><font size=-2>0.1%</td>\n",
      "<td>266,612</td><td><font size=-2>0.1%</td>\n",
      "\n",
      "<tr align=right bgcolor=\"#dddddd\" >\n",
      "<td><input type=checkbox name=id id=\"id_22\" value=\"22\"></td>\n",
      "<td align=left>\n",
      "<label for=\"id_22\">Google (картинки)</label>\n",
      "\n",
      "</td>\n",
      "<td>82,714</td><td><font size=-2>0.0%</td>\n",
      "<td>114,019</td><td><font size=-2>0.0%</td>\n",
      "<td>117,657</td><td><font size=-2>0.1%</td>\n",
      "<td>115,512</td><td><font size=-2>0.1%</td>\n",
      "\n",
      "<tr align=right >\n",
      "<td><input type=checkbox name=id id=\"id_20\" value=\"20\"></td>\n",
      "<td align=left>\n",
      "<label for=\"id_20\">Nigma</label>\n",
      "\n",
      "</td>\n",
      "<td>66,591</td><td><font size=-2>0.0%</td>\n",
      "<td>89,490</td><td><font size=-2>0.0%</td>\n",
      "<td>88,073</td><td><font size=-2>0.0%</td>\n",
      "<td>82,862</td><td><font size=-2>0.0%</td>\n",
      "\n",
      "<tr align=right bgcolor=\"#dddddd\" >\n",
      "<td><input type=checkbox name=id id=\"id_26\" value=\"26\"></td>\n",
      "<td align=left>\n",
      "<label for=\"id_26\">QIP.ru</label>\n",
      "\n",
      "</td>\n",
      "<td>47,594</td><td><font size=-2>0.0%</td>\n",
      "<td>57,507</td><td><font size=-2>0.0%</td>\n",
      "<td>49,899</td><td><font size=-2>0.0%</td>\n",
      "<td>47,712</td><td><font size=-2>0.0%</td>\n",
      "\n",
      "<tr align=right >\n",
      "<td><input type=checkbox name=id id=\"id_17\" value=\"17\"></td>\n",
      "<td align=left>\n",
      "<label for=\"id_17\">Tut.by</label>\n",
      "\n",
      "</td>\n",
      "<td>36,083</td><td><font size=-2>0.0%</td>\n",
      "<td>46,730</td><td><font size=-2>0.0%</td>\n",
      "<td>44,413</td><td><font size=-2>0.0%</td>\n",
      "<td>37,648</td><td><font size=-2>0.0%</td>\n",
      "\n",
      "\n",
      "\n",
      "<tr><td bgcolor=#f0f0f0 colspan=10><img\n",
      "src=\"http://i.li.ru/i/_.gif\" width=1 height=1 alt=''></td>\n",
      "<tr align=right bgcolor=\"#dddddd\" >\n",
      "<td><input type=checkbox name=id id=\"id_checked\" value=\"checked\"></td>\n",
      "<td align=left>\n",
      "<label for=\"id_checked\">сумма выбранных</label>\n",
      "\n",
      "</td>\n",
      "<td>175,665,110</td><td><font size=-2>99.7%</td>\n",
      "<td>241,186,055</td><td><font size=-2>99.7%</td>\n",
      "<td>229,250,778</td><td><font size=-2>99.7%</td>\n",
      "<td>216,306,667</td><td><font size=-2>99.7%</td>\n",
      "\n",
      "<tr align=right >\n",
      "<td><input type=checkbox name=id id=\"id_total\" value=\"total\"></td>\n",
      "<td align=left>\n",
      "<label for=\"id_total\">всего</label>\n",
      "\n",
      "</td>\n",
      "<td>176,169,717</td><td><font size=-2>&nbsp;</td>\n",
      "<td>241,859,087</td><td><font size=-2>&nbsp;</td>\n",
      "<td>229,905,706</td><td><font size=-2>&nbsp;</td>\n",
      "<td>216,935,733</td><td><font size=-2>&nbsp;</td>\n",
      "\n",
      "\n",
      "\n",
      "<tr><td bgcolor=#ffffff colspan=10><input\n",
      "type=submit name=show value=\"перестроить график\">\n",
      "\n",
      "\n",
      "\n",
      "</td>\n",
      "</table>\n",
      "<p>Страницы: <span class=\"high current\">1</span>&nbsp;&nbsp;<a href=\"searches.html?page=2\" class=\"high\">2</a>&nbsp;<a href=\"searches.html?page=3\" class=\"high\">3</a>&nbsp;<br/>\n",
      "&laquo;предыдущая&nbsp;|&nbsp;<a href=\"searches.html?page=2\" class=\"high\">следующая</a>&raquo;\n",
      "\n",
      "\n",
      "\n",
      "Выводить по <select name=per_page>\n",
      "<option>10\n",
      "<option>20\n",
      "<option>50\n",
      "<option>100</select> строк на странице\n",
      "<input type=submit name=ok value=\" OK \"><br>\n",
      "\n",
      "\n",
      "\n",
      "\n",
      "\n",
      "\n",
      "\n",
      "<p>\n",
      "<span id=banstat22_span></span>\r\n",
      "<!-- ru -->\r\n",
      "<span id=banstat23_span></span>\n",
      "\n",
      "\r\n",
      "<p>\r\n",
      "<span id=rtm6 style=\"width:500\"></span>\r\n",
      "<br>\r\n",
      "<span id=rtm9 style=\"width:500;height=20;\"></span>\r\n",
      "<br>\r\n",
      "<span id=rtm10 style=\"width:500;height=20;\"></span>\r\n",
      "<br>\r\n",
      "\r\n",
      "<a href=\"/go?mastertalk.ru/topic1574.html\"\r\n",
      "target=_blank><img src=\"/gg/clik.gif\" widtg=500 height=17 border=0></a>\r\n",
      "\r\n",
      "<br><br>\r\n",
      "\n",
      "\n",
      "\n",
      "\n",
      "<table>\n",
      "<tr><td colspan=2><img src=\"/i/s/3cTuuG.png\" border=0\n",
      "width=520 height=405 usemap=\"#map\">\n",
      "<map name=map><AREA SHAPE=rect COORDS='473,302,514,317' href='searches.html?date=2016-03-10'>\n",
      "<AREA SHAPE=rect COORDS='434,313,468,328' href='searches.html?date=2016-03-07'>\n",
      "<AREA SHAPE=rect COORDS='392,302,427,317' href='searches.html?date=2016-03-04'>\n",
      "<AREA SHAPE=rect COORDS='352,313,386,328' href='searches.html?date=2016-03-01'>\n",
      "<AREA SHAPE=rect COORDS='307,302,350,317' href='searches.html?date=2016-02-27'>\n",
      "<AREA SHAPE=rect COORDS='266,313,309,328' href='searches.html?date=2016-02-24'>\n",
      "<AREA SHAPE=rect COORDS='224,302,267,317' href='searches.html?date=2016-02-21'>\n",
      "<AREA SHAPE=rect COORDS='184,313,226,328' href='searches.html?date=2016-02-18'>\n",
      "<AREA SHAPE=rect COORDS='143,302,185,317' href='searches.html?date=2016-02-15'>\n",
      "<AREA SHAPE=rect COORDS='102,313,144,328' href='searches.html?date=2016-02-12'>\n",
      "<AREA SHAPE=rect COORDS='64,302,99,317' href='searches.html?date=2016-02-09'>\n",
      "<AREA SHAPE=circle COORDS='82,290,9' title='9 фев: 1,151,675' href='searches.html?date=2016-02-09'>\n",
      "<AREA SHAPE=circle COORDS='95,290,9' title='10 фев: 1,142,055' href='searches.html?date=2016-02-10'>\n",
      "<AREA SHAPE=circle COORDS='109,290,9' title='11 фев: 1,130,057' href='searches.html?date=2016-02-11'>\n",
      "<AREA SHAPE=circle COORDS='123,290,9' title='12 фев: 1,077,069' href='searches.html?date=2016-02-12'>\n",
      "<AREA SHAPE=circle COORDS='136,291,9' title='13 фев: 802,577' href='searches.html?date=2016-02-13'>\n",
      "<AREA SHAPE=circle COORDS='150,291,9' title='14 фев: 848,593' href='searches.html?date=2016-02-14'>\n",
      "<AREA SHAPE=circle COORDS='164,290,9' title='15 фев: 1,138,815' href='searches.html?date=2016-02-15'>\n",
      "<AREA SHAPE=circle COORDS='178,290,9' title='16 фев: 1,130,958' href='searches.html?date=2016-02-16'>\n",
      "<AREA SHAPE=circle COORDS='191,291,9' title='17 фев: 1,021,425' href='searches.html?date=2016-02-17'>\n",
      "<AREA SHAPE=circle COORDS='205,291,9' title='18 фев: 1,031,195' href='searches.html?date=2016-02-18'>\n",
      "<AREA SHAPE=circle COORDS='219,291,9' title='19 фев: 986,406' href='searches.html?date=2016-02-19'>\n",
      "<AREA SHAPE=circle COORDS='233,291,9' title='20 фев: 905,485' href='searches.html?date=2016-02-20'>\n",
      "<AREA SHAPE=circle COORDS='246,291,9' title='21 фев: 764,318' href='searches.html?date=2016-02-21'>\n",
      "<AREA SHAPE=circle COORDS='260,291,9' title='22 фев: 803,865' href='searches.html?date=2016-02-22'>\n",
      "<AREA SHAPE=circle COORDS='274,291,9' title='23 фев: 791,341' href='searches.html?date=2016-02-23'>\n",
      "<AREA SHAPE=circle COORDS='287,291,9' title='24 фев: 1,041,095' href='searches.html?date=2016-02-24'>\n",
      "<AREA SHAPE=circle COORDS='301,291,9' title='25 фев: 1,022,122' href='searches.html?date=2016-02-25'>\n",
      "<AREA SHAPE=circle COORDS='315,291,9' title='26 фев: 971,981' href='searches.html?date=2016-02-26'>\n",
      "<AREA SHAPE=circle COORDS='329,291,9' title='27 фев: 747,825' href='searches.html?date=2016-02-27'>\n",
      "<AREA SHAPE=circle COORDS='342,291,9' title='28 фев: 783,834' href='searches.html?date=2016-02-28'>\n",
      "<AREA SHAPE=circle COORDS='356,291,9' title='29 фев: 1,036,323' href='searches.html?date=2016-02-29'>\n",
      "<AREA SHAPE=circle COORDS='370,291,9' title='1 мар: 1,002,503' href='searches.html?date=2016-03-01'>\n",
      "<AREA SHAPE=circle COORDS='384,291,9' title='2 мар: 997,989' href='searches.html?date=2016-03-02'>\n",
      "<AREA SHAPE=circle COORDS='397,291,9' title='3 мар: 980,596' href='searches.html?date=2016-03-03'>\n",
      "<AREA SHAPE=circle COORDS='411,291,9' title='4 мар: 874,368' href='searches.html?date=2016-03-04'>\n",
      "<AREA SHAPE=circle COORDS='425,291,9' title='5 мар: 716,293' href='searches.html?date=2016-03-05'>\n",
      "<AREA SHAPE=circle COORDS='439,291,9' title='6 мар: 722,179' href='searches.html?date=2016-03-06'>\n",
      "<AREA SHAPE=circle COORDS='452,291,9' title='7 мар: 719,371' href='searches.html?date=2016-03-07'>\n",
      "<AREA SHAPE=circle COORDS='466,291,9' title='8 мар: 695,419' href='searches.html?date=2016-03-08'>\n",
      "<AREA SHAPE=circle COORDS='480,291,9' title='9 мар: 991,293' href='searches.html?date=2016-03-09'>\n",
      "<AREA SHAPE=circle COORDS='494,291,9' title='10 мар: 977,574' href='searches.html?date=2016-03-10'>\n",
      "<AREA SHAPE=circle COORDS='82,290,9' title='9 фев: 1,172,108' href='searches.html?date=2016-02-09'>\n",
      "<AREA SHAPE=circle COORDS='95,290,9' title='10 фев: 1,143,634' href='searches.html?date=2016-02-10'>\n",
      "<AREA SHAPE=circle COORDS='109,290,9' title='11 фев: 1,133,185' href='searches.html?date=2016-02-11'>\n",
      "<AREA SHAPE=circle COORDS='123,290,9' title='12 фев: 1,082,645' href='searches.html?date=2016-02-12'>\n",
      "<AREA SHAPE=circle COORDS='136,291,9' title='13 фев: 861,830' href='searches.html?date=2016-02-13'>\n",
      "<AREA SHAPE=circle COORDS='150,291,9' title='14 фев: 937,992' href='searches.html?date=2016-02-14'>\n",
      "<AREA SHAPE=circle COORDS='164,290,9' title='15 фев: 1,190,899' href='searches.html?date=2016-02-15'>\n",
      "<AREA SHAPE=circle COORDS='178,290,9' title='16 фев: 1,174,644' href='searches.html?date=2016-02-16'>\n",
      "<AREA SHAPE=circle COORDS='191,290,9' title='17 фев: 1,120,342' href='searches.html?date=2016-02-17'>\n",
      "<AREA SHAPE=circle COORDS='205,290,9' title='18 фев: 1,147,985' href='searches.html?date=2016-02-18'>\n",
      "<AREA SHAPE=circle COORDS='219,290,9' title='19 фев: 1,089,603' href='searches.html?date=2016-02-19'>\n",
      "<AREA SHAPE=circle COORDS='233,291,9' title='20 фев: 982,912' href='searches.html?date=2016-02-20'>\n",
      "<AREA SHAPE=circle COORDS='246,291,9' title='21 фев: 846,653' href='searches.html?date=2016-02-21'>\n",
      "<AREA SHAPE=circle COORDS='260,291,9' title='22 фев: 895,651' href='searches.html?date=2016-02-22'>\n",
      "<AREA SHAPE=circle COORDS='274,291,9' title='23 фев: 901,228' href='searches.html?date=2016-02-23'>\n",
      "<AREA SHAPE=circle COORDS='287,290,9' title='24 фев: 1,179,505' href='searches.html?date=2016-02-24'>\n",
      "<AREA SHAPE=circle COORDS='301,290,9' title='25 фев: 1,139,023' href='searches.html?date=2016-02-25'>\n",
      "<AREA SHAPE=circle COORDS='315,290,9' title='26 фев: 1,070,367' href='searches.html?date=2016-02-26'>\n",
      "<AREA SHAPE=circle COORDS='329,291,9' title='27 фев: 875,895' href='searches.html?date=2016-02-27'>\n",
      "<AREA SHAPE=circle COORDS='342,291,9' title='28 фев: 943,726' href='searches.html?date=2016-02-28'>\n",
      "<AREA SHAPE=circle COORDS='356,290,9' title='29 фев: 1,163,886' href='searches.html?date=2016-02-29'>\n",
      "<AREA SHAPE=circle COORDS='370,290,9' title='1 мар: 1,118,101' href='searches.html?date=2016-03-01'>\n",
      "<AREA SHAPE=circle COORDS='384,290,9' title='2 мар: 1,104,502' href='searches.html?date=2016-03-02'>\n",
      "<AREA SHAPE=circle COORDS='397,290,9' title='3 мар: 1,081,937' href='searches.html?date=2016-03-03'>\n",
      "<AREA SHAPE=circle COORDS='411,291,9' title='4 мар: 976,053' href='searches.html?date=2016-03-04'>\n",
      "<AREA SHAPE=circle COORDS='425,291,9' title='5 мар: 850,109' href='searches.html?date=2016-03-05'>\n",
      "<AREA SHAPE=circle COORDS='439,291,9' title='6 мар: 873,523' href='searches.html?date=2016-03-06'>\n",
      "<AREA SHAPE=circle COORDS='452,291,9' title='7 мар: 873,042' href='searches.html?date=2016-03-07'>\n",
      "<AREA SHAPE=circle COORDS='466,291,9' title='8 мар: 845,646' href='searches.html?date=2016-03-08'>\n",
      "<AREA SHAPE=circle COORDS='480,290,9' title='9 мар: 1,143,184' href='searches.html?date=2016-03-09'>\n",
      "<AREA SHAPE=circle COORDS='494,290,9' title='10 мар: 1,114,450' href='searches.html?date=2016-03-10'>\n",
      "<AREA SHAPE=circle COORDS='82,262,9' title='9 фев: 16,274,807' href='searches.html?date=2016-02-09'>\n",
      "<AREA SHAPE=circle COORDS='95,262,9' title='10 фев: 16,152,005' href='searches.html?date=2016-02-10'>\n",
      "<AREA SHAPE=circle COORDS='109,262,9' title='11 фев: 16,266,612' href='searches.html?date=2016-02-11'>\n",
      "<AREA SHAPE=circle COORDS='123,263,9' title='12 фев: 15,413,806' href='searches.html?date=2016-02-12'>\n",
      "<AREA SHAPE=circle COORDS='136,268,9' title='13 фев: 13,011,186' href='searches.html?date=2016-02-13'>\n",
      "<AREA SHAPE=circle COORDS='150,266,9' title='14 фев: 14,286,598' href='searches.html?date=2016-02-14'>\n",
      "<AREA SHAPE=circle COORDS='164,261,9' title='15 фев: 16,723,661' href='searches.html?date=2016-02-15'>\n",
      "<AREA SHAPE=circle COORDS='178,262,9' title='16 фев: 16,364,302' href='searches.html?date=2016-02-16'>\n",
      "<AREA SHAPE=circle COORDS='191,263,9' title='17 фев: 15,605,646' href='searches.html?date=2016-02-17'>\n",
      "<AREA SHAPE=circle COORDS='205,262,9' title='18 фев: 16,076,598' href='searches.html?date=2016-02-18'>\n",
      "<AREA SHAPE=circle COORDS='219,264,9' title='19 фев: 15,157,203' href='searches.html?date=2016-02-19'>\n",
      "<AREA SHAPE=circle COORDS='233,266,9' title='20 фев: 14,088,438' href='searches.html?date=2016-02-20'>\n",
      "<AREA SHAPE=circle COORDS='246,267,9' title='21 фев: 13,431,135' href='searches.html?date=2016-02-21'>\n",
      "<AREA SHAPE=circle COORDS='260,267,9' title='22 фев: 13,753,817' href='searches.html?date=2016-02-22'>\n",
      "<AREA SHAPE=circle COORDS='274,266,9' title='23 фев: 14,038,790' href='searches.html?date=2016-02-23'>\n",
      "<AREA SHAPE=circle COORDS='287,262,9' title='24 фев: 16,271,252' href='searches.html?date=2016-02-24'>\n",
      "<AREA SHAPE=circle COORDS='301,263,9' title='25 фев: 15,880,967' href='searches.html?date=2016-02-25'>\n",
      "<AREA SHAPE=circle COORDS='315,264,9' title='26 фев: 14,979,914' href='searches.html?date=2016-02-26'>\n",
      "<AREA SHAPE=circle COORDS='329,268,9' title='27 фев: 12,933,198' href='searches.html?date=2016-02-27'>\n",
      "<AREA SHAPE=circle COORDS='342,266,9' title='28 фев: 14,243,994' href='searches.html?date=2016-02-28'>\n",
      "<AREA SHAPE=circle COORDS='356,262,9' title='29 фев: 15,919,732' href='searches.html?date=2016-02-29'>\n",
      "<AREA SHAPE=circle COORDS='370,263,9' title='1 мар: 15,426,294' href='searches.html?date=2016-03-01'>\n",
      "<AREA SHAPE=circle COORDS='384,264,9' title='2 мар: 15,314,996' href='searches.html?date=2016-03-02'>\n",
      "<AREA SHAPE=circle COORDS='397,265,9' title='3 мар: 14,731,135' href='searches.html?date=2016-03-03'>\n",
      "<AREA SHAPE=circle COORDS='411,267,9' title='4 мар: 13,310,170' href='searches.html?date=2016-03-04'>\n",
      "<AREA SHAPE=circle COORDS='425,270,9' title='5 мар: 12,144,831' href='searches.html?date=2016-03-05'>\n",
      "<AREA SHAPE=circle COORDS='439,269,9' title='6 мар: 12,366,970' href='searches.html?date=2016-03-06'>\n",
      "<AREA SHAPE=circle COORDS='452,269,9' title='7 мар: 12,398,925' href='searches.html?date=2016-03-07'>\n",
      "<AREA SHAPE=circle COORDS='466,270,9' title='8 мар: 12,133,606' href='searches.html?date=2016-03-08'>\n",
      "<AREA SHAPE=circle COORDS='480,264,9' title='9 мар: 15,005,747' href='searches.html?date=2016-03-09'>\n",
      "<AREA SHAPE=circle COORDS='494,264,9' title='10 мар: 14,893,521' href='searches.html?date=2016-03-10'>\n",
      "<AREA SHAPE=circle COORDS='82,92,9' title='9 фев: 106,435,103' href='searches.html?date=2016-02-09'>\n",
      "<AREA SHAPE=circle COORDS='95,93,9' title='10 фев: 105,570,276' href='searches.html?date=2016-02-10'>\n",
      "<AREA SHAPE=circle COORDS='109,95,9' title='11 фев: 104,839,855' href='searches.html?date=2016-02-11'>\n",
      "<AREA SHAPE=circle COORDS='123,105,9' title='12 фев: 99,326,335' href='searches.html?date=2016-02-12'>\n",
      "<AREA SHAPE=circle COORDS='136,121,9' title='13 фев: 91,123,629' href='searches.html?date=2016-02-13'>\n",
      "<AREA SHAPE=circle COORDS='150,107,9' title='14 фев: 98,366,933' href='searches.html?date=2016-02-14'>\n",
      "<AREA SHAPE=circle COORDS='164,92,9' title='15 фев: 106,461,335' href='searches.html?date=2016-02-15'>\n",
      "<AREA SHAPE=circle COORDS='178,93,9' title='16 фев: 105,741,961' href='searches.html?date=2016-02-16'>\n",
      "<AREA SHAPE=circle COORDS='191,102,9' title='17 фев: 101,117,593' href='searches.html?date=2016-02-17'>\n",
      "<AREA SHAPE=circle COORDS='205,97,9' title='18 фев: 103,839,145' href='searches.html?date=2016-02-18'>\n",
      "<AREA SHAPE=circle COORDS='219,108,9' title='19 фев: 97,913,185' href='searches.html?date=2016-02-19'>\n",
      "<AREA SHAPE=circle COORDS='233,117,9' title='20 фев: 92,989,738' href='searches.html?date=2016-02-20'>\n",
      "<AREA SHAPE=circle COORDS='246,115,9' title='21 фев: 94,211,971' href='searches.html?date=2016-02-21'>\n",
      "<AREA SHAPE=circle COORDS='260,111,9' title='22 фев: 96,395,032' href='searches.html?date=2016-02-22'>\n",
      "<AREA SHAPE=circle COORDS='274,109,9' title='23 фев: 97,150,537' href='searches.html?date=2016-02-23'>\n",
      "<AREA SHAPE=circle COORDS='287,94,9' title='24 фев: 105,025,076' href='searches.html?date=2016-02-24'>\n",
      "<AREA SHAPE=circle COORDS='301,98,9' title='25 фев: 103,247,750' href='searches.html?date=2016-02-25'>\n",
      "<AREA SHAPE=circle COORDS='315,108,9' title='26 фев: 98,000,060' href='searches.html?date=2016-02-26'>\n",
      "<AREA SHAPE=circle COORDS='329,121,9' title='27 фев: 90,976,705' href='searches.html?date=2016-02-27'>\n",
      "<AREA SHAPE=circle COORDS='342,105,9' title='28 фев: 99,582,834' href='searches.html?date=2016-02-28'>\n",
      "<AREA SHAPE=circle COORDS='356,90,9' title='29 фев: 107,426,912' href='searches.html?date=2016-02-29'>\n",
      "<AREA SHAPE=circle COORDS='370,98,9' title='1 мар: 103,352,477' href='searches.html?date=2016-03-01'>\n",
      "<AREA SHAPE=circle COORDS='384,101,9' title='2 мар: 101,775,107' href='searches.html?date=2016-03-02'>\n",
      "<AREA SHAPE=circle COORDS='397,104,9' title='3 мар: 99,705,591' href='searches.html?date=2016-03-03'>\n",
      "<AREA SHAPE=circle COORDS='411,122,9' title='4 мар: 90,390,251' href='searches.html?date=2016-03-04'>\n",
      "<AREA SHAPE=circle COORDS='425,128,9' title='5 мар: 87,247,535' href='searches.html?date=2016-03-05'>\n",
      "<AREA SHAPE=circle COORDS='439,123,9' title='6 мар: 89,661,860' href='searches.html?date=2016-03-06'>\n",
      "<AREA SHAPE=circle COORDS='452,124,9' title='7 мар: 89,614,458' href='searches.html?date=2016-03-07'>\n",
      "<AREA SHAPE=circle COORDS='466,127,9' title='8 мар: 87,535,065' href='searches.html?date=2016-03-08'>\n",
      "<AREA SHAPE=circle COORDS='480,103,9' title='9 мар: 100,657,079' href='searches.html?date=2016-03-09'>\n",
      "<AREA SHAPE=circle COORDS='494,103,9' title='10 мар: 100,739,053' href='searches.html?date=2016-03-10'>\n",
      "<AREA SHAPE=circle COORDS='82,43,9' title='9 фев: 132,509,164' href='searches.html?date=2016-02-09'>\n",
      "<AREA SHAPE=circle COORDS='95,46,9' title='10 фев: 130,922,569' href='searches.html?date=2016-02-10'>\n",
      "<AREA SHAPE=circle COORDS='109,49,9' title='11 фев: 129,037,595' href='searches.html?date=2016-02-11'>\n",
      "<AREA SHAPE=circle COORDS='123,63,9' title='12 фев: 121,668,653' href='searches.html?date=2016-02-12'>\n",
      "<AREA SHAPE=circle COORDS='136,95,9' title='13 фев: 104,863,837' href='searches.html?date=2016-02-13'>\n",
      "<AREA SHAPE=circle COORDS='150,73,9' title='14 фев: 116,429,487' href='searches.html?date=2016-02-14'>\n",
      "<AREA SHAPE=circle COORDS='164,42,9' title='15 фев: 132,843,888' href='searches.html?date=2016-02-15'>\n",
      "<AREA SHAPE=circle COORDS='178,45,9' title='16 фев: 131,339,982' href='searches.html?date=2016-02-16'>\n",
      "<AREA SHAPE=circle COORDS='191,58,9' title='17 фев: 124,317,782' href='searches.html?date=2016-02-17'>\n",
      "<AREA SHAPE=circle COORDS='205,53,9' title='18 фев: 126,995,051' href='searches.html?date=2016-02-18'>\n",
      "<AREA SHAPE=circle COORDS='219,67,9' title='19 фев: 119,610,686' href='searches.html?date=2016-02-19'>\n",
      "<AREA SHAPE=circle COORDS='233,85,9' title='20 фев: 110,236,035' href='searches.html?date=2016-02-20'>\n",
      "<AREA SHAPE=circle COORDS='246,94,9' title='21 фев: 105,290,375' href='searches.html?date=2016-02-21'>\n",
      "<AREA SHAPE=circle COORDS='260,87,9' title='22 фев: 108,868,918' href='searches.html?date=2016-02-22'>\n",
      "<AREA SHAPE=circle COORDS='274,83,9' title='23 фев: 111,284,507' href='searches.html?date=2016-02-23'>\n",
      "<AREA SHAPE=circle COORDS='287,50,9' title='24 фев: 128,620,000' href='searches.html?date=2016-02-24'>\n",
      "<AREA SHAPE=circle COORDS='301,55,9' title='25 фев: 125,695,852' href='searches.html?date=2016-02-25'>\n",
      "<AREA SHAPE=circle COORDS='315,71,9' title='26 фев: 117,213,742' href='searches.html?date=2016-02-26'>\n",
      "<AREA SHAPE=circle COORDS='329,97,9' title='27 фев: 103,720,401' href='searches.html?date=2016-02-27'>\n",
      "<AREA SHAPE=circle COORDS='342,76,9' title='28 фев: 114,917,477' href='searches.html?date=2016-02-28'>\n",
      "<AREA SHAPE=circle COORDS='356,52,9' title='29 фев: 127,516,658' href='searches.html?date=2016-02-29'>\n",
      "<AREA SHAPE=circle COORDS='370,60,9' title='1 мар: 123,175,819' href='searches.html?date=2016-03-01'>\n",
      "<AREA SHAPE=circle COORDS='384,64,9' title='2 мар: 121,430,436' href='searches.html?date=2016-03-02'>\n",
      "<AREA SHAPE=circle COORDS='397,69,9' title='3 мар: 118,419,437' href='searches.html?date=2016-03-03'>\n",
      "<AREA SHAPE=circle COORDS='411,93,9' title='4 мар: 105,890,614' href='searches.html?date=2016-03-04'>\n",
      "<AREA SHAPE=circle COORDS='425,106,9' title='5 мар: 98,932,333' href='searches.html?date=2016-03-05'>\n",
      "<AREA SHAPE=circle COORDS='439,97,9' title='6 мар: 103,435,708' href='searches.html?date=2016-03-06'>\n",
      "<AREA SHAPE=circle COORDS='452,96,9' title='7 мар: 103,951,873' href='searches.html?date=2016-03-07'>\n",
      "<AREA SHAPE=circle COORDS='466,98,9' title='8 мар: 103,113,618' href='searches.html?date=2016-03-08'>\n",
      "<AREA SHAPE=circle COORDS='480,57,9' title='9 мар: 124,889,492' href='searches.html?date=2016-03-09'>\n",
      "<AREA SHAPE=circle COORDS='494,60,9' title='10 мар: 123,461,457' href='searches.html?date=2016-03-10'>\n",
      "</map>\n",
      "</td>\n",
      "\n",
      "<tr valign=top><td><small>\n",
      "\n",
      "<a href=\"searches.html?relgraph=yes\">показать график относительных значений</a><br>\n",
      "\n",
      "\n",
      "\n",
      "<a href=\"searches.html?avgraph=yes\">показать среднее за 7 дней</a><br>\n",
      "\n",
      "\n",
      "\n",
      "<a href=\"searches.html?nograph=yes\">убрать график</a><br>\n",
      "<a href=\"searches.html?graph=table\" target=_blank>показать таблицу значений</a>\n",
      "(<a href=\"searches.csv?graph=csv\" target=_blank>csv</a>)<br>\n",
      "<!--<a href=\"searches.html?graph=zoom\">увеличить график</a><br>-->\n",
      "</small></td>\n",
      "\n",
      "<td align=right><small><a href=\"searches.gif?graph=yes\"\n",
      "title=\"вы можете использовать эту ссылку для вставки картинки графика на свои страницы\"\n",
      "target=_blank>ссылка на график</a><br>\n",
      "</td>\n",
      "</table>\n",
      "\n",
      "\n",
      "\n",
      "\n",
      "<br><br>\n",
      "<span id=rtm5 style=\"width:500;\"></span>\r\n",
      "<p>\r\n",
      "<span id=rtm8 style=\"width:500;\"></span>\r\n",
      "<p>\r\n",
      "<span id=rtm7 style=\"width:500;\"></span>\r\n",
      "\r\n",
      "<a href=\"/go?mastertalk.ru/topic1574.html\"\r\n",
      "target=_blank><img src=\"/gg/clik.gif\" widtg=500 height=17 border=0></a>\n",
      "\n",
      "<br>\n",
      "\n",
      "\n",
      "<table cellpadding=3 cellspacing=0 border=0 width=500>\n",
      "<td>\n",
      "<hr noshade size=1 color=black>\n",
      "[<a href=\"searches.html?nohelp=yes\">убрать справку</a>]\n",
      "<p>\n",
      "Извините, данный раздел справок еще не готов.\n",
      "\n",
      "</td></table>\n",
      "\r\n",
      "<p>\r\n",
      "\r\n",
      "\r\n",
      "<!--баннер на схеме размещения не значится, стоит в самом низу, после справки-->\r\n",
      "\r\n",
      "<table width=520 cellpadding=0 cellspacing=0 border=1>\r\n",
      "<tr>\r\n",
      "<td bgcolor=gray height=30 align=center><select name=report onChange=\"go(this)\" style=\"height=12 ;font: 12px; width=150;\">\n",
      "<optgroup label=\"Отчеты статистики\">\n",
      "<optgroup label=\"Аудитория\">\n",
      "\n",
      "<option value=\"index.html\">посещаемость</option>\n",
      "\n",
      "<option value=\"hours.html\">по времени суток</option>\n",
      "\n",
      "<option value=\"online.html\">online</option>\n",
      "\n",
      "<option value=\"sum.html\">за неделю и месяц</option>\n",
      "\n",
      "\n",
      "</optgroup>\n",
      "\n",
      "<optgroup label=\"Аудитория\">\n",
      "<option value=\"visitors.html\">размер аудитории</option>\n",
      "\n",
      "<option value=\"days_pw.html\">дней в неделю</option>\n",
      "\n",
      "<option value=\"days_pm.html\">дней в месяц</option>\n",
      "\n",
      "<option value=\"compare.html\">сравнение аудиторий</option>\n",
      "\n",
      "<option value=\"sessions_pv.html\">сессий на посетителя</option>\n",
      "\n",
      "<option value=\"returns.html\">возвраты</option>\n",
      "\n",
      "<option value=\"hits_pv.html\">просм. на посетителя</option>\n",
      "\n",
      "<option value=\"hits_ps.html\">просмотров за сессию</option>\n",
      "\n",
      "<option value=\"durations.html\">длительность сессий</option>\n",
      "\n",
      "</optgroup> \n",
      "\n",
      "<optgroup label=\"Просмотры\">\n",
      "\n",
      "<option value=\"servers.html\">варианты обращения</option>\n",
      "\n",
      "\n",
      "</optgroup>\n",
      "<optgroup label=\"Переходы\">\n",
      " \n",
      "\n",
      "<option value=\"catalogs.html\">из каталогов и рейтингов</option>\n",
      "\n",
      "<option value=\"mails.html\">почтовые сервисы</option>\n",
      "  \n",
      "<option value=\"socials.html\">из социальных сетей</option>\n",
      "\n",
      "<option value=\"searches.html\" selected>из поисковых систем</option>\n",
      "\n",
      "<option value=\"queries.html\">по поисковым фразам</option>\n",
      "\n",
      "<option value=\"\">&nbsp;</option>\n",
      "<option value=\"clicks.html\">переходы по ссылкам</option>\n",
      "\n",
      "\n",
      "\n",
      "</optgroup> \n",
      "<optgroup label=\"О посетителях\">\n",
      "<option value=\"demo.html\">демография</option>\n",
      "\n",
      "\n",
      "\n",
      "<option value=\"countries.html\">страны</option>\n",
      "\n",
      "<option value=\"countries_hits.html\">страны (просмотры)</option>\n",
      "\n",
      "<option value=\"regions.html\">регионы России</option>\n",
      "\n",
      "<option value=\"regions_hits.html\">регионы (просмотры)</option>\n",
      "\n",
      "<option value=\"languages.html\">языки</option>\n",
      "\n",
      "<option value=\"browsers.html\">браузеры</option>\n",
      "\n",
      "<option value=\"oses.html\">ОС</option>\n",
      "\n",
      "<option value=\"resolutions.html\">разрешение</option>\n",
      "\n",
      "<option value=\"colors.html\">кол-во цветов</option>\n",
      "\n",
      "</optgroup> \n",
      "</optgroup> \n",
      "\n",
      "<option value=\"summary.html\">сводка</option>\n",
      "     \n",
      "\n",
      "<option value=\"\">&nbsp;</option>\n",
      "<option value=\"edit.html\">изменение описания</option>\n",
      "\n",
      "<option value=\"logout.html\">выход</option>\n",
      "\n",
      "\n",
      "</select></td>\r\n",
      "</tr>\r\n",
      "</table>\r\n",
      "<p>\r\n",
      "<table width=520 cellpadding=5 cellspacing=0 border=0>\r\n",
      "<td>\r\n",
      "Для владельца сайта:&nbsp;&nbsp;\r\n",
      "<!--<a href=\"http://www.liveinternet.ru/pay/\">оплата сервиса</a>&nbsp;&nbsp;-->\r\n",
      "<a href=\"edit.html\">изменить описание сайта</a>&nbsp;&nbsp;\r\n",
      "<a href=\"/code?nick=ru\">html-код счетчика</a>&nbsp;&nbsp;\r\n",
      "<a href=\"logout.html\">выход</a><br>\r\n",
      "</td>\r\n",
      "</tr>\r\n",
      "</table>\r\n",
      "</td>\r\n",
      "<td width=10>&nbsp;</td>\r\n",
      "<td width=240 valign=top>\r\n",
      "\r\n",
      "<table><td align=left>\r\n",
      "<a href=\"/add\"><b>регистрация</b></a>\r\n",
      "<p></form>\r\n",
      "<form action=\"/stat/\" method=post>\r\n",
      "Статистика сайта:<br>\r\n",
      "<input type=text name=url value=\"http://\" size=16 maxlength=100><br>\r\n",
      "<input type=password name=password size=12 maxlength=20>&nbsp;<input type=submit name=ok value=\"&gt;\"><br>\r\n",
      "<a href=\"/stat/?what=reminder\">Забыли или не знаете пароль?</a>\r\n",
      "</form>\r\n",
      "</td></table>\r\n",
      "\r\n",
      "\r\n",
      "<span id=banstat31_span></span>\r\n",
      "<p> \r\n",
      "<!--MediaTarget--><iframe width=240 height=755\r\n",
      "src=\"http://sticker.yadro.ru/ad/240x755.html?place=6;keywords=spec-target-listat-ru\"\r\n",
      "frameborder=0 vspace=0 hspace=0 scrolling=no\r\n",
      "marginwidth=0 marginheight=0></iframe><!--MediaTarget-->\r\n",
      "<p>\r\n",
      "<hr>\r\n",
      "<br>\r\n",
      "<span id=rtm3 style=\"width:200;\"></span>\r\n",
      "<p>\r\n",
      "<span id=rtm4 style=\"width:200;\"></span>\r\n",
      "<p>\r\n",
      "<br>\r\n",
      "<hr>\r\n",
      "<span id=banstat32_span></span>\r\n",
      "<hr>\r\n",
      "<p>\r\n",
      "<span id=banstat35_span></span>\r\n",
      "\r\n",
      "<iframe src=\"/cgi-bin/adv.fcgi?p=11,12,14,13,15,16&span-name=banstat11_span,banstat12_span,banstat22_span,banstat21_span,banstat31_span,banstat32_span&qtype=iframe,parent\" style=\"position:absolute;top:0;left:0;width:1;height:1;visibility:hidden; border:0px outset;\" scrolling=no frameborder=no></iframe>\r\n",
      "\r\n",
      "<p>\r\n",
      "<div style=\"width:240px;\">\n",
      "<!-- Яндекс.Директ -->\n",
      "<div id=\"yandex_ad\"></div>\n",
      "<script type=\"text/javascript\">\n",
      "(function(w, d, n, s, t) {\n",
      "    w[n] = w[n] || [];\n",
      "    w[n].push(function() {\n",
      "        Ya.Direct.insertInto(125905, \"yandex_ad\", {\n",
      "            stat_id: 5,\n",
      "            ad_format: \"direct\",\n",
      "            type: \"posterVertical\",\n",
      "            border_type: \"ad\",\n",
      "            limit: 4,\n",
      "            title_font_size: 3,\n",
      "            links_underline: true,\n",
      "            site_bg_color: \"FFFFFF\",\n",
      "            border_color: \"FBE5C0\",\n",
      "            title_color: \"0000CC\",\n",
      "            url_color: \"006600\",\n",
      "            text_color: \"000000\",\n",
      "            hover_color: \"0066FF\",\n",
      "            sitelinks_color: \"0000CC\",\n",
      "            favicon: true,\n",
      "            no_sitelinks: false\n",
      "        });\n",
      "    });\n",
      "    t = d.getElementsByTagName(\"script\")[0];\n",
      "    s = d.createElement(\"script\");\n",
      "    s.src = \"//an.yandex.ru/system/context.js\";\n",
      "    s.type = \"text/javascript\";\n",
      "    s.async = true;\n",
      "    t.parentNode.insertBefore(s, t);\n",
      "})(window, document, \"yandex_context_callbacks\");\n",
      "</script>\n",
      "</div>\r\n",
      "</td>\r\n",
      "</tr>\r\n",
      "</tbody></table>\r\n",
      "\r\n",
      "<script language=\"JavaScript\"><!--\r\n",
      "function adt_design(span_name,url,text,meaning) {\r\n",
      "    if (span_name=='rtm8')\r\n",
      "        return \"<table border=0 cellspacing=2 cellpadding=2 bgcolor=#003300><tr><td> <a style='text-decoration:none' href='\"+url+\"' target=_blank><font color=white size=+1 title='\"+meaning+\"'><b>\"+text+\"</b></font></a></td></tr></table>\";\r\n",
      "    if (span_name=='rtm9')\r\n",
      "        return \"<table border=0 cellspacing=2 cellpadding=2 bgcolor=#ff9900><tr><td> <a style='text-decoration:none' href='\"+url+\"' target=_blank><font color=black size=+1 title='\"+meaning+\"'><b>\"+text+\"</b></font></a></td></tr></table>\";\r\n",
      "    return \"<table border=0 cellspacing=0 cellpadding=0><tr><td> <a href='\"+url+\"' target=_blank><font color=blue title='\"+meaning+\"'><b>\"+text+\"</b></font></a></td></tr></table>\";\r\n",
      "}\r\n",
      "//--></script>\r\n",
      "<iframe src='/cgi-bin/adt.fcgi?p=1&count=10&span-name=rtm&function-name=adt_design&qtype=parent,iframe&text-size=110' style='visibility:hidden; width:1; height:1; border:0px outset;' scrolling=no frameborder=no></iframe><hr color=black width=930 size=1>\r\n",
      "\r\n",
      "<table cellpadding=0 cellspacing=0 border=0 width=925 ><tr>\r\n",
      "<td align=left>\r\n",
      "Служба поддержки: <a                  \r\n",
      "href=\"mailto:counter@corp.liveinternet.ru\">counter@corp.liveinternet.ru</a>\r\n",
      "<!--<span style=\"padding:0 10 0 10\">&bull;</span>\r\n",
      "<a href=\"http://mastertalk.ru/forum13.html\">форум</a>-->\r\n",
      "<span style=\"padding:0 10 0 10\">&bull;</span>\r\n",
      "<a href=\"/ad/\">размещение рекламы</a>\r\n",
      "\r\n",
      "\r\n",
      "<!--LiveInternet counter--><script language=\"JavaScript\"><!--\r\n",
      "document.write('<img src=\"//counter.yadro.ru/hit;li_stat_ru?r'+\r\n",
      "escape(document.referrer)+((typeof(screen)=='undefined')?'':\r\n",
      "';s'+screen.width+'*'+screen.height+'*'+(screen.colorDepth?\r\n",
      "screen.colorDepth:screen.pixelDepth))+';'+Math.random()+\r\n",
      "'\" width=1 height=1 alt=\"\">')//--></script><!--/LiveInternet-->\r\n",
      "<td align=right>\r\n",
      "<!--LiveInternet logo--><a href=\"http://www.liveinternet.ru/click\"\r\n",
      "target=\"_blank\"><img src=\"//counter.yadro.ru/logo?23.2\"\r\n",
      "title=\"LiveInternet: показано число посетителей за сегодня\"\r\n",
      "alt=\"\" border=\"0\" width=\"88\" height=\"15\"/></a><!--/LiveInternet-->\r\n",
      "</td></table>\r\n",
      "</body></html>\n"
     ]
    }
   ],
   "source": [
    "import urllib                                       \n",
    "sock = urllib.urlopen(\"http://www.liveinternet.ru/stat/ru/searches.html\")\n",
    "htmlSource = sock.read().decode('utf-8')                          \n",
    "sock.close()            \n",
    "print htmlSource  "
   ]
  },
  {
   "cell_type": "code",
   "execution_count": 21,
   "metadata": {
    "collapsed": false
   },
   "outputs": [
    {
     "name": "stdout",
     "output_type": "stream",
     "text": [
      "200\n",
      "text/html; charset=utf-8\n"
     ]
    }
   ],
   "source": [
    "import requests\n",
    "#r = requests.get('https://api.github.com', auth=('user', 'pass'))\n",
    "r = requests.get('https://mail.ru/', auth=('user', 'pass'))\n",
    "print r.status_code\n",
    "print r.headers['content-type']"
   ]
  },
  {
   "cell_type": "code",
   "execution_count": 22,
   "metadata": {
    "collapsed": false
   },
   "outputs": [],
   "source": [
    "p = requests.get(\"https://limg.imgsmail.ru/splash/v/i/logo.v5.4a60795b82bda3baee8b89cb7829b5a22335555c.png\")\n",
    "out = open(\"logo.png\", \"wb\")\n",
    "out.write(p.content)\n",
    "out.close()"
   ]
  },
  {
   "cell_type": "code",
   "execution_count": 23,
   "metadata": {
    "collapsed": false
   },
   "outputs": [
    {
     "ename": "IOError",
     "evalue": "[Errno 2] No such file or directory: u'mail/5ED353.jpg'",
     "output_type": "error",
     "traceback": [
      "\u001b[0;31m---------------------------------------------------------------------------\u001b[0m",
      "\u001b[0;31mIOError\u001b[0m                                   Traceback (most recent call last)",
      "\u001b[0;32m<ipython-input-23-1bd429f32a0c>\u001b[0m in \u001b[0;36m<module>\u001b[0;34m()\u001b[0m\n\u001b[1;32m      8\u001b[0m     \u001b[0;32mif\u001b[0m \u001b[0mimg\u001b[0m\u001b[0;34m.\u001b[0m\u001b[0mendswith\u001b[0m\u001b[0;34m(\u001b[0m\u001b[0;34m\".jpg\"\u001b[0m\u001b[0;34m)\u001b[0m\u001b[0;34m:\u001b[0m\u001b[0;34m\u001b[0m\u001b[0m\n\u001b[1;32m      9\u001b[0m         \u001b[0mp\u001b[0m \u001b[0;34m=\u001b[0m \u001b[0mrequests\u001b[0m\u001b[0;34m.\u001b[0m\u001b[0mget\u001b[0m\u001b[0;34m(\u001b[0m\u001b[0mimg\u001b[0m\u001b[0;34m)\u001b[0m\u001b[0;34m\u001b[0m\u001b[0m\n\u001b[0;32m---> 10\u001b[0;31m         \u001b[0mout\u001b[0m \u001b[0;34m=\u001b[0m \u001b[0mopen\u001b[0m\u001b[0;34m(\u001b[0m\u001b[0;34m\"mail/\"\u001b[0m\u001b[0;34m+\u001b[0m\u001b[0mimg\u001b[0m\u001b[0;34m.\u001b[0m\u001b[0msplit\u001b[0m\u001b[0;34m(\u001b[0m\u001b[0;34m\"/\"\u001b[0m\u001b[0;34m)\u001b[0m\u001b[0;34m[\u001b[0m\u001b[0;34m-\u001b[0m\u001b[0;36m1\u001b[0m\u001b[0;34m]\u001b[0m\u001b[0;34m,\u001b[0m \u001b[0;34m\"wb\"\u001b[0m\u001b[0;34m)\u001b[0m\u001b[0;34m\u001b[0m\u001b[0m\n\u001b[0m\u001b[1;32m     11\u001b[0m         \u001b[0mout\u001b[0m\u001b[0;34m.\u001b[0m\u001b[0mwrite\u001b[0m\u001b[0;34m(\u001b[0m\u001b[0mp\u001b[0m\u001b[0;34m.\u001b[0m\u001b[0mcontent\u001b[0m\u001b[0;34m)\u001b[0m\u001b[0;34m\u001b[0m\u001b[0m\n\u001b[1;32m     12\u001b[0m         \u001b[0mout\u001b[0m\u001b[0;34m.\u001b[0m\u001b[0mclose\u001b[0m\u001b[0;34m(\u001b[0m\u001b[0;34m)\u001b[0m\u001b[0;34m\u001b[0m\u001b[0m\n",
      "\u001b[0;31mIOError\u001b[0m: [Errno 2] No such file or directory: u'mail/5ED353.jpg'"
     ]
    }
   ],
   "source": [
    "import re\n",
    "\n",
    "url = \"https://mail.ru/\"\n",
    "content = requests.get(url).text\n",
    "imgUrls = re.findall('img .*?src=\"(.*?)\"', content)\n",
    "\n",
    "for img in imgUrls:\n",
    "    if img.endswith(\".jpg\"):\n",
    "        p = requests.get(img)\n",
    "        out = open(\"mail/\"+img.split(\"/\")[-1], \"wb\")\n",
    "        out.write(p.content)\n",
    "        out.close()\n"
   ]
  },
  {
   "cell_type": "markdown",
   "metadata": {},
   "source": [
    "# Работа с xml"
   ]
  },
  {
   "cell_type": "code",
   "execution_count": 16,
   "metadata": {
    "collapsed": false
   },
   "outputs": [],
   "source": [
    "from lxml import html, etree\n",
    "doc = html.fromstring(htmlSource)"
   ]
  },
  {
   "cell_type": "code",
   "execution_count": 17,
   "metadata": {
    "collapsed": false
   },
   "outputs": [
    {
     "name": "stdout",
     "output_type": "stream",
     "text": [
      "Яндекс\n",
      "Google\n",
      "Search.Mail.ru\n",
      "Rambler\n",
      "Bing\n",
      "Yahoo\n",
      "Google (картинки)\n",
      "Nigma\n",
      "QIP.ru\n",
      "Tut.by\n",
      "сумма выбранных\n",
      "всего\n",
      "89599831\n",
      "123461457\n",
      "116095923\n",
      "109096442\n",
      "73175180\n",
      "100739053\n",
      "96407457\n",
      "92263614\n",
      "11285378\n",
      "14893521\n",
      "14715273\n",
      "13179110\n",
      "849293\n",
      "1114450\n",
      "1054667\n",
      "953715\n",
      "755428\n",
      "977574\n",
      "977456\n",
      "813785\n",
      "204263\n",
      "280077\n",
      "274043\n",
      "266612\n",
      "82714\n",
      "114019\n",
      "117657\n",
      "115512\n",
      "66591\n",
      "89490\n",
      "88073\n",
      "82862\n",
      "47594\n",
      "57507\n",
      "49899\n",
      "47712\n",
      "36083\n",
      "46730\n",
      "44413\n",
      "37648\n",
      "175665110\n",
      "241186055\n",
      "229250778\n",
      "216306667\n",
      "176169717\n",
      "241859087\n",
      "229905706\n",
      "216935733\n"
     ]
    }
   ],
   "source": [
    "import re\n",
    "keys = []\n",
    "for i in doc.xpath('//tr/td/label/text()'):\n",
    "    value = i.encode('utf-8').strip().replace(',', '')\n",
    "    print value\n",
    "    keys.append(value)\n",
    "    \n",
    "values = []\n",
    "for i in doc.xpath('//tr/td/text()'):\n",
    "    value = i.encode('utf-8').strip().replace(',', '')\n",
    "    if re.match(r'^[0-9]+$', value):\n",
    "        print value\n",
    "        values.append(int(value))"
   ]
  },
  {
   "cell_type": "markdown",
   "metadata": {},
   "source": [
    "## Отправка сообщения на почту"
   ]
  },
  {
   "cell_type": "code",
   "execution_count": 24,
   "metadata": {
    "collapsed": true
   },
   "outputs": [],
   "source": [
    "def send_email(message,\n",
    "               subject,\n",
    "               email_to_list,\n",
    "               files_for_attachment,\n",
    "               email_from,\n",
    "               password,\n",
    "               smpt_server):\n",
    "\n",
    "    msg = MIMEMultipart()\n",
    "    msg['Subject'] = subject\n",
    "    msg['From'] = email_from\n",
    "    msg['To'] = ', '.join(email_to_list)\n",
    "    part = MIMEText(message, \"plain\", \"utf-8\")\n",
    "    msg.attach(part)\n",
    "\n",
    "    for filename in files_for_attachment:\n",
    "        part = MIMEApplication(open(filename, 'rb').read(), \"octet-stream\")\n",
    "        part.add_header('Content-Disposition', 'attachment; filename=\"' + filename.encode('utf-8') + '\"')\n",
    "\n",
    "        msg.attach(part)\n",
    "\n",
    "    server = smtplib.SMTP(smpt_server)\n",
    "    server.starttls()\n",
    "    server.login(email_from, password)\n",
    "    server.sendmail(msg['From'], email_to_list, msg.as_string())\n",
    "    server.quit()"
   ]
  },
  {
   "cell_type": "markdown",
   "metadata": {},
   "source": [
    "# Работа с json "
   ]
  },
  {
   "cell_type": "code",
   "execution_count": 29,
   "metadata": {
    "collapsed": true
   },
   "outputs": [],
   "source": [
    "import json"
   ]
  },
  {
   "cell_type": "code",
   "execution_count": null,
   "metadata": {
    "collapsed": true
   },
   "outputs": [],
   "source": [
    "log_record = {}"
   ]
  },
  {
   "cell_type": "code",
   "execution_count": null,
   "metadata": {
    "collapsed": true
   },
   "outputs": [],
   "source": []
  },
  {
   "cell_type": "code",
   "execution_count": 72,
   "metadata": {
    "collapsed": false
   },
   "outputs": [
    {
     "name": "stdout",
     "output_type": "stream",
     "text": [
      "Mail was sent\n"
     ]
    }
   ],
   "source": [
    "import urllib\n",
    "import re\n",
    "import smtplib\n",
    "import json\n",
    "import datetime\n",
    "\n",
    "from lxml import html, etree\n",
    "from email.MIMEText import MIMEText\n",
    "from email.mime.multipart import *\n",
    "from email.mime.application import *\n",
    "\n",
    "def send_email(message,\n",
    "               subject,\n",
    "               email_to_list,\n",
    "               files_for_attachment,\n",
    "               email_from,\n",
    "               password,\n",
    "               smtp_server):\n",
    "    \n",
    "    msg = MIMEMultipart()\n",
    "    msg['Subject'] = subject\n",
    "    msg['From'] = email_from\n",
    "    msg['To'] = ', '.join(email_to_list)\n",
    "    part = MIMEText(message, \"plain\", \"utf-8\")\n",
    "    msg.attach(part)\n",
    "    \n",
    "    for filename in files_for_attachment:\n",
    "        part = MIMEApplication(open(filename, 'rb').read(), \"octet-stream\")\n",
    "        part.add_header('Content-Disposition', 'attachment; filename=\"' + filename.encode('utf-8') + '\"')\n",
    "        msg.attach(part)\n",
    "    \n",
    "    server = smtplib.SMTP(smtp_server)\n",
    "    server.starttls()\n",
    "    server.login(email_from, password)\n",
    "    server.sendmail(msg['From'], email_to_list, msg.as_string())\n",
    "    server.quit()\n",
    "\n",
    "sock = urllib.urlopen(\"http://www.liveinternet.ru/stat/ru/searches.html\")\n",
    "htmlSource = sock.read().decode('utf-8')\n",
    "sock.close()\n",
    "doc = html.fromstring(htmlSource)\n",
    "keys = []\n",
    "for i in doc.xpath('//tr/td/label/text()'):\n",
    "    value = i.encode('utf-8').strip().replace(',', '')\n",
    "    keys.append(value)\n",
    "\n",
    "values = []\n",
    "for i in doc.xpath('//tr/td[3]/text()'):\n",
    "    value = i.encode('utf-8').strip().replace(',', '')\n",
    "    if re.match(r'^[0-9]+$', value):\n",
    "        values.append(int(value))\n",
    "\n",
    "log_record = {}\n",
    "for (i, key) in enumerate(keys):\n",
    "    log_record[key] = values[i]\n",
    "log_record['time'] = datetime.datetime.now().strftime(\"%Y-%m-%d %H:%M\")\n",
    "\n",
    "with open('data.txt', 'w') as outfile:\n",
    "    json.dump(log_record, outfile, ensure_ascii=False)\n",
    "send_email('Hello!', 'Analysis', ['mihanlg@yandex.ru'], ['data.txt', '/Users/mihanlg/GITHUB/sphere/analysis/Lect3/prog.py'], 'mihanlg2@mail.ru',                           'TTd-6pM-hCu-RoV', 'smtp.mail.ru')\n",
    "print 'Mail was sent'"
   ]
  },
  {
   "cell_type": "markdown",
   "metadata": {},
   "source": [
    "# \"Консервирование\" объектов"
   ]
  },
  {
   "cell_type": "code",
   "execution_count": 30,
   "metadata": {
    "collapsed": true
   },
   "outputs": [],
   "source": [
    "import pickle\n",
    "class Foo:\n",
    "    attr = 'a class attr'"
   ]
  },
  {
   "cell_type": "code",
   "execution_count": 31,
   "metadata": {
    "collapsed": false
   },
   "outputs": [
    {
     "name": "stdout",
     "output_type": "stream",
     "text": [
      "(i__main__\n",
      "Foo\n",
      "p0\n",
      "(dp1\n",
      "b.\n"
     ]
    }
   ],
   "source": [
    "picklestring = pickle.dumps(Foo())\n",
    "print picklestring"
   ]
  },
  {
   "cell_type": "code",
   "execution_count": 32,
   "metadata": {
    "collapsed": false
   },
   "outputs": [
    {
     "name": "stdout",
     "output_type": "stream",
     "text": [
      "a class attr\n"
     ]
    }
   ],
   "source": [
    "foo = pickle.loads(picklestring)\n",
    "print foo.attr"
   ]
  },
  {
   "cell_type": "markdown",
   "metadata": {
    "collapsed": true
   },
   "source": [
    "## Работа с датой и временем"
   ]
  },
  {
   "cell_type": "code",
   "execution_count": 33,
   "metadata": {
    "collapsed": true
   },
   "outputs": [],
   "source": [
    " from datetime import date"
   ]
  },
  {
   "cell_type": "code",
   "execution_count": 34,
   "metadata": {
    "collapsed": true
   },
   "outputs": [],
   "source": [
    "now = date.today()"
   ]
  },
  {
   "cell_type": "code",
   "execution_count": 35,
   "metadata": {
    "collapsed": false
   },
   "outputs": [
    {
     "data": {
      "text/plain": [
       "'03-11-16. 11 Mar 2016 is a Friday on the 11 day of March.'"
      ]
     },
     "execution_count": 35,
     "metadata": {},
     "output_type": "execute_result"
    }
   ],
   "source": [
    "now.strftime(\"%m-%d-%y. %d %b %Y is a %A on the %d day of %B.\")"
   ]
  },
  {
   "cell_type": "markdown",
   "metadata": {},
   "source": [
    "https://docs.python.org/2/library/datetime.html"
   ]
  },
  {
   "cell_type": "markdown",
   "metadata": {},
   "source": [
    "## Сжатие данных"
   ]
  },
  {
   "cell_type": "code",
   "execution_count": null,
   "metadata": {
    "collapsed": true
   },
   "outputs": [],
   "source": [
    "import zlib"
   ]
  },
  {
   "cell_type": "code",
   "execution_count": null,
   "metadata": {
    "collapsed": true
   },
   "outputs": [],
   "source": [
    "s = 'witch which has which witches wrist watch'"
   ]
  },
  {
   "cell_type": "code",
   "execution_count": null,
   "metadata": {
    "collapsed": false
   },
   "outputs": [],
   "source": [
    "len(s)"
   ]
  },
  {
   "cell_type": "code",
   "execution_count": null,
   "metadata": {
    "collapsed": true
   },
   "outputs": [],
   "source": [
    "t = zlib.compress(s)"
   ]
  },
  {
   "cell_type": "code",
   "execution_count": null,
   "metadata": {
    "collapsed": false
   },
   "outputs": [],
   "source": [
    "len(t)"
   ]
  },
  {
   "cell_type": "code",
   "execution_count": null,
   "metadata": {
    "collapsed": false
   },
   "outputs": [],
   "source": [
    "print t"
   ]
  },
  {
   "cell_type": "code",
   "execution_count": null,
   "metadata": {
    "collapsed": false
   },
   "outputs": [],
   "source": [
    "import zipfile\n",
    "try:\n",
    "    import zlib\n",
    "    compression = zipfile.ZIP_DEFLATED\n",
    "except:\n",
    "    compression = zipfile.ZIP_STORED\n",
    "\n",
    "modes = { zipfile.ZIP_DEFLATED: 'deflated',\n",
    "          zipfile.ZIP_STORED:   'stored',\n",
    "          }\n",
    "\n",
    "print 'creating archive'\n",
    "zf = zipfile.ZipFile('zipfile_write_compression.zip', mode='w')\n",
    "try:\n",
    "    print 'adding README.txt with compression mode', modes[compression]\n",
    "    zf.write('untitled.txt', compress_type=compression)\n",
    "finally:\n",
    "    print 'closing'\n",
    "    zf.close()\n"
   ]
  },
  {
   "cell_type": "code",
   "execution_count": null,
   "metadata": {
    "collapsed": true
   },
   "outputs": [],
   "source": []
  },
  {
   "cell_type": "code",
   "execution_count": null,
   "metadata": {
    "collapsed": true
   },
   "outputs": [],
   "source": []
  },
  {
   "cell_type": "code",
   "execution_count": null,
   "metadata": {
    "collapsed": true
   },
   "outputs": [],
   "source": []
  },
  {
   "cell_type": "markdown",
   "metadata": {},
   "source": [
    "# Numpy"
   ]
  },
  {
   "cell_type": "code",
   "execution_count": null,
   "metadata": {
    "collapsed": true
   },
   "outputs": [],
   "source": [
    "import numpy as np\n",
    "a = np.array([0, 1, 2, 3])\n",
    "a\n"
   ]
  },
  {
   "cell_type": "code",
   "execution_count": null,
   "metadata": {
    "collapsed": true
   },
   "outputs": [],
   "source": [
    "np.lookfor('create array')"
   ]
  },
  {
   "cell_type": "code",
   "execution_count": null,
   "metadata": {
    "collapsed": true
   },
   "outputs": [],
   "source": [
    "a = np.array([0, 1, 2, 3])\n",
    "a\n",
    "a.ndim\n",
    "a.shape\n",
    "len(a)\n",
    "b.shape\n",
    "len(b)  "
   ]
  },
  {
   "cell_type": "code",
   "execution_count": null,
   "metadata": {
    "collapsed": true
   },
   "outputs": [],
   "source": [
    "b = np.array([[0, 1, 2], [3, 4, 5]])    # 2 x 3 array\n",
    "b\n",
    "b.ndim"
   ]
  },
  {
   "cell_type": "code",
   "execution_count": null,
   "metadata": {
    "collapsed": true
   },
   "outputs": [],
   "source": [
    "c = np.array([[[1], [2]], [[3], [4]]])\n",
    "c"
   ]
  },
  {
   "cell_type": "code",
   "execution_count": null,
   "metadata": {
    "collapsed": true
   },
   "outputs": [],
   "source": [
    "a = np.arange(10) # 0 .. n-1  (!)\n",
    "b = np.arange(1, 9, 2) # start, end (exlusive), step\n",
    "print a\n",
    "print b"
   ]
  },
  {
   "cell_type": "code",
   "execution_count": null,
   "metadata": {
    "collapsed": true
   },
   "outputs": [],
   "source": [
    "c = np.linspace(0, 1, 6)   # start, end, num-points\n",
    "d = np.linspace(0, 1, 5, endpoint=False)\n",
    "print c\n",
    "print d"
   ]
  },
  {
   "cell_type": "code",
   "execution_count": null,
   "metadata": {
    "collapsed": true
   },
   "outputs": [],
   "source": [
    "a = np.ones((3, 3))  # reminder: (3, 3) is a tuple\n",
    "print a\n",
    "\n",
    "b = np.zeros((2, 2))\n",
    "print b\n",
    "c = np.eye(3)\n",
    "print c\n",
    "d = np.diag(np.array([1, 2, 3, 4, 5]))\n",
    "print d\n"
   ]
  },
  {
   "cell_type": "code",
   "execution_count": null,
   "metadata": {
    "collapsed": true
   },
   "outputs": [],
   "source": [
    "a = np.random.rand(4)              # uniform in [0, 1]\n",
    "print a\n",
    "\n",
    "\n",
    "b = np.random.randn(4)             # gaussian\n",
    "print b\n",
    "\n",
    "\n",
    "c = np.random.rand(3, 3)\n",
    "print c\n",
    "d = np.random.zipf(1.5, size=(2, 8))  # Zipf distribution (s=1.5)\n",
    "print d\n",
    "\n",
    "print np.random.seed(1234)                  # Setting the random seed\n",
    "print np.random.rand(3)\n",
    "\n",
    "print np.random.seed(1234)\n",
    "print np.random.rand(5)\n"
   ]
  },
  {
   "cell_type": "code",
   "execution_count": null,
   "metadata": {
    "collapsed": true
   },
   "outputs": [],
   "source": [
    "a = np.arange(15).reshape(3, 5)\n",
    "print a\n",
    "print a.shape\n",
    "\n",
    "print  a.ndim\n",
    "\n",
    "print  a.dtype.name\n",
    "\n",
    "print a.itemsize\n",
    "\n",
    "print  a.size\n",
    "\n",
    "print  type(a)\n",
    "b = np.array([6, 7, 8])\n",
    "print  b\n",
    "\n",
    "print  type(b)"
   ]
  },
  {
   "cell_type": "code",
   "execution_count": null,
   "metadata": {
    "collapsed": true
   },
   "outputs": [],
   "source": [
    "a = np.array([1, 2, 3])\n",
    "print a.dtype"
   ]
  },
  {
   "cell_type": "code",
   "execution_count": null,
   "metadata": {
    "collapsed": true
   },
   "outputs": [],
   "source": [
    "b = np.array([1., 2., 3.])\n",
    "print  b.dtype"
   ]
  },
  {
   "cell_type": "code",
   "execution_count": null,
   "metadata": {
    "collapsed": true
   },
   "outputs": [],
   "source": [
    "c = np.array([1, 2, 3], dtype=float)\n",
    "print  c.dtype"
   ]
  },
  {
   "cell_type": "markdown",
   "metadata": {},
   "source": [
    "The default data type is floating point:"
   ]
  },
  {
   "cell_type": "code",
   "execution_count": null,
   "metadata": {
    "collapsed": true
   },
   "outputs": [],
   "source": [
    "a = np.ones((3, 3))\n",
    "print  a.dtype\n",
    "dtype('float64')"
   ]
  },
  {
   "cell_type": "code",
   "execution_count": null,
   "metadata": {
    "collapsed": true
   },
   "outputs": [],
   "source": [
    "d = np.array([1+2j, 3+4j, 5+6*1j])\n",
    "print  d.dtype"
   ]
  },
  {
   "cell_type": "code",
   "execution_count": null,
   "metadata": {
    "collapsed": true
   },
   "outputs": [],
   "source": [
    "e = np.array([True, False, False, True])\n",
    "print  e.dtype"
   ]
  },
  {
   "cell_type": "code",
   "execution_count": null,
   "metadata": {
    "collapsed": true
   },
   "outputs": [],
   "source": [
    " f = np.array(['Bonjour', 'Hello', 'Hallo', 'Terve', 'Hej'])\n",
    "print  f.dtype\n",
    "#dtype('S7') <--- strings containing max. 7 letters"
   ]
  },
  {
   "cell_type": "code",
   "execution_count": null,
   "metadata": {
    "collapsed": true
   },
   "outputs": [],
   "source": []
  },
  {
   "cell_type": "code",
   "execution_count": null,
   "metadata": {
    "collapsed": true
   },
   "outputs": [],
   "source": []
  }
 ],
 "metadata": {
  "kernelspec": {
   "display_name": "Python 2",
   "language": "python",
   "name": "python2"
  },
  "language_info": {
   "codemirror_mode": {
    "name": "ipython",
    "version": 2
   },
   "file_extension": ".py",
   "mimetype": "text/x-python",
   "name": "python",
   "nbconvert_exporter": "python",
   "pygments_lexer": "ipython2",
   "version": "2.7.11"
  }
 },
 "nbformat": 4,
 "nbformat_minor": 0
}

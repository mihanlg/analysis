{
 "cells": [
  {
   "cell_type": "code",
   "execution_count": 1,
   "metadata": {
    "collapsed": true
   },
   "outputs": [],
   "source": [
    "%matplotlib inline"
   ]
  },
  {
   "cell_type": "code",
   "execution_count": 2,
   "metadata": {
    "collapsed": true
   },
   "outputs": [],
   "source": [
    "import numpy as np\n",
    "import pandas as pd"
   ]
  },
  {
   "cell_type": "code",
   "execution_count": 3,
   "metadata": {
    "collapsed": true
   },
   "outputs": [],
   "source": [
    "x = np.random.poisson(5,10)\n",
    "y = np.random.poisson(5,10)"
   ]
  },
  {
   "cell_type": "markdown",
   "metadata": {},
   "source": [
    "### Многомерное нормальное распределение"
   ]
  },
  {
   "cell_type": "markdown",
   "metadata": {},
   "source": [
    "Вектор размерности $d$ X = (X_1, ..., X_d) имеет многомерное нормальное распределение, если любая линейная комбинация его компонет имеет нормальное распределение. Плотность распределения имеет вид:"
   ]
  },
  {
   "cell_type": "markdown",
   "metadata": {},
   "source": [
    "$$ p(x) = \\frac{1}{\\sqrt{2\\pi}\\,det\\Sigma} exp \\left( -\\frac{1}{2}(x-\\mu)^T\\Sigma^{-1}(x-\\mu)\\right).$$"
   ]
  },
  {
   "cell_type": "markdown",
   "metadata": {},
   "source": [
    "Матрица ковариации:\n",
    "$$ \\Sigma = E\\left[(X-\\mu)(X-\\mu)^T \\right].$$"
   ]
  },
  {
   "cell_type": "markdown",
   "metadata": {},
   "source": [
    "** Расстояние Махаланобиса**:"
   ]
  },
  {
   "cell_type": "markdown",
   "metadata": {},
   "source": [
    "$$D_M (x)= \\sqrt{(x-\\mu)^TS^{-1}(x-\\mu)}.$$"
   ]
  },
  {
   "cell_type": "markdown",
   "metadata": {},
   "source": [
    "Оценим матрицу ковариации для переменных:"
   ]
  },
  {
   "cell_type": "code",
   "execution_count": 4,
   "metadata": {
    "collapsed": true
   },
   "outputs": [],
   "source": [
    "covariance_xy = np.cov(x,y, rowvar=0)\n",
    "inv_covariance_xy = np.linalg.inv(covariance_xy)"
   ]
  },
  {
   "cell_type": "markdown",
   "metadata": {},
   "source": [
    "Центрируем данные:"
   ]
  },
  {
   "cell_type": "code",
   "execution_count": 5,
   "metadata": {
    "collapsed": true
   },
   "outputs": [],
   "source": [
    "xy_mean = np.mean(x),np.mean(y)\n",
    "x_diff = np.array([x_i - xy_mean[0] for x_i in x])\n",
    "y_diff = np.array([y_i - xy_mean[1] for y_i in y])"
   ]
  },
  {
   "cell_type": "code",
   "execution_count": 7,
   "metadata": {
    "collapsed": false
   },
   "outputs": [
    {
     "data": {
      "text/plain": [
       "((10, 2), array([[-0.1, -0.2],\n",
       "        [-1.1,  0.8],\n",
       "        [-0.1, -0.2],\n",
       "        [-0.1,  0.8],\n",
       "        [-2.1, -1.2],\n",
       "        [ 0.9,  1.8],\n",
       "        [-1.1, -1.2],\n",
       "        [ 1.9, -3.2],\n",
       "        [-0.1,  1.8],\n",
       "        [ 1.9,  0.8]]))"
      ]
     },
     "execution_count": 7,
     "metadata": {},
     "output_type": "execute_result"
    }
   ],
   "source": [
    "diff_xy = np.transpose([x_diff, y_diff])\n",
    "diff_xy.shape, diff_xy"
   ]
  },
  {
   "cell_type": "markdown",
   "metadata": {},
   "source": [
    "Рассмотрим расстояние до центра координат:"
   ]
  },
  {
   "cell_type": "code",
   "execution_count": 8,
   "metadata": {
    "collapsed": false
   },
   "outputs": [
    {
     "data": {
      "text/plain": [
       "[0.15143810309081371,\n",
       " 0.99389059801387825,\n",
       " 0.15143810309081371,\n",
       " 0.52138840320641511,\n",
       " 1.8144849132221383,\n",
       " 1.362942927817324,\n",
       " 1.1600882930757941,\n",
       " 2.5258637275037632,\n",
       " 1.1636989096276102,\n",
       " 1.5698764662637554]"
      ]
     },
     "execution_count": 8,
     "metadata": {},
     "output_type": "execute_result"
    }
   ],
   "source": [
    "md = []\n",
    "for i in range(len(diff_xy)):\n",
    "    md.append(np.sqrt(np.dot(np.dot(np.transpose(diff_xy[i]),inv_covariance_xy),diff_xy[i])))\n",
    "md"
   ]
  },
  {
   "cell_type": "markdown",
   "metadata": {},
   "source": [
    "То же самое, упакованное в одну функцию:"
   ]
  },
  {
   "cell_type": "code",
   "execution_count": 9,
   "metadata": {
    "collapsed": true
   },
   "outputs": [],
   "source": [
    "def MahalanobisDist(x, y):\n",
    "    covariance_xy = np.cov(x,y, rowvar=0)\n",
    "    inv_covariance_xy = np.linalg.inv(covariance_xy)\n",
    "    xy_mean = np.mean(x),np.mean(y)\n",
    "    x_diff = np.array([x_i - xy_mean[0] for x_i in x])\n",
    "    y_diff = np.array([y_i - xy_mean[1] for y_i in y])\n",
    "    diff_xy = np.transpose([x_diff, y_diff])\n",
    "    \n",
    "    md = []\n",
    "    for i in range(len(diff_xy)):\n",
    "        md.append(np.sqrt(np.dot(np.dot(np.transpose(diff_xy[i]),inv_covariance_xy),diff_xy[i])))\n",
    "    return md"
   ]
  },
  {
   "cell_type": "code",
   "execution_count": 10,
   "metadata": {
    "collapsed": false
   },
   "outputs": [
    {
     "data": {
      "text/plain": [
       "[0.15143810309081371,\n",
       " 0.99389059801387825,\n",
       " 0.15143810309081371,\n",
       " 0.52138840320641511,\n",
       " 1.8144849132221383,\n",
       " 1.362942927817324,\n",
       " 1.1600882930757941,\n",
       " 2.5258637275037632,\n",
       " 1.1636989096276102,\n",
       " 1.5698764662637554]"
      ]
     },
     "execution_count": 10,
     "metadata": {},
     "output_type": "execute_result"
    }
   ],
   "source": [
    "MahalanobisDist(x,y)"
   ]
  },
  {
   "cell_type": "markdown",
   "metadata": {},
   "source": [
    "По аналогии, с тем, что мы делали ранее для одномерных данным, можем \"записать\" в выбросы все наблюдения, которые отстоят достаточно далеко от центра координат:"
   ]
  },
  {
   "cell_type": "code",
   "execution_count": 15,
   "metadata": {
    "collapsed": true
   },
   "outputs": [],
   "source": [
    "def MD_removeOutliers(x, y):\n",
    "    MD = MahalanobisDist(x, y)\n",
    "    threshold = np.mean(MD) * 1.65 \n",
    "    nx, ny, outliers = [], [], []\n",
    "    for i in range(len(MD)):\n",
    "        if MD[i] <= threshold:\n",
    "            nx.append(x[i])\n",
    "            ny.append(y[i])\n",
    "        else:\n",
    "            outliers.append(i)\n",
    "    return (np.array(nx), np.array(ny), np.array(outliers))"
   ]
  },
  {
   "cell_type": "code",
   "execution_count": 16,
   "metadata": {
    "collapsed": false
   },
   "outputs": [
    {
     "name": "stdout",
     "output_type": "stream",
     "text": [
      "x: [4 3 4 4 2 5 3 6 4 6]\n",
      "y: [4 5 4 5 3 6 3 1 6 5]\n"
     ]
    },
    {
     "data": {
      "text/plain": [
       "(array([4, 3, 4, 4, 2, 5, 3, 4, 6]),\n",
       " array([4, 5, 4, 5, 3, 6, 3, 6, 5]),\n",
       " array([7]))"
      ]
     },
     "execution_count": 16,
     "metadata": {},
     "output_type": "execute_result"
    }
   ],
   "source": [
    "print 'x:', x\n",
    "print 'y:', y\n",
    "MD_removeOutliers(x,y)"
   ]
  },
  {
   "cell_type": "code",
   "execution_count": null,
   "metadata": {
    "collapsed": true
   },
   "outputs": [],
   "source": []
  }
 ],
 "metadata": {
  "kernelspec": {
   "display_name": "Python 2",
   "language": "python",
   "name": "python2"
  },
  "language_info": {
   "codemirror_mode": {
    "name": "ipython",
    "version": 2
   },
   "file_extension": ".py",
   "mimetype": "text/x-python",
   "name": "python",
   "nbconvert_exporter": "python",
   "pygments_lexer": "ipython2",
   "version": "2.7.10"
  }
 },
 "nbformat": 4,
 "nbformat_minor": 0
}

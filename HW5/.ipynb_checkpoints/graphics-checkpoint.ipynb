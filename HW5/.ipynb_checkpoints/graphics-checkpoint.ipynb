{
 "cells": [
  {
   "cell_type": "code",
   "execution_count": 69,
   "metadata": {
    "collapsed": true
   },
   "outputs": [],
   "source": [
    "import pandas as pd\n",
    "import json\n",
    "import os"
   ]
  },
  {
   "cell_type": "code",
   "execution_count": 75,
   "metadata": {
    "collapsed": false
   },
   "outputs": [],
   "source": [
    "from wordcloud import WordCloud, STOPWORDS"
   ]
  },
  {
   "cell_type": "code",
   "execution_count": 102,
   "metadata": {
    "collapsed": true
   },
   "outputs": [],
   "source": [
    "files = \"./files\""
   ]
  },
  {
   "cell_type": "code",
   "execution_count": 104,
   "metadata": {
    "collapsed": false
   },
   "outputs": [],
   "source": [
    "def createTagCloud(dirPath, filename, query = \"All\", lang = 'und'):\n",
    "    with open('/'.join([dirPath, filename])) as f:\n",
    "        data = json.load(f, encoding='utf-8')\n",
    "    frequesnces = map(lambda x: (x.upper(), data[x]), data.keys())\n",
    "    cloud = WordCloud(stopwords=STOPWORDS, background_color='white', width=800, height=600)\n",
    "    cloud.generate_from_frequencies(frequesnces)\n",
    "    root = './Clouds'\n",
    "    savePath = '/'.join([root, query])\n",
    "    if not (os.path.exists(savePath)): os.makedirs(savePath)\n",
    "    \n",
    "    cloud.to_file('/'.join([savePath, filename + '.png']))"
   ]
  },
  {
   "cell_type": "code",
   "execution_count": 89,
   "metadata": {
    "collapsed": false
   },
   "outputs": [],
   "source": [
    "for query in os.listdir(files):\n",
    "    dirPath = '/'.join([files, query])\n",
    "    for filename in os.listdir(dirPath):\n",
    "        lang = filename.split('.')[0]\n",
    "        createTagCloud(dirPath, filename, query, lang)"
   ]
  },
  {
   "cell_type": "code",
   "execution_count": 112,
   "metadata": {
    "collapsed": true
   },
   "outputs": [],
   "source": [
    "data = {}\n",
    "for query in os.listdir(files):\n",
    "    filePath = '/'.join([files, query, query+'.txt'])\n",
    "    with open(filePath) as f:\n",
    "        data[query] = json.load(f, encoding='utf-8')"
   ]
  },
  {
   "cell_type": "code",
   "execution_count": 117,
   "metadata": {
    "collapsed": false
   },
   "outputs": [],
   "source": [
    "import matplotlib.pyplot as plt\n",
    "%matplotlib inline"
   ]
  },
  {
   "cell_type": "code",
   "execution_count": 121,
   "metadata": {
    "collapsed": false
   },
   "outputs": [
    {
     "data": {
      "text/plain": [
       "{u'ar': 179,\n",
       " u'da': 2,\n",
       " u'de': 13,\n",
       " u'el': 1,\n",
       " u'en': 797,\n",
       " u'es': 2276,\n",
       " u'fa': 1,\n",
       " u'fr': 289,\n",
       " u'ht': 13,\n",
       " u'hu': 1,\n",
       " u'hy': 1,\n",
       " u'in': 184,\n",
       " u'is': 1,\n",
       " u'it': 71,\n",
       " u'iw': 1,\n",
       " u'ja': 273,\n",
       " u'ko': 1,\n",
       " u'lv': 1,\n",
       " u'nl': 7,\n",
       " u'no': 1,\n",
       " u'pl': 3,\n",
       " u'pt': 32,\n",
       " u'ru': 12,\n",
       " u'th': 3,\n",
       " u'tl': 11,\n",
       " u'tr': 14,\n",
       " u'und': 812}"
      ]
     },
     "execution_count": 121,
     "metadata": {},
     "output_type": "execute_result"
    }
   ],
   "source": [
    "data['RealMadrid']"
   ]
  },
  {
   "cell_type": "code",
   "execution_count": 199,
   "metadata": {
    "collapsed": true
   },
   "outputs": [],
   "source": [
    "import codecs"
   ]
  },
  {
   "cell_type": "code",
   "execution_count": 217,
   "metadata": {
    "collapsed": true
   },
   "outputs": [],
   "source": [
    "def getisocodes_dict(data_path):\n",
    "    # Provide a map from ISO code (both bibliographic and terminologic)\n",
    "    # in ISO 639-2 to a dict with the two letter ISO 639-2 codes (alpha2)\n",
    "    # English and french names\n",
    "    #\n",
    "    # \"bibliographic\" iso codes are derived from English word for the language\n",
    "    # \"terminologic\" iso codes are derived from the pronunciation in the target \n",
    "    # language (if different to the bibliographic code)\n",
    "\n",
    "    D = {}\n",
    "    f = codecs.open(data_path, 'rb', 'utf-8')\n",
    "    for line in f:\n",
    "        iD = {}\n",
    "        iD['bibliographic'], iD['terminologic'], iD['alpha2'], \\\n",
    "            iD['english'], iD['french'] = line.strip().split('|')\n",
    "        D[iD['bibliographic']] = iD\n",
    "\n",
    "        if iD['terminologic']:\n",
    "            D[iD['terminologic']] = iD\n",
    "\n",
    "        if iD['alpha2']:\n",
    "            D[iD['alpha2']] = iD\n",
    "\n",
    "        for k in iD:\n",
    "            # Assign `None` when columns not available from the data\n",
    "            iD[k] = iD[k] or None\n",
    "    f.close()\n",
    "    return D\n",
    "\n",
    "languages = getisocodes_dict('ISO-639-2_utf-8.txt')"
   ]
  },
  {
   "cell_type": "code",
   "execution_count": 221,
   "metadata": {
    "collapsed": false
   },
   "outputs": [],
   "source": [
    "df = pd.DataFrame(data).fillna(0)\n",
    "newindex = [languages[index]['english'] for index in df.index]"
   ]
  },
  {
   "cell_type": "code",
   "execution_count": 222,
   "metadata": {
    "collapsed": false
   },
   "outputs": [],
   "source": [
    "df.index = newindex"
   ]
  },
  {
   "cell_type": "code",
   "execution_count": 225,
   "metadata": {
    "collapsed": false
   },
   "outputs": [
    {
     "data": {
      "text/plain": [
       "<matplotlib.axes._subplots.AxesSubplot at 0x1241a4350>"
      ]
     },
     "execution_count": 225,
     "metadata": {},
     "output_type": "execute_result"
    },
    {
     "data": {
      "image/png": "[encoded data removed]",
      "text/plain": [
       "<matplotlib.figure.Figure at 0x123fb2dd0>"
      ]
     },
     "metadata": {},
     "output_type": "display_data"
    }
   ],
   "source": [
    "df.plot(kind='bar', figsize=(20,10), width=0.8)"
   ]
  },
  {
   "cell_type": "code",
   "execution_count": null,
   "metadata": {
    "collapsed": true
   },
   "outputs": [],
   "source": []
  }
 ],
 "metadata": {
  "kernelspec": {
   "display_name": "Python 2",
   "language": "python",
   "name": "python2"
  },
  "language_info": {
   "codemirror_mode": {
    "name": "ipython",
    "version": 2
   },
   "file_extension": ".py",
   "mimetype": "text/x-python",
   "name": "python",
   "nbconvert_exporter": "python",
   "pygments_lexer": "ipython2",
   "version": "2.7.11"
  }
 },
 "nbformat": 4,
 "nbformat_minor": 0
}

{
 "cells": [
  {
   "cell_type": "markdown",
   "metadata": {},
   "source": [
    "# $$\\mathrm{Homework\\space4}$$"
   ]
  },
  {
   "cell_type": "markdown",
   "metadata": {},
   "source": [
    "- Построить модель линейной регрессии по соответствующему вашему варианту набору данных.\n",
    "- Использовать регуляризацию не нужно!\n",
    "- Рекомендую использовать statmodels\n",
    "- Посмотреть на результаты и попытаться вспомнить, что означают все эти \"статистики, критерии ... \"."
   ]
  },
  {
   "cell_type": "markdown",
   "metadata": {},
   "source": [
    "#### Libraries"
   ]
  },
  {
   "cell_type": "code",
   "execution_count": 181,
   "metadata": {
    "collapsed": true
   },
   "outputs": [],
   "source": [
    "import statsmodels as sm"
   ]
  },
  {
   "cell_type": "code",
   "execution_count": 182,
   "metadata": {
    "collapsed": true
   },
   "outputs": [],
   "source": [
    "import pandas as pd\n",
    "import matplotlib.pyplot as plt\n",
    "import numpy as np\n",
    "plt.style.use('ggplot')"
   ]
  },
  {
   "cell_type": "code",
   "execution_count": 183,
   "metadata": {
    "collapsed": true
   },
   "outputs": [],
   "source": [
    "from statsmodels.graphics.api import qqplot\n",
    "import statsmodels.formula.api as smf\n",
    "from statsmodels.stats import diagnostic as ols_d\n",
    "from scipy import stats"
   ]
  },
  {
   "cell_type": "code",
   "execution_count": 184,
   "metadata": {
    "collapsed": true
   },
   "outputs": [],
   "source": [
    "%matplotlib inline"
   ]
  },
  {
   "cell_type": "code",
   "execution_count": 185,
   "metadata": {
    "collapsed": false
   },
   "outputs": [],
   "source": [
    "np_data = np.loadtxt('data/x20.txt', skiprows=41)"
   ]
  },
  {
   "cell_type": "code",
   "execution_count": 186,
   "metadata": {
    "collapsed": false
   },
   "outputs": [],
   "source": [
    "data = pd.DataFrame(np_data[:,1:],\n",
    "                    columns=['One',\n",
    "                             'Urban_population',\n",
    "                             'Late_births',\n",
    "                             'Wine_consumption',\n",
    "                             'Liquor_consumption',\n",
    "                             'Cirrhosis_death_rate'])"
   ]
  },
  {
   "cell_type": "code",
   "execution_count": 187,
   "metadata": {
    "collapsed": false
   },
   "outputs": [
    {
     "data": {
      "text/html": [
       "<div>\n",
       "<table border=\"1\" class=\"dataframe\">\n",
       "  <thead>\n",
       "    <tr style=\"text-align: right;\">\n",
       "      <th></th>\n",
       "      <th>One</th>\n",
       "      <th>Urban_population</th>\n",
       "      <th>Late_births</th>\n",
       "      <th>Wine_consumption</th>\n",
       "      <th>Liquor_consumption</th>\n",
       "      <th>Cirrhosis_death_rate</th>\n",
       "    </tr>\n",
       "  </thead>\n",
       "  <tbody>\n",
       "    <tr>\n",
       "      <th>0</th>\n",
       "      <td>1</td>\n",
       "      <td>44</td>\n",
       "      <td>33.2</td>\n",
       "      <td>5</td>\n",
       "      <td>30</td>\n",
       "      <td>41.2</td>\n",
       "    </tr>\n",
       "    <tr>\n",
       "      <th>1</th>\n",
       "      <td>1</td>\n",
       "      <td>43</td>\n",
       "      <td>33.8</td>\n",
       "      <td>4</td>\n",
       "      <td>41</td>\n",
       "      <td>31.7</td>\n",
       "    </tr>\n",
       "    <tr>\n",
       "      <th>2</th>\n",
       "      <td>1</td>\n",
       "      <td>48</td>\n",
       "      <td>40.6</td>\n",
       "      <td>3</td>\n",
       "      <td>38</td>\n",
       "      <td>39.4</td>\n",
       "    </tr>\n",
       "    <tr>\n",
       "      <th>3</th>\n",
       "      <td>1</td>\n",
       "      <td>52</td>\n",
       "      <td>39.2</td>\n",
       "      <td>7</td>\n",
       "      <td>48</td>\n",
       "      <td>57.5</td>\n",
       "    </tr>\n",
       "    <tr>\n",
       "      <th>4</th>\n",
       "      <td>1</td>\n",
       "      <td>71</td>\n",
       "      <td>45.5</td>\n",
       "      <td>11</td>\n",
       "      <td>53</td>\n",
       "      <td>74.8</td>\n",
       "    </tr>\n",
       "  </tbody>\n",
       "</table>\n",
       "</div>"
      ],
      "text/plain": [
       "   One  Urban_population  Late_births  Wine_consumption  Liquor_consumption  \\\n",
       "0    1                44         33.2                 5                  30   \n",
       "1    1                43         33.8                 4                  41   \n",
       "2    1                48         40.6                 3                  38   \n",
       "3    1                52         39.2                 7                  48   \n",
       "4    1                71         45.5                11                  53   \n",
       "\n",
       "   Cirrhosis_death_rate  \n",
       "0                  41.2  \n",
       "1                  31.7  \n",
       "2                  39.4  \n",
       "3                  57.5  \n",
       "4                  74.8  "
      ]
     },
     "execution_count": 187,
     "metadata": {},
     "output_type": "execute_result"
    }
   ],
   "source": [
    "data.head()"
   ]
  },
  {
   "cell_type": "code",
   "execution_count": 188,
   "metadata": {
    "collapsed": false
   },
   "outputs": [
    {
     "data": {
      "text/plain": [
       "<matplotlib.axes._subplots.AxesSubplot at 0x11b38d410>"
      ]
     },
     "execution_count": 188,
     "metadata": {},
     "output_type": "execute_result"
    },
    {
     "data": {
      "image/png": "[encoded data removed]",
      "text/plain": [
       "<matplotlib.figure.Figure at 0x11be83290>"
      ]
     },
     "metadata": {},
     "output_type": "display_data"
    }
   ],
   "source": [
    "fig, axs = plt.subplots(1, 4, sharey=True, figsize=(15, 5))\n",
    "data.plot(kind='scatter', x='Urban_population', y='Cirrhosis_death_rate', ax=axs[0])\n",
    "data.plot(kind='scatter', x='Late_births', y='Cirrhosis_death_rate', ax=axs[1])\n",
    "data.plot(kind='scatter', x='Wine_consumption', y='Cirrhosis_death_rate', ax=axs[2])\n",
    "data.plot(kind='scatter', x='Liquor_consumption', y='Cirrhosis_death_rate', ax=axs[3])"
   ]
  },
  {
   "cell_type": "markdown",
   "metadata": {},
   "source": [
    "## Linear model for all parametrs"
   ]
  },
  {
   "cell_type": "code",
   "execution_count": 189,
   "metadata": {
    "collapsed": false
   },
   "outputs": [
    {
     "data": {
      "text/plain": [
       "Intercept            -13.963100\n",
       "Urban_population       0.098286\n",
       "Late_births            1.148377\n",
       "Wine_consumption       1.857861\n",
       "Liquor_consumption     0.048170\n",
       "dtype: float64"
      ]
     },
     "execution_count": 189,
     "metadata": {},
     "output_type": "execute_result"
    }
   ],
   "source": [
    "lm = smf.ols(formula='Cirrhosis_death_rate ~ Urban_population + Late_births + Wine_consumption + Liquor_consumption', data=data).fit()\n",
    "lm.params"
   ]
  },
  {
   "cell_type": "markdown",
   "metadata": {},
   "source": [
    "### Смотрим различные критерии полученной модели"
   ]
  },
  {
   "cell_type": "code",
   "execution_count": 132,
   "metadata": {
    "collapsed": false
   },
   "outputs": [
    {
     "data": {
      "text/html": [
       "<table class=\"simpletable\">\n",
       "<caption>OLS Regression Results</caption>\n",
       "<tr>\n",
       "  <th>Dep. Variable:</th>    <td>Cirrhosis_death_rate</td> <th>  R-squared:         </th> <td>   0.814</td>\n",
       "</tr>\n",
       "<tr>\n",
       "  <th>Model:</th>                     <td>OLS</td>         <th>  Adj. R-squared:    </th> <td>   0.795</td>\n",
       "</tr>\n",
       "<tr>\n",
       "  <th>Method:</th>               <td>Least Squares</td>    <th>  F-statistic:       </th> <td>   44.75</td>\n",
       "</tr>\n",
       "<tr>\n",
       "  <th>Date:</th>               <td>Thu, 19 May 2016</td>   <th>  Prob (F-statistic):</th> <td>1.95e-14</td>\n",
       "</tr>\n",
       "<tr>\n",
       "  <th>Time:</th>                   <td>23:29:34</td>       <th>  Log-Likelihood:    </th> <td> -171.25</td>\n",
       "</tr>\n",
       "<tr>\n",
       "  <th>No. Observations:</th>        <td>    46</td>        <th>  AIC:               </th> <td>   352.5</td>\n",
       "</tr>\n",
       "<tr>\n",
       "  <th>Df Residuals:</th>            <td>    41</td>        <th>  BIC:               </th> <td>   361.6</td>\n",
       "</tr>\n",
       "<tr>\n",
       "  <th>Df Model:</th>                <td>     4</td>        <th>                     </th>     <td> </td>   \n",
       "</tr>\n",
       "<tr>\n",
       "  <th>Covariance Type:</th>        <td>nonrobust</td>      <th>                     </th>     <td> </td>   \n",
       "</tr>\n",
       "</table>\n",
       "<table class=\"simpletable\">\n",
       "<tr>\n",
       "           <td></td>             <th>coef</th>     <th>std err</th>      <th>t</th>      <th>P>|t|</th> <th>[95.0% Conf. Int.]</th> \n",
       "</tr>\n",
       "<tr>\n",
       "  <th>Intercept</th>          <td>  -13.9631</td> <td>   11.400</td> <td>   -1.225</td> <td> 0.228</td> <td>  -36.987     9.060</td>\n",
       "</tr>\n",
       "<tr>\n",
       "  <th>Urban_population</th>   <td>    0.0983</td> <td>    0.244</td> <td>    0.403</td> <td> 0.689</td> <td>   -0.395     0.591</td>\n",
       "</tr>\n",
       "<tr>\n",
       "  <th>Late_births</th>        <td>    1.1484</td> <td>    0.583</td> <td>    1.970</td> <td> 0.056</td> <td>   -0.029     2.326</td>\n",
       "</tr>\n",
       "<tr>\n",
       "  <th>Wine_consumption</th>   <td>    1.8579</td> <td>    0.401</td> <td>    4.634</td> <td> 0.000</td> <td>    1.048     2.668</td>\n",
       "</tr>\n",
       "<tr>\n",
       "  <th>Liquor_consumption</th> <td>    0.0482</td> <td>    0.133</td> <td>    0.361</td> <td> 0.720</td> <td>   -0.221     0.317</td>\n",
       "</tr>\n",
       "</table>\n",
       "<table class=\"simpletable\">\n",
       "<tr>\n",
       "  <th>Omnibus:</th>       <td> 3.887</td> <th>  Durbin-Watson:     </th> <td>   2.549</td>\n",
       "</tr>\n",
       "<tr>\n",
       "  <th>Prob(Omnibus):</th> <td> 0.143</td> <th>  Jarque-Bera (JB):  </th> <td>   1.988</td>\n",
       "</tr>\n",
       "<tr>\n",
       "  <th>Skew:</th>          <td>-0.211</td> <th>  Prob(JB):          </th> <td>   0.370</td>\n",
       "</tr>\n",
       "<tr>\n",
       "  <th>Kurtosis:</th>      <td> 2.073</td> <th>  Cond. No.          </th> <td>    688.</td>\n",
       "</tr>\n",
       "</table>"
      ],
      "text/plain": [
       "<class 'statsmodels.iolib.summary.Summary'>\n",
       "\"\"\"\n",
       "                             OLS Regression Results                             \n",
       "================================================================================\n",
       "Dep. Variable:     Cirrhosis_death_rate   R-squared:                       0.814\n",
       "Model:                              OLS   Adj. R-squared:                  0.795\n",
       "Method:                   Least Squares   F-statistic:                     44.75\n",
       "Date:                  Thu, 19 May 2016   Prob (F-statistic):           1.95e-14\n",
       "Time:                          23:29:34   Log-Likelihood:                -171.25\n",
       "No. Observations:                    46   AIC:                             352.5\n",
       "Df Residuals:                        41   BIC:                             361.6\n",
       "Df Model:                             4                                         \n",
       "Covariance Type:              nonrobust                                         \n",
       "======================================================================================\n",
       "                         coef    std err          t      P>|t|      [95.0% Conf. Int.]\n",
       "--------------------------------------------------------------------------------------\n",
       "Intercept            -13.9631     11.400     -1.225      0.228       -36.987     9.060\n",
       "Urban_population       0.0983      0.244      0.403      0.689        -0.395     0.591\n",
       "Late_births            1.1484      0.583      1.970      0.056        -0.029     2.326\n",
       "Wine_consumption       1.8579      0.401      4.634      0.000         1.048     2.668\n",
       "Liquor_consumption     0.0482      0.133      0.361      0.720        -0.221     0.317\n",
       "==============================================================================\n",
       "Omnibus:                        3.887   Durbin-Watson:                   2.549\n",
       "Prob(Omnibus):                  0.143   Jarque-Bera (JB):                1.988\n",
       "Skew:                          -0.211   Prob(JB):                        0.370\n",
       "Kurtosis:                       2.073   Cond. No.                         688.\n",
       "==============================================================================\n",
       "\n",
       "Warnings:\n",
       "[1] Standard Errors assume that the covariance matrix of the errors is correctly specified.\n",
       "\"\"\""
      ]
     },
     "execution_count": 132,
     "metadata": {},
     "output_type": "execute_result"
    }
   ],
   "source": [
    "lm.summary()"
   ]
  },
  {
   "cell_type": "markdown",
   "metadata": {},
   "source": [
    "### Строим QQ-график"
   ]
  },
  {
   "cell_type": "code",
   "execution_count": 190,
   "metadata": {
    "collapsed": false
   },
   "outputs": [
    {
     "data": {
      "image/png": "[encoded data removed]",
      "text/plain": [
       "<matplotlib.figure.Figure at 0x12e88bfd0>"
      ]
     },
     "metadata": {},
     "output_type": "display_data"
    }
   ],
   "source": [
    "mod_fit = smf.OLS(data['Cirrhosis_death_rate'],\n",
    "                  data[['Urban_population',\n",
    "                        'Late_births',\n",
    "                        'Wine_consumption',\n",
    "                        'Liquor_consumption']]).fit()\n",
    "res = mod_fit.resid\n",
    "fig = qqplot(res, stats.norm, fit=True, line='45')\n",
    "plt.show()"
   ]
  },
  {
   "cell_type": "markdown",
   "metadata": {
    "collapsed": true
   },
   "source": [
    "**Условия Гаусса-Маркова**:\n",
    "\n",
    "- детерминированность $X$;\n",
    "- $E(e_i) = 0;$\n",
    "- $V(e_i) = \\sigma^2;$\n",
    "- $cov(e_i, e_j) = 0 \\,\\, \\forall i \\neq j.$"
   ]
  },
  {
   "cell_type": "markdown",
   "metadata": {},
   "source": [
    "Нарушения допущений:\n",
    "- мультиколлинеарность - наличие существенной корреляции между независимыми переменными;\n",
    "- гетероскедастичность - зависимость дисперсии от значений независимых переменных;\n",
    "- автокорреляция ошибок - нарушение условия $cov(e_i, e_j) = 0.$"
   ]
  },
  {
   "cell_type": "markdown",
   "metadata": {},
   "source": [
    "#### Мультиколлинеарность"
   ]
  },
  {
   "cell_type": "code",
   "execution_count": 191,
   "metadata": {
    "collapsed": false
   },
   "outputs": [
    {
     "data": {
      "text/html": [
       "<div>\n",
       "<table border=\"1\" class=\"dataframe\">\n",
       "  <thead>\n",
       "    <tr style=\"text-align: right;\">\n",
       "      <th></th>\n",
       "      <th>Urban_population</th>\n",
       "      <th>Late_births</th>\n",
       "      <th>Wine_consumption</th>\n",
       "      <th>Liquor_consumption</th>\n",
       "    </tr>\n",
       "  </thead>\n",
       "  <tbody>\n",
       "    <tr>\n",
       "      <th>Urban_population</th>\n",
       "      <td>1.000000</td>\n",
       "      <td>0.843281</td>\n",
       "      <td>0.678623</td>\n",
       "      <td>0.440296</td>\n",
       "    </tr>\n",
       "    <tr>\n",
       "      <th>Late_births</th>\n",
       "      <td>0.843281</td>\n",
       "      <td>1.000000</td>\n",
       "      <td>0.639841</td>\n",
       "      <td>0.686364</td>\n",
       "    </tr>\n",
       "    <tr>\n",
       "      <th>Wine_consumption</th>\n",
       "      <td>0.678623</td>\n",
       "      <td>0.639841</td>\n",
       "      <td>1.000000</td>\n",
       "      <td>0.675921</td>\n",
       "    </tr>\n",
       "    <tr>\n",
       "      <th>Liquor_consumption</th>\n",
       "      <td>0.440296</td>\n",
       "      <td>0.686364</td>\n",
       "      <td>0.675921</td>\n",
       "      <td>1.000000</td>\n",
       "    </tr>\n",
       "  </tbody>\n",
       "</table>\n",
       "</div>"
      ],
      "text/plain": [
       "                    Urban_population  Late_births  Wine_consumption  \\\n",
       "Urban_population            1.000000     0.843281          0.678623   \n",
       "Late_births                 0.843281     1.000000          0.639841   \n",
       "Wine_consumption            0.678623     0.639841          1.000000   \n",
       "Liquor_consumption          0.440296     0.686364          0.675921   \n",
       "\n",
       "                    Liquor_consumption  \n",
       "Urban_population              0.440296  \n",
       "Late_births                   0.686364  \n",
       "Wine_consumption              0.675921  \n",
       "Liquor_consumption            1.000000  "
      ]
     },
     "execution_count": 191,
     "metadata": {},
     "output_type": "execute_result"
    }
   ],
   "source": [
    "data[['Urban_population','Late_births','Wine_consumption','Liquor_consumption']].corr()"
   ]
  },
  {
   "cell_type": "markdown",
   "metadata": {},
   "source": [
    "##### Вывод: независимые переменные сильно коррелируют, особенно Urban_population и Late_births.\n",
    "\n",
    "Но учтем размер выборки - у нас всего 46 экземпляров."
   ]
  },
  {
   "cell_type": "markdown",
   "metadata": {},
   "source": [
    "### Тесты на гетероскедастичность"
   ]
  },
  {
   "cell_type": "code",
   "execution_count": 192,
   "metadata": {
    "collapsed": false
   },
   "outputs": [
    {
     "name": "stderr",
     "output_type": "stream",
     "text": [
      "/anaconda/lib/python2.7/site-packages/ipykernel/__main__.py:2: SettingWithCopyWarning: \n",
      "A value is trying to be set on a copy of a slice from a DataFrame.\n",
      "Try using .loc[row_indexer,col_indexer] = value instead\n",
      "\n",
      "See the caveats in the documentation: http://pandas.pydata.org/pandas-docs/stable/indexing.html#indexing-view-versus-copy\n",
      "  from ipykernel import kernelapp as app\n"
     ]
    }
   ],
   "source": [
    "exog = data[['Urban_population','Late_births','Wine_consumption','Liquor_consumption']]\n",
    "exog['cons'] = 1"
   ]
  },
  {
   "cell_type": "markdown",
   "metadata": {},
   "source": [
    "#### Тест Бреуша-Пагана"
   ]
  },
  {
   "cell_type": "markdown",
   "metadata": {},
   "source": [
    "Нулевая гипотеза - остатки гомоскедастичны."
   ]
  },
  {
   "cell_type": "code",
   "execution_count": 193,
   "metadata": {
    "collapsed": false
   },
   "outputs": [
    {
     "data": {
      "text/plain": [
       "(7.8876674324715239,\n",
       " 0.095780838459321213,\n",
       " 2.1213236172197911,\n",
       " 0.095494987846582655)"
      ]
     },
     "execution_count": 193,
     "metadata": {},
     "output_type": "execute_result"
    }
   ],
   "source": [
    "ols_d.het_breushpagan(res, exog)"
   ]
  },
  {
   "cell_type": "markdown",
   "metadata": {},
   "source": [
    "#### Тест Уайта"
   ]
  },
  {
   "cell_type": "code",
   "execution_count": 194,
   "metadata": {
    "collapsed": false
   },
   "outputs": [
    {
     "data": {
      "text/plain": [
       "(25.827306966945006,\n",
       " 0.027226160147375514,\n",
       " 2.8349728398517842,\n",
       " 0.0076733965320739134)"
      ]
     },
     "execution_count": 194,
     "metadata": {},
     "output_type": "execute_result"
    }
   ],
   "source": [
    "ols_d.het_white(res, exog)"
   ]
  },
  {
   "cell_type": "code",
   "execution_count": null,
   "metadata": {
    "collapsed": true
   },
   "outputs": [],
   "source": []
  }
 ],
 "metadata": {
  "kernelspec": {
   "display_name": "Python 2",
   "language": "python",
   "name": "python2"
  },
  "language_info": {
   "codemirror_mode": {
    "name": "ipython",
    "version": 2
   },
   "file_extension": ".py",
   "mimetype": "text/x-python",
   "name": "python",
   "nbconvert_exporter": "python",
   "pygments_lexer": "ipython2",
   "version": "2.7.11"
  }
 },
 "nbformat": 4,
 "nbformat_minor": 0
}

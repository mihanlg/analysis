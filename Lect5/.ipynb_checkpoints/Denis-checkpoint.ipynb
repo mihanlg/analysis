{
 "cells": [
  {
   "cell_type": "code",
   "execution_count": null,
   "metadata": {
    "collapsed": true
   },
   "outputs": [],
   "source": [
    "#ВАРИАНТ 2\n",
    "#Вывести топ-5 самых опасных улиц для велосипедистов.  \n",
    "#Вывести топ-5 факторов, по которым попадают в аварии таксисты. \n",
    "#Вывести медианное и среднее кол-во смертей для каждого из видов  транспортных средств, в случае если оно попало в аварию.  \n",
    "#Построить гистограмму причин аварий, а также boxplot для вероятностей попасть в аварию на разных видах транспортных средств. \n",
    "\n",
    "#строим датафрейм, с который удобно работать (на каждую машину и улицу своя строка)\n",
    "accidents <- read.csv(file=\"NYPD_Motor_Vehicle_Collisions.csv\",head=TRUE, sep=\",\", na.strings=c(\"\", \"Unspecified\"))\n",
    "\n",
    "dublicate_accidents <- accidents\n",
    "dublicate_accidents$ON.STREET.NAME <- accidents$OFF.STREET.NAME\n",
    "dublicate_accidents$CONTRIBUTING.FACTOR.VEHICLE.1 <- accidents$CONTRIBUTING.FACTOR.VEHICLE.2\n",
    "dublicate_accidents$VEHICLE.TYPE.CODE.1 <- accidents$VEHICLE.TYPE.CODE.2\n",
    "\n",
    "total_accidents <- rbind(accidents, dublicate_accidents)\n",
    "\n",
    "#ТОП-5 опасных улиц для велосипедистов\n",
    "#Считаем, что 1 погибщий - это как 100 покалечившихся по опасности\n",
    "cyclist <- aggregate(100*NUMBER.OF.CYCLIST.KILLED+NUMBER.OF.CYCLIST.INJURED ~ ON.STREET.NAME, total_accidents, sum)\n",
    "cyclist <- subset(cyclist, !is.na(ON.STREET.NAME))\n",
    "head(cyclist[order(desc(cyclist$`100 * NUMBER.OF.CYCLIST.KILLED + NUMBER.OF.CYCLIST.INJURED`)), ], 5)\n",
    "\n",
    "#ТОП-5 причин аварий таксистов\n",
    "taxists_factors <- aggregate((VEHICLE.TYPE.CODE.1 == \"TAXI\") ~ CONTRIBUTING.FACTOR.VEHICLE.1, total_accidents, sum)\n",
    "head(taxists_factors[order(desc(taxists_factors$`(VEHICLE.TYPE.CODE.1 == \"TAXI\")`)), ], 5)\n",
    "\n",
    "#Медианное и среднее кол-во смертей для каждого из видов  транспортных средств\n",
    "mean_death <- aggregate(NUMBER.OF.PERSONS.KILLED ~ VEHICLE.TYPE.CODE.1, total_accidents, mean)\n",
    "mean_death\n",
    "\n",
    "median_death <- aggregate(NUMBER.OF.PERSONS.KILLED ~ VEHICLE.TYPE.CODE.1, total_accidents, median)\n",
    "median_death\n",
    "\n",
    "#Гистограмма причин аварий\n",
    "factors <- aggregate(!is.na(VEHICLE.TYPE.CODE.1) ~ CONTRIBUTING.FACTOR.VEHICLE.1, total_accidents, sum)\n",
    "\n",
    "\n",
    "barplot(factors$`!is.na(VEHICLE.TYPE.CODE.1)`, horiz = TRUE, names.arg = factors$CONTRIBUTING.FACTOR.VEHICLE.1, las=2)\n",
    "\n"
   ]
  }
 ],
 "metadata": {
  "kernelspec": {
   "display_name": "R",
   "language": "R",
   "name": "ir"
  },
  "language_info": {
   "codemirror_mode": "r",
   "file_extension": ".r",
   "mimetype": "text/x-r-source",
   "name": "R",
   "pygments_lexer": "r",
   "version": "3.2.4"
  }
 },
 "nbformat": 4,
 "nbformat_minor": 0
}

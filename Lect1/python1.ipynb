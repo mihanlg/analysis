{
 "cells": [
  {
   "cell_type": "markdown",
   "metadata": {},
   "source": [
    "# Python"
   ]
  },
  {
   "cell_type": "markdown",
   "metadata": {},
   "source": [
    "## Типы данных"
   ]
  },
  {
   "cell_type": "code",
   "execution_count": 1,
   "metadata": {
    "collapsed": false
   },
   "outputs": [
    {
     "name": "stdout",
     "output_type": "stream",
     "text": [
      "int(3.14) = 3\n",
      "float(5) = 5.0\n",
      "5.0 / 2 + 3 =  5.5\n",
      "int('20', 8) = 16\n",
      "int('20', 16) = 32\n",
      "c = (3+4j)\n",
      "Действительная часть: 3.0\n",
      "Мнимая часть: 4.0\n",
      "Сопряженное число: (3-4j)\n"
     ]
    }
   ],
   "source": [
    "# Конвертируем float в int\n",
    "print 'int(3.14) =', int(3.14)\n",
    "\n",
    "# Конвертируем вещественное число в целочисленное\n",
    "print 'float(5) =', float(5)\n",
    "\n",
    "# Если в выражении есть целое и вещественное число результат будет вещественным\n",
    "print '5.0 / 2 + 3 = ', 5.0 / 2 + 3\n",
    "\n",
    "# Можно парсить числа из не десятичных систем счисления\n",
    "print \"int('20', 8) =\", int('20', 8) # base 8\n",
    "print \"int('20', 16) =\", int('20', 16) # base 16\n",
    "\n",
    "# Операции над комплексными числами\n",
    "c = 3 + 4j\n",
    "print 'c =', c\n",
    "print 'Действительная часть:', c.real\n",
    "print 'Мнимая часть:', c.imag\n",
    "print 'Сопряженное число:', c.conjugate()"
   ]
  },
  {
   "cell_type": "markdown",
   "metadata": {
    "collapsed": false
   },
   "source": [
    "### Строки"
   ]
  },
  {
   "cell_type": "code",
   "execution_count": 2,
   "metadata": {
    "collapsed": false
   },
   "outputs": [
    {
     "name": "stdout",
     "output_type": "stream",
     "text": [
      "Вот так можно определить строку\n",
      "    не в одну строку в исходном коде.\n",
      "И так можно определить строку. И так тоже можно определить строку.\n"
     ]
    }
   ],
   "source": [
    "a = '''Вот так можно определить строку\n",
    "    не в одну строку в исходном коде.\\n'''\n",
    "b = 'И так можно определить строку.'\n",
    "c = \"И так тоже можно определить строку.\"\n",
    "\n",
    "print a, b, c"
   ]
  },
  {
   "cell_type": "code",
   "execution_count": 9,
   "metadata": {
    "collapsed": false
   },
   "outputs": [
    {
     "name": "stdout",
     "output_type": "stream",
     "text": [
      "python\n"
     ]
    }
   ],
   "source": [
    "#Также в python есть изменяемые строки\n",
    "from UserString import MutableString as mstring\n",
    "\n",
    "s = mstring('Python')\n",
    "s[0] = 'p'\n",
    "\n",
    "print s"
   ]
  },
  {
   "cell_type": "code",
   "execution_count": 4,
   "metadata": {
    "collapsed": false
   },
   "outputs": [
    {
     "name": "stdout",
     "output_type": "stream",
     "text": [
      "The Camel run away!\n",
      "Size of Camel => 5\n",
      "C\n",
      "a\n",
      "m\n",
      "e\n",
      "l\n",
      "CAMEL\n",
      "CamelCamelCamel\n"
     ]
    }
   ],
   "source": [
    "#Операции со строками\n",
    "s = 'Camel'\n",
    "\n",
    "# Конкатенация\n",
    "print 'The ' + s + ' run away!'\n",
    "\n",
    "# Интерполяция\n",
    "print 'Size of %s => %d' % (s, len(s))\n",
    "\n",
    "# Со строками можно работать как с последовательностями\n",
    "for ch in s: print ch\n",
    "\n",
    "# Строки являются объектами, как и все в python\n",
    "if s.startswith('C'): print s.upper()\n",
    "\n",
    "# Строки даже можно умножать на числа! \n",
    "# Дублирует строки n раз\n",
    "print 3 * s\n",
    "# 3 * s is consistent with s + s + s"
   ]
  },
  {
   "cell_type": "code",
   "execution_count": 10,
   "metadata": {
    "collapsed": false
   },
   "outputs": [
    {
     "name": "stdout",
     "output_type": "stream",
     "text": [
      "Now is 16:30.\n",
      "Percent: 5.3%, Exponencial:3.14e-03\n",
      "Decimal: 10, Octal: 12, Hexadecimal: a\n",
      "Page is guitarist of Led Zeppelin\n",
      "Fripp is guitarist of King Crimson\n",
      "Good Morning, it is 07:30\n",
      "Pi = 3.142e+00\n"
     ]
    }
   ],
   "source": [
    "#Строки можно форматировать\n",
    "\n",
    "print 'Now is %02d:%02d.' % (16, 30)\n",
    "\n",
    "print 'Percent: %.1f%%, Exponencial:%.2e' % (5.333, 0.00314)\n",
    "\n",
    "print 'Decimal: %d, Octal: %o, Hexadecimal: %x' % (10, 10, 10)\n",
    "\n",
    "#А еще можно вот так:\n",
    "musicians = [('Page', 'guitarist', 'Led Zeppelin'),\n",
    "('Fripp', 'guitarist', 'King Crimson')]\n",
    "\n",
    "# Параметры определяются порядком следования\n",
    "msg = '{0} is {1} of {2}'\n",
    "\n",
    "for name, function, band in musicians:\n",
    "    print(msg.format(name, function, band))\n",
    "\n",
    "# Параметры определяются именами\n",
    "msg = '{greeting}, it is {hour:02d}:{minute:02d}'\n",
    "\n",
    "print msg.format(greeting='Good Morning', hour=7, minute=30)\n",
    "\n",
    "# Функция format() встроена\n",
    "print 'Pi =', format(3.14159, '.3e')"
   ]
  },
  {
   "cell_type": "markdown",
   "metadata": {},
   "source": [
    "#### unicode и не unicode строки"
   ]
  },
  {
   "cell_type": "code",
   "execution_count": 16,
   "metadata": {
    "collapsed": false
   },
   "outputs": [
    {
     "name": "stdout",
     "output_type": "stream",
     "text": [
      "������! => <type 'str'>\n",
      "u'\\u0420\\u045f\\u0421\\u0402\\u0420\\u0451\\u0420\\u0406\\u0420\\xb5\\u0421\\u201a!' => <type 'unicode'>\n",
      "РџСЂРёРІРµС‚! => <type 'unicode'>\n",
      "Привет!\n",
      "РџСЂРёРІРµС‚!\n"
     ]
    }
   ],
   "source": [
    "#Чем отличаются unicode от не unicode строк?\n",
    "\n",
    "# Unicode String \n",
    "u = u'Привет!'\n",
    "# Convert to str\n",
    "s = u.encode('cp1251')\n",
    "print s, '=>', type(s)\n",
    "\n",
    "# String str\n",
    "s = 'Привет!'\n",
    "u = s.decode('cp1251')\n",
    "print repr(u), '=>', type(u)\n",
    "print u, '=>', type(u)\n",
    "print s.decode('utf-8')"
   ]
  },
  {
   "cell_type": "markdown",
   "metadata": {},
   "source": [
    "### Булевые значения"
   ]
  },
  {
   "cell_type": "code",
   "execution_count": 5,
   "metadata": {
    "collapsed": false
   },
   "outputs": [
    {
     "name": "stdout",
     "output_type": "stream",
     "text": [
      "False\n",
      "False\n",
      "False\n",
      "False\n",
      "False\n",
      "False\n",
      "False\n",
      "True\n",
      "True\n",
      "False\n"
     ]
    }
   ],
   "source": [
    "print bool(False)\n",
    "print bool(None)\n",
    "print bool(0)\n",
    "print bool('')\n",
    "print bool([])\n",
    "print bool(())\n",
    "print bool({})\n",
    "\n",
    "print bool(True)\n",
    "print bool('some string')\n",
    "print 1 <= a < 10 and 1 <= b < 20"
   ]
  },
  {
   "cell_type": "code",
   "execution_count": 6,
   "metadata": {
    "collapsed": false
   },
   "outputs": [
    {
     "name": "stdout",
     "output_type": "stream",
     "text": [
      "False\n",
      "True\n"
     ]
    }
   ],
   "source": [
    "True=0\n",
    "print bool(True) #упс...\n",
    "True=1\n",
    "print bool(True)"
   ]
  },
  {
   "cell_type": "code",
   "execution_count": 7,
   "metadata": {
    "collapsed": false
   },
   "outputs": [
    {
     "name": "stdout",
     "output_type": "stream",
     "text": [
      "0\n",
      "3\n",
      "3\n",
      "2\n",
      "True\n",
      "False\n",
      "True\n",
      "False\n"
     ]
    }
   ],
   "source": [
    "print 0 and 3 # Shows 0\n",
    "print 2 and 3 # Shows 3\n",
    "\n",
    "print 0 or 3 # Shows 3\n",
    "print 2 or 3 # Shows 2\n",
    "\n",
    "print not 0 # Shows True\n",
    "print not 2 # Shows False\n",
    "print 2 in (2, 3) # Shows True\n",
    "print 2 is 3 # Shows False"
   ]
  },
  {
   "cell_type": "markdown",
   "metadata": {},
   "source": [
    "## Структуры данных"
   ]
  },
  {
   "cell_type": "markdown",
   "metadata": {},
   "source": [
    "<img src=\"img/blocks.png\">"
   ]
  },
  {
   "cell_type": "code",
   "execution_count": 24,
   "metadata": {
    "collapsed": false
   },
   "outputs": [],
   "source": [
    "class a:\n",
    "    pass #Пустой, внутри ничего нет. Свой класс - хешируемый, может использоваться в качестве ключей\n",
    "\n",
    "e_list = [1,2,3,4] #Список\n",
    "e_touple = (1,2,3,4) #Неизменяемый список - кортеж\n",
    "e_dict = {'a':1, 'b':2, 'c':3} #Словарь\n",
    "e_set1, e_set2 = {1, 2, 3, 4}, {3, 4, 5, 6} #Множество"
   ]
  },
  {
   "cell_type": "code",
   "execution_count": 18,
   "metadata": {
    "collapsed": false
   },
   "outputs": [
    {
     "data": {
      "text/plain": [
       "[1, 2, 3, 4, 1]"
      ]
     },
     "execution_count": 18,
     "metadata": {},
     "output_type": "execute_result"
    }
   ],
   "source": [
    "e_list.append(1)\n",
    "e_list"
   ]
  },
  {
   "cell_type": "code",
   "execution_count": 19,
   "metadata": {
    "collapsed": false
   },
   "outputs": [
    {
     "ename": "AttributeError",
     "evalue": "'tuple' object has no attribute 'append'",
     "output_type": "error",
     "traceback": [
      "\u001b[0;31m---------------------------------------------------------------------------\u001b[0m",
      "\u001b[0;31mAttributeError\u001b[0m                            Traceback (most recent call last)",
      "\u001b[0;32m<ipython-input-19-362e89367f99>\u001b[0m in \u001b[0;36m<module>\u001b[0;34m()\u001b[0m\n\u001b[0;32m----> 1\u001b[0;31m \u001b[0me_touple\u001b[0m\u001b[0;34m.\u001b[0m\u001b[0mappend\u001b[0m\u001b[0;34m(\u001b[0m\u001b[0;36m1\u001b[0m\u001b[0;34m)\u001b[0m\u001b[0;34m\u001b[0m\u001b[0m\n\u001b[0m\u001b[1;32m      2\u001b[0m \u001b[0me_touple\u001b[0m\u001b[0;34m\u001b[0m\u001b[0m\n",
      "\u001b[0;31mAttributeError\u001b[0m: 'tuple' object has no attribute 'append'"
     ]
    }
   ],
   "source": [
    "e_touple.append(1)\n",
    "e_touple"
   ]
  },
  {
   "cell_type": "code",
   "execution_count": 25,
   "metadata": {
    "collapsed": false
   },
   "outputs": [
    {
     "data": {
      "text/plain": [
       "1"
      ]
     },
     "execution_count": 25,
     "metadata": {},
     "output_type": "execute_result"
    }
   ],
   "source": [
    "e_dict['a']"
   ]
  },
  {
   "cell_type": "code",
   "execution_count": 28,
   "metadata": {
    "collapsed": false
   },
   "outputs": [
    {
     "ename": "KeyError",
     "evalue": "'a'",
     "output_type": "error",
     "traceback": [
      "\u001b[0;31m---------------------------------------------------------------------------\u001b[0m",
      "\u001b[0;31mKeyError\u001b[0m                                  Traceback (most recent call last)",
      "\u001b[0;32m<ipython-input-28-9081dbae7be7>\u001b[0m in \u001b[0;36m<module>\u001b[0;34m()\u001b[0m\n\u001b[1;32m      1\u001b[0m \u001b[0me_dict\u001b[0m \u001b[0;34m=\u001b[0m \u001b[0;34m{\u001b[0m\u001b[0;34m}\u001b[0m\u001b[0;34m\u001b[0m\u001b[0m\n\u001b[0;32m----> 2\u001b[0;31m \u001b[0me_dict\u001b[0m\u001b[0;34m[\u001b[0m\u001b[0;34m'a'\u001b[0m\u001b[0;34m]\u001b[0m \u001b[0;34m+=\u001b[0m \u001b[0;36m1\u001b[0m \u001b[0;31m#Падает, есть иниц. по умолчанию словарь\u001b[0m\u001b[0;34m\u001b[0m\u001b[0m\n\u001b[0m",
      "\u001b[0;31mKeyError\u001b[0m: 'a'"
     ]
    }
   ],
   "source": [
    "e_dict = {}\n",
    "e_dict['a'] += 1 #Падает, есть иниц. по умолчанию словарь"
   ]
  },
  {
   "cell_type": "code",
   "execution_count": 27,
   "metadata": {
    "collapsed": false
   },
   "outputs": [],
   "source": [
    "from collections import namedtuple, defaultdict, OrderedDict #Неизменяемые классы - нетривиальная вещь. namedtuple - решение\n",
    "Immutable = namedtuple(\"Immutable\", [\"a\", \"b\"])\n",
    "a = defaultdict(lambda : 0)\n",
    "b = OrderedDict()"
   ]
  },
  {
   "cell_type": "markdown",
   "metadata": {},
   "source": [
    "### Lists"
   ]
  },
  {
   "cell_type": "code",
   "execution_count": null,
   "metadata": {
    "collapsed": false
   },
   "outputs": [],
   "source": [
    "# список с группами 70-х\n",
    "progs = ['Yes', 'Genesis', 'Pink Floyd', 'ELP']\n",
    "\n",
    "#проход по списку\n",
    "for prog in progs:\n",
    "    print prog\n",
    "\n",
    "# Изменяем последний элемент\n",
    "progs[-1] = 'King Crimson'\n",
    "\n",
    "# Добавляем в конец еще одну группу\n",
    "progs.append('Camel')\n",
    "\n",
    "# Удаляем группу из списка\n",
    "progs.remove('Pink Floyd')\n",
    "\n",
    "# Сортируем \n",
    "progs.sort()\n",
    "\n",
    "# Инвертируем порядок\n",
    "progs.reverse()\n",
    "\n",
    "# Проходим по списку с помощью функции enumerate,\n",
    "# которая позволяет вместе с элементом списка получить его индекс\n",
    "for i, prog in enumerate(progs):\n",
    "    print i + 1, '=>', prog\n",
    "\n",
    "# prints from de second item\n",
    "print progs[1:]"
   ]
  },
  {
   "cell_type": "markdown",
   "metadata": {},
   "source": [
    "### Sets "
   ]
  },
  {
   "cell_type": "code",
   "execution_count": null,
   "metadata": {
    "collapsed": false
   },
   "outputs": [],
   "source": [
    "print e_set1 - e_set2\n",
    "print e_set1 | e_set2\n",
    "print e_set1 & e_set2\n",
    "print e_set1 ^ e_set2"
   ]
  },
  {
   "cell_type": "code",
   "execution_count": null,
   "metadata": {
    "collapsed": false
   },
   "outputs": [],
   "source": [
    "# Data sets\n",
    "s1 = {1, 2, 3}\n",
    "s2 = set(range(10, 7, -1))\n",
    "s3 = set(range(2, 10, 2))\n",
    "\n",
    "# посмотрим, что получилось\n",
    "print 's1:', s1, '\\ns2:', s2, '\\ns3:', s3\n",
    "\n",
    "# Объединение\n",
    "s1s2 = s1.union(s2)\n",
    "print 'Union of s1 and s2:', s1s2\n",
    "\n",
    "# Разница\n",
    "print 'Difference with s3:', s1s2.difference(s3)\n",
    "\n",
    "# Пересечение\n",
    "print 'Intersection with s3:', s1s2.intersection(s3)\n",
    "\n",
    "# Является ли множество подмножеством другого\n",
    "if s1.issuperset([1, 2]):\n",
    "    print 's1 includes 1 and 2'\n",
    "\n",
    "# Есть ли общие элементы?\n",
    "if s1.isdisjoint(s2):\n",
    "    print 's1 and s2 have no common elements'"
   ]
  },
  {
   "cell_type": "markdown",
   "metadata": {},
   "source": [
    "### Dictionary"
   ]
  },
  {
   "cell_type": "markdown",
   "metadata": {},
   "source": [
    "<img src=\"img/dict.png\">"
   ]
  },
  {
   "cell_type": "code",
   "execution_count": null,
   "metadata": {
    "collapsed": false
   },
   "outputs": [],
   "source": [
    "# Группы и их альбомы\n",
    "progs = {'Yes': ['Close To The Edge', 'Fragile'],\n",
    "    'Genesis': ['Foxtrot', 'The Nursery Crime'],\n",
    "    'ELP': ['Brain Salad Surgery']}\n",
    "\n",
    "# Добавим группу с альбомами\n",
    "progs['King Crimson'] = ['Red', 'Discipline']\n",
    "\n",
    "# Проходим по группам\n",
    "# iteritems() вернет итератор,\n",
    "# с помощью которого можно получать пары ключ, значение\n",
    "for prog, albums in progs.iteritems():\n",
    "    print prog, '=>', albums\n",
    "\n",
    "# Если есть'ELP', удаляем\n",
    "if progs.has_key('ELP'):\n",
    "    del progs['ELP']"
   ]
  },
  {
   "cell_type": "markdown",
   "metadata": {},
   "source": [
    "## Итераторы"
   ]
  },
  {
   "cell_type": "code",
   "execution_count": null,
   "metadata": {
    "collapsed": false
   },
   "outputs": [],
   "source": [
    "import itertools\n",
    "it1 = iter(['1', '2', '3'])\n",
    "it2 = iter(['4', '5', '6'])\n",
    "print '\\t'.join(itertools.chain(it1, it2))\n",
    "\n",
    "print list(enumerate([\"a\", \"b\", \"c\"]))\n",
    "\n",
    "i = 0\n",
    "for a in itertools.cycle('ABCD'):\n",
    "    print a, i\n",
    "    i += 1\n",
    "    if i > 10:\n",
    "        break"
   ]
  },
  {
   "cell_type": "markdown",
   "metadata": {},
   "source": [
    "## Срезы"
   ]
  },
  {
   "cell_type": "markdown",
   "metadata": {},
   "source": [
    "<img src=\"img/slice.png\">"
   ]
  },
  {
   "cell_type": "code",
   "execution_count": 29,
   "metadata": {
    "collapsed": false
   },
   "outputs": [
    {
     "name": "stdout",
     "output_type": "stream",
     "text": [
      "nohtyP\n",
      "Pto\n",
      "thon\n",
      "th\n",
      "t\n"
     ]
    }
   ],
   "source": [
    "print 'Python'[::-1]\n",
    "print 'Python'[::2]\n",
    "print 'Python'[2:]\n",
    "print 'Python'[2:-2]\n",
    "print 'Python'[2:-2:2]"
   ]
  },
  {
   "cell_type": "code",
   "execution_count": 38,
   "metadata": {
    "collapsed": false
   },
   "outputs": [
    {
     "name": "stdout",
     "output_type": "stream",
     "text": [
      "Uijt ufyu xjmm cf usbotmbufe..\n",
      "Ju xjmm cfdpnf wfsz tusbohf.\n",
      "\n"
     ]
    }
   ],
   "source": [
    "#пример шифра Цезеря\n",
    "\n",
    "import string\n",
    "\n",
    "# множество ascii символов\n",
    "a = string.ascii_letters\n",
    "\n",
    "# множество аналогичное предыдущему, но первый символ теперь стал последним\n",
    "b = a[1:] + a[0]\n",
    "\n",
    "# Функция maketrans() таблицу транслиции,\n",
    "# каждому символу из одной строки в ней\n",
    "# соответствует символ из второй\n",
    "# Если символа нет в таблице,\n",
    "# то он будет выведен без изменений \n",
    "tab = string.maketrans(a, b)\n",
    "\n",
    "# The message...\n",
    "msg = '''This text will be translated..\n",
    "It will become very strange.\n",
    "'''\n",
    "# Функция translate() использует таблицу трансляции\n",
    "# созданную maketrans(), чтобы \"перевести\" строку\n",
    "print string.translate(msg, tab)"
   ]
  },
  {
   "cell_type": "markdown",
   "metadata": {},
   "source": [
    "## Управляющие конструкции"
   ]
  },
  {
   "cell_type": "markdown",
   "metadata": {},
   "source": [
    "### Условные операторы"
   ]
  },
  {
   "cell_type": "code",
   "execution_count": null,
   "metadata": {
    "collapsed": false
   },
   "outputs": [],
   "source": [
    "temp = 23 # temperature value used to test\n",
    "\n",
    "if temp < 0:\n",
    "    print 'Freezing...'\n",
    "elif 0 <= temp <= 20:\n",
    "    print 'Cold'\n",
    "elif 21 <= temp <= 25:\n",
    "    print 'Normal'\n",
    "elif 26 <= temp <= 35:\n",
    "    print 'Hot'\n",
    "else:\n",
    "    print 'Very Hot!'"
   ]
  },
  {
   "cell_type": "markdown",
   "metadata": {},
   "source": [
    "### Циклы"
   ]
  },
  {
   "cell_type": "markdown",
   "metadata": {},
   "source": [
    "<img src=\"img/iteration.png\">"
   ]
  },
  {
   "cell_type": "code",
   "execution_count": null,
   "metadata": {
    "collapsed": false
   },
   "outputs": [],
   "source": [
    "# Сумма от 1 до 99 включительно\n",
    "s = 0\n",
    "for x in range(1, 100):\n",
    "    s = s + x\n",
    "print s"
   ]
  },
  {
   "cell_type": "code",
   "execution_count": 39,
   "metadata": {
    "collapsed": false
   },
   "outputs": [
    {
     "name": "stdout",
     "output_type": "stream",
     "text": [
      "ups...\n",
      "4950\n"
     ]
    }
   ],
   "source": [
    "# Сумма от 1 до 99 включительно\n",
    "s = 0\n",
    "x = 1\n",
    "\n",
    "while x < 100:\n",
    "    s = s + x\n",
    "    x = x + 1\n",
    "else: #не злоупотреблять\n",
    "    print \"ups...\"\n",
    "print s"
   ]
  },
  {
   "cell_type": "markdown",
   "metadata": {},
   "source": [
    "## Функции"
   ]
  },
  {
   "cell_type": "code",
   "execution_count": null,
   "metadata": {
    "collapsed": false
   },
   "outputs": [],
   "source": [
    "# Вычисление факториала с использованием рекурсии\n",
    "def factorial(num):\n",
    "\n",
    "    if num <= 1:\n",
    "        return 1\n",
    "    else:\n",
    "        return(num * factorial(num - 1))\n",
    "\n",
    "print factorial(5)"
   ]
  },
  {
   "cell_type": "code",
   "execution_count": null,
   "metadata": {
    "collapsed": false
   },
   "outputs": [],
   "source": [
    "# *args - так можно получить список всех неименнованных аргументов функции\n",
    "# **kargs - а так всех именнованных\n",
    "\n",
    "def func(*args, **kargs):\n",
    "    print args\n",
    "    print kargs\n",
    "\n",
    "func('weigh', 10, unit='k')\n",
    "\n",
    "without_name = [1, 2, 3]\n",
    "with_name = {'a': 1, 'b': 2, 'c': 3}\n",
    "func(without_name, with_name)\n",
    "# так тоже можно\n",
    "func(*without_name, **with_name)"
   ]
  },
  {
   "cell_type": "code",
   "execution_count": null,
   "metadata": {
    "collapsed": false
   },
   "outputs": [],
   "source": [
    "#Посмотрим, какие атрибуты есть у функции\n",
    "#Да, функция в python - тоже объект\n",
    "print func\n",
    "dir(func)"
   ]
  },
  {
   "cell_type": "code",
   "execution_count": null,
   "metadata": {
    "collapsed": false
   },
   "outputs": [],
   "source": [
    "# Можно использовать параметры по умолчанию,\n",
    "# но тут есть один примечательный момент\n",
    "def show_args_using_mutable_defaults(arg, def_arg=[]):\n",
    "      def_arg.append(\"Hello World\")\n",
    "      return \"arg={}, def_arg={}\".format(arg, def_arg)\n",
    "\n",
    "print show_args_using_mutable_defaults(\"test\")\n",
    "print show_args_using_mutable_defaults(\"test 2\")\n"
   ]
  },
  {
   "cell_type": "code",
   "execution_count": null,
   "metadata": {
    "collapsed": false
   },
   "outputs": [],
   "source": [
    "#Так значение по умолчанию \"испортить\" нельзя\n",
    "def show_args(arg, def_arg=1):\n",
    "       return \"arg={}, def_arg={}\".format(arg, def_arg)\n",
    "\n",
    "print show_args(arg=\"test\", def_arg=3)\n",
    "print show_args('test')\n",
    "print show_args(arg=\"test\")\n",
    "print show_args(\"test\", 3)"
   ]
  },
  {
   "cell_type": "code",
   "execution_count": null,
   "metadata": {
    "collapsed": false
   },
   "outputs": [],
   "source": []
  },
  {
   "cell_type": "markdown",
   "metadata": {},
   "source": [
    "### Также существуют лямбда-функции и внутренние функции"
   ]
  },
  {
   "cell_type": "code",
   "execution_count": null,
   "metadata": {
    "collapsed": false
   },
   "outputs": [],
   "source": [
    "func_x = lambda x: x+1\n",
    "func_x(1)"
   ]
  },
  {
   "cell_type": "code",
   "execution_count": null,
   "metadata": {
    "collapsed": false
   },
   "outputs": [],
   "source": [
    "def func_x(x):\n",
    "    return x+1\n",
    "func_x(1)"
   ]
  },
  {
   "cell_type": "markdown",
   "metadata": {},
   "source": [
    "## Функциональный стиль программирования в Python"
   ]
  },
  {
   "cell_type": "code",
   "execution_count": null,
   "metadata": {
    "collapsed": false
   },
   "outputs": [],
   "source": [
    "list1 = [7, 2, 3, 10, 12]\n",
    "list2 = [-1, 1, -5, 4, 6]\n",
    "map(lambda x, y: x*y, list1, list2)"
   ]
  },
  {
   "cell_type": "code",
   "execution_count": null,
   "metadata": {
    "collapsed": false
   },
   "outputs": [],
   "source": [
    "numbers = [10, 4, 2, -1, 6]\n",
    "filter(lambda x: x < 5, numbers)"
   ]
  },
  {
   "cell_type": "code",
   "execution_count": null,
   "metadata": {
    "collapsed": false
   },
   "outputs": [],
   "source": [
    "numbers = [2, 3, 4, 5, 6]\n",
    "def f(x, y, z, a=None, b=None):\n",
    "    print x, y, z, a, b\n",
    "apply(f, [1, 2, 3], {'a': 4, 'b': 5})\n"
   ]
  },
  {
   "cell_type": "markdown",
   "metadata": {
    "collapsed": true
   },
   "source": [
    "### Работа с функциями reduce, map, filter, zip, "
   ]
  },
  {
   "cell_type": "code",
   "execution_count": null,
   "metadata": {
    "collapsed": false
   },
   "outputs": [],
   "source": [
    "values = reduce(lambda res, x: [x]+res, filter(lambda x: x>50, map(lambda x: x*x, range(1,11))), [])\n",
    "print values\n",
    "keys = xrange(0, len(values))\n",
    "zip(keys, values)"
   ]
  },
  {
   "cell_type": "markdown",
   "metadata": {
    "collapsed": true
   },
   "source": [
    "## Работа с exception"
   ]
  },
  {
   "cell_type": "code",
   "execution_count": null,
   "metadata": {
    "collapsed": false
   },
   "outputs": [],
   "source": [
    "import sys\n",
    "try:\n",
    "    a = 1 / 0\n",
    "except ZeroDivisionError  as e:\n",
    "    sys.stderr.write('Error: Division by zero')\n",
    "except Exception as e:\n",
    "    sys.stderr.write('Error: something went wrong')"
   ]
  },
  {
   "cell_type": "code",
   "execution_count": null,
   "metadata": {
    "collapsed": false
   },
   "outputs": [],
   "source": [
    "raise Exception()"
   ]
  },
  {
   "cell_type": "markdown",
   "metadata": {},
   "source": [
    "## Работа с классами"
   ]
  },
  {
   "cell_type": "code",
   "execution_count": null,
   "metadata": {
    "collapsed": false
   },
   "outputs": [],
   "source": [
    "#создадим класс\n",
    "class A:\n",
    "    #переменная класса\n",
    "    a = 5\n",
    "    def __init__(self, b):\n",
    "        #переменная экземпляра\n",
    "        self.b=b\n",
    "        \n",
    "    #метод экземпляра\n",
    "    def printB(self):\n",
    "        print self.b\n",
    "        \n",
    "    #метод класса\n",
    "    @classmethod\n",
    "    def printA(classobj):\n",
    "        print classobj.a\n",
    "        \n",
    "#создаем объект класса\n",
    "myVariable = A(3)\n",
    "\n",
    "#вызываем метод объекта\n",
    "myVariable.printB() \n",
    "\n",
    "#вызываем метод объекта \n",
    "# равнозначно myVariable.printB()\n",
    "A.printB(myVariable) \n",
    "\n",
    "# вызываем метод класса\n",
    "A.printA()"
   ]
  },
  {
   "cell_type": "markdown",
   "metadata": {},
   "source": [
    "## Декораторы"
   ]
  },
  {
   "cell_type": "code",
   "execution_count": null,
   "metadata": {
    "collapsed": true
   },
   "outputs": [],
   "source": [
    "#пример декаратора\n",
    "def wrapper(func):\n",
    "    print 'Start ' + func.__name__ + ' execution'\n",
    "    return func    \n",
    "    \n",
    "@wrapper\n",
    "def f():\n",
    "    print 'Inside base function'\n",
    "    \n",
    "f()"
   ]
  },
  {
   "cell_type": "markdown",
   "metadata": {},
   "source": [
    "# IPython notebook"
   ]
  },
  {
   "cell_type": "markdown",
   "metadata": {},
   "source": [
    "## Политики безопасности"
   ]
  },
  {
   "cell_type": "markdown",
   "metadata": {},
   "source": [
    "## Latex"
   ]
  },
  {
   "cell_type": "markdown",
   "metadata": {},
   "source": [
    "$$c = \\phi\\int\\sqrt{a^2 + b^2}$$"
   ]
  },
  {
   "cell_type": "markdown",
   "metadata": {},
   "source": [
    "## Преобразование формата"
   ]
  },
  {
   "cell_type": "markdown",
   "metadata": {},
   "source": [
    "Вот так можно конвертировать notebook в другие форматы:\n",
    "    \n",
    "ipython nbconvert --to [html|latex|pdf|slides|script] notebook.ipynb"
   ]
  },
  {
   "cell_type": "markdown",
   "metadata": {},
   "source": [
    "## Интроспекция"
   ]
  },
  {
   "cell_type": "code",
   "execution_count": 40,
   "metadata": {
    "collapsed": true
   },
   "outputs": [],
   "source": [
    "import datetime\n",
    "datetime?"
   ]
  },
  {
   "cell_type": "code",
   "execution_count": 41,
   "metadata": {
    "collapsed": true
   },
   "outputs": [],
   "source": [
    "import json\n",
    "\n",
    "#%pdoc json.dumps\n",
    "#%pdef json.dumps\n",
    "%psource json.dumps\n",
    "#%pfile json.dumps"
   ]
  },
  {
   "cell_type": "code",
   "execution_count": null,
   "metadata": {
    "collapsed": true
   },
   "outputs": [],
   "source": [
    "%pinfo json.dumps"
   ]
  },
  {
   "cell_type": "markdown",
   "metadata": {},
   "source": [
    "## Поиск переменных"
   ]
  },
  {
   "cell_type": "code",
   "execution_count": 51,
   "metadata": {
    "collapsed": true
   },
   "outputs": [],
   "source": [
    "counter_i = 50"
   ]
  },
  {
   "cell_type": "code",
   "execution_count": 44,
   "metadata": {
    "collapsed": true
   },
   "outputs": [],
   "source": [
    "%psearch counter* int"
   ]
  },
  {
   "cell_type": "markdown",
   "metadata": {},
   "source": [
    "## Сохранение переменных "
   ]
  },
  {
   "cell_type": "code",
   "execution_count": 52,
   "metadata": {
    "collapsed": false
   },
   "outputs": [
    {
     "name": "stdout",
     "output_type": "stream",
     "text": [
      "Stored 'counter_i' (int)\n"
     ]
    }
   ],
   "source": [
    "%store counter_i"
   ]
  },
  {
   "cell_type": "code",
   "execution_count": 53,
   "metadata": {
    "collapsed": false
   },
   "outputs": [
    {
     "name": "stdout",
     "output_type": "stream",
     "text": [
      "Stored variables and their in-db values:\n",
      "counter_i             -> 50\n"
     ]
    }
   ],
   "source": [
    "%store"
   ]
  },
  {
   "cell_type": "code",
   "execution_count": 57,
   "metadata": {
    "collapsed": true
   },
   "outputs": [],
   "source": [
    "del counter_i"
   ]
  },
  {
   "cell_type": "code",
   "execution_count": 58,
   "metadata": {
    "collapsed": false
   },
   "outputs": [
    {
     "ename": "NameError",
     "evalue": "name 'counter_i' is not defined",
     "output_type": "error",
     "traceback": [
      "\u001b[0;31m---------------------------------------------------------------------------\u001b[0m",
      "\u001b[0;31mNameError\u001b[0m                                 Traceback (most recent call last)",
      "\u001b[0;32m<ipython-input-58-3c4375a083ca>\u001b[0m in \u001b[0;36m<module>\u001b[0;34m()\u001b[0m\n\u001b[0;32m----> 1\u001b[0;31m \u001b[0;32mprint\u001b[0m \u001b[0mcounter_i\u001b[0m\u001b[0;34m\u001b[0m\u001b[0m\n\u001b[0m",
      "\u001b[0;31mNameError\u001b[0m: name 'counter_i' is not defined"
     ]
    }
   ],
   "source": [
    "print counter_i"
   ]
  },
  {
   "cell_type": "code",
   "execution_count": 59,
   "metadata": {
    "collapsed": true
   },
   "outputs": [],
   "source": [
    "%store -r"
   ]
  },
  {
   "cell_type": "code",
   "execution_count": 60,
   "metadata": {
    "collapsed": false
   },
   "outputs": [
    {
     "name": "stdout",
     "output_type": "stream",
     "text": [
      "50\n"
     ]
    }
   ],
   "source": [
    "print counter_i"
   ]
  },
  {
   "cell_type": "code",
   "execution_count": 61,
   "metadata": {
    "collapsed": false
   },
   "outputs": [
    {
     "name": "stdout",
     "output_type": "stream",
     "text": [
      "Immutable\t MutableString\t OrderedDict\t True\t UserString\t a\t b\t band\t c\t \n",
      "ch\t counter_i\t datetime\t defaultdict\t e_dict\t e_list\t e_set1\t e_set2\t e_touple\t \n",
      "function\t json\t l\t msg\t mstring\t musicians\t name\t namedtuple\t s\t \n",
      "string\t tab\t u\t x\t \n"
     ]
    }
   ],
   "source": [
    "%who"
   ]
  },
  {
   "cell_type": "code",
   "execution_count": 62,
   "metadata": {
    "collapsed": false
   },
   "outputs": [
    {
     "name": "stdout",
     "output_type": "stream",
     "text": [
      "Variable    Type    Data/Info\n",
      "-----------------------------\n",
      "True        int     1\n",
      "counter_i   int     50\n",
      "s           int     4950\n",
      "x           int     100\n"
     ]
    }
   ],
   "source": [
    "%whos int"
   ]
  },
  {
   "cell_type": "markdown",
   "metadata": {},
   "source": [
    "## Запуск скриптов на выполнение"
   ]
  },
  {
   "cell_type": "code",
   "execution_count": 63,
   "metadata": {
    "collapsed": true
   },
   "outputs": [],
   "source": [
    "%run?"
   ]
  },
  {
   "cell_type": "code",
   "execution_count": 70,
   "metadata": {
    "collapsed": false
   },
   "outputs": [
    {
     "name": "stdout",
     "output_type": "stream",
     "text": [
      "Untitled.ipynb \u001b[34mipykernel\u001b[m\u001b[m      python1.ipynb\r\n"
     ]
    }
   ],
   "source": [
    "!ls #bash"
   ]
  },
  {
   "cell_type": "code",
   "execution_count": 69,
   "metadata": {
    "collapsed": false
   },
   "outputs": [
    {
     "data": {
      "text/plain": [
       "['Untitled.ipynb', 'ipykernel', 'python1.ipynb']"
      ]
     },
     "execution_count": 69,
     "metadata": {},
     "output_type": "execute_result"
    }
   ],
   "source": [
    "!!ls #Вернуть список из bash"
   ]
  },
  {
   "cell_type": "code",
   "execution_count": null,
   "metadata": {
    "collapsed": false
   },
   "outputs": [],
   "source": [
    "%run -t demo/1.py"
   ]
  },
  {
   "cell_type": "markdown",
   "metadata": {},
   "source": [
    "## Кеширование результатов вывода"
   ]
  },
  {
   "cell_type": "code",
   "execution_count": null,
   "metadata": {
    "collapsed": true
   },
   "outputs": [],
   "source": [
    "i = 10"
   ]
  },
  {
   "cell_type": "code",
   "execution_count": null,
   "metadata": {
    "collapsed": false
   },
   "outputs": [],
   "source": [
    "i"
   ]
  },
  {
   "cell_type": "code",
   "execution_count": null,
   "metadata": {
    "collapsed": true
   },
   "outputs": [],
   "source": [
    "i = 15"
   ]
  },
  {
   "cell_type": "code",
   "execution_count": null,
   "metadata": {
    "collapsed": false
   },
   "outputs": [],
   "source": [
    "_46"
   ]
  },
  {
   "cell_type": "markdown",
   "metadata": {},
   "source": [
    "## Подавление вывода"
   ]
  },
  {
   "cell_type": "code",
   "execution_count": null,
   "metadata": {
    "collapsed": false
   },
   "outputs": [],
   "source": [
    "\"*\"*1000;"
   ]
  },
  {
   "cell_type": "markdown",
   "metadata": {},
   "source": [
    "## История комманд"
   ]
  },
  {
   "cell_type": "code",
   "execution_count": null,
   "metadata": {
    "collapsed": true
   },
   "outputs": [],
   "source": [
    "%rep 1"
   ]
  },
  {
   "cell_type": "code",
   "execution_count": null,
   "metadata": {
    "collapsed": true
   },
   "outputs": [],
   "source": [
    "[1,2,3,4] #Список\n",
    "(1,2,3,4) #Неизменяемый список - кортеж\n",
    "{'a':1, 'b':2, 'c':3} #Словарь\n",
    "{1, 2, 3, 4}"
   ]
  },
  {
   "cell_type": "markdown",
   "metadata": {},
   "source": [
    "## Системные комманды"
   ]
  },
  {
   "cell_type": "markdown",
   "metadata": {},
   "source": [
    "Используя команды ! и !!, можно выполнять команды системной оболочки, такие как ls, cd и другие. Различие между командами в том, что первая просто выполняет системную команду, вторая же в добавок позволяет получить и спользовать вывод этих команд."
   ]
  },
  {
   "cell_type": "code",
   "execution_count": null,
   "metadata": {
    "collapsed": false
   },
   "outputs": [],
   "source": [
    "!dir"
   ]
  },
  {
   "cell_type": "code",
   "execution_count": null,
   "metadata": {
    "collapsed": false
   },
   "outputs": [],
   "source": [
    "!!dir"
   ]
  },
  {
   "cell_type": "code",
   "execution_count": null,
   "metadata": {
    "collapsed": false
   },
   "outputs": [],
   "source": [
    "!pwd"
   ]
  },
  {
   "cell_type": "markdown",
   "metadata": {},
   "source": [
    "## Замер времени выполнения"
   ]
  },
  {
   "cell_type": "code",
   "execution_count": 76,
   "metadata": {
    "collapsed": false
   },
   "outputs": [
    {
     "name": "stdout",
     "output_type": "stream",
     "text": [
      "The slowest run took 10.83 times longer than the fastest. This could mean that an intermediate result is being cached.\n",
      "1000000 loops, best of 3: 176 ns per loop\n"
     ]
    }
   ],
   "source": [
    "%timeit [1,2,3,4,5][2]"
   ]
  },
  {
   "cell_type": "code",
   "execution_count": 72,
   "metadata": {
    "collapsed": false
   },
   "outputs": [
    {
     "name": "stdout",
     "output_type": "stream",
     "text": [
      "10000000 loops, best of 3: 32.3 ns per loop\n"
     ]
    }
   ],
   "source": [
    "%timeit (1,2,3,4,5)[2]"
   ]
  },
  {
   "cell_type": "code",
   "execution_count": 75,
   "metadata": {
    "collapsed": false
   },
   "outputs": [
    {
     "name": "stdout",
     "output_type": "stream",
     "text": [
      "CPU times: user 5 µs, sys: 1 µs, total: 6 µs\n",
      "Wall time: 8.82 µs\n"
     ]
    },
    {
     "data": {
      "text/plain": [
       "3"
      ]
     },
     "execution_count": 75,
     "metadata": {},
     "output_type": "execute_result"
    }
   ],
   "source": [
    "%time [1,2,3,4,5][2]"
   ]
  },
  {
   "cell_type": "code",
   "execution_count": null,
   "metadata": {
    "collapsed": true
   },
   "outputs": [],
   "source": []
  },
  {
   "cell_type": "code",
   "execution_count": null,
   "metadata": {
    "collapsed": true
   },
   "outputs": [],
   "source": []
  }
 ],
 "metadata": {
  "kernelspec": {
   "display_name": "Python 2",
   "language": "python",
   "name": "python2"
  },
  "language_info": {
   "codemirror_mode": {
    "name": "ipython",
    "version": 2
   },
   "file_extension": ".py",
   "mimetype": "text/x-python",
   "name": "python",
   "nbconvert_exporter": "python",
   "pygments_lexer": "ipython2",
   "version": "2.7.11"
  }
 },
 "nbformat": 4,
 "nbformat_minor": 0
}

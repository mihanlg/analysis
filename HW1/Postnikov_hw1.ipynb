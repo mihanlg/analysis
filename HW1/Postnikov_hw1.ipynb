{
 "cells": [
  {
   "cell_type": "markdown",
   "metadata": {},
   "source": [
    "# Домашняя работа №1 - Постников М. М."
   ]
  },
  {
   "cell_type": "markdown",
   "metadata": {},
   "source": [
    "### Подключаем библиотеки"
   ]
  },
  {
   "cell_type": "code",
   "execution_count": 2,
   "metadata": {
    "collapsed": true
   },
   "outputs": [],
   "source": [
    "import numpy as np\n",
    "import pandas as pd\n",
    "import matplotlib.pyplot as plt\n",
    "import matplotlib"
   ]
  },
  {
   "cell_type": "code",
   "execution_count": 3,
   "metadata": {
    "collapsed": false
   },
   "outputs": [],
   "source": [
    "%matplotlib inline\n",
    "matplotlib.style.use('ggplot')"
   ]
  },
  {
   "cell_type": "markdown",
   "metadata": {},
   "source": [
    "### Собираем данные"
   ]
  },
  {
   "cell_type": "markdown",
   "metadata": {},
   "source": [
    "https://data.cityofnewyork.us/api/views/ye3c-m4ga/rows.csv?accessType=DOWNLOAD"
   ]
  },
  {
   "cell_type": "code",
   "execution_count": 4,
   "metadata": {
    "collapsed": true
   },
   "outputs": [],
   "source": [
    "df = pd.read_csv('https://data.cityofnewyork.us/api/views/ye3c-m4ga/rows.csv?accessType=DOWNLOAD', sep = ',')"
   ]
  },
  {
   "cell_type": "code",
   "execution_count": 5,
   "metadata": {
    "collapsed": false
   },
   "outputs": [],
   "source": [
    "#df = pd.read_csv('Civil_List_2014.csv', sep = ',')"
   ]
  },
  {
   "cell_type": "code",
   "execution_count": 6,
   "metadata": {
    "collapsed": false
   },
   "outputs": [],
   "source": [
    "#print df.head(5)"
   ]
  },
  {
   "cell_type": "markdown",
   "metadata": {},
   "source": [
    "#### Посмотрим, какие данные хранятся в таблице"
   ]
  },
  {
   "cell_type": "code",
   "execution_count": 7,
   "metadata": {
    "collapsed": true
   },
   "outputs": [],
   "source": [
    "#Переименуем столбцы\n",
    "df.columns = ['department', 'name', 'address', 'ttl', 'pc', 'sal_rate']"
   ]
  },
  {
   "cell_type": "code",
   "execution_count": 8,
   "metadata": {
    "collapsed": false
   },
   "outputs": [
    {
     "name": "stdout",
     "output_type": "stream",
     "text": [
      "[[868 'B J  SANDIFORD' 'DEPARTMENT OF CITYWIDE ADM' '12702' 'X' '$5.00']\n",
      " [868 'C A  WIGFALL' 'DEPARTMENT OF CITYWIDE ADM' '12702' 'X' '$5.00']\n",
      " [69 'A E A-AWOSOGBA' 'HRA/DEPARTMENT OF SOCIAL S' '52311' 'A' '$51955.00']\n",
      " [868 'K D AABY' 'DEPARTMENT OF CITYWIDE ADM' '10209' 'X' '$12.00']\n",
      " [56 'I D AADIL' 'POLICE DEPARTMENT' '71012' 'A' '$46953.00']]\n"
     ]
    }
   ],
   "source": [
    "print df.values[:5]"
   ]
  },
  {
   "cell_type": "markdown",
   "metadata": {},
   "source": [
    "#### Необходимо изменить последний столбец, сделав его числовым"
   ]
  },
  {
   "cell_type": "code",
   "execution_count": 9,
   "metadata": {
    "collapsed": false
   },
   "outputs": [],
   "source": [
    "df['sal_rate'] = map(lambda y: float(y[1:]), df['sal_rate'].values)"
   ]
  },
  {
   "cell_type": "markdown",
   "metadata": {},
   "source": [
    "### Посчитать распределение зарплат служащих по ее размеру и построить для него гистограмму"
   ]
  },
  {
   "cell_type": "code",
   "execution_count": 10,
   "metadata": {
    "collapsed": false
   },
   "outputs": [
    {
     "data": {
      "image/png": "[encoded data removed]",
      "text/plain": [
       "<matplotlib.figure.Figure at 0x11494c4d0>"
      ]
     },
     "metadata": {},
     "output_type": "display_data"
    }
   ],
   "source": [
    "plt.figure(figsize=(15,5))\n",
    "plt.hist(df.sal_rate.values, bins=100, color='g')\n",
    "plt.title(\"Employees' salary distribution\")\n",
    "plt.xlabel('Salary size in dollars')\n",
    "plt.ylabel('Ammount of employees')\n",
    "plt.show()"
   ]
  },
  {
   "cell_type": "markdown",
   "metadata": {},
   "source": [
    "### На каких должностях наблюдается наибольшая дисперсия по зарплатам?\n",
    "#### (вывести топ-10 позиций, при условии, что на данной позиции работает больше 20 человек)"
   ]
  },
  {
   "cell_type": "code",
   "execution_count": 11,
   "metadata": {
    "collapsed": false
   },
   "outputs": [],
   "source": [
    "df_grouped = df.groupby('ttl')"
   ]
  },
  {
   "cell_type": "code",
   "execution_count": 12,
   "metadata": {
    "collapsed": false
   },
   "outputs": [],
   "source": [
    "title_codes = []\n",
    "for code, group in df_grouped:\n",
    "    if len(group) > 20:\n",
    "        disp = (sum((group.sal_rate.values - group.sal_rate.mean())**2)/len(group))\n",
    "        title_codes.append((disp, code))\n",
    "title_codes.sort(reverse=True)"
   ]
  },
  {
   "cell_type": "code",
   "execution_count": 13,
   "metadata": {
    "collapsed": false
   },
   "outputs": [
    {
     "name": "stdout",
     "output_type": "stream",
     "text": [
      "Top 10 title codes with greatest dispersion:\n",
      " 1) 12991\n",
      " 2) 30177\n",
      " 3) 0668A\n",
      " 4) 280\n",
      " 5) 30114\n",
      " 6) 10245\n",
      " 7) 158\n",
      " 8) 108\n",
      " 9) 52110\n",
      "10) 201\n"
     ]
    }
   ],
   "source": [
    "print 'Top 10 title codes with greatest dispersion:'\n",
    "for i, (disp, code) in enumerate(title_codes[:10]):\n",
    "    print '%2.d) %s' % (i+1, code)"
   ]
  },
  {
   "cell_type": "markdown",
   "metadata": {},
   "source": [
    "### Вывести топ-10 департаментов, для которых медианная зарплата наибольшая/наименьшая"
   ]
  },
  {
   "cell_type": "code",
   "execution_count": 14,
   "metadata": {
    "collapsed": true
   },
   "outputs": [],
   "source": [
    "df_grouped = df.groupby('address')"
   ]
  },
  {
   "cell_type": "code",
   "execution_count": 15,
   "metadata": {
    "collapsed": true
   },
   "outputs": [],
   "source": [
    "median_salaries = []\n",
    "for agency_name, group in df_grouped:\n",
    "    median_salaries.append((group.sal_rate.median(), agency_name))"
   ]
  },
  {
   "cell_type": "code",
   "execution_count": 16,
   "metadata": {
    "collapsed": false
   },
   "outputs": [
    {
     "name": "stdout",
     "output_type": "stream",
     "text": [
      "Top 10 departments with greatest median salary:\n",
      " 1) FINANCIAL INFORMATION SERV\twith median salary: 100638.50$\n",
      " 2) COMMUNITY BOARD NO.1 BRONX\twith median salary: 95086.50$\n",
      " 3) COMMUNITY BOARD NO.3-BRONX\twith median salary: 95010.00$\n",
      " 4) COMMUNITY BOARD NO.6-BRONX\twith median salary: 92278.00$\n",
      " 5) OFFICE OF COLLECTIVE BARGA\twith median salary: 86412.50$\n",
      " 6) COMMUNITY BOARD NO.5-BRONX\twith median salary: 85111.00$\n",
      " 7) CONFLICTS OF INTEREST BOAR\twith median salary: 82087.00$\n",
      " 8) COMMUNITY BOARD NO.9-BROOK\twith median salary: 80983.00$\n",
      " 9) INDEPENDENT BUDGET OFFICE\twith median salary: 80000.00$\n",
      "10) TAX COMMISSION\twith median salary: 79039.00$\n"
     ]
    }
   ],
   "source": [
    "median_salaries.sort(reverse=True)\n",
    "print 'Top 10 departments with greatest median salary:'\n",
    "for i, (salary, name) in enumerate(median_salaries[:10]):\n",
    "    print '%2.d) %s\\twith median salary: %.2f$' % (i+1, name, salary)"
   ]
  },
  {
   "cell_type": "code",
   "execution_count": 17,
   "metadata": {
    "collapsed": false
   },
   "outputs": [
    {
     "name": "stdout",
     "output_type": "stream",
     "text": [
      "Top 10 departments with smallest median salary:\n",
      " 1) DEPARTMENT OF CITYWIDE ADM\twith median salary: 5.00$\n",
      " 2) CUNY MEDGAR EVERS COLLEGE\twith median salary: 6.51$\n",
      " 3) DEPARTMENT FOR THE AGING\twith median salary: 8.75$\n",
      " 4) BOARD OF ELECTIONS\twith median salary: 17.92$\n",
      " 5) CUNY COLLEGE OF STATEN ISL\twith median salary: 18.00$\n",
      " 6) COMMUNITY BOARD NO.2-RICHM\twith median salary: 25.81$\n",
      " 7) COMMUNITY BOARD NO.11-BRON\twith median salary: 34.52$\n",
      " 8) COMMUNITY BOARD NO.10-BRON\twith median salary: 37.06$\n",
      " 9) CUNY KINGSBOROUGH COMMMUNI\twith median salary: 38.91$\n",
      "10) OFFICE OF ADMINISTRATIVE T\twith median salary: 39.47$\n"
     ]
    }
   ],
   "source": [
    "median_salaries.sort()\n",
    "print 'Top 10 departments with smallest median salary:'\n",
    "for i, (salary, name) in enumerate(median_salaries[:10]):\n",
    "    print '%2.d) %s\\twith median salary: %.2f$' % (i+1, name, salary)"
   ]
  },
  {
   "cell_type": "markdown",
   "metadata": {},
   "source": [
    "### Вывести график зависимости медианной зарплаты от размера департамента (scatter plot). "
   ]
  },
  {
   "cell_type": "code",
   "execution_count": 18,
   "metadata": {
    "collapsed": false
   },
   "outputs": [
    {
     "data": {
      "image/png": "[encoded data removed]",
      "text/plain": [
       "<matplotlib.figure.Figure at 0x11784fe50>"
      ]
     },
     "metadata": {},
     "output_type": "display_data"
    }
   ],
   "source": [
    "plt.figure(figsize=(15,10))\n",
    "plt.plot(df_grouped.sal_rate.median().values+1, df_grouped.size().values, 'go')\n",
    "plt.yscale('log')\n",
    "plt.title('Meadian salary & size of department dependency')\n",
    "plt.xlabel('Median salary')\n",
    "plt.ylabel('Size of department')\n",
    "plt.show()"
   ]
  },
  {
   "cell_type": "code",
   "execution_count": null,
   "metadata": {
    "collapsed": true
   },
   "outputs": [],
   "source": []
  }
 ],
 "metadata": {
  "kernelspec": {
   "display_name": "Python 2",
   "language": "python",
   "name": "python2"
  },
  "language_info": {
   "codemirror_mode": {
    "name": "ipython",
    "version": 2
   },
   "file_extension": ".py",
   "mimetype": "text/x-python",
   "name": "python",
   "nbconvert_exporter": "python",
   "pygments_lexer": "ipython2",
   "version": "2.7.11"
  }
 },
 "nbformat": 4,
 "nbformat_minor": 0
}

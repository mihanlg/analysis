{
 "cells": [
  {
   "cell_type": "markdown",
   "metadata": {},
   "source": [
    "https://www.kaggle.com/kaggle/sf-salaries"
   ]
  },
  {
   "cell_type": "markdown",
   "metadata": {},
   "source": [
    "# Домашнее задание:"
   ]
  },
  {
   "cell_type": "markdown",
   "metadata": {},
   "source": [
    "## 1) Получить набор данных в соответствии с тем, что указан в списке ДЗ;"
   ]
  },
  {
   "cell_type": "code",
   "execution_count": 1,
   "metadata": {
    "collapsed": true
   },
   "outputs": [],
   "source": [
    "import numpy as np\n",
    "import pandas as pd"
   ]
  },
  {
   "cell_type": "code",
   "execution_count": 2,
   "metadata": {
    "collapsed": false
   },
   "outputs": [
    {
     "name": "stdout",
     "output_type": "stream",
     "text": [
      "<class 'pandas.core.frame.DataFrame'>\n",
      "Int64Index: 148654 entries, 1 to 148654\n",
      "Data columns (total 12 columns):\n",
      "EmployeeName        148654 non-null object\n",
      "JobTitle            148654 non-null object\n",
      "BasePay             148049 non-null object\n",
      "OvertimePay         148654 non-null object\n",
      "OtherPay            148654 non-null object\n",
      "Benefits            112495 non-null object\n",
      "TotalPay            148654 non-null float64\n",
      "TotalPayBenefits    148654 non-null float64\n",
      "Year                148654 non-null int64\n",
      "Notes               0 non-null float64\n",
      "Agency              148654 non-null object\n",
      "Status              38119 non-null object\n",
      "dtypes: float64(3), int64(1), object(8)\n",
      "memory usage: 14.7+ MB\n"
     ]
    },
    {
     "name": "stderr",
     "output_type": "stream",
     "text": [
      "//anaconda/lib/python2.7/site-packages/IPython/core/interactiveshell.py:2723: DtypeWarning: Columns (3,4,5,6,12) have mixed types. Specify dtype option on import or set low_memory=False.\n",
      "  interactivity=interactivity, compiler=compiler, result=result)\n"
     ]
    }
   ],
   "source": [
    "salaries = pd.read_csv('Salaries.csv', index_col=0)\n",
    "salaries.info()"
   ]
  },
  {
   "cell_type": "code",
   "execution_count": 3,
   "metadata": {
    "collapsed": true
   },
   "outputs": [],
   "source": [
    "def transform_df(df, columns):\n",
    "    for column in columns:\n",
    "        df[column] = map(lambda r: None if r is None or r == u'Not Provided' else float(r), df[column])\n",
    "    return df"
   ]
  },
  {
   "cell_type": "code",
   "execution_count": 4,
   "metadata": {
    "collapsed": false
   },
   "outputs": [],
   "source": [
    "to_transform = [u'BasePay', u'OvertimePay', u'OtherPay', u'Benefits']\n",
    "to_drop = [u'EmployeeName', u'Notes', u'Agency', u'Status']\n",
    "salaries = transform_df(salaries, to_transform).drop(to_drop, 1).dropna()"
   ]
  },
  {
   "cell_type": "code",
   "execution_count": 5,
   "metadata": {
    "collapsed": false
   },
   "outputs": [
    {
     "data": {
      "text/html": [
       "<div>\n",
       "<table border=\"1\" class=\"dataframe\">\n",
       "  <thead>\n",
       "    <tr style=\"text-align: right;\">\n",
       "      <th></th>\n",
       "      <th>BasePay</th>\n",
       "      <th>OvertimePay</th>\n",
       "      <th>OtherPay</th>\n",
       "      <th>Benefits</th>\n",
       "      <th>TotalPay</th>\n",
       "      <th>TotalPayBenefits</th>\n",
       "      <th>Year</th>\n",
       "    </tr>\n",
       "  </thead>\n",
       "  <tbody>\n",
       "    <tr>\n",
       "      <th>count</th>\n",
       "      <td>111886.000000</td>\n",
       "      <td>111886.000000</td>\n",
       "      <td>111886.000000</td>\n",
       "      <td>111886.000000</td>\n",
       "      <td>111886.000000</td>\n",
       "      <td>111886.000000</td>\n",
       "      <td>111886.000000</td>\n",
       "    </tr>\n",
       "    <tr>\n",
       "      <th>mean</th>\n",
       "      <td>67207.558425</td>\n",
       "      <td>5266.322389</td>\n",
       "      <td>3654.897644</td>\n",
       "      <td>25114.344510</td>\n",
       "      <td>76128.778458</td>\n",
       "      <td>101243.122968</td>\n",
       "      <td>2013.012093</td>\n",
       "    </tr>\n",
       "    <tr>\n",
       "      <th>std</th>\n",
       "      <td>43417.689463</td>\n",
       "      <td>11764.540181</td>\n",
       "      <td>8038.682219</td>\n",
       "      <td>15372.790545</td>\n",
       "      <td>51269.681584</td>\n",
       "      <td>65248.814471</td>\n",
       "      <td>0.818020</td>\n",
       "    </tr>\n",
       "    <tr>\n",
       "      <th>min</th>\n",
       "      <td>-166.010000</td>\n",
       "      <td>-0.010000</td>\n",
       "      <td>-7058.590000</td>\n",
       "      <td>-13.800000</td>\n",
       "      <td>-618.130000</td>\n",
       "      <td>-618.130000</td>\n",
       "      <td>2012.000000</td>\n",
       "    </tr>\n",
       "    <tr>\n",
       "      <th>25%</th>\n",
       "      <td>33644.427500</td>\n",
       "      <td>0.000000</td>\n",
       "      <td>0.000000</td>\n",
       "      <td>12143.155000</td>\n",
       "      <td>37041.205000</td>\n",
       "      <td>49674.847500</td>\n",
       "      <td>2012.000000</td>\n",
       "    </tr>\n",
       "    <tr>\n",
       "      <th>50%</th>\n",
       "      <td>65547.035000</td>\n",
       "      <td>0.000000</td>\n",
       "      <td>820.630000</td>\n",
       "      <td>28697.845000</td>\n",
       "      <td>72628.810000</td>\n",
       "      <td>101967.740000</td>\n",
       "      <td>2013.000000</td>\n",
       "    </tr>\n",
       "    <tr>\n",
       "      <th>75%</th>\n",
       "      <td>95229.030000</td>\n",
       "      <td>4865.052500</td>\n",
       "      <td>4307.017500</td>\n",
       "      <td>35608.617500</td>\n",
       "      <td>107530.010000</td>\n",
       "      <td>142991.082500</td>\n",
       "      <td>2014.000000</td>\n",
       "    </tr>\n",
       "    <tr>\n",
       "      <th>max</th>\n",
       "      <td>319275.010000</td>\n",
       "      <td>220909.480000</td>\n",
       "      <td>342802.630000</td>\n",
       "      <td>96570.660000</td>\n",
       "      <td>471952.640000</td>\n",
       "      <td>510732.680000</td>\n",
       "      <td>2014.000000</td>\n",
       "    </tr>\n",
       "  </tbody>\n",
       "</table>\n",
       "</div>"
      ],
      "text/plain": [
       "             BasePay    OvertimePay       OtherPay       Benefits  \\\n",
       "count  111886.000000  111886.000000  111886.000000  111886.000000   \n",
       "mean    67207.558425    5266.322389    3654.897644   25114.344510   \n",
       "std     43417.689463   11764.540181    8038.682219   15372.790545   \n",
       "min      -166.010000      -0.010000   -7058.590000     -13.800000   \n",
       "25%     33644.427500       0.000000       0.000000   12143.155000   \n",
       "50%     65547.035000       0.000000     820.630000   28697.845000   \n",
       "75%     95229.030000    4865.052500    4307.017500   35608.617500   \n",
       "max    319275.010000  220909.480000  342802.630000   96570.660000   \n",
       "\n",
       "            TotalPay  TotalPayBenefits           Year  \n",
       "count  111886.000000     111886.000000  111886.000000  \n",
       "mean    76128.778458     101243.122968    2013.012093  \n",
       "std     51269.681584      65248.814471       0.818020  \n",
       "min      -618.130000       -618.130000    2012.000000  \n",
       "25%     37041.205000      49674.847500    2012.000000  \n",
       "50%     72628.810000     101967.740000    2013.000000  \n",
       "75%    107530.010000     142991.082500    2014.000000  \n",
       "max    471952.640000     510732.680000    2014.000000  "
      ]
     },
     "execution_count": 5,
     "metadata": {},
     "output_type": "execute_result"
    }
   ],
   "source": [
    "salaries.describe()"
   ]
  },
  {
   "cell_type": "markdown",
   "metadata": {},
   "source": [
    "## 2) Описать маржинальное распределение переменных, построить график распределения;"
   ]
  },
  {
   "cell_type": "code",
   "execution_count": 6,
   "metadata": {
    "collapsed": false
   },
   "outputs": [],
   "source": [
    "import seaborn as sns\n",
    "from scipy import stats\n",
    "import matplotlib.pyplot as plt\n",
    "import matplotlib\n",
    "matplotlib.style.use('ggplot')"
   ]
  },
  {
   "cell_type": "code",
   "execution_count": 7,
   "metadata": {
    "collapsed": true
   },
   "outputs": [],
   "source": [
    "%matplotlib inline"
   ]
  },
  {
   "cell_type": "code",
   "execution_count": 8,
   "metadata": {
    "collapsed": false
   },
   "outputs": [
    {
     "data": {
      "image/png": "[encoded data removed]",
      "text/plain": [
       "<matplotlib.figure.Figure at 0x11617ebd0>"
      ]
     },
     "metadata": {},
     "output_type": "display_data"
    }
   ],
   "source": [
    "plt.figure(figsize=(15,5))\n",
    "plt.hist(salaries.BasePay, bins=100, normed=True, alpha=1.0, label=u'Base Pay')\n",
    "plt.hist(salaries.TotalPay, bins=100, normed=True, alpha=0.75, label=u'Total Pay')\n",
    "plt.hist(salaries.TotalPayBenefits, bins=100, normed=True, alpha=0.5, label=u'Total Pay Benefits')\n",
    "plt.legend(loc='upper right')\n",
    "plt.title(u'Pay distributions')\n",
    "plt.show()"
   ]
  },
  {
   "cell_type": "code",
   "execution_count": 9,
   "metadata": {
    "collapsed": false
   },
   "outputs": [
    {
     "data": {
      "image/png": "[encoded data removed]",
      "text/plain": [
       "<matplotlib.figure.Figure at 0x11617e4d0>"
      ]
     },
     "metadata": {},
     "output_type": "display_data"
    }
   ],
   "source": [
    "plt.figure(figsize=(15,5))\n",
    "plt.hist(salaries.Benefits, bins=100, normed=True, alpha=1.0, label=u'Benefits')\n",
    "plt.legend(loc='upper right')\n",
    "plt.title(u'Benefits distribution')\n",
    "plt.show()"
   ]
  },
  {
   "cell_type": "code",
   "execution_count": 10,
   "metadata": {
    "collapsed": false
   },
   "outputs": [
    {
     "data": {
      "image/png": "[encoded data removed]",
      "text/plain": [
       "<matplotlib.figure.Figure at 0x116306250>"
      ]
     },
     "metadata": {},
     "output_type": "display_data"
    }
   ],
   "source": [
    "plt.figure(figsize=(15,5))\n",
    "plt.hist(salaries.OtherPay, bins=100, normed=True, alpha=1.0, label=u'Other Pay')\n",
    "plt.hist(salaries.OvertimePay, bins=100, normed=True, alpha=0.5, label=u'Overtime Pay')\n",
    "plt.legend(loc='upper right')\n",
    "plt.title(u'Other Pay and Overtime Pay distributions')\n",
    "plt.show()"
   ]
  },
  {
   "cell_type": "markdown",
   "metadata": {},
   "source": [
    "## 3) Построить матрицу корреляции, проверить значения коэффициентов на значимость;"
   ]
  },
  {
   "cell_type": "code",
   "execution_count": 11,
   "metadata": {
    "collapsed": true
   },
   "outputs": [],
   "source": [
    "from math import sqrt\n",
    "from scipy import stats"
   ]
  },
  {
   "cell_type": "code",
   "execution_count": 12,
   "metadata": {
    "collapsed": false
   },
   "outputs": [
    {
     "name": "stdout",
     "output_type": "stream",
     "text": [
      "Pearson correlation matrix:\n"
     ]
    },
    {
     "data": {
      "text/html": [
       "<div>\n",
       "<table border=\"1\" class=\"dataframe\">\n",
       "  <thead>\n",
       "    <tr style=\"text-align: right;\">\n",
       "      <th></th>\n",
       "      <th>TotalPay</th>\n",
       "      <th>TotalPayBenefits</th>\n",
       "      <th>BasePay</th>\n",
       "      <th>OvertimePay</th>\n",
       "      <th>OtherPay</th>\n",
       "      <th>Benefits</th>\n",
       "    </tr>\n",
       "  </thead>\n",
       "  <tbody>\n",
       "    <tr>\n",
       "      <th>TotalPay</th>\n",
       "      <td>1.000000</td>\n",
       "      <td>0.993886</td>\n",
       "      <td>0.954802</td>\n",
       "      <td>0.513834</td>\n",
       "      <td>0.468902</td>\n",
       "      <td>0.883392</td>\n",
       "    </tr>\n",
       "    <tr>\n",
       "      <th>TotalPayBenefits</th>\n",
       "      <td>0.993886</td>\n",
       "      <td>1.000000</td>\n",
       "      <td>0.966532</td>\n",
       "      <td>0.474350</td>\n",
       "      <td>0.424339</td>\n",
       "      <td>0.929734</td>\n",
       "    </tr>\n",
       "    <tr>\n",
       "      <th>BasePay</th>\n",
       "      <td>0.954802</td>\n",
       "      <td>0.966532</td>\n",
       "      <td>1.000000</td>\n",
       "      <td>0.277212</td>\n",
       "      <td>0.282814</td>\n",
       "      <td>0.918028</td>\n",
       "    </tr>\n",
       "    <tr>\n",
       "      <th>OvertimePay</th>\n",
       "      <td>0.513834</td>\n",
       "      <td>0.474350</td>\n",
       "      <td>0.277212</td>\n",
       "      <td>1.000000</td>\n",
       "      <td>0.316429</td>\n",
       "      <td>0.299665</td>\n",
       "    </tr>\n",
       "    <tr>\n",
       "      <th>OtherPay</th>\n",
       "      <td>0.468902</td>\n",
       "      <td>0.424339</td>\n",
       "      <td>0.282814</td>\n",
       "      <td>0.316429</td>\n",
       "      <td>1.000000</td>\n",
       "      <td>0.237247</td>\n",
       "    </tr>\n",
       "    <tr>\n",
       "      <th>Benefits</th>\n",
       "      <td>0.883392</td>\n",
       "      <td>0.929734</td>\n",
       "      <td>0.918028</td>\n",
       "      <td>0.299665</td>\n",
       "      <td>0.237247</td>\n",
       "      <td>1.000000</td>\n",
       "    </tr>\n",
       "  </tbody>\n",
       "</table>\n",
       "</div>"
      ],
      "text/plain": [
       "                  TotalPay  TotalPayBenefits   BasePay  OvertimePay  OtherPay  \\\n",
       "TotalPay          1.000000          0.993886  0.954802     0.513834  0.468902   \n",
       "TotalPayBenefits  0.993886          1.000000  0.966532     0.474350  0.424339   \n",
       "BasePay           0.954802          0.966532  1.000000     0.277212  0.282814   \n",
       "OvertimePay       0.513834          0.474350  0.277212     1.000000  0.316429   \n",
       "OtherPay          0.468902          0.424339  0.282814     0.316429  1.000000   \n",
       "Benefits          0.883392          0.929734  0.918028     0.299665  0.237247   \n",
       "\n",
       "                  Benefits  \n",
       "TotalPay          0.883392  \n",
       "TotalPayBenefits  0.929734  \n",
       "BasePay           0.918028  \n",
       "OvertimePay       0.299665  \n",
       "OtherPay          0.237247  \n",
       "Benefits          1.000000  "
      ]
     },
     "execution_count": 12,
     "metadata": {},
     "output_type": "execute_result"
    }
   ],
   "source": [
    "var_columns = [u'TotalPay', u'TotalPayBenefits', u'BasePay', u'OvertimePay', u'OtherPay', u'Benefits']\n",
    "corr_coefs = np.empty((len(var_columns), len(var_columns)))\n",
    "for i in range(len(var_columns)):\n",
    "    corr_coefs[i,i] = 1\n",
    "    for j in range(i+1, len(var_columns)):\n",
    "        corr_coefs[i,j] = corr_coefs[j,i] = stats.pearsonr(salaries[var_columns[i]], salaries[var_columns[j]])[0]\n",
    "corr_df = pd.DataFrame(corr_coefs, columns=var_columns, index=var_columns)\n",
    "print \"Pearson correlation matrix:\"\n",
    "corr_df.head(6)"
   ]
  },
  {
   "cell_type": "markdown",
   "metadata": {},
   "source": [
    "##### t-критерий для оценки статистической значимости корреляционной связи"
   ]
  },
  {
   "cell_type": "code",
   "execution_count": 13,
   "metadata": {
    "collapsed": true
   },
   "outputs": [],
   "source": [
    "def significance_test(r, n, t_table):\n",
    "    t_new = abs(r)*sqrt(n-2)/sqrt(1-r**2)\n",
    "    return t_new > t_table"
   ]
  },
  {
   "cell_type": "code",
   "execution_count": 14,
   "metadata": {
    "collapsed": false
   },
   "outputs": [
    {
     "name": "stdout",
     "output_type": "stream",
     "text": [
      "Correlation coef: 0.99389, significance test: OK, TotalPay & TotalPayBenefits\n",
      "Correlation coef: 0.95480, significance test: OK, TotalPay & BasePay\n",
      "Correlation coef: 0.51383, significance test: OK, TotalPay & OvertimePay\n",
      "Correlation coef: 0.46890, significance test: OK, TotalPay & OtherPay\n",
      "Correlation coef: 0.88339, significance test: OK, TotalPay & Benefits\n",
      "Correlation coef: 0.96653, significance test: OK, TotalPayBenefits & BasePay\n",
      "Correlation coef: 0.47435, significance test: OK, TotalPayBenefits & OvertimePay\n",
      "Correlation coef: 0.42434, significance test: OK, TotalPayBenefits & OtherPay\n",
      "Correlation coef: 0.92973, significance test: OK, TotalPayBenefits & Benefits\n",
      "Correlation coef: 0.27721, significance test: OK, BasePay & OvertimePay\n",
      "Correlation coef: 0.28281, significance test: OK, BasePay & OtherPay\n",
      "Correlation coef: 0.91803, significance test: OK, BasePay & Benefits\n",
      "Correlation coef: 0.31643, significance test: OK, OvertimePay & OtherPay\n",
      "Correlation coef: 0.29967, significance test: OK, OvertimePay & Benefits\n",
      "Correlation coef: 0.23725, significance test: OK, OtherPay & Benefits\n"
     ]
    }
   ],
   "source": [
    "significance = 0.05\n",
    "t_table = stats.t.ppf(1 - significance, len(salaries) - 1)\n",
    "for i in range(len(var_columns)):\n",
    "    for j in range(i+1, len(var_columns)):\n",
    "        test = significance_test(corr_coefs[i,j], n=len(salaries), t_table=t_table)\n",
    "        print \"Correlation coef: %.5f, significance test: %s, %s & %s\" % \\\n",
    "            (corr_coefs[i,j], 'OK' if test else 'False', var_columns[i], var_columns[j])"
   ]
  },
  {
   "cell_type": "markdown",
   "metadata": {},
   "source": [
    "## 4) Сформулировать априорную гипотезу, пример:\n",
    "\n",
    "- университеты: отличается ли доход университетов из топ-25 от остальных?\n",
    "- титаник: выжило ли пассажиров в первом классе больше (доля), нежели чем в третьем?\n",
    "- з/п в СФ: является ли з/п менеджера более высокой, нежели у \"рядового\" сотрудника; (скрипт для определения \"менеджера\")\n",
    "- еда: склонна ли некая страна к потреблению менее \"нездоровой\" (с большим содержанием углеводов) пищи (скрипт для определения страны)?"
   ]
  },
  {
   "cell_type": "markdown",
   "metadata": {},
   "source": [
    "### Гипотеза:\n",
    "#### Отличается ли средняя зарплата профессии1 и профессии2?\n",
    "$$ H_0: \\mu_1 = \\mu_2.$$\n",
    "$$ H_1: \\mu_1 \\ne \\mu_2.$$\n",
    "#### Список подготовленных профессий: $manager, clerk, analyst, supervisor, assistant, chief, officer, accountant, engineer, mechanic, inspector, specialist, technician$"
   ]
  },
  {
   "cell_type": "code",
   "execution_count": 15,
   "metadata": {
    "collapsed": false
   },
   "outputs": [],
   "source": [
    "import sys\n",
    "import unicodedata\n",
    "import string\n",
    "TRANSLATE_PUNCTUATION = dict.fromkeys(i for i in xrange(sys.maxunicode) if \\\n",
    "                                      not unicodedata.category(unichr(i)).startswith('L'))\n",
    "\n",
    "def parse_text_field(input_str, encoding='utf-8'):\n",
    "    if isinstance(input_str, bytes):\n",
    "        input_str = input_str.decode(encoding)\n",
    "    string_parsed = input_str.translate(TRANSLATE_PUNCTUATION)\n",
    "    return string_parsed.lower()\n",
    "\n",
    "def filter_job_position(input_str, positions):\n",
    "    input_str = parse_text_field(input_str)\n",
    "    for pos in positions:\n",
    "        if pos in input_str: return pos\n",
    "    return None\n",
    "        \n",
    "m_positions = [u'manager', u'clerk', u'analyst', u'supervisor', u'assistant', u'chief', u'officer',\\\n",
    "               u'accountant', u'engineer', u'mechanic', u'inspector', u'specialist', u'technician']"
   ]
  },
  {
   "cell_type": "code",
   "execution_count": 16,
   "metadata": {
    "collapsed": false
   },
   "outputs": [],
   "source": [
    "salaries['mp'] = map(lambda x: filter_job_position(x, m_positions), salaries['JobTitle'])"
   ]
  },
  {
   "cell_type": "code",
   "execution_count": 17,
   "metadata": {
    "collapsed": false
   },
   "outputs": [
    {
     "name": "stdout",
     "output_type": "stream",
     "text": [
      "manager 126919.405086\n",
      "clerk 49321.4219048\n",
      "analyst 83090.9830083\n",
      "supervisor 94737.710094\n",
      "assistant 56571.1344849\n",
      "chief 186592.453673\n",
      "officer 105149.319081\n",
      "accountant 75909.1296761\n",
      "engineer 103553.834535\n",
      "mechanic 92353.6545293\n",
      "inspector 105983.001482\n",
      "specialist 94048.0002146\n",
      "technician 58029.9087313\n"
     ]
    }
   ],
   "source": [
    "for j in m_positions:\n",
    "    print j, salaries.TotalPay[salaries.mp == j].mean()"
   ]
  },
  {
   "cell_type": "markdown",
   "metadata": {},
   "source": [
    "## 5) Проверить значимость сформулированной гипотезы."
   ]
  },
  {
   "cell_type": "markdown",
   "metadata": {},
   "source": [
    "If the p-value is smaller than the threshold, e.g. 1%, 5% or 10%, then we reject the null hypothesis of equal averages."
   ]
  },
  {
   "cell_type": "code",
   "execution_count": 18,
   "metadata": {
    "collapsed": true
   },
   "outputs": [],
   "source": [
    "def hypothesis_significance(df, job_a, job_b, threshold = 0.05):\n",
    "    a, b = get_independent_salaries(df, job_a, job_b)\n",
    "    print \"%s mean: %.5f\" % (job_a, a.mean())\n",
    "    print \"%s mean: %.5f\" % (job_b, b.mean())\n",
    "    res = stats.ttest_ind(a, b)\n",
    "    print res[1]\n",
    "    return res[1] > threshold"
   ]
  },
  {
   "cell_type": "code",
   "execution_count": 19,
   "metadata": {
    "collapsed": true
   },
   "outputs": [],
   "source": [
    "def get_independent_salaries(df, job_a, job_b):\n",
    "    return df.TotalPay[(df.mp == job_a) & (df.mp != job_b)], df.TotalPay[(df.mp == job_b) & (df.mp != job_a)]"
   ]
  },
  {
   "cell_type": "markdown",
   "metadata": {},
   "source": [
    "#### Сравним зарплаты инженера и офицера и некоторых других, получим H0"
   ]
  },
  {
   "cell_type": "code",
   "execution_count": 20,
   "metadata": {
    "collapsed": false
   },
   "outputs": [
    {
     "name": "stdout",
     "output_type": "stream",
     "text": [
      "engineer mean: 103553.83453\n",
      "officer mean: 105149.31908\n",
      "0.0874038941913\n",
      "H0\n"
     ]
    }
   ],
   "source": [
    "print 'H0' if hypothesis_significance(salaries, u'engineer', u'officer', 0.05) else 'H1'"
   ]
  },
  {
   "cell_type": "code",
   "execution_count": 21,
   "metadata": {
    "collapsed": false
   },
   "outputs": [
    {
     "name": "stdout",
     "output_type": "stream",
     "text": [
      "supervisor mean: 94737.71009\n",
      "mechanic mean: 92353.65453\n",
      "0.20240165848\n",
      "H0\n"
     ]
    }
   ],
   "source": [
    "print 'H0' if hypothesis_significance(salaries, u'supervisor', u'mechanic', 0.05) else 'H1'"
   ]
  },
  {
   "cell_type": "code",
   "execution_count": 22,
   "metadata": {
    "collapsed": false
   },
   "outputs": [
    {
     "name": "stdout",
     "output_type": "stream",
     "text": [
      "specialist mean: 94048.00021\n",
      "supervisor mean: 94737.71009\n",
      "0.655790680681\n",
      "H0\n"
     ]
    }
   ],
   "source": [
    "print 'H0' if hypothesis_significance(salaries, u'specialist', u'supervisor', 0.05) else 'H1'"
   ]
  },
  {
   "cell_type": "markdown",
   "metadata": {},
   "source": [
    "#### Но если посмотреть на механика и инженера, получим H1"
   ]
  },
  {
   "cell_type": "code",
   "execution_count": 23,
   "metadata": {
    "collapsed": false
   },
   "outputs": [
    {
     "name": "stdout",
     "output_type": "stream",
     "text": [
      "engineer mean: 103553.83453\n",
      "mechanic mean: 92353.65453\n",
      "2.66361367809e-12\n",
      "H1\n"
     ]
    }
   ],
   "source": [
    "print 'H0' if hypothesis_significance(salaries, u'engineer', u'mechanic', 0.05) else 'H1'"
   ]
  },
  {
   "cell_type": "code",
   "execution_count": 24,
   "metadata": {
    "collapsed": false
   },
   "outputs": [
    {
     "name": "stdout",
     "output_type": "stream",
     "text": [
      "manager mean: 126919.40509\n",
      "chief mean: 186592.45367\n",
      "5.220776066e-82\n",
      "H1\n"
     ]
    }
   ],
   "source": [
    "print 'H0' if hypothesis_significance(salaries, u'manager', u'chief', 0.05) else 'H1'"
   ]
  },
  {
   "cell_type": "markdown",
   "metadata": {
    "collapsed": true
   },
   "source": [
    "## 6) Возможно, сделать выводы..."
   ]
  },
  {
   "cell_type": "markdown",
   "metadata": {
    "collapsed": true
   },
   "source": [
    "При $ \\alpha = 0.05 $ :\n",
    "\n",
    "Средние значения зарплат $engineer$ и $officer$ близки, для них гипотеза $H0$ является значимой. Аналогично для профессий $mechanic$ и $supervisor$, $specialist$ и $supervisor$, $inspector$ и $officer$. А для профессий $engineer$ и $mechanic$, $manager$ и $chief$ и других выполняется гипотеза $H1$"
   ]
  },
  {
   "cell_type": "markdown",
   "metadata": {},
   "source": [
    "Наиболее близки распределения зарплат $specialist$ и $supervisor$"
   ]
  },
  {
   "cell_type": "code",
   "execution_count": null,
   "metadata": {
    "collapsed": true
   },
   "outputs": [],
   "source": []
  }
 ],
 "metadata": {
  "kernelspec": {
   "display_name": "Python 2",
   "language": "python",
   "name": "python2"
  },
  "language_info": {
   "codemirror_mode": {
    "name": "ipython",
    "version": 2
   },
   "file_extension": ".py",
   "mimetype": "text/x-python",
   "name": "python",
   "nbconvert_exporter": "python",
   "pygments_lexer": "ipython2",
   "version": "2.7.11"
  }
 },
 "nbformat": 4,
 "nbformat_minor": 0
}

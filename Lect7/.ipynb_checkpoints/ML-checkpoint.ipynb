{
 "cells": [
  {
   "cell_type": "code",
   "execution_count": 1,
   "metadata": {
    "collapsed": true
   },
   "outputs": [],
   "source": [
    "%matplotlib inline"
   ]
  },
  {
   "cell_type": "code",
   "execution_count": 2,
   "metadata": {
    "collapsed": true
   },
   "outputs": [],
   "source": [
    "from __future__ import division\n",
    "\n",
    "from matplotlib import  pyplot as plt\n",
    "import numpy as np\n",
    "from scipy import stats\n",
    "import seaborn as sns\n",
    "from statsmodels.base.model import GenericLikelihoodModel"
   ]
  },
  {
   "cell_type": "markdown",
   "metadata": {},
   "source": [
    "Рассмотрим примеры оценок ММП. Как и прежде, будем считать, что у нас есть набор независимых одинаково распредленных СВ $X_1, ..., X_n$."
   ]
  },
  {
   "cell_type": "markdown",
   "metadata": {},
   "source": [
    "### Распределение Бернулли"
   ]
  },
  {
   "cell_type": "markdown",
   "metadata": {},
   "source": [
    "Совместная функция плотности для выборки:\n",
    "\n",
    "$$ f(X_i, p) = p^{X_i}(1-p)^{X_i}.$$\n",
    "\n",
    "Функция правдоподобия:\n",
    "$$ L(p) = \\prod_{i=1}^{n}p^{X_i}(1-p)^{X_i} = p^{S}(1-p)^{n-S},$$\n",
    "где $ S = \\sum_{i=1}^{n} X_i.$\n",
    "\n",
    "Перейдем к логарифму:\n",
    "$$ \\ell(p) = S\\log(p) + (n-S)\\log(1-p).$$"
   ]
  },
  {
   "cell_type": "markdown",
   "metadata": {},
   "source": [
    "Возьмем производную по $p$:\n",
    "$\\frac{\\partial \\ell(p)}{\\partial p} = \\frac{S}{p} - \\frac{n-S}{1-p}.$\n",
    "\n",
    "Отсюда легко получим:\n",
    "$\\hat{p} = \\frac{S}{n}$."
   ]
  },
  {
   "cell_type": "markdown",
   "metadata": {},
   "source": [
    "### Нормальное распределение"
   ]
  },
  {
   "cell_type": "markdown",
   "metadata": {},
   "source": [
    "Запишем функцию правдоподобия, опуская константы:\n",
    "$$ L(\\mu, \\sigma) = \\prod_{i=1}^{n} f(X_i, \\mu, \\sigma) = \\frac{1}{\\sigma^n}exp\\left( -\\frac{1}{2\\sigma^2} \\sum_{i=1}^{n} (X_i - \\mu)^2 \\right).$$"
   ]
  },
  {
   "cell_type": "markdown",
   "metadata": {},
   "source": [
    "Если мы воспользуемся следующим фактом: $\\sum_{i=1}^{n} (X_i - \\mu)^2 = nS^2 + n(\\bar{X}-\\mu)^2$ (удостовериться легко: $\\sum_{i=1}^{n} (X_i - \\mu)^2 = \\sum_{i=1}^{n} (X_i - \\bar{X} + \\bar{X} - \\mu)^2 = ...$), то сможем записать в более удобной форме:\n",
    "$$ L(\\mu, \\theta) = \\sigma^{-n} exp \\left( -\\frac{nS^2}{2\\sigma^2}\\right) exp \\left( -\\frac{n(\\bar{X} - \\mu)^2}{2\\sigma^2}\\right).$$"
   ]
  },
  {
   "cell_type": "markdown",
   "metadata": {},
   "source": [
    "Если мы перейдем к логарифму:\n",
    "$$ \\ell(\\mu, \\theta) = -n \\log\\sigma - \\frac{nS^2}{2\\sigma^2} - \\frac{n(\\bar{X}-\\mu)^2}{2\\sigma^2},$$\n",
    "и разрешить уравнения (приравняв частные производные к нулю), то получим знакомые нам оценки:\n",
    "$$ \\hat{\\mu} = \\bar{X},$$\n",
    "$$ \\hat{\\sigma}^2 = S^2.$$"
   ]
  },
  {
   "cell_type": "markdown",
   "metadata": {},
   "source": [
    "### Пример: использование ММП для численной оценки параметров"
   ]
  },
  {
   "cell_type": "markdown",
   "metadata": {},
   "source": [
    "В некоторых областях исследований особый интерес представляют так называемые \"zero-inflated models\", которые изменяют традиционный закон распределения, позволяя случайной величине принять значение ноль с отличной от \"обычной\" СВ вероятностью. "
   ]
  },
  {
   "cell_type": "markdown",
   "metadata": {},
   "source": [
    "Например - zero-inflated Poisson model. Модель является двупараметрической, с параметрами $\\lambda$ - математическим ожиданием распределения Пуассона, и $\\pi$ - доля \"избыточных\" наблюдений со значением 0. "
   ]
  },
  {
   "cell_type": "markdown",
   "metadata": {},
   "source": [
    "$$ P(X=0) = \\pi + (1-\\pi)e^{-\\lambda}, $$\n",
    "$$ P(X=x) = (1-\\pi)e^{-\\lambda} \\frac{\\lambda^x}{x!}, x>0. $$"
   ]
  },
  {
   "cell_type": "markdown",
   "metadata": {},
   "source": [
    "Определим значения параметров:"
   ]
  },
  {
   "cell_type": "code",
   "execution_count": 3,
   "metadata": {
    "collapsed": true
   },
   "outputs": [],
   "source": [
    "pi = 0.3\n",
    "lambda_ = 2."
   ]
  },
  {
   "cell_type": "markdown",
   "metadata": {},
   "source": [
    "Функцию вероятности можно записать следующим образом:"
   ]
  },
  {
   "cell_type": "code",
   "execution_count": 4,
   "metadata": {
    "collapsed": true
   },
   "outputs": [],
   "source": [
    "def zip_pmf(x, pi=pi, lambda_=lambda_):\n",
    "    if pi < 0 or pi > 1 or lambda_ <= 0:\n",
    "        return np.zeros_like(x)\n",
    "    else:\n",
    "        return (x == 0) * pi + (1 - pi) * stats.poisson.pmf(x, lambda_)"
   ]
  },
  {
   "cell_type": "code",
   "execution_count": 5,
   "metadata": {
    "collapsed": false
   },
   "outputs": [
    {
     "data": {
      "text/plain": [
       "0.3947346982656289"
      ]
     },
     "execution_count": 5,
     "metadata": {},
     "output_type": "execute_result"
    }
   ],
   "source": [
    "zip_pmf(0)"
   ]
  },
  {
   "cell_type": "code",
   "execution_count": 6,
   "metadata": {
    "collapsed": false
   },
   "outputs": [
    {
     "data": {
      "text/plain": [
       "0.1353352832366127"
      ]
     },
     "execution_count": 6,
     "metadata": {},
     "output_type": "execute_result"
    }
   ],
   "source": [
    "stats.poisson.pmf(0, lambda_)"
   ]
  },
  {
   "cell_type": "markdown",
   "metadata": {},
   "source": [
    "Для сравнения:"
   ]
  },
  {
   "cell_type": "code",
   "execution_count": 7,
   "metadata": {
    "collapsed": false
   },
   "outputs": [
    {
     "data": {
      "image/png": "[encoded data removed]",
      "text/plain": [
       "<matplotlib.figure.Figure at 0x1142d9b10>"
      ]
     },
     "metadata": {},
     "output_type": "display_data"
    }
   ],
   "source": [
    "fig, ax = plt.subplots(figsize=(8, 6))\n",
    "\n",
    "xs = np.arange(0, 10);\n",
    "\n",
    "palette = sns.color_palette()\n",
    "\n",
    "ax.bar(2.5 * xs, stats.poisson.pmf(xs, lambda_), width=0.9, color=palette[0], label='Poisson');\n",
    "ax.bar(2.5 * xs + 1, zip_pmf(xs), width=0.9, color=palette[1], label='Zero-inflated Poisson');\n",
    "\n",
    "ax.set_xticks(2.5 * xs + 1);\n",
    "ax.set_xticklabels(xs);\n",
    "ax.set_xlabel('$x$');\n",
    "\n",
    "ax.set_ylabel('$P(X = x)$');\n",
    "\n",
    "ax.legend();"
   ]
  },
  {
   "cell_type": "markdown",
   "metadata": {},
   "source": [
    "Теперь сгенирируем выборку, распределенную по ZIP - закону:"
   ]
  },
  {
   "cell_type": "code",
   "execution_count": 8,
   "metadata": {
    "collapsed": true
   },
   "outputs": [],
   "source": [
    "N = 1000\n",
    "inflated_zero = stats.bernoulli.rvs(pi, size=N)\n",
    "x = (1 - inflated_zero) * stats.poisson.rvs(lambda_, size=N)"
   ]
  },
  {
   "cell_type": "code",
   "execution_count": 9,
   "metadata": {
    "collapsed": false
   },
   "outputs": [
    {
     "data": {
      "image/png": "[encoded data removed]",
      "text/plain": [
       "<matplotlib.figure.Figure at 0x1142d9690>"
      ]
     },
     "metadata": {},
     "output_type": "display_data"
    }
   ],
   "source": [
    "fig, ax = plt.subplots(figsize=(8, 6))\n",
    "\n",
    "ax.hist(x, width=0.8, bins=np.arange(x.max() + 1), normed=True);\n",
    "\n",
    "ax.set_xticks(np.arange(x.max() + 1) + 0.4);\n",
    "ax.set_xticklabels(np.arange(x.max() + 1));\n",
    "ax.set_xlabel('$x$');\n",
    "\n",
    "ax.set_ylabel('Frequency (normalized)');"
   ]
  },
  {
   "cell_type": "markdown",
   "metadata": {},
   "source": [
    "Далее мы воспользуемся statmodels и унаследуем от класса, который позволяет \"легко\" получать оценки ММП. "
   ]
  },
  {
   "cell_type": "code",
   "execution_count": 10,
   "metadata": {
    "collapsed": true
   },
   "outputs": [],
   "source": [
    "class ZeroInflatedPoisson(GenericLikelihoodModel):\n",
    "    def __init__(self, endog, exog=None, **kwds):\n",
    "        if exog is None:\n",
    "            exog = np.zeros_like(endog)\n",
    "            \n",
    "        super(ZeroInflatedPoisson, self).__init__(endog, exog, **kwds)\n",
    "    \n",
    "    def nloglikeobs(self, params):\n",
    "        pi = params[0]\n",
    "        lambda_ = params[1]\n",
    "\n",
    "        return -np.log(zip_pmf(self.endog, pi=pi, lambda_=lambda_))\n",
    "    \n",
    "    def fit(self, start_params=None, maxiter=10000, maxfun=5000, **kwds):\n",
    "        if start_params is None:\n",
    "            lambda_start = self.endog.mean()\n",
    "            excess_zeros = (self.endog == 0).mean() - stats.poisson.pmf(0, lambda_start)\n",
    "            \n",
    "            start_params = np.array([excess_zeros, lambda_start])\n",
    "            \n",
    "        return super(ZeroInflatedPoisson, self).fit(start_params=start_params,\n",
    "                                                    maxiter=maxiter, maxfun=maxfun, **kwds)"
   ]
  },
  {
   "cell_type": "markdown",
   "metadata": {},
   "source": [
    "Что здесь произошло? Мы указали лог-функцию правдоподобия, и в качестве начального приближения для алгоритма минимизации указали долю \"избыточных\" нулей для $\\hat{\\pi}$ и выборочное среднее для $\\hat{\\lambda}$."
   ]
  },
  {
   "cell_type": "code",
   "execution_count": 11,
   "metadata": {
    "collapsed": false
   },
   "outputs": [
    {
     "name": "stdout",
     "output_type": "stream",
     "text": [
      "Optimization terminated successfully.\n",
      "         Current function value: 1.535895\n",
      "         Iterations: 39\n",
      "         Function evaluations: 75\n"
     ]
    }
   ],
   "source": [
    "model = ZeroInflatedPoisson(x)\n",
    "results = model.fit()"
   ]
  },
  {
   "cell_type": "code",
   "execution_count": 12,
   "metadata": {
    "collapsed": false
   },
   "outputs": [
    {
     "data": {
      "text/plain": [
       "(0.31837121279646818, 1.9130458205991161)"
      ]
     },
     "execution_count": 12,
     "metadata": {},
     "output_type": "execute_result"
    }
   ],
   "source": [
    "pi_mle, lambda_mle = results.params\n",
    "pi_mle, lambda_mle"
   ]
  },
  {
   "cell_type": "code",
   "execution_count": null,
   "metadata": {
    "collapsed": true
   },
   "outputs": [],
   "source": []
  }
 ],
 "metadata": {
  "kernelspec": {
   "display_name": "Python 2",
   "language": "python",
   "name": "python2"
  },
  "language_info": {
   "codemirror_mode": {
    "name": "ipython",
    "version": 2
   },
   "file_extension": ".py",
   "mimetype": "text/x-python",
   "name": "python",
   "nbconvert_exporter": "python",
   "pygments_lexer": "ipython2",
   "version": "2.7.11"
  }
 },
 "nbformat": 4,
 "nbformat_minor": 0
}
